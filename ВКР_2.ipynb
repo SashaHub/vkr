{
  "nbformat": 4,
  "nbformat_minor": 0,
  "metadata": {
    "colab": {
      "name": "ВКР_2",
      "provenance": [],
      "collapsed_sections": [],
      "authorship_tag": "ABX9TyMWeZ8O0z8icQzyVLQgmt8x"
    },
    "kernelspec": {
      "name": "python3",
      "display_name": "Python 3"
    },
    "language_info": {
      "name": "python"
    }
  },
  "cells": [
    {
      "cell_type": "code",
      "source": [
        "import warnings\n",
        "warnings.filterwarnings('ignore')\n",
        "%matplotlib inline"
      ],
      "metadata": {
        "id": "sL9zYcAnIomr"
      },
      "execution_count": 1,
      "outputs": []
    },
    {
      "cell_type": "code",
      "metadata": {
        "id": "sFQz7r1c4gN7"
      },
      "source": [
        "import pandas as pd\n",
        "import numpy as np\n",
        "import matplotlib.pyplot as plt\n",
        "import seaborn as sns"
      ],
      "execution_count": 2,
      "outputs": []
    },
    {
      "cell_type": "markdown",
      "metadata": {
        "id": "UsUi8zIHwiwo"
      },
      "source": [
        "# Чтение, обработка и исследование данных"
      ]
    },
    {
      "cell_type": "code",
      "metadata": {
        "colab": {
          "base_uri": "https://localhost:8080/",
          "height": 317
        },
        "id": "mBrmPq2I0tcb",
        "outputId": "61a77998-6f7a-4c93-ecfd-82d91666e245"
      },
      "source": [
        "#data = pd.read_csv(os.path.join(data_root, 'cardio_train.csv'),sep = r';')\n",
        "data = pd.read_excel('cardio_a.xlsx',header=1)\n",
        "data = data.drop(columns='№ п/п')\n",
        "data.head(5)"
      ],
      "execution_count": 3,
      "outputs": [
        {
          "output_type": "execute_result",
          "data": {
            "text/plain": [
              "  Пол  Возраст  Рост  Вес        ИМТ  S тела  систол. АД  ЧСС  Психотип D  \\\n",
              "0   м       75  1.64   80  29.744200    1.88         190   90         0.0   \n",
              "1   м       49  1.76  130  41.967975    2.41         140  100         0.0   \n",
              "2   м       54  1.62   70  26.672763    1.76         137   86         0.0   \n",
              "3   м       33  1.76   90  29.054752    2.07         128   76         0.0   \n",
              "4   м       52  1.68   90  31.887755    2.02         160  105         NaN   \n",
              "\n",
              "   Тревога HADS  ...  АЧТВ-3, с  АЧТВ-4, с  АТ3-1, %  АТ3-2, %  АТ3-3, %  \\\n",
              "0           0.0  ...       31.2        NaN    100.72     86.59    116.31   \n",
              "1           0.0  ...       34.0       36.1    100.55    101.63    127.76   \n",
              "2           0.0  ...       55.2       46.9     85.45     95.26    107.71   \n",
              "3           0.0  ...       35.1       38.6    120.83    139.80    123.56   \n",
              "4           NaN  ...       57.0       39.3     98.28    130.80    126.05   \n",
              "\n",
              "   АТ3-4, %  FW-1,%  FW-2,%  FW-3,%  FW-4,%  \n",
              "0       NaN   120.0  120.00   293.0     NaN  \n",
              "1     99.58   120.0  115.99    90.0    94.0  \n",
              "2    107.90   120.0  120.00   100.0    88.0  \n",
              "3    143.50   120.0  120.00   100.0   177.0  \n",
              "4    122.00   120.0  120.00   113.0   162.0  \n",
              "\n",
              "[5 rows x 582 columns]"
            ],
            "text/html": [
              "\n",
              "  <div id=\"df-64083341-83cd-490a-8969-c539213b1194\">\n",
              "    <div class=\"colab-df-container\">\n",
              "      <div>\n",
              "<style scoped>\n",
              "    .dataframe tbody tr th:only-of-type {\n",
              "        vertical-align: middle;\n",
              "    }\n",
              "\n",
              "    .dataframe tbody tr th {\n",
              "        vertical-align: top;\n",
              "    }\n",
              "\n",
              "    .dataframe thead th {\n",
              "        text-align: right;\n",
              "    }\n",
              "</style>\n",
              "<table border=\"1\" class=\"dataframe\">\n",
              "  <thead>\n",
              "    <tr style=\"text-align: right;\">\n",
              "      <th></th>\n",
              "      <th>Пол</th>\n",
              "      <th>Возраст</th>\n",
              "      <th>Рост</th>\n",
              "      <th>Вес</th>\n",
              "      <th>ИМТ</th>\n",
              "      <th>S тела</th>\n",
              "      <th>систол. АД</th>\n",
              "      <th>ЧСС</th>\n",
              "      <th>Психотип D</th>\n",
              "      <th>Тревога HADS</th>\n",
              "      <th>...</th>\n",
              "      <th>АЧТВ-3, с</th>\n",
              "      <th>АЧТВ-4, с</th>\n",
              "      <th>АТ3-1, %</th>\n",
              "      <th>АТ3-2, %</th>\n",
              "      <th>АТ3-3, %</th>\n",
              "      <th>АТ3-4, %</th>\n",
              "      <th>FW-1,%</th>\n",
              "      <th>FW-2,%</th>\n",
              "      <th>FW-3,%</th>\n",
              "      <th>FW-4,%</th>\n",
              "    </tr>\n",
              "  </thead>\n",
              "  <tbody>\n",
              "    <tr>\n",
              "      <th>0</th>\n",
              "      <td>м</td>\n",
              "      <td>75</td>\n",
              "      <td>1.64</td>\n",
              "      <td>80</td>\n",
              "      <td>29.744200</td>\n",
              "      <td>1.88</td>\n",
              "      <td>190</td>\n",
              "      <td>90</td>\n",
              "      <td>0.0</td>\n",
              "      <td>0.0</td>\n",
              "      <td>...</td>\n",
              "      <td>31.2</td>\n",
              "      <td>NaN</td>\n",
              "      <td>100.72</td>\n",
              "      <td>86.59</td>\n",
              "      <td>116.31</td>\n",
              "      <td>NaN</td>\n",
              "      <td>120.0</td>\n",
              "      <td>120.00</td>\n",
              "      <td>293.0</td>\n",
              "      <td>NaN</td>\n",
              "    </tr>\n",
              "    <tr>\n",
              "      <th>1</th>\n",
              "      <td>м</td>\n",
              "      <td>49</td>\n",
              "      <td>1.76</td>\n",
              "      <td>130</td>\n",
              "      <td>41.967975</td>\n",
              "      <td>2.41</td>\n",
              "      <td>140</td>\n",
              "      <td>100</td>\n",
              "      <td>0.0</td>\n",
              "      <td>0.0</td>\n",
              "      <td>...</td>\n",
              "      <td>34.0</td>\n",
              "      <td>36.1</td>\n",
              "      <td>100.55</td>\n",
              "      <td>101.63</td>\n",
              "      <td>127.76</td>\n",
              "      <td>99.58</td>\n",
              "      <td>120.0</td>\n",
              "      <td>115.99</td>\n",
              "      <td>90.0</td>\n",
              "      <td>94.0</td>\n",
              "    </tr>\n",
              "    <tr>\n",
              "      <th>2</th>\n",
              "      <td>м</td>\n",
              "      <td>54</td>\n",
              "      <td>1.62</td>\n",
              "      <td>70</td>\n",
              "      <td>26.672763</td>\n",
              "      <td>1.76</td>\n",
              "      <td>137</td>\n",
              "      <td>86</td>\n",
              "      <td>0.0</td>\n",
              "      <td>0.0</td>\n",
              "      <td>...</td>\n",
              "      <td>55.2</td>\n",
              "      <td>46.9</td>\n",
              "      <td>85.45</td>\n",
              "      <td>95.26</td>\n",
              "      <td>107.71</td>\n",
              "      <td>107.90</td>\n",
              "      <td>120.0</td>\n",
              "      <td>120.00</td>\n",
              "      <td>100.0</td>\n",
              "      <td>88.0</td>\n",
              "    </tr>\n",
              "    <tr>\n",
              "      <th>3</th>\n",
              "      <td>м</td>\n",
              "      <td>33</td>\n",
              "      <td>1.76</td>\n",
              "      <td>90</td>\n",
              "      <td>29.054752</td>\n",
              "      <td>2.07</td>\n",
              "      <td>128</td>\n",
              "      <td>76</td>\n",
              "      <td>0.0</td>\n",
              "      <td>0.0</td>\n",
              "      <td>...</td>\n",
              "      <td>35.1</td>\n",
              "      <td>38.6</td>\n",
              "      <td>120.83</td>\n",
              "      <td>139.80</td>\n",
              "      <td>123.56</td>\n",
              "      <td>143.50</td>\n",
              "      <td>120.0</td>\n",
              "      <td>120.00</td>\n",
              "      <td>100.0</td>\n",
              "      <td>177.0</td>\n",
              "    </tr>\n",
              "    <tr>\n",
              "      <th>4</th>\n",
              "      <td>м</td>\n",
              "      <td>52</td>\n",
              "      <td>1.68</td>\n",
              "      <td>90</td>\n",
              "      <td>31.887755</td>\n",
              "      <td>2.02</td>\n",
              "      <td>160</td>\n",
              "      <td>105</td>\n",
              "      <td>NaN</td>\n",
              "      <td>NaN</td>\n",
              "      <td>...</td>\n",
              "      <td>57.0</td>\n",
              "      <td>39.3</td>\n",
              "      <td>98.28</td>\n",
              "      <td>130.80</td>\n",
              "      <td>126.05</td>\n",
              "      <td>122.00</td>\n",
              "      <td>120.0</td>\n",
              "      <td>120.00</td>\n",
              "      <td>113.0</td>\n",
              "      <td>162.0</td>\n",
              "    </tr>\n",
              "  </tbody>\n",
              "</table>\n",
              "<p>5 rows × 582 columns</p>\n",
              "</div>\n",
              "      <button class=\"colab-df-convert\" onclick=\"convertToInteractive('df-64083341-83cd-490a-8969-c539213b1194')\"\n",
              "              title=\"Convert this dataframe to an interactive table.\"\n",
              "              style=\"display:none;\">\n",
              "        \n",
              "  <svg xmlns=\"http://www.w3.org/2000/svg\" height=\"24px\"viewBox=\"0 0 24 24\"\n",
              "       width=\"24px\">\n",
              "    <path d=\"M0 0h24v24H0V0z\" fill=\"none\"/>\n",
              "    <path d=\"M18.56 5.44l.94 2.06.94-2.06 2.06-.94-2.06-.94-.94-2.06-.94 2.06-2.06.94zm-11 1L8.5 8.5l.94-2.06 2.06-.94-2.06-.94L8.5 2.5l-.94 2.06-2.06.94zm10 10l.94 2.06.94-2.06 2.06-.94-2.06-.94-.94-2.06-.94 2.06-2.06.94z\"/><path d=\"M17.41 7.96l-1.37-1.37c-.4-.4-.92-.59-1.43-.59-.52 0-1.04.2-1.43.59L10.3 9.45l-7.72 7.72c-.78.78-.78 2.05 0 2.83L4 21.41c.39.39.9.59 1.41.59.51 0 1.02-.2 1.41-.59l7.78-7.78 2.81-2.81c.8-.78.8-2.07 0-2.86zM5.41 20L4 18.59l7.72-7.72 1.47 1.35L5.41 20z\"/>\n",
              "  </svg>\n",
              "      </button>\n",
              "      \n",
              "  <style>\n",
              "    .colab-df-container {\n",
              "      display:flex;\n",
              "      flex-wrap:wrap;\n",
              "      gap: 12px;\n",
              "    }\n",
              "\n",
              "    .colab-df-convert {\n",
              "      background-color: #E8F0FE;\n",
              "      border: none;\n",
              "      border-radius: 50%;\n",
              "      cursor: pointer;\n",
              "      display: none;\n",
              "      fill: #1967D2;\n",
              "      height: 32px;\n",
              "      padding: 0 0 0 0;\n",
              "      width: 32px;\n",
              "    }\n",
              "\n",
              "    .colab-df-convert:hover {\n",
              "      background-color: #E2EBFA;\n",
              "      box-shadow: 0px 1px 2px rgba(60, 64, 67, 0.3), 0px 1px 3px 1px rgba(60, 64, 67, 0.15);\n",
              "      fill: #174EA6;\n",
              "    }\n",
              "\n",
              "    [theme=dark] .colab-df-convert {\n",
              "      background-color: #3B4455;\n",
              "      fill: #D2E3FC;\n",
              "    }\n",
              "\n",
              "    [theme=dark] .colab-df-convert:hover {\n",
              "      background-color: #434B5C;\n",
              "      box-shadow: 0px 1px 3px 1px rgba(0, 0, 0, 0.15);\n",
              "      filter: drop-shadow(0px 1px 2px rgba(0, 0, 0, 0.3));\n",
              "      fill: #FFFFFF;\n",
              "    }\n",
              "  </style>\n",
              "\n",
              "      <script>\n",
              "        const buttonEl =\n",
              "          document.querySelector('#df-64083341-83cd-490a-8969-c539213b1194 button.colab-df-convert');\n",
              "        buttonEl.style.display =\n",
              "          google.colab.kernel.accessAllowed ? 'block' : 'none';\n",
              "\n",
              "        async function convertToInteractive(key) {\n",
              "          const element = document.querySelector('#df-64083341-83cd-490a-8969-c539213b1194');\n",
              "          const dataTable =\n",
              "            await google.colab.kernel.invokeFunction('convertToInteractive',\n",
              "                                                     [key], {});\n",
              "          if (!dataTable) return;\n",
              "\n",
              "          const docLinkHtml = 'Like what you see? Visit the ' +\n",
              "            '<a target=\"_blank\" href=https://colab.research.google.com/notebooks/data_table.ipynb>data table notebook</a>'\n",
              "            + ' to learn more about interactive tables.';\n",
              "          element.innerHTML = '';\n",
              "          dataTable['output_type'] = 'display_data';\n",
              "          await google.colab.output.renderOutput(dataTable, element);\n",
              "          const docLink = document.createElement('div');\n",
              "          docLink.innerHTML = docLinkHtml;\n",
              "          element.appendChild(docLink);\n",
              "        }\n",
              "      </script>\n",
              "    </div>\n",
              "  </div>\n",
              "  "
            ]
          },
          "metadata": {},
          "execution_count": 3
        }
      ]
    },
    {
      "cell_type": "code",
      "metadata": {
        "colab": {
          "base_uri": "https://localhost:8080/"
        },
        "id": "h-BB_d4__I6Z",
        "outputId": "22d30258-a9a7-43d5-fe97-ee7ca136b35a"
      },
      "source": [
        "data.info()"
      ],
      "execution_count": 4,
      "outputs": [
        {
          "output_type": "stream",
          "name": "stdout",
          "text": [
            "<class 'pandas.core.frame.DataFrame'>\n",
            "RangeIndex: 263 entries, 0 to 262\n",
            "Columns: 582 entries, Пол to FW-4,%\n",
            "dtypes: datetime64[ns](14), float64(504), int64(24), object(40)\n",
            "memory usage: 1.2+ MB\n"
          ]
        }
      ]
    },
    {
      "cell_type": "code",
      "metadata": {
        "colab": {
          "base_uri": "https://localhost:8080/"
        },
        "id": "J6gEqx5ROKFy",
        "outputId": "fa63c6d3-6276-40ff-aee9-0a4caf825eb9"
      },
      "source": [
        "data.duplicated().sum() # Удаление повторяющихся значений"
      ],
      "execution_count": 5,
      "outputs": [
        {
          "output_type": "execute_result",
          "data": {
            "text/plain": [
              "0"
            ]
          },
          "metadata": {},
          "execution_count": 5
        }
      ]
    },
    {
      "cell_type": "code",
      "metadata": {
        "colab": {
          "base_uri": "https://localhost:8080/"
        },
        "id": "br4mzwZ_2H9P",
        "outputId": "8437f819-018e-43ba-e964-3669abfc01e0"
      },
      "source": [
        "data.isna().sum()"
      ],
      "execution_count": 6,
      "outputs": [
        {
          "output_type": "execute_result",
          "data": {
            "text/plain": [
              "Пол          0\n",
              "Возраст      0\n",
              "Рост         0\n",
              "Вес          0\n",
              "ИМТ          0\n",
              "            ..\n",
              "АТ3-4, %    40\n",
              "FW-1,%       0\n",
              "FW-2,%      15\n",
              "FW-3,%      28\n",
              "FW-4,%      38\n",
              "Length: 582, dtype: int64"
            ]
          },
          "metadata": {},
          "execution_count": 6
        }
      ]
    },
    {
      "cell_type": "code",
      "source": [
        "from scipy.stats import shapiro\n",
        "stat,p = shapiro(data['Возраст'])\n",
        "p"
      ],
      "metadata": {
        "colab": {
          "base_uri": "https://localhost:8080/"
        },
        "id": "KXagX-YT8az6",
        "outputId": "bb5e0eed-8083-4059-f2cf-abb75e917824"
      },
      "execution_count": 7,
      "outputs": [
        {
          "output_type": "execute_result",
          "data": {
            "text/plain": [
              "0.11948489397764206"
            ]
          },
          "metadata": {},
          "execution_count": 7
        }
      ]
    },
    {
      "cell_type": "markdown",
      "metadata": {
        "id": "yBAkcc_SuyoB"
      },
      "source": [
        "Посмотрим на значения"
      ]
    },
    {
      "cell_type": "code",
      "metadata": {
        "colab": {
          "base_uri": "https://localhost:8080/",
          "height": 411
        },
        "id": "URNBZeoFELrF",
        "outputId": "840c6f15-c1eb-4ef8-b53b-4609e629ed32"
      },
      "source": [
        "data.describe()"
      ],
      "execution_count": 8,
      "outputs": [
        {
          "output_type": "execute_result",
          "data": {
            "text/plain": [
              "          Возраст        Рост         Вес         ИМТ      S тела  систол. АД  \\\n",
              "count  263.000000  263.000000  263.000000  263.000000  263.000000  263.000000   \n",
              "mean    55.870722    1.706084   83.779468   28.741989    1.972825  138.353612   \n",
              "std      8.619082    0.082658   17.020106    5.308498    0.222104   25.220411   \n",
              "min     31.000000    1.490000   47.000000   17.301038    1.431685   60.000000   \n",
              "25%     50.000000    1.650000   70.000000   24.784577    1.819059  122.000000   \n",
              "50%     55.000000    1.700000   83.000000   28.373702    1.967796  137.000000   \n",
              "75%     62.000000    1.760000   92.500000   31.668233    2.097120  154.000000   \n",
              "max     75.000000    1.980000  150.000000   47.225502    2.872281  220.000000   \n",
              "\n",
              "              ЧСС  Психотип D  Тревога HADS  Депрессия HADS  ...   АЧТВ-3, с  \\\n",
              "count  263.000000  106.000000    106.000000      106.000000  ...  239.000000   \n",
              "mean    79.901141    0.037736      0.603774        0.198113  ...   37.976151   \n",
              "std     17.696274    0.191462      2.211137        1.072778  ...   19.343485   \n",
              "min     42.000000    0.000000      0.000000        0.000000  ...   22.400000   \n",
              "25%     68.000000    0.000000      0.000000        0.000000  ...   33.000000   \n",
              "50%     78.000000    0.000000      0.000000        0.000000  ...   35.600000   \n",
              "75%     90.000000    0.000000      0.000000        0.000000  ...   39.000000   \n",
              "max    149.000000    1.000000     11.000000        9.000000  ...  240.000000   \n",
              "\n",
              "        АЧТВ-4, с    АТ3-1, %    АТ3-2, %    АТ3-3, %    АТ3-4, %      FW-1,%  \\\n",
              "count  225.000000  262.000000  250.000000  239.000000  223.000000  263.000000   \n",
              "mean    36.630222  107.951870  107.123640  110.133891  114.412422  203.800875   \n",
              "std      6.110980   18.722661   15.778035   14.135606   13.437720   91.582057   \n",
              "min     25.000000    0.000000   35.900000   60.000000   78.700000    2.450000   \n",
              "25%     32.700000   97.895000   98.132500  101.605000  105.000000  129.000000   \n",
              "50%     35.700000  110.580000  108.015000  111.400000  115.000000  191.000000   \n",
              "75%     38.900000  119.400000  117.510000  120.000000  122.000000  256.190000   \n",
              "max     75.800000  154.200000  148.700000  141.880000  152.000000  500.000000   \n",
              "\n",
              "           FW-2,%      FW-3,%       FW-4,%  \n",
              "count  248.000000  235.000000   225.000000  \n",
              "mean   201.108629  182.051064   180.142267  \n",
              "std     81.741001   65.127796   138.989873  \n",
              "min     59.000000   70.000000    63.000000  \n",
              "25%    135.000000  135.000000   124.000000  \n",
              "50%    191.500000  175.000000   163.000000  \n",
              "75%    245.000000  213.500000   200.000000  \n",
              "max    500.000000  407.000000  2012.000000  \n",
              "\n",
              "[8 rows x 528 columns]"
            ],
            "text/html": [
              "\n",
              "  <div id=\"df-dc5898f8-464c-4868-8f19-6e209f1972e4\">\n",
              "    <div class=\"colab-df-container\">\n",
              "      <div>\n",
              "<style scoped>\n",
              "    .dataframe tbody tr th:only-of-type {\n",
              "        vertical-align: middle;\n",
              "    }\n",
              "\n",
              "    .dataframe tbody tr th {\n",
              "        vertical-align: top;\n",
              "    }\n",
              "\n",
              "    .dataframe thead th {\n",
              "        text-align: right;\n",
              "    }\n",
              "</style>\n",
              "<table border=\"1\" class=\"dataframe\">\n",
              "  <thead>\n",
              "    <tr style=\"text-align: right;\">\n",
              "      <th></th>\n",
              "      <th>Возраст</th>\n",
              "      <th>Рост</th>\n",
              "      <th>Вес</th>\n",
              "      <th>ИМТ</th>\n",
              "      <th>S тела</th>\n",
              "      <th>систол. АД</th>\n",
              "      <th>ЧСС</th>\n",
              "      <th>Психотип D</th>\n",
              "      <th>Тревога HADS</th>\n",
              "      <th>Депрессия HADS</th>\n",
              "      <th>...</th>\n",
              "      <th>АЧТВ-3, с</th>\n",
              "      <th>АЧТВ-4, с</th>\n",
              "      <th>АТ3-1, %</th>\n",
              "      <th>АТ3-2, %</th>\n",
              "      <th>АТ3-3, %</th>\n",
              "      <th>АТ3-4, %</th>\n",
              "      <th>FW-1,%</th>\n",
              "      <th>FW-2,%</th>\n",
              "      <th>FW-3,%</th>\n",
              "      <th>FW-4,%</th>\n",
              "    </tr>\n",
              "  </thead>\n",
              "  <tbody>\n",
              "    <tr>\n",
              "      <th>count</th>\n",
              "      <td>263.000000</td>\n",
              "      <td>263.000000</td>\n",
              "      <td>263.000000</td>\n",
              "      <td>263.000000</td>\n",
              "      <td>263.000000</td>\n",
              "      <td>263.000000</td>\n",
              "      <td>263.000000</td>\n",
              "      <td>106.000000</td>\n",
              "      <td>106.000000</td>\n",
              "      <td>106.000000</td>\n",
              "      <td>...</td>\n",
              "      <td>239.000000</td>\n",
              "      <td>225.000000</td>\n",
              "      <td>262.000000</td>\n",
              "      <td>250.000000</td>\n",
              "      <td>239.000000</td>\n",
              "      <td>223.000000</td>\n",
              "      <td>263.000000</td>\n",
              "      <td>248.000000</td>\n",
              "      <td>235.000000</td>\n",
              "      <td>225.000000</td>\n",
              "    </tr>\n",
              "    <tr>\n",
              "      <th>mean</th>\n",
              "      <td>55.870722</td>\n",
              "      <td>1.706084</td>\n",
              "      <td>83.779468</td>\n",
              "      <td>28.741989</td>\n",
              "      <td>1.972825</td>\n",
              "      <td>138.353612</td>\n",
              "      <td>79.901141</td>\n",
              "      <td>0.037736</td>\n",
              "      <td>0.603774</td>\n",
              "      <td>0.198113</td>\n",
              "      <td>...</td>\n",
              "      <td>37.976151</td>\n",
              "      <td>36.630222</td>\n",
              "      <td>107.951870</td>\n",
              "      <td>107.123640</td>\n",
              "      <td>110.133891</td>\n",
              "      <td>114.412422</td>\n",
              "      <td>203.800875</td>\n",
              "      <td>201.108629</td>\n",
              "      <td>182.051064</td>\n",
              "      <td>180.142267</td>\n",
              "    </tr>\n",
              "    <tr>\n",
              "      <th>std</th>\n",
              "      <td>8.619082</td>\n",
              "      <td>0.082658</td>\n",
              "      <td>17.020106</td>\n",
              "      <td>5.308498</td>\n",
              "      <td>0.222104</td>\n",
              "      <td>25.220411</td>\n",
              "      <td>17.696274</td>\n",
              "      <td>0.191462</td>\n",
              "      <td>2.211137</td>\n",
              "      <td>1.072778</td>\n",
              "      <td>...</td>\n",
              "      <td>19.343485</td>\n",
              "      <td>6.110980</td>\n",
              "      <td>18.722661</td>\n",
              "      <td>15.778035</td>\n",
              "      <td>14.135606</td>\n",
              "      <td>13.437720</td>\n",
              "      <td>91.582057</td>\n",
              "      <td>81.741001</td>\n",
              "      <td>65.127796</td>\n",
              "      <td>138.989873</td>\n",
              "    </tr>\n",
              "    <tr>\n",
              "      <th>min</th>\n",
              "      <td>31.000000</td>\n",
              "      <td>1.490000</td>\n",
              "      <td>47.000000</td>\n",
              "      <td>17.301038</td>\n",
              "      <td>1.431685</td>\n",
              "      <td>60.000000</td>\n",
              "      <td>42.000000</td>\n",
              "      <td>0.000000</td>\n",
              "      <td>0.000000</td>\n",
              "      <td>0.000000</td>\n",
              "      <td>...</td>\n",
              "      <td>22.400000</td>\n",
              "      <td>25.000000</td>\n",
              "      <td>0.000000</td>\n",
              "      <td>35.900000</td>\n",
              "      <td>60.000000</td>\n",
              "      <td>78.700000</td>\n",
              "      <td>2.450000</td>\n",
              "      <td>59.000000</td>\n",
              "      <td>70.000000</td>\n",
              "      <td>63.000000</td>\n",
              "    </tr>\n",
              "    <tr>\n",
              "      <th>25%</th>\n",
              "      <td>50.000000</td>\n",
              "      <td>1.650000</td>\n",
              "      <td>70.000000</td>\n",
              "      <td>24.784577</td>\n",
              "      <td>1.819059</td>\n",
              "      <td>122.000000</td>\n",
              "      <td>68.000000</td>\n",
              "      <td>0.000000</td>\n",
              "      <td>0.000000</td>\n",
              "      <td>0.000000</td>\n",
              "      <td>...</td>\n",
              "      <td>33.000000</td>\n",
              "      <td>32.700000</td>\n",
              "      <td>97.895000</td>\n",
              "      <td>98.132500</td>\n",
              "      <td>101.605000</td>\n",
              "      <td>105.000000</td>\n",
              "      <td>129.000000</td>\n",
              "      <td>135.000000</td>\n",
              "      <td>135.000000</td>\n",
              "      <td>124.000000</td>\n",
              "    </tr>\n",
              "    <tr>\n",
              "      <th>50%</th>\n",
              "      <td>55.000000</td>\n",
              "      <td>1.700000</td>\n",
              "      <td>83.000000</td>\n",
              "      <td>28.373702</td>\n",
              "      <td>1.967796</td>\n",
              "      <td>137.000000</td>\n",
              "      <td>78.000000</td>\n",
              "      <td>0.000000</td>\n",
              "      <td>0.000000</td>\n",
              "      <td>0.000000</td>\n",
              "      <td>...</td>\n",
              "      <td>35.600000</td>\n",
              "      <td>35.700000</td>\n",
              "      <td>110.580000</td>\n",
              "      <td>108.015000</td>\n",
              "      <td>111.400000</td>\n",
              "      <td>115.000000</td>\n",
              "      <td>191.000000</td>\n",
              "      <td>191.500000</td>\n",
              "      <td>175.000000</td>\n",
              "      <td>163.000000</td>\n",
              "    </tr>\n",
              "    <tr>\n",
              "      <th>75%</th>\n",
              "      <td>62.000000</td>\n",
              "      <td>1.760000</td>\n",
              "      <td>92.500000</td>\n",
              "      <td>31.668233</td>\n",
              "      <td>2.097120</td>\n",
              "      <td>154.000000</td>\n",
              "      <td>90.000000</td>\n",
              "      <td>0.000000</td>\n",
              "      <td>0.000000</td>\n",
              "      <td>0.000000</td>\n",
              "      <td>...</td>\n",
              "      <td>39.000000</td>\n",
              "      <td>38.900000</td>\n",
              "      <td>119.400000</td>\n",
              "      <td>117.510000</td>\n",
              "      <td>120.000000</td>\n",
              "      <td>122.000000</td>\n",
              "      <td>256.190000</td>\n",
              "      <td>245.000000</td>\n",
              "      <td>213.500000</td>\n",
              "      <td>200.000000</td>\n",
              "    </tr>\n",
              "    <tr>\n",
              "      <th>max</th>\n",
              "      <td>75.000000</td>\n",
              "      <td>1.980000</td>\n",
              "      <td>150.000000</td>\n",
              "      <td>47.225502</td>\n",
              "      <td>2.872281</td>\n",
              "      <td>220.000000</td>\n",
              "      <td>149.000000</td>\n",
              "      <td>1.000000</td>\n",
              "      <td>11.000000</td>\n",
              "      <td>9.000000</td>\n",
              "      <td>...</td>\n",
              "      <td>240.000000</td>\n",
              "      <td>75.800000</td>\n",
              "      <td>154.200000</td>\n",
              "      <td>148.700000</td>\n",
              "      <td>141.880000</td>\n",
              "      <td>152.000000</td>\n",
              "      <td>500.000000</td>\n",
              "      <td>500.000000</td>\n",
              "      <td>407.000000</td>\n",
              "      <td>2012.000000</td>\n",
              "    </tr>\n",
              "  </tbody>\n",
              "</table>\n",
              "<p>8 rows × 528 columns</p>\n",
              "</div>\n",
              "      <button class=\"colab-df-convert\" onclick=\"convertToInteractive('df-dc5898f8-464c-4868-8f19-6e209f1972e4')\"\n",
              "              title=\"Convert this dataframe to an interactive table.\"\n",
              "              style=\"display:none;\">\n",
              "        \n",
              "  <svg xmlns=\"http://www.w3.org/2000/svg\" height=\"24px\"viewBox=\"0 0 24 24\"\n",
              "       width=\"24px\">\n",
              "    <path d=\"M0 0h24v24H0V0z\" fill=\"none\"/>\n",
              "    <path d=\"M18.56 5.44l.94 2.06.94-2.06 2.06-.94-2.06-.94-.94-2.06-.94 2.06-2.06.94zm-11 1L8.5 8.5l.94-2.06 2.06-.94-2.06-.94L8.5 2.5l-.94 2.06-2.06.94zm10 10l.94 2.06.94-2.06 2.06-.94-2.06-.94-.94-2.06-.94 2.06-2.06.94z\"/><path d=\"M17.41 7.96l-1.37-1.37c-.4-.4-.92-.59-1.43-.59-.52 0-1.04.2-1.43.59L10.3 9.45l-7.72 7.72c-.78.78-.78 2.05 0 2.83L4 21.41c.39.39.9.59 1.41.59.51 0 1.02-.2 1.41-.59l7.78-7.78 2.81-2.81c.8-.78.8-2.07 0-2.86zM5.41 20L4 18.59l7.72-7.72 1.47 1.35L5.41 20z\"/>\n",
              "  </svg>\n",
              "      </button>\n",
              "      \n",
              "  <style>\n",
              "    .colab-df-container {\n",
              "      display:flex;\n",
              "      flex-wrap:wrap;\n",
              "      gap: 12px;\n",
              "    }\n",
              "\n",
              "    .colab-df-convert {\n",
              "      background-color: #E8F0FE;\n",
              "      border: none;\n",
              "      border-radius: 50%;\n",
              "      cursor: pointer;\n",
              "      display: none;\n",
              "      fill: #1967D2;\n",
              "      height: 32px;\n",
              "      padding: 0 0 0 0;\n",
              "      width: 32px;\n",
              "    }\n",
              "\n",
              "    .colab-df-convert:hover {\n",
              "      background-color: #E2EBFA;\n",
              "      box-shadow: 0px 1px 2px rgba(60, 64, 67, 0.3), 0px 1px 3px 1px rgba(60, 64, 67, 0.15);\n",
              "      fill: #174EA6;\n",
              "    }\n",
              "\n",
              "    [theme=dark] .colab-df-convert {\n",
              "      background-color: #3B4455;\n",
              "      fill: #D2E3FC;\n",
              "    }\n",
              "\n",
              "    [theme=dark] .colab-df-convert:hover {\n",
              "      background-color: #434B5C;\n",
              "      box-shadow: 0px 1px 3px 1px rgba(0, 0, 0, 0.15);\n",
              "      filter: drop-shadow(0px 1px 2px rgba(0, 0, 0, 0.3));\n",
              "      fill: #FFFFFF;\n",
              "    }\n",
              "  </style>\n",
              "\n",
              "      <script>\n",
              "        const buttonEl =\n",
              "          document.querySelector('#df-dc5898f8-464c-4868-8f19-6e209f1972e4 button.colab-df-convert');\n",
              "        buttonEl.style.display =\n",
              "          google.colab.kernel.accessAllowed ? 'block' : 'none';\n",
              "\n",
              "        async function convertToInteractive(key) {\n",
              "          const element = document.querySelector('#df-dc5898f8-464c-4868-8f19-6e209f1972e4');\n",
              "          const dataTable =\n",
              "            await google.colab.kernel.invokeFunction('convertToInteractive',\n",
              "                                                     [key], {});\n",
              "          if (!dataTable) return;\n",
              "\n",
              "          const docLinkHtml = 'Like what you see? Visit the ' +\n",
              "            '<a target=\"_blank\" href=https://colab.research.google.com/notebooks/data_table.ipynb>data table notebook</a>'\n",
              "            + ' to learn more about interactive tables.';\n",
              "          element.innerHTML = '';\n",
              "          dataTable['output_type'] = 'display_data';\n",
              "          await google.colab.output.renderOutput(dataTable, element);\n",
              "          const docLink = document.createElement('div');\n",
              "          docLink.innerHTML = docLinkHtml;\n",
              "          element.appendChild(docLink);\n",
              "        }\n",
              "      </script>\n",
              "    </div>\n",
              "  </div>\n",
              "  "
            ]
          },
          "metadata": {},
          "execution_count": 8
        }
      ]
    },
    {
      "cell_type": "markdown",
      "metadata": {
        "id": "jKylAjpDuOKo"
      },
      "source": [
        "Посмотрим сколько данных выходят за три сигмы по значениям ИМТ и давления."
      ]
    },
    {
      "cell_type": "code",
      "metadata": {
        "colab": {
          "base_uri": "https://localhost:8080/",
          "height": 317
        },
        "id": "5otKTFMCmaGd",
        "outputId": "aef20934-dfc6-49f4-a614-52fdc5ec0272"
      },
      "source": [
        "from scipy import stats\n",
        "data[(np.abs(stats.zscore(data[['ИМТ','систол. АД','ЧСС']])) > 3)]"
      ],
      "execution_count": 9,
      "outputs": [
        {
          "output_type": "execute_result",
          "data": {
            "text/plain": [
              "    Пол  Возраст  Рост  Вес        ИМТ    S тела  систол. АД  ЧСС  Психотип D  \\\n",
              "48    ж       62  1.63   85  31.992171  1.940000         109  149         1.0   \n",
              "115   м       72  1.58   85  34.049031  1.900000          60   44         NaN   \n",
              "141   ж       53  1.54  112  47.225502  2.188861         140   78         0.0   \n",
              "151   м       53  1.82   90  27.170632  2.133073         220  128         NaN   \n",
              "210   ж       58  1.49  104  46.844737  2.074716         150   74         0.0   \n",
              "\n",
              "     Тревога HADS  ...  АЧТВ-3, с  АЧТВ-4, с  АТ3-1, %  АТ3-2, %  АТ3-3, %  \\\n",
              "48            0.0  ...       31.0       31.7    112.00    101.69     100.0   \n",
              "115           NaN  ...       42.3       39.9     76.73     73.41      70.0   \n",
              "141           8.0  ...       31.0       35.1     95.70     92.00      90.0   \n",
              "151           NaN  ...       37.0       34.6    118.16    122.50     120.0   \n",
              "210           7.0  ...       27.8       31.2    112.00    110.00     112.0   \n",
              "\n",
              "     АТ3-4, %  FW-1,%  FW-2,%  FW-3,%  FW-4,%  \n",
              "48     152.00   164.0   158.0   155.0   197.0  \n",
              "115    116.08   226.0   230.0   207.0   238.0  \n",
              "141    104.60   185.0   170.0   155.0   198.0  \n",
              "151    126.30   314.0   310.0   305.0   151.0  \n",
              "210    105.00   368.0   341.0   300.0   236.0  \n",
              "\n",
              "[5 rows x 582 columns]"
            ],
            "text/html": [
              "\n",
              "  <div id=\"df-9812dc1a-2179-4ddf-910d-e331e1d89b67\">\n",
              "    <div class=\"colab-df-container\">\n",
              "      <div>\n",
              "<style scoped>\n",
              "    .dataframe tbody tr th:only-of-type {\n",
              "        vertical-align: middle;\n",
              "    }\n",
              "\n",
              "    .dataframe tbody tr th {\n",
              "        vertical-align: top;\n",
              "    }\n",
              "\n",
              "    .dataframe thead th {\n",
              "        text-align: right;\n",
              "    }\n",
              "</style>\n",
              "<table border=\"1\" class=\"dataframe\">\n",
              "  <thead>\n",
              "    <tr style=\"text-align: right;\">\n",
              "      <th></th>\n",
              "      <th>Пол</th>\n",
              "      <th>Возраст</th>\n",
              "      <th>Рост</th>\n",
              "      <th>Вес</th>\n",
              "      <th>ИМТ</th>\n",
              "      <th>S тела</th>\n",
              "      <th>систол. АД</th>\n",
              "      <th>ЧСС</th>\n",
              "      <th>Психотип D</th>\n",
              "      <th>Тревога HADS</th>\n",
              "      <th>...</th>\n",
              "      <th>АЧТВ-3, с</th>\n",
              "      <th>АЧТВ-4, с</th>\n",
              "      <th>АТ3-1, %</th>\n",
              "      <th>АТ3-2, %</th>\n",
              "      <th>АТ3-3, %</th>\n",
              "      <th>АТ3-4, %</th>\n",
              "      <th>FW-1,%</th>\n",
              "      <th>FW-2,%</th>\n",
              "      <th>FW-3,%</th>\n",
              "      <th>FW-4,%</th>\n",
              "    </tr>\n",
              "  </thead>\n",
              "  <tbody>\n",
              "    <tr>\n",
              "      <th>48</th>\n",
              "      <td>ж</td>\n",
              "      <td>62</td>\n",
              "      <td>1.63</td>\n",
              "      <td>85</td>\n",
              "      <td>31.992171</td>\n",
              "      <td>1.940000</td>\n",
              "      <td>109</td>\n",
              "      <td>149</td>\n",
              "      <td>1.0</td>\n",
              "      <td>0.0</td>\n",
              "      <td>...</td>\n",
              "      <td>31.0</td>\n",
              "      <td>31.7</td>\n",
              "      <td>112.00</td>\n",
              "      <td>101.69</td>\n",
              "      <td>100.0</td>\n",
              "      <td>152.00</td>\n",
              "      <td>164.0</td>\n",
              "      <td>158.0</td>\n",
              "      <td>155.0</td>\n",
              "      <td>197.0</td>\n",
              "    </tr>\n",
              "    <tr>\n",
              "      <th>115</th>\n",
              "      <td>м</td>\n",
              "      <td>72</td>\n",
              "      <td>1.58</td>\n",
              "      <td>85</td>\n",
              "      <td>34.049031</td>\n",
              "      <td>1.900000</td>\n",
              "      <td>60</td>\n",
              "      <td>44</td>\n",
              "      <td>NaN</td>\n",
              "      <td>NaN</td>\n",
              "      <td>...</td>\n",
              "      <td>42.3</td>\n",
              "      <td>39.9</td>\n",
              "      <td>76.73</td>\n",
              "      <td>73.41</td>\n",
              "      <td>70.0</td>\n",
              "      <td>116.08</td>\n",
              "      <td>226.0</td>\n",
              "      <td>230.0</td>\n",
              "      <td>207.0</td>\n",
              "      <td>238.0</td>\n",
              "    </tr>\n",
              "    <tr>\n",
              "      <th>141</th>\n",
              "      <td>ж</td>\n",
              "      <td>53</td>\n",
              "      <td>1.54</td>\n",
              "      <td>112</td>\n",
              "      <td>47.225502</td>\n",
              "      <td>2.188861</td>\n",
              "      <td>140</td>\n",
              "      <td>78</td>\n",
              "      <td>0.0</td>\n",
              "      <td>8.0</td>\n",
              "      <td>...</td>\n",
              "      <td>31.0</td>\n",
              "      <td>35.1</td>\n",
              "      <td>95.70</td>\n",
              "      <td>92.00</td>\n",
              "      <td>90.0</td>\n",
              "      <td>104.60</td>\n",
              "      <td>185.0</td>\n",
              "      <td>170.0</td>\n",
              "      <td>155.0</td>\n",
              "      <td>198.0</td>\n",
              "    </tr>\n",
              "    <tr>\n",
              "      <th>151</th>\n",
              "      <td>м</td>\n",
              "      <td>53</td>\n",
              "      <td>1.82</td>\n",
              "      <td>90</td>\n",
              "      <td>27.170632</td>\n",
              "      <td>2.133073</td>\n",
              "      <td>220</td>\n",
              "      <td>128</td>\n",
              "      <td>NaN</td>\n",
              "      <td>NaN</td>\n",
              "      <td>...</td>\n",
              "      <td>37.0</td>\n",
              "      <td>34.6</td>\n",
              "      <td>118.16</td>\n",
              "      <td>122.50</td>\n",
              "      <td>120.0</td>\n",
              "      <td>126.30</td>\n",
              "      <td>314.0</td>\n",
              "      <td>310.0</td>\n",
              "      <td>305.0</td>\n",
              "      <td>151.0</td>\n",
              "    </tr>\n",
              "    <tr>\n",
              "      <th>210</th>\n",
              "      <td>ж</td>\n",
              "      <td>58</td>\n",
              "      <td>1.49</td>\n",
              "      <td>104</td>\n",
              "      <td>46.844737</td>\n",
              "      <td>2.074716</td>\n",
              "      <td>150</td>\n",
              "      <td>74</td>\n",
              "      <td>0.0</td>\n",
              "      <td>7.0</td>\n",
              "      <td>...</td>\n",
              "      <td>27.8</td>\n",
              "      <td>31.2</td>\n",
              "      <td>112.00</td>\n",
              "      <td>110.00</td>\n",
              "      <td>112.0</td>\n",
              "      <td>105.00</td>\n",
              "      <td>368.0</td>\n",
              "      <td>341.0</td>\n",
              "      <td>300.0</td>\n",
              "      <td>236.0</td>\n",
              "    </tr>\n",
              "  </tbody>\n",
              "</table>\n",
              "<p>5 rows × 582 columns</p>\n",
              "</div>\n",
              "      <button class=\"colab-df-convert\" onclick=\"convertToInteractive('df-9812dc1a-2179-4ddf-910d-e331e1d89b67')\"\n",
              "              title=\"Convert this dataframe to an interactive table.\"\n",
              "              style=\"display:none;\">\n",
              "        \n",
              "  <svg xmlns=\"http://www.w3.org/2000/svg\" height=\"24px\"viewBox=\"0 0 24 24\"\n",
              "       width=\"24px\">\n",
              "    <path d=\"M0 0h24v24H0V0z\" fill=\"none\"/>\n",
              "    <path d=\"M18.56 5.44l.94 2.06.94-2.06 2.06-.94-2.06-.94-.94-2.06-.94 2.06-2.06.94zm-11 1L8.5 8.5l.94-2.06 2.06-.94-2.06-.94L8.5 2.5l-.94 2.06-2.06.94zm10 10l.94 2.06.94-2.06 2.06-.94-2.06-.94-.94-2.06-.94 2.06-2.06.94z\"/><path d=\"M17.41 7.96l-1.37-1.37c-.4-.4-.92-.59-1.43-.59-.52 0-1.04.2-1.43.59L10.3 9.45l-7.72 7.72c-.78.78-.78 2.05 0 2.83L4 21.41c.39.39.9.59 1.41.59.51 0 1.02-.2 1.41-.59l7.78-7.78 2.81-2.81c.8-.78.8-2.07 0-2.86zM5.41 20L4 18.59l7.72-7.72 1.47 1.35L5.41 20z\"/>\n",
              "  </svg>\n",
              "      </button>\n",
              "      \n",
              "  <style>\n",
              "    .colab-df-container {\n",
              "      display:flex;\n",
              "      flex-wrap:wrap;\n",
              "      gap: 12px;\n",
              "    }\n",
              "\n",
              "    .colab-df-convert {\n",
              "      background-color: #E8F0FE;\n",
              "      border: none;\n",
              "      border-radius: 50%;\n",
              "      cursor: pointer;\n",
              "      display: none;\n",
              "      fill: #1967D2;\n",
              "      height: 32px;\n",
              "      padding: 0 0 0 0;\n",
              "      width: 32px;\n",
              "    }\n",
              "\n",
              "    .colab-df-convert:hover {\n",
              "      background-color: #E2EBFA;\n",
              "      box-shadow: 0px 1px 2px rgba(60, 64, 67, 0.3), 0px 1px 3px 1px rgba(60, 64, 67, 0.15);\n",
              "      fill: #174EA6;\n",
              "    }\n",
              "\n",
              "    [theme=dark] .colab-df-convert {\n",
              "      background-color: #3B4455;\n",
              "      fill: #D2E3FC;\n",
              "    }\n",
              "\n",
              "    [theme=dark] .colab-df-convert:hover {\n",
              "      background-color: #434B5C;\n",
              "      box-shadow: 0px 1px 3px 1px rgba(0, 0, 0, 0.15);\n",
              "      filter: drop-shadow(0px 1px 2px rgba(0, 0, 0, 0.3));\n",
              "      fill: #FFFFFF;\n",
              "    }\n",
              "  </style>\n",
              "\n",
              "      <script>\n",
              "        const buttonEl =\n",
              "          document.querySelector('#df-9812dc1a-2179-4ddf-910d-e331e1d89b67 button.colab-df-convert');\n",
              "        buttonEl.style.display =\n",
              "          google.colab.kernel.accessAllowed ? 'block' : 'none';\n",
              "\n",
              "        async function convertToInteractive(key) {\n",
              "          const element = document.querySelector('#df-9812dc1a-2179-4ddf-910d-e331e1d89b67');\n",
              "          const dataTable =\n",
              "            await google.colab.kernel.invokeFunction('convertToInteractive',\n",
              "                                                     [key], {});\n",
              "          if (!dataTable) return;\n",
              "\n",
              "          const docLinkHtml = 'Like what you see? Visit the ' +\n",
              "            '<a target=\"_blank\" href=https://colab.research.google.com/notebooks/data_table.ipynb>data table notebook</a>'\n",
              "            + ' to learn more about interactive tables.';\n",
              "          element.innerHTML = '';\n",
              "          dataTable['output_type'] = 'display_data';\n",
              "          await google.colab.output.renderOutput(dataTable, element);\n",
              "          const docLink = document.createElement('div');\n",
              "          docLink.innerHTML = docLinkHtml;\n",
              "          element.appendChild(docLink);\n",
              "        }\n",
              "      </script>\n",
              "    </div>\n",
              "  </div>\n",
              "  "
            ]
          },
          "metadata": {},
          "execution_count": 9
        }
      ]
    },
    {
      "cell_type": "markdown",
      "metadata": {
        "id": "5Mgomfo7vC3o"
      },
      "source": [
        "Можно удалить эти значения но пока не будем.\n",
        "\n"
      ]
    },
    {
      "cell_type": "code",
      "metadata": {
        "id": "UV7f_cvmK_nh"
      },
      "source": [
        "#data = data.drop(data[(np.abs(stats.zscore(data[['ИМТ','систол. АД','ЧСС']])) > 3)].index)\n",
        "#data.describe()"
      ],
      "execution_count": 10,
      "outputs": []
    },
    {
      "cell_type": "markdown",
      "source": [
        "Для начала посмотрим на госпитальные исходы - оставим только нахождение в больнице. Введем общую таргетную переменную - названия составляющих ее переменных говорят сами за себя."
      ],
      "metadata": {
        "id": "Ibn_e3o4fQeR"
      }
    },
    {
      "cell_type": "code",
      "source": [
        "data = data[data.columns[:221]]\n",
        "data.head()"
      ],
      "metadata": {
        "colab": {
          "base_uri": "https://localhost:8080/",
          "height": 334
        },
        "id": "07j-ElAFixgF",
        "outputId": "1d0172e3-c3c0-445c-b385-65283d426552"
      },
      "execution_count": 11,
      "outputs": [
        {
          "output_type": "execute_result",
          "data": {
            "text/plain": [
              "  Пол  Возраст  Рост  Вес        ИМТ  S тела  систол. АД  ЧСС  Психотип D  \\\n",
              "0   м       75  1.64   80  29.744200    1.88         190   90         0.0   \n",
              "1   м       49  1.76  130  41.967975    2.41         140  100         0.0   \n",
              "2   м       54  1.62   70  26.672763    1.76         137   86         0.0   \n",
              "3   м       33  1.76   90  29.054752    2.07         128   76         0.0   \n",
              "4   м       52  1.68   90  31.887755    2.02         160  105         NaN   \n",
              "\n",
              "   Тревога HADS  ...  Тромбоз стента/ шунта  Дата.2  НРС  \\\n",
              "0           0.0  ...                      0     NaT  0.0   \n",
              "1           0.0  ...                      0     NaT  0.0   \n",
              "2           0.0  ...                      0     NaT  0.0   \n",
              "3           0.0  ...                      0     NaT  0.0   \n",
              "4           NaN  ...                      0     NaT  0.0   \n",
              "\n",
              "   Повторная реваскуляризация (ЧКВ/АКШ)  Дата.3  ОНМК  дата  ВЧ-кровотечение  \\\n",
              "0                                     0     NaT     0   NaT                0   \n",
              "1                                     0     NaT     0   NaT                0   \n",
              "2                                     0     NaT     0   NaT                0   \n",
              "3                                     0     NaT     0   NaT                0   \n",
              "4                                     0     NaT     0   NaT                0   \n",
              "\n",
              "   Дата.4  ЖКТ-кровотечение  \n",
              "0     NaN                 1  \n",
              "1     NaN                 0  \n",
              "2     NaN                 0  \n",
              "3     NaN                 0  \n",
              "4     NaN                 0  \n",
              "\n",
              "[5 rows x 221 columns]"
            ],
            "text/html": [
              "\n",
              "  <div id=\"df-27684bed-241e-4905-a5bb-3ad8c552ed9d\">\n",
              "    <div class=\"colab-df-container\">\n",
              "      <div>\n",
              "<style scoped>\n",
              "    .dataframe tbody tr th:only-of-type {\n",
              "        vertical-align: middle;\n",
              "    }\n",
              "\n",
              "    .dataframe tbody tr th {\n",
              "        vertical-align: top;\n",
              "    }\n",
              "\n",
              "    .dataframe thead th {\n",
              "        text-align: right;\n",
              "    }\n",
              "</style>\n",
              "<table border=\"1\" class=\"dataframe\">\n",
              "  <thead>\n",
              "    <tr style=\"text-align: right;\">\n",
              "      <th></th>\n",
              "      <th>Пол</th>\n",
              "      <th>Возраст</th>\n",
              "      <th>Рост</th>\n",
              "      <th>Вес</th>\n",
              "      <th>ИМТ</th>\n",
              "      <th>S тела</th>\n",
              "      <th>систол. АД</th>\n",
              "      <th>ЧСС</th>\n",
              "      <th>Психотип D</th>\n",
              "      <th>Тревога HADS</th>\n",
              "      <th>...</th>\n",
              "      <th>Тромбоз стента/ шунта</th>\n",
              "      <th>Дата.2</th>\n",
              "      <th>НРС</th>\n",
              "      <th>Повторная реваскуляризация (ЧКВ/АКШ)</th>\n",
              "      <th>Дата.3</th>\n",
              "      <th>ОНМК</th>\n",
              "      <th>дата</th>\n",
              "      <th>ВЧ-кровотечение</th>\n",
              "      <th>Дата.4</th>\n",
              "      <th>ЖКТ-кровотечение</th>\n",
              "    </tr>\n",
              "  </thead>\n",
              "  <tbody>\n",
              "    <tr>\n",
              "      <th>0</th>\n",
              "      <td>м</td>\n",
              "      <td>75</td>\n",
              "      <td>1.64</td>\n",
              "      <td>80</td>\n",
              "      <td>29.744200</td>\n",
              "      <td>1.88</td>\n",
              "      <td>190</td>\n",
              "      <td>90</td>\n",
              "      <td>0.0</td>\n",
              "      <td>0.0</td>\n",
              "      <td>...</td>\n",
              "      <td>0</td>\n",
              "      <td>NaT</td>\n",
              "      <td>0.0</td>\n",
              "      <td>0</td>\n",
              "      <td>NaT</td>\n",
              "      <td>0</td>\n",
              "      <td>NaT</td>\n",
              "      <td>0</td>\n",
              "      <td>NaN</td>\n",
              "      <td>1</td>\n",
              "    </tr>\n",
              "    <tr>\n",
              "      <th>1</th>\n",
              "      <td>м</td>\n",
              "      <td>49</td>\n",
              "      <td>1.76</td>\n",
              "      <td>130</td>\n",
              "      <td>41.967975</td>\n",
              "      <td>2.41</td>\n",
              "      <td>140</td>\n",
              "      <td>100</td>\n",
              "      <td>0.0</td>\n",
              "      <td>0.0</td>\n",
              "      <td>...</td>\n",
              "      <td>0</td>\n",
              "      <td>NaT</td>\n",
              "      <td>0.0</td>\n",
              "      <td>0</td>\n",
              "      <td>NaT</td>\n",
              "      <td>0</td>\n",
              "      <td>NaT</td>\n",
              "      <td>0</td>\n",
              "      <td>NaN</td>\n",
              "      <td>0</td>\n",
              "    </tr>\n",
              "    <tr>\n",
              "      <th>2</th>\n",
              "      <td>м</td>\n",
              "      <td>54</td>\n",
              "      <td>1.62</td>\n",
              "      <td>70</td>\n",
              "      <td>26.672763</td>\n",
              "      <td>1.76</td>\n",
              "      <td>137</td>\n",
              "      <td>86</td>\n",
              "      <td>0.0</td>\n",
              "      <td>0.0</td>\n",
              "      <td>...</td>\n",
              "      <td>0</td>\n",
              "      <td>NaT</td>\n",
              "      <td>0.0</td>\n",
              "      <td>0</td>\n",
              "      <td>NaT</td>\n",
              "      <td>0</td>\n",
              "      <td>NaT</td>\n",
              "      <td>0</td>\n",
              "      <td>NaN</td>\n",
              "      <td>0</td>\n",
              "    </tr>\n",
              "    <tr>\n",
              "      <th>3</th>\n",
              "      <td>м</td>\n",
              "      <td>33</td>\n",
              "      <td>1.76</td>\n",
              "      <td>90</td>\n",
              "      <td>29.054752</td>\n",
              "      <td>2.07</td>\n",
              "      <td>128</td>\n",
              "      <td>76</td>\n",
              "      <td>0.0</td>\n",
              "      <td>0.0</td>\n",
              "      <td>...</td>\n",
              "      <td>0</td>\n",
              "      <td>NaT</td>\n",
              "      <td>0.0</td>\n",
              "      <td>0</td>\n",
              "      <td>NaT</td>\n",
              "      <td>0</td>\n",
              "      <td>NaT</td>\n",
              "      <td>0</td>\n",
              "      <td>NaN</td>\n",
              "      <td>0</td>\n",
              "    </tr>\n",
              "    <tr>\n",
              "      <th>4</th>\n",
              "      <td>м</td>\n",
              "      <td>52</td>\n",
              "      <td>1.68</td>\n",
              "      <td>90</td>\n",
              "      <td>31.887755</td>\n",
              "      <td>2.02</td>\n",
              "      <td>160</td>\n",
              "      <td>105</td>\n",
              "      <td>NaN</td>\n",
              "      <td>NaN</td>\n",
              "      <td>...</td>\n",
              "      <td>0</td>\n",
              "      <td>NaT</td>\n",
              "      <td>0.0</td>\n",
              "      <td>0</td>\n",
              "      <td>NaT</td>\n",
              "      <td>0</td>\n",
              "      <td>NaT</td>\n",
              "      <td>0</td>\n",
              "      <td>NaN</td>\n",
              "      <td>0</td>\n",
              "    </tr>\n",
              "  </tbody>\n",
              "</table>\n",
              "<p>5 rows × 221 columns</p>\n",
              "</div>\n",
              "      <button class=\"colab-df-convert\" onclick=\"convertToInteractive('df-27684bed-241e-4905-a5bb-3ad8c552ed9d')\"\n",
              "              title=\"Convert this dataframe to an interactive table.\"\n",
              "              style=\"display:none;\">\n",
              "        \n",
              "  <svg xmlns=\"http://www.w3.org/2000/svg\" height=\"24px\"viewBox=\"0 0 24 24\"\n",
              "       width=\"24px\">\n",
              "    <path d=\"M0 0h24v24H0V0z\" fill=\"none\"/>\n",
              "    <path d=\"M18.56 5.44l.94 2.06.94-2.06 2.06-.94-2.06-.94-.94-2.06-.94 2.06-2.06.94zm-11 1L8.5 8.5l.94-2.06 2.06-.94-2.06-.94L8.5 2.5l-.94 2.06-2.06.94zm10 10l.94 2.06.94-2.06 2.06-.94-2.06-.94-.94-2.06-.94 2.06-2.06.94z\"/><path d=\"M17.41 7.96l-1.37-1.37c-.4-.4-.92-.59-1.43-.59-.52 0-1.04.2-1.43.59L10.3 9.45l-7.72 7.72c-.78.78-.78 2.05 0 2.83L4 21.41c.39.39.9.59 1.41.59.51 0 1.02-.2 1.41-.59l7.78-7.78 2.81-2.81c.8-.78.8-2.07 0-2.86zM5.41 20L4 18.59l7.72-7.72 1.47 1.35L5.41 20z\"/>\n",
              "  </svg>\n",
              "      </button>\n",
              "      \n",
              "  <style>\n",
              "    .colab-df-container {\n",
              "      display:flex;\n",
              "      flex-wrap:wrap;\n",
              "      gap: 12px;\n",
              "    }\n",
              "\n",
              "    .colab-df-convert {\n",
              "      background-color: #E8F0FE;\n",
              "      border: none;\n",
              "      border-radius: 50%;\n",
              "      cursor: pointer;\n",
              "      display: none;\n",
              "      fill: #1967D2;\n",
              "      height: 32px;\n",
              "      padding: 0 0 0 0;\n",
              "      width: 32px;\n",
              "    }\n",
              "\n",
              "    .colab-df-convert:hover {\n",
              "      background-color: #E2EBFA;\n",
              "      box-shadow: 0px 1px 2px rgba(60, 64, 67, 0.3), 0px 1px 3px 1px rgba(60, 64, 67, 0.15);\n",
              "      fill: #174EA6;\n",
              "    }\n",
              "\n",
              "    [theme=dark] .colab-df-convert {\n",
              "      background-color: #3B4455;\n",
              "      fill: #D2E3FC;\n",
              "    }\n",
              "\n",
              "    [theme=dark] .colab-df-convert:hover {\n",
              "      background-color: #434B5C;\n",
              "      box-shadow: 0px 1px 3px 1px rgba(0, 0, 0, 0.15);\n",
              "      filter: drop-shadow(0px 1px 2px rgba(0, 0, 0, 0.3));\n",
              "      fill: #FFFFFF;\n",
              "    }\n",
              "  </style>\n",
              "\n",
              "      <script>\n",
              "        const buttonEl =\n",
              "          document.querySelector('#df-27684bed-241e-4905-a5bb-3ad8c552ed9d button.colab-df-convert');\n",
              "        buttonEl.style.display =\n",
              "          google.colab.kernel.accessAllowed ? 'block' : 'none';\n",
              "\n",
              "        async function convertToInteractive(key) {\n",
              "          const element = document.querySelector('#df-27684bed-241e-4905-a5bb-3ad8c552ed9d');\n",
              "          const dataTable =\n",
              "            await google.colab.kernel.invokeFunction('convertToInteractive',\n",
              "                                                     [key], {});\n",
              "          if (!dataTable) return;\n",
              "\n",
              "          const docLinkHtml = 'Like what you see? Visit the ' +\n",
              "            '<a target=\"_blank\" href=https://colab.research.google.com/notebooks/data_table.ipynb>data table notebook</a>'\n",
              "            + ' to learn more about interactive tables.';\n",
              "          element.innerHTML = '';\n",
              "          dataTable['output_type'] = 'display_data';\n",
              "          await google.colab.output.renderOutput(dataTable, element);\n",
              "          const docLink = document.createElement('div');\n",
              "          docLink.innerHTML = docLinkHtml;\n",
              "          element.appendChild(docLink);\n",
              "        }\n",
              "      </script>\n",
              "    </div>\n",
              "  </div>\n",
              "  "
            ]
          },
          "metadata": {},
          "execution_count": 11
        }
      ]
    },
    {
      "cell_type": "code",
      "source": [
        "data['target'] = ((data['Смерть'] + data['Реинфаркт'] + data['Тромбоз стента/ шунта'] \n",
        "                   + data['ОНМК'] + data['ВЧ-кровотечение'] + data['ЖКТ-кровотечение'])>0)*1"
      ],
      "metadata": {
        "id": "FYabrk9ifO29"
      },
      "execution_count": 12,
      "outputs": []
    },
    {
      "cell_type": "markdown",
      "metadata": {
        "id": "D2Izix26wCdd"
      },
      "source": [
        "Корреляция Пирсона между признаками, целевой переменной."
      ]
    },
    {
      "cell_type": "code",
      "metadata": {
        "colab": {
          "base_uri": "https://localhost:8080/",
          "height": 816
        },
        "id": "KlM940ZG3Xbc",
        "outputId": "a8ab89f9-d76c-43c4-8803-a71da5ab68d8"
      },
      "source": [
        "corr = data.drop(columns=['Смерть','Реинфаркт','Тромбоз стента/ шунта','ОНМК','ВЧ-кровотечение','ЖКТ-кровотечение']).corr()\n",
        "corr = data[corr[np.abs(corr)>0.25]['target'].dropna().index.values].corr()#корреляция с таргетом по модулю больше чем 0.25 - оставляем только такие переменные\n",
        "mask = np.triu(np.ones_like(corr, dtype=bool))\n",
        "f, ax = plt.subplots(figsize=(13, 12))\n",
        "cmap = sns.diverging_palette(230, 20, as_cmap=True)\n",
        "sns.heatmap(corr, mask=mask, cmap=cmap, vmax=.3, center=0,\n",
        "            square=True, linewidths=.5, cbar_kws={\"shrink\": .5},annot=True)"
      ],
      "execution_count": 13,
      "outputs": [
        {
          "output_type": "execute_result",
          "data": {
            "text/plain": [
              "<matplotlib.axes._subplots.AxesSubplot at 0x7fce33f2d890>"
            ]
          },
          "metadata": {},
          "execution_count": 13
        },
        {
          "output_type": "display_data",
          "data": {
            "text/plain": [
              "<Figure size 936x864 with 2 Axes>"
            ],
            "image/png": "[encoded data removed]"
          },
          "metadata": {
            "needs_background": "light"
          }
        }
      ]
    },
    {
      "cell_type": "code",
      "source": [
        "np.where(data.columns.values == 'Доза.14')"
      ],
      "metadata": {
        "colab": {
          "base_uri": "https://localhost:8080/"
        },
        "id": "qKGvYYHFktog",
        "outputId": "7325ed2d-3b02-4168-c7ba-88866cb2ba61"
      },
      "execution_count": 14,
      "outputs": [
        {
          "output_type": "execute_result",
          "data": {
            "text/plain": [
              "(array([190]),)"
            ]
          },
          "metadata": {},
          "execution_count": 14
        }
      ]
    },
    {
      "cell_type": "code",
      "source": [
        "data.columns.values[189:191]#в данном случае доза с корр. -1 - доза Ингибитора абсорбции холестерина в кишечнике (не важно)"
      ],
      "metadata": {
        "colab": {
          "base_uri": "https://localhost:8080/"
        },
        "id": "nyfcglOQljCK",
        "outputId": "cb7c490d-3cb8-449d-c627-ba25d1e870f4"
      },
      "execution_count": 15,
      "outputs": [
        {
          "output_type": "execute_result",
          "data": {
            "text/plain": [
              "array(['Инг. абс. ХС в киш..1', 'Доза.14'], dtype=object)"
            ]
          },
          "metadata": {},
          "execution_count": 15
        }
      ]
    },
    {
      "cell_type": "markdown",
      "source": [
        "Распределение по полу"
      ],
      "metadata": {
        "id": "6nkxzthii7m5"
      }
    },
    {
      "cell_type": "code",
      "source": [
        "sns.countplot(x= data['Пол'].str.lower(),hue=data['target'])"
      ],
      "metadata": {
        "colab": {
          "base_uri": "https://localhost:8080/",
          "height": 296
        },
        "id": "FuhBKCN3jDFe",
        "outputId": "b2e1c187-36fd-424a-b18a-4380239e62a5"
      },
      "execution_count": 16,
      "outputs": [
        {
          "output_type": "execute_result",
          "data": {
            "text/plain": [
              "<matplotlib.axes._subplots.AxesSubplot at 0x7fce33f97c50>"
            ]
          },
          "metadata": {},
          "execution_count": 16
        },
        {
          "output_type": "display_data",
          "data": {
            "text/plain": [
              "<Figure size 432x288 with 1 Axes>"
            ],
            "image/png": "[encoded data removed]"
          },
          "metadata": {
            "needs_background": "light"
          }
        }
      ]
    },
    {
      "cell_type": "markdown",
      "metadata": {
        "id": "k8iyZ-nBwNNL"
      },
      "source": [
        "Распределение целевой переменной по ИМТ"
      ]
    },
    {
      "cell_type": "code",
      "metadata": {
        "colab": {
          "base_uri": "https://localhost:8080/",
          "height": 386
        },
        "id": "NGqhnANvV5WS",
        "outputId": "6ae52c22-b4c6-435b-a510-b2f965ecf80c"
      },
      "source": [
        "sns.displot(data=data,x='ИМТ',hue='target',aspect=2)"
      ],
      "execution_count": 17,
      "outputs": [
        {
          "output_type": "execute_result",
          "data": {
            "text/plain": [
              "<seaborn.axisgrid.FacetGrid at 0x7fce3403ee10>"
            ]
          },
          "metadata": {},
          "execution_count": 17
        },
        {
          "output_type": "display_data",
          "data": {
            "text/plain": [
              "<Figure size 762.375x360 with 1 Axes>"
            ],
            "image/png": "[encoded data removed]"
          },
          "metadata": {
            "needs_background": "light"
          }
        }
      ]
    },
    {
      "cell_type": "markdown",
      "metadata": {
        "id": "bTThT934wWGc"
      },
      "source": [
        "Распределение болезней по возрасту"
      ]
    },
    {
      "cell_type": "code",
      "metadata": {
        "colab": {
          "base_uri": "https://localhost:8080/",
          "height": 386
        },
        "id": "xLa0W4f6bgy3",
        "outputId": "1cf7dfc7-872d-4eb7-9234-fd380d093361"
      },
      "source": [
        "sns.displot(data=data,x='Возраст',hue='target',aspect=2)"
      ],
      "execution_count": 18,
      "outputs": [
        {
          "output_type": "execute_result",
          "data": {
            "text/plain": [
              "<seaborn.axisgrid.FacetGrid at 0x7fce340a4fd0>"
            ]
          },
          "metadata": {},
          "execution_count": 18
        },
        {
          "output_type": "display_data",
          "data": {
            "text/plain": [
              "<Figure size 762.375x360 with 1 Axes>"
            ],
            "image/png": "[encoded data removed]"
          },
          "metadata": {
            "needs_background": "light"
          }
        }
      ]
    },
    {
      "cell_type": "markdown",
      "metadata": {
        "id": "d28Cjw_rTAai"
      },
      "source": [
        "Распределение целевой переменной"
      ]
    },
    {
      "cell_type": "code",
      "metadata": {
        "colab": {
          "base_uri": "https://localhost:8080/",
          "height": 304
        },
        "id": "FkeD9m-JR3GR",
        "outputId": "85d64e09-f543-4e0a-95ed-8404886e206d"
      },
      "source": [
        "fig, ax = plt.subplots(figsize=(7,7))\n",
        "plt.tight_layout(pad=10)\n",
        "ax.pie(x=data['target'].value_counts(), labels=['No cardio','Cardio'],autopct='%1.1f%%')\n",
        "plt.show()"
      ],
      "execution_count": 19,
      "outputs": [
        {
          "output_type": "display_data",
          "data": {
            "text/plain": [
              "<Figure size 504x504 with 1 Axes>"
            ],
            "image/png": "[encoded data removed]"
          },
          "metadata": {}
        }
      ]
    },
    {
      "cell_type": "markdown",
      "source": [
        "#Понижение размерности"
      ],
      "metadata": {
        "id": "tnZwul8khU7l"
      }
    },
    {
      "cell_type": "markdown",
      "source": [
        "Для начала опробуем алгоритм Relief."
      ],
      "metadata": {
        "id": "6eUgW1Kjmely"
      }
    },
    {
      "cell_type": "code",
      "source": [
        "!pip install ReliefF\n",
        "from ReliefF import ReliefF"
      ],
      "metadata": {
        "colab": {
          "base_uri": "https://localhost:8080/"
        },
        "id": "4KTCY8cFmdmr",
        "outputId": "0878e841-4334-4f50-abbb-37ad1524a636"
      },
      "execution_count": 20,
      "outputs": [
        {
          "output_type": "stream",
          "name": "stdout",
          "text": [
            "Collecting ReliefF\n",
            "  Downloading ReliefF-0.1.2.tar.gz (48 kB)\n",
            "\u001b[?25l\r\u001b[K     |██████▉                         | 10 kB 19.8 MB/s eta 0:00:01\r\u001b[K     |█████████████▋                  | 20 kB 13.2 MB/s eta 0:00:01\r\u001b[K     |████████████████████▍           | 30 kB 9.7 MB/s eta 0:00:01\r\u001b[K     |███████████████████████████▎    | 40 kB 8.6 MB/s eta 0:00:01\r\u001b[K     |████████████████████████████████| 48 kB 2.1 MB/s \n",
            "\u001b[?25hRequirement already satisfied: numpy in /usr/local/lib/python3.7/dist-packages (from ReliefF) (1.21.6)\n",
            "Requirement already satisfied: scipy in /usr/local/lib/python3.7/dist-packages (from ReliefF) (1.4.1)\n",
            "Requirement already satisfied: scikit-learn in /usr/local/lib/python3.7/dist-packages (from ReliefF) (1.0.2)\n",
            "Requirement already satisfied: threadpoolctl>=2.0.0 in /usr/local/lib/python3.7/dist-packages (from scikit-learn->ReliefF) (3.1.0)\n",
            "Requirement already satisfied: joblib>=0.11 in /usr/local/lib/python3.7/dist-packages (from scikit-learn->ReliefF) (1.1.0)\n",
            "Building wheels for collected packages: ReliefF\n",
            "  Building wheel for ReliefF (setup.py) ... \u001b[?25l\u001b[?25hdone\n",
            "  Created wheel for ReliefF: filename=ReliefF-0.1.2-py3-none-any.whl size=6319 sha256=f63c44c5cea1a63dbe4b1dbc666e6760cf62d4616763b8303a2d219a161a039e\n",
            "  Stored in directory: /root/.cache/pip/wheels/18/8a/4a/3aada56cb869df4c1b1ed6af509c941a25985d1d1258a2e78c\n",
            "Successfully built ReliefF\n",
            "Installing collected packages: ReliefF\n",
            "Successfully installed ReliefF-0.1.2\n"
          ]
        }
      ]
    },
    {
      "cell_type": "code",
      "source": [
        "data.columns.values[data.apply(lambda d: isinstance(d.values,object)).values]"
      ],
      "metadata": {
        "colab": {
          "base_uri": "https://localhost:8080/"
        },
        "id": "R-b3VcuaqLDH",
        "outputId": "2a03bd98-ce9d-4028-ac6d-8c3f164bc8f7"
      },
      "execution_count": 21,
      "outputs": [
        {
          "output_type": "execute_result",
          "data": {
            "text/plain": [
              "array(['Пол', 'Возраст', 'Рост', 'Вес', 'ИМТ', 'S тела', 'систол. АД',\n",
              "       'ЧСС', 'Психотип D', 'Тревога HADS', 'Депрессия HADS',\n",
              "       'Ситуативная тревожность Спилберга (баллы)',\n",
              "       'Личная тревожность Спилберга (баллы)',\n",
              "       'Опросник депрессии Бека (баллы)',\n",
              "       'Длительность проживания на Севере, лет', 'Курение', 'Алкоголь',\n",
              "       'Шкала AUDIT (баллы)', 'Уровень образования', 'Семейный статус',\n",
              "       'Давность болевого синдрома', 'Cегмент ST', 'Передняя стенка ЛЖ',\n",
              "       'Задняя    стенка ЛЖ', 'Боковая  стенка ЛЖ', 'Класс Killip',\n",
              "       'Риск GRACE, баллы', 'Риск GRACE   1-год, % ',\n",
              "       'CRUSADE Bleeding Score', 'Risk of In-Hospital Major Bleeding,%',\n",
              "       'пост-ИМ', 'пост-ОНМК', 'пост-ВЧ-кровоизлияние', 'пост-стент',\n",
              "       'ФП', 'CHA2DS2VASc, баллы', 'HAS-BLED, баллы', 'ГБ', 'СД', 'НТГ',\n",
              "       'МФА', 'Стадия ХБП по KDOQI /ERA', 'Ожирение, степень', 'ЯБЖ/ЭГ',\n",
              "       'Анемия, степень', 'Индекс коморбидности', 'Наследственность',\n",
              "       'прием терапии до ИМ', 'стандарт лечения ОКС ПСМП', 'ДГТЛ', 'ГТЛ',\n",
              "       'SYNTAX Score I', 'TIMI в ИЗА', 'Инфаркт-зависимая артерия',\n",
              "       'Тип кровообращения', 'СТВОЛ ЛКА', 'ТБКА', 'Стент', 'ПМЖВ ЛКА',\n",
              "       'ТБКА.1', 'Стент.1', 'N', 'ДВ ПМЖВ ЛКА', 'ТБКА.2', 'Стент.2',\n",
              "       'N.1', 'ИМВ ЛКА', 'ТБКА.3', 'Стент.3', 'N.2', 'ОВ ЛКА', 'ТБКА.4',\n",
              "       'Стент.4', 'N.3', 'ВТК ОВ ЛКА', 'ТБКА.5', 'Стент.5', 'N.4',\n",
              "       'ЗБВ ОВ ЛКА', 'ТБКА.6', 'Стент.6', 'N.5', 'ПКА', 'ТБКА.7',\n",
              "       'Стент.7', 'N.6', 'ЗМЖВ', 'ТБКА.8', 'Стент.8', 'N.7',\n",
              "       'Использ-е ЛВГА (1-есть, 0-нет)', 'Шунт к ПМЖВ (1-есть, 0- нет)',\n",
              "       'Шунт к ДВ ЛКА', 'Шунт к ОВ ЛКА', 'Шунт к ВТК ОВ ЛКА',\n",
              "       'Шунт к ПКА', 'Шунт к  ЗМЖВ', 'TnT-ПО, нг/л', 'ТnT-6, нг/мл',\n",
              "       'ТnT-12, нг/мл', 'ТnT-24, нг/мл', 'ТnI-6, нг/мл', 'ТnI-12, нг/мл',\n",
              "       'ТnI-24, нг/мл', 'Хсобщ, ммоль/л', 'ЛПНП, ммоль/л',\n",
              "       'ЛПВП, ммоль/л', 'ТГц, ммоль/л', 'Гемоглобин, г/л',\n",
              "       'Глюкоза, ммоль/л', 'Гематокрит, %', 'HbA1c',\n",
              "       'Креатинин, мкмоль/л', 'СКФ EPI', 'АЛТ, U/L', 'АСТ, U/L',\n",
              "       'Билирубин, мкмоль/л', 'КДР ЛЖ ', 'КДО ЛЖ', 'иКДО ЛЖ', 'КСР ЛЖ',\n",
              "       'КСО ЛЖ', 'иКСО ЛЖ', 'УО ЛЖ', 'ФВ ЛЖ', 'ТМЖП ЛЖ', 'ТЗС ЛЖ',\n",
              "       'ММ ЛЖ', 'иММ ЛЖ', 'E/A', 'ЛП', 'ПП', 'ПЖ', 'РМК', 'Аневризма ЛЖ',\n",
              "       'Тромбоз ЛЖ', 'ИНЛС ЛЖ', 'ИАПФ', 'Доза', 'АРА2', 'Доза.1', 'АМР',\n",
              "       'Доза.2', 'Инг. абс. ХС в киш.', 'Доза.3', 'Статин', 'Доза.4',\n",
              "       'БАБ', 'Доза.5', 'Дополнительный антиангинальный', 'Доза.6',\n",
              "       'Антиаритмик', 'Unnamed: 153', 'АСК', 'Доза.7', 'Антитромботик 2',\n",
              "       'Доза.8', 'Диуретик', 'Доза.9', 'Антикоагулянт', 'Доза.10',\n",
              "       'Креатинин 2', 'СКФ', 'КДР ЛЖ .1', 'КДО ЛЖ.1', 'иКДО ЛЖ.1',\n",
              "       'КСР ЛЖ.1', 'КСО ЛЖ.1', 'иКСО ЛЖ.1', 'УО ЛЖ.1', 'ФВ ЛЖ.1',\n",
              "       'ТМЖП ЛЖ.1', 'ТЗС ЛЖ.1', 'ММ ЛЖ.1', 'иММ ЛЖ.1', 'E/A.1', 'ЛП.1',\n",
              "       'ПП.1', 'ПЖ.1', 'РМК.1', 'Аневризма ЛЖ.1', 'Тромбоз ЛЖ.1',\n",
              "       'ИНЛС ЛЖ.1', 'ИАПФ.1', 'Доза.11', 'АРА2.1', 'Доза.12', 'АМР.1',\n",
              "       'Доза.13', 'Инг. абс. ХС в киш..1', 'Доза.14', 'Статин.1',\n",
              "       'Доза.15', 'БАБ.1', 'Доза.16', 'Дополнительный антиангинальный.1',\n",
              "       'Доза.17', 'антиаритмик', 'Доза.18', 'АСК.1', 'Доза.19',\n",
              "       'Антитромботик 2.1', 'Доза.20', 'Антикоагулянт.1', 'Доза.21',\n",
              "       'Диуретик.1', 'Доза.22', 'Смерть', 'Дата', 'Реинфаркт', 'Дата.1',\n",
              "       'Тромбоз стента/ шунта', 'Дата.2', 'НРС',\n",
              "       'Повторная реваскуляризация (ЧКВ/АКШ)', 'Дата.3', 'ОНМК', 'дата',\n",
              "       'ВЧ-кровотечение', 'Дата.4', 'ЖКТ-кровотечение', 'target'],\n",
              "      dtype=object)"
            ]
          },
          "metadata": {},
          "execution_count": 21
        }
      ]
    },
    {
      "cell_type": "code",
      "source": [
        "data['Пол'] = [1 if x=='ж' else 0 for x in data['Пол'].str.lower()]#заменим на 0 и 1"
      ],
      "metadata": {
        "id": "QQFL95yvWFBT"
      },
      "execution_count": 22,
      "outputs": []
    },
    {
      "cell_type": "code",
      "source": [
        "data.drop(columns=['Смерть', 'Дата', 'Реинфаркт', 'Дата.1',\n",
        "       'Тромбоз стента/ шунта', 'Дата.2', 'НРС',\n",
        "       'Повторная реваскуляризация (ЧКВ/АКШ)', 'Дата.3', 'ОНМК', 'дата',\n",
        "       'ВЧ-кровотечение', 'Дата.4', 'ЖКТ-кровотечение'],inplace=True)"
      ],
      "metadata": {
        "id": "pIhiKClGih3f"
      },
      "execution_count": 23,
      "outputs": []
    },
    {
      "cell_type": "code",
      "source": [
        "from sklearn.preprocessing import LabelEncoder\n",
        "cat_columns = ['Стадия ХБП по KDOQI /ERA','Инфаркт-зависимая артерия','TIMI в ИЗА','Стент.2','ЗМЖВ','Билирубин, мкмоль/л','Доза.6',\n",
        "               'Доза.17']\n",
        "l_enc = LabelEncoder()\n",
        "for column in cat_columns:\n",
        "  data[column] = l_enc.fit_transform(data[column].astype(str))"
      ],
      "metadata": {
        "id": "JFRwbEhypMLk"
      },
      "execution_count": 24,
      "outputs": []
    },
    {
      "cell_type": "code",
      "source": [
        "data.fillna(-1,inplace=True)"
      ],
      "metadata": {
        "id": "l9S2Ob9bjDhw"
      },
      "execution_count": 25,
      "outputs": []
    },
    {
      "cell_type": "code",
      "source": [
        "relief = ReliefF(n_neighbors=50,n_features_to_keep=25)\n",
        "relief_data = data.drop(columns='target').values#все до клинических исходов\n",
        "relief_target = data['target'].values\n",
        "Relief_train = relief.fit_transform(relief_data, relief_target)\n",
        "print(Relief_train)"
      ],
      "metadata": {
        "colab": {
          "base_uri": "https://localhost:8080/"
        },
        "id": "2UV19nBxnhHR",
        "outputId": "754986e4-812b-48cb-99b3-ca3c85b0780a"
      },
      "execution_count": 26,
      "outputs": [
        {
          "output_type": "stream",
          "name": "stdout",
          "text": [
            "[[  1.   1.   0. ...  -1.  -1.  -1.]\n",
            " [  1.   1.   0. ...  -1.  -1.  -1.]\n",
            " [  1.   1.   0. ...  -1.  -1.  -1.]\n",
            " ...\n",
            " [  1.   1.   0. ...  -1. 320.  -1.]\n",
            " [  1.   1.   0. ...  -1.  -1.  -1.]\n",
            " [ -1.  -1.   0. ...  -1.  -1.  -1.]]\n"
          ]
        }
      ]
    },
    {
      "cell_type": "code",
      "source": [
        "data.columns.values[relief.top_features[0:25]]"
      ],
      "metadata": {
        "id": "nqi9j2QcoFco",
        "colab": {
          "base_uri": "https://localhost:8080/"
        },
        "outputId": "36fe68b2-1127-4808-c0bf-eda629c6fef5"
      },
      "execution_count": 27,
      "outputs": [
        {
          "output_type": "execute_result",
          "data": {
            "text/plain": [
              "array(['АСК.1', 'АСК', 'пост-ВЧ-кровоизлияние', 'Шкала AUDIT (баллы)',\n",
              "       'E/A.1', 'Опросник депрессии Бека (баллы)',\n",
              "       'Личная тревожность Спилберга (баллы)',\n",
              "       'Ситуативная тревожность Спилберга (баллы)', 'Доза.14',\n",
              "       'Инг. абс. ХС в киш.', 'Инг. абс. ХС в киш..1', 'Доза.3',\n",
              "       'SYNTAX Score I', 'Стент', 'ТБКА', 'Антикоагулянт.1', 'Доза.21',\n",
              "       'Аневризма ЛЖ', 'ГТЛ', 'ТnI-6, нг/мл', 'Тромбоз ЛЖ', 'E/A',\n",
              "       'ТnT-6, нг/мл', 'Доза.1', 'HbA1c'], dtype=object)"
            ]
          },
          "metadata": {},
          "execution_count": 27
        }
      ]
    },
    {
      "cell_type": "code",
      "source": [
        "from sklearn.model_selection import train_test_split\n",
        "from sklearn.metrics import classification_report, accuracy_score, roc_auc_score, r2_score, confusion_matrix, plot_confusion_matrix, plot_roc_curve,f1_score"
      ],
      "metadata": {
        "id": "L3A1j5TZnMah"
      },
      "execution_count": 28,
      "outputs": []
    },
    {
      "cell_type": "markdown",
      "source": [
        "### Бустинг после отбора признаков"
      ],
      "metadata": {
        "id": "i2eC1cidseS6"
      }
    },
    {
      "cell_type": "code",
      "source": [
        "X = Relief_train\n",
        "y = data['target'].values"
      ],
      "metadata": {
        "id": "1CwnTgT-mzJS"
      },
      "execution_count": 29,
      "outputs": []
    },
    {
      "cell_type": "code",
      "source": [
        "X_train, X_test, y_train, y_test = train_test_split(X,y,test_size=0.2, random_state=12,shuffle=True)"
      ],
      "metadata": {
        "id": "XzC8P6xRnEPe"
      },
      "execution_count": 30,
      "outputs": []
    },
    {
      "cell_type": "code",
      "source": [
        "!pip install catboost\n",
        "import catboost\n",
        "from catboost import CatBoostClassifier"
      ],
      "metadata": {
        "colab": {
          "base_uri": "https://localhost:8080/"
        },
        "id": "AkT-pTERnTsp",
        "outputId": "438f9e09-0ba3-49a3-db9a-34bdc5aed595"
      },
      "execution_count": 31,
      "outputs": [
        {
          "output_type": "stream",
          "name": "stdout",
          "text": [
            "Collecting catboost\n",
            "  Downloading catboost-1.0.5-cp37-none-manylinux1_x86_64.whl (76.6 MB)\n",
            "\u001b[K     |████████████████████████████████| 76.6 MB 46 kB/s \n",
            "\u001b[?25hRequirement already satisfied: matplotlib in /usr/local/lib/python3.7/dist-packages (from catboost) (3.2.2)\n",
            "Requirement already satisfied: pandas>=0.24.0 in /usr/local/lib/python3.7/dist-packages (from catboost) (1.3.5)\n",
            "Requirement already satisfied: numpy>=1.16.0 in /usr/local/lib/python3.7/dist-packages (from catboost) (1.21.6)\n",
            "Requirement already satisfied: six in /usr/local/lib/python3.7/dist-packages (from catboost) (1.15.0)\n",
            "Requirement already satisfied: plotly in /usr/local/lib/python3.7/dist-packages (from catboost) (5.5.0)\n",
            "Requirement already satisfied: graphviz in /usr/local/lib/python3.7/dist-packages (from catboost) (0.10.1)\n",
            "Requirement already satisfied: scipy in /usr/local/lib/python3.7/dist-packages (from catboost) (1.4.1)\n",
            "Requirement already satisfied: pytz>=2017.3 in /usr/local/lib/python3.7/dist-packages (from pandas>=0.24.0->catboost) (2022.1)\n",
            "Requirement already satisfied: python-dateutil>=2.7.3 in /usr/local/lib/python3.7/dist-packages (from pandas>=0.24.0->catboost) (2.8.2)\n",
            "Requirement already satisfied: pyparsing!=2.0.4,!=2.1.2,!=2.1.6,>=2.0.1 in /usr/local/lib/python3.7/dist-packages (from matplotlib->catboost) (3.0.8)\n",
            "Requirement already satisfied: kiwisolver>=1.0.1 in /usr/local/lib/python3.7/dist-packages (from matplotlib->catboost) (1.4.2)\n",
            "Requirement already satisfied: cycler>=0.10 in /usr/local/lib/python3.7/dist-packages (from matplotlib->catboost) (0.11.0)\n",
            "Requirement already satisfied: typing-extensions in /usr/local/lib/python3.7/dist-packages (from kiwisolver>=1.0.1->matplotlib->catboost) (4.2.0)\n",
            "Requirement already satisfied: tenacity>=6.2.0 in /usr/local/lib/python3.7/dist-packages (from plotly->catboost) (8.0.1)\n",
            "Installing collected packages: catboost\n",
            "Successfully installed catboost-1.0.5\n"
          ]
        }
      ]
    },
    {
      "cell_type": "code",
      "source": [
        "boost = CatBoostClassifier(eval_metric='F1',\n",
        "                             verbose=False,\n",
        "                             early_stopping_rounds=100,\n",
        "                             iterations = 500,\n",
        "                             random_seed=10)\n",
        "boost.fit(X_train,y_train)\n",
        "print(accuracy_score(y_test,boost.predict(X_test)), f1_score(y_test, boost.predict(X_test)))"
      ],
      "metadata": {
        "colab": {
          "base_uri": "https://localhost:8080/"
        },
        "id": "T5HNY57lnd-a",
        "outputId": "8ba20c1f-e343-4c24-a062-1b867ebdbc56"
      },
      "execution_count": 32,
      "outputs": [
        {
          "output_type": "stream",
          "name": "stdout",
          "text": [
            "0.9245283018867925 0.5\n"
          ]
        }
      ]
    },
    {
      "cell_type": "code",
      "source": [
        "imp_df = pd.DataFrame(data.columns.values[relief.top_features[0:25]])\n",
        "imp_df.columns = ['Feature']\n",
        "imp_df[\"Importance\"] = pd.Series(boost.get_feature_importance())\n",
        "\n",
        "imp_df.sort_values(by='Importance', ascending=False)"
      ],
      "metadata": {
        "colab": {
          "base_uri": "https://localhost:8080/",
          "height": 833
        },
        "id": "sv5HaTpwnsjL",
        "outputId": "2d94cdc4-2886-447d-90f4-80902d3f01dd"
      },
      "execution_count": 33,
      "outputs": [
        {
          "output_type": "execute_result",
          "data": {
            "text/plain": [
              "                                      Feature  Importance\n",
              "0                                       АСК.1   67.347686\n",
              "18                                        ГТЛ   12.722644\n",
              "16                                    Доза.21    3.420729\n",
              "9                         Инг. абс. ХС в киш.    3.056130\n",
              "10                      Инг. абс. ХС в киш..1    2.216612\n",
              "8                                     Доза.14    1.792380\n",
              "23                                     Доза.1    1.587228\n",
              "1                                         АСК    1.352394\n",
              "17                               Аневризма ЛЖ    1.338028\n",
              "15                            Антикоагулянт.1    1.323076\n",
              "11                                     Доза.3    0.925855\n",
              "24                                      HbA1c    0.769241\n",
              "2                       пост-ВЧ-кровоизлияние    0.749370\n",
              "20                                 Тромбоз ЛЖ    0.626977\n",
              "22                               ТnT-6, нг/мл    0.268306\n",
              "13                                      Стент    0.196265\n",
              "14                                       ТБКА    0.125881\n",
              "21                                        E/A    0.116017\n",
              "19                               ТnI-6, нг/мл    0.065181\n",
              "7   Ситуативная тревожность Спилберга (баллы)    0.000000\n",
              "6        Личная тревожность Спилберга (баллы)    0.000000\n",
              "5             Опросник депрессии Бека (баллы)    0.000000\n",
              "4                                       E/A.1    0.000000\n",
              "3                         Шкала AUDIT (баллы)    0.000000\n",
              "12                             SYNTAX Score I    0.000000"
            ],
            "text/html": [
              "\n",
              "  <div id=\"df-39ad28e3-de0a-4c19-8552-76f78600b741\">\n",
              "    <div class=\"colab-df-container\">\n",
              "      <div>\n",
              "<style scoped>\n",
              "    .dataframe tbody tr th:only-of-type {\n",
              "        vertical-align: middle;\n",
              "    }\n",
              "\n",
              "    .dataframe tbody tr th {\n",
              "        vertical-align: top;\n",
              "    }\n",
              "\n",
              "    .dataframe thead th {\n",
              "        text-align: right;\n",
              "    }\n",
              "</style>\n",
              "<table border=\"1\" class=\"dataframe\">\n",
              "  <thead>\n",
              "    <tr style=\"text-align: right;\">\n",
              "      <th></th>\n",
              "      <th>Feature</th>\n",
              "      <th>Importance</th>\n",
              "    </tr>\n",
              "  </thead>\n",
              "  <tbody>\n",
              "    <tr>\n",
              "      <th>0</th>\n",
              "      <td>АСК.1</td>\n",
              "      <td>67.347686</td>\n",
              "    </tr>\n",
              "    <tr>\n",
              "      <th>18</th>\n",
              "      <td>ГТЛ</td>\n",
              "      <td>12.722644</td>\n",
              "    </tr>\n",
              "    <tr>\n",
              "      <th>16</th>\n",
              "      <td>Доза.21</td>\n",
              "      <td>3.420729</td>\n",
              "    </tr>\n",
              "    <tr>\n",
              "      <th>9</th>\n",
              "      <td>Инг. абс. ХС в киш.</td>\n",
              "      <td>3.056130</td>\n",
              "    </tr>\n",
              "    <tr>\n",
              "      <th>10</th>\n",
              "      <td>Инг. абс. ХС в киш..1</td>\n",
              "      <td>2.216612</td>\n",
              "    </tr>\n",
              "    <tr>\n",
              "      <th>8</th>\n",
              "      <td>Доза.14</td>\n",
              "      <td>1.792380</td>\n",
              "    </tr>\n",
              "    <tr>\n",
              "      <th>23</th>\n",
              "      <td>Доза.1</td>\n",
              "      <td>1.587228</td>\n",
              "    </tr>\n",
              "    <tr>\n",
              "      <th>1</th>\n",
              "      <td>АСК</td>\n",
              "      <td>1.352394</td>\n",
              "    </tr>\n",
              "    <tr>\n",
              "      <th>17</th>\n",
              "      <td>Аневризма ЛЖ</td>\n",
              "      <td>1.338028</td>\n",
              "    </tr>\n",
              "    <tr>\n",
              "      <th>15</th>\n",
              "      <td>Антикоагулянт.1</td>\n",
              "      <td>1.323076</td>\n",
              "    </tr>\n",
              "    <tr>\n",
              "      <th>11</th>\n",
              "      <td>Доза.3</td>\n",
              "      <td>0.925855</td>\n",
              "    </tr>\n",
              "    <tr>\n",
              "      <th>24</th>\n",
              "      <td>HbA1c</td>\n",
              "      <td>0.769241</td>\n",
              "    </tr>\n",
              "    <tr>\n",
              "      <th>2</th>\n",
              "      <td>пост-ВЧ-кровоизлияние</td>\n",
              "      <td>0.749370</td>\n",
              "    </tr>\n",
              "    <tr>\n",
              "      <th>20</th>\n",
              "      <td>Тромбоз ЛЖ</td>\n",
              "      <td>0.626977</td>\n",
              "    </tr>\n",
              "    <tr>\n",
              "      <th>22</th>\n",
              "      <td>ТnT-6, нг/мл</td>\n",
              "      <td>0.268306</td>\n",
              "    </tr>\n",
              "    <tr>\n",
              "      <th>13</th>\n",
              "      <td>Стент</td>\n",
              "      <td>0.196265</td>\n",
              "    </tr>\n",
              "    <tr>\n",
              "      <th>14</th>\n",
              "      <td>ТБКА</td>\n",
              "      <td>0.125881</td>\n",
              "    </tr>\n",
              "    <tr>\n",
              "      <th>21</th>\n",
              "      <td>E/A</td>\n",
              "      <td>0.116017</td>\n",
              "    </tr>\n",
              "    <tr>\n",
              "      <th>19</th>\n",
              "      <td>ТnI-6, нг/мл</td>\n",
              "      <td>0.065181</td>\n",
              "    </tr>\n",
              "    <tr>\n",
              "      <th>7</th>\n",
              "      <td>Ситуативная тревожность Спилберга (баллы)</td>\n",
              "      <td>0.000000</td>\n",
              "    </tr>\n",
              "    <tr>\n",
              "      <th>6</th>\n",
              "      <td>Личная тревожность Спилберга (баллы)</td>\n",
              "      <td>0.000000</td>\n",
              "    </tr>\n",
              "    <tr>\n",
              "      <th>5</th>\n",
              "      <td>Опросник депрессии Бека (баллы)</td>\n",
              "      <td>0.000000</td>\n",
              "    </tr>\n",
              "    <tr>\n",
              "      <th>4</th>\n",
              "      <td>E/A.1</td>\n",
              "      <td>0.000000</td>\n",
              "    </tr>\n",
              "    <tr>\n",
              "      <th>3</th>\n",
              "      <td>Шкала AUDIT (баллы)</td>\n",
              "      <td>0.000000</td>\n",
              "    </tr>\n",
              "    <tr>\n",
              "      <th>12</th>\n",
              "      <td>SYNTAX Score I</td>\n",
              "      <td>0.000000</td>\n",
              "    </tr>\n",
              "  </tbody>\n",
              "</table>\n",
              "</div>\n",
              "      <button class=\"colab-df-convert\" onclick=\"convertToInteractive('df-39ad28e3-de0a-4c19-8552-76f78600b741')\"\n",
              "              title=\"Convert this dataframe to an interactive table.\"\n",
              "              style=\"display:none;\">\n",
              "        \n",
              "  <svg xmlns=\"http://www.w3.org/2000/svg\" height=\"24px\"viewBox=\"0 0 24 24\"\n",
              "       width=\"24px\">\n",
              "    <path d=\"M0 0h24v24H0V0z\" fill=\"none\"/>\n",
              "    <path d=\"M18.56 5.44l.94 2.06.94-2.06 2.06-.94-2.06-.94-.94-2.06-.94 2.06-2.06.94zm-11 1L8.5 8.5l.94-2.06 2.06-.94-2.06-.94L8.5 2.5l-.94 2.06-2.06.94zm10 10l.94 2.06.94-2.06 2.06-.94-2.06-.94-.94-2.06-.94 2.06-2.06.94z\"/><path d=\"M17.41 7.96l-1.37-1.37c-.4-.4-.92-.59-1.43-.59-.52 0-1.04.2-1.43.59L10.3 9.45l-7.72 7.72c-.78.78-.78 2.05 0 2.83L4 21.41c.39.39.9.59 1.41.59.51 0 1.02-.2 1.41-.59l7.78-7.78 2.81-2.81c.8-.78.8-2.07 0-2.86zM5.41 20L4 18.59l7.72-7.72 1.47 1.35L5.41 20z\"/>\n",
              "  </svg>\n",
              "      </button>\n",
              "      \n",
              "  <style>\n",
              "    .colab-df-container {\n",
              "      display:flex;\n",
              "      flex-wrap:wrap;\n",
              "      gap: 12px;\n",
              "    }\n",
              "\n",
              "    .colab-df-convert {\n",
              "      background-color: #E8F0FE;\n",
              "      border: none;\n",
              "      border-radius: 50%;\n",
              "      cursor: pointer;\n",
              "      display: none;\n",
              "      fill: #1967D2;\n",
              "      height: 32px;\n",
              "      padding: 0 0 0 0;\n",
              "      width: 32px;\n",
              "    }\n",
              "\n",
              "    .colab-df-convert:hover {\n",
              "      background-color: #E2EBFA;\n",
              "      box-shadow: 0px 1px 2px rgba(60, 64, 67, 0.3), 0px 1px 3px 1px rgba(60, 64, 67, 0.15);\n",
              "      fill: #174EA6;\n",
              "    }\n",
              "\n",
              "    [theme=dark] .colab-df-convert {\n",
              "      background-color: #3B4455;\n",
              "      fill: #D2E3FC;\n",
              "    }\n",
              "\n",
              "    [theme=dark] .colab-df-convert:hover {\n",
              "      background-color: #434B5C;\n",
              "      box-shadow: 0px 1px 3px 1px rgba(0, 0, 0, 0.15);\n",
              "      filter: drop-shadow(0px 1px 2px rgba(0, 0, 0, 0.3));\n",
              "      fill: #FFFFFF;\n",
              "    }\n",
              "  </style>\n",
              "\n",
              "      <script>\n",
              "        const buttonEl =\n",
              "          document.querySelector('#df-39ad28e3-de0a-4c19-8552-76f78600b741 button.colab-df-convert');\n",
              "        buttonEl.style.display =\n",
              "          google.colab.kernel.accessAllowed ? 'block' : 'none';\n",
              "\n",
              "        async function convertToInteractive(key) {\n",
              "          const element = document.querySelector('#df-39ad28e3-de0a-4c19-8552-76f78600b741');\n",
              "          const dataTable =\n",
              "            await google.colab.kernel.invokeFunction('convertToInteractive',\n",
              "                                                     [key], {});\n",
              "          if (!dataTable) return;\n",
              "\n",
              "          const docLinkHtml = 'Like what you see? Visit the ' +\n",
              "            '<a target=\"_blank\" href=https://colab.research.google.com/notebooks/data_table.ipynb>data table notebook</a>'\n",
              "            + ' to learn more about interactive tables.';\n",
              "          element.innerHTML = '';\n",
              "          dataTable['output_type'] = 'display_data';\n",
              "          await google.colab.output.renderOutput(dataTable, element);\n",
              "          const docLink = document.createElement('div');\n",
              "          docLink.innerHTML = docLinkHtml;\n",
              "          element.appendChild(docLink);\n",
              "        }\n",
              "      </script>\n",
              "    </div>\n",
              "  </div>\n",
              "  "
            ]
          },
          "metadata": {},
          "execution_count": 33
        }
      ]
    },
    {
      "cell_type": "code",
      "source": [
        "plot_roc_curve(boost, X_test, y_test)"
      ],
      "metadata": {
        "colab": {
          "base_uri": "https://localhost:8080/",
          "height": 296
        },
        "id": "-hn1aR3In6PH",
        "outputId": "83d25c4b-a297-4f5e-fd6d-55e15d7036db"
      },
      "execution_count": 34,
      "outputs": [
        {
          "output_type": "execute_result",
          "data": {
            "text/plain": [
              "<sklearn.metrics._plot.roc_curve.RocCurveDisplay at 0x7fce1a105c50>"
            ]
          },
          "metadata": {},
          "execution_count": 34
        },
        {
          "output_type": "display_data",
          "data": {
            "text/plain": [
              "<Figure size 432x288 with 1 Axes>"
            ],
            "image/png": "[encoded data removed]"
          },
          "metadata": {
            "needs_background": "light"
          }
        }
      ]
    },
    {
      "cell_type": "code",
      "source": [
        "group_names = ['True Neg','False Pos','False Neg','True Pos']\n",
        "cf_matrix_cb = confusion_matrix(y_test,boost.predict(X_test))\n",
        "group_counts = [\"{0:0.0f}\".format(value) for value in\n",
        "                cf_matrix_cb.flatten()]\n",
        "group_percentages = [\"{0:.2%}\".format(value) for value in\n",
        "                     cf_matrix_cb.flatten()/np.sum(cf_matrix_cb)]\n",
        "labels = [f\"{v1}\\n{v2}\\n{v3}\" for v1, v2, v3 in\n",
        "          zip(group_names,group_counts,group_percentages)]\n",
        "labels = np.asarray(labels).reshape(2,2)\n",
        "f, ax = plt.subplots(figsize=(7, 6))\n",
        "sns.heatmap(cf_matrix_cb, annot=labels, fmt='')"
      ],
      "metadata": {
        "colab": {
          "base_uri": "https://localhost:8080/",
          "height": 391
        },
        "id": "SvXB_YJaoCWS",
        "outputId": "56c33d29-8690-4412-ba38-4d4bc8a6e06b"
      },
      "execution_count": 35,
      "outputs": [
        {
          "output_type": "execute_result",
          "data": {
            "text/plain": [
              "<matplotlib.axes._subplots.AxesSubplot at 0x7fce1a069390>"
            ]
          },
          "metadata": {},
          "execution_count": 35
        },
        {
          "output_type": "display_data",
          "data": {
            "text/plain": [
              "<Figure size 504x432 with 2 Axes>"
            ],
            "image/png": "[encoded data removed]"
          },
          "metadata": {
            "needs_background": "light"
          }
        }
      ]
    },
    {
      "cell_type": "markdown",
      "source": [
        "### Бустинг до отбора признаков"
      ],
      "metadata": {
        "id": "qGrDpSFHslTR"
      }
    },
    {
      "cell_type": "code",
      "source": [
        "X_normal = data.drop(columns='target')\n",
        "y_normal = data['target']\n",
        "X_train_normal, X_test_normal, y_train_normal, y_test_normal = train_test_split(X_normal,y_normal,test_size=0.2, random_state=12,shuffle=True)"
      ],
      "metadata": {
        "id": "LUXYWylQojgT"
      },
      "execution_count": 36,
      "outputs": []
    },
    {
      "cell_type": "code",
      "source": [
        "boost_normal = CatBoostClassifier(eval_metric='F1',\n",
        "                             verbose=False,\n",
        "                             early_stopping_rounds=100,\n",
        "                             iterations = 500,\n",
        "                             random_seed=10)\n",
        "boost_normal.fit(X_train_normal,y_train_normal)\n",
        "print(accuracy_score(y_test_normal,boost_normal.predict(X_test_normal)), f1_score(y_test_normal, boost_normal.predict(X_test_normal)))"
      ],
      "metadata": {
        "colab": {
          "base_uri": "https://localhost:8080/"
        },
        "id": "B5y0Xrlio-UG",
        "outputId": "e67f90ab-67bb-4d2b-d041-2ee31bdb65bc"
      },
      "execution_count": 37,
      "outputs": [
        {
          "output_type": "stream",
          "name": "stdout",
          "text": [
            "0.9622641509433962 0.7499999999999999\n"
          ]
        }
      ]
    },
    {
      "cell_type": "code",
      "source": [
        "imp_df = pd.DataFrame(X_normal.columns.values)\n",
        "imp_df.columns = ['Feature']\n",
        "imp_df[\"Importance\"] = pd.Series(boost_normal.get_feature_importance())\n",
        "\n",
        "imp_df.sort_values(by='Importance', ascending=False).head(15)"
      ],
      "metadata": {
        "colab": {
          "base_uri": "https://localhost:8080/",
          "height": 520
        },
        "id": "EcsCOvhPpLLj",
        "outputId": "2d3954c0-0236-4245-a366-a3c77fddd8c0"
      },
      "execution_count": 38,
      "outputs": [
        {
          "output_type": "execute_result",
          "data": {
            "text/plain": [
              "                    Feature  Importance\n",
              "192                 Доза.15    9.473153\n",
              "191                Статин.1    4.760371\n",
              "1                   Возраст    2.919990\n",
              "184                 Доза.11    2.723484\n",
              "193                   БАБ.1    2.407862\n",
              "199                   АСК.1    2.345333\n",
              "194                 Доза.16    2.196764\n",
              "200                 Доза.19    1.962459\n",
              "183                  ИАПФ.1    1.756125\n",
              "145                  Статин    1.593921\n",
              "201       Антитромботик 2.1    1.511627\n",
              "138                    Доза    1.397849\n",
              "106           ЛПВП, ммоль/л    1.373953\n",
              "112     Креатинин, мкмоль/л    1.296080\n",
              "28   CRUSADE Bleeding Score    1.229645"
            ],
            "text/html": [
              "\n",
              "  <div id=\"df-d8d0092d-aa9c-4db7-a679-1e4119e6ed03\">\n",
              "    <div class=\"colab-df-container\">\n",
              "      <div>\n",
              "<style scoped>\n",
              "    .dataframe tbody tr th:only-of-type {\n",
              "        vertical-align: middle;\n",
              "    }\n",
              "\n",
              "    .dataframe tbody tr th {\n",
              "        vertical-align: top;\n",
              "    }\n",
              "\n",
              "    .dataframe thead th {\n",
              "        text-align: right;\n",
              "    }\n",
              "</style>\n",
              "<table border=\"1\" class=\"dataframe\">\n",
              "  <thead>\n",
              "    <tr style=\"text-align: right;\">\n",
              "      <th></th>\n",
              "      <th>Feature</th>\n",
              "      <th>Importance</th>\n",
              "    </tr>\n",
              "  </thead>\n",
              "  <tbody>\n",
              "    <tr>\n",
              "      <th>192</th>\n",
              "      <td>Доза.15</td>\n",
              "      <td>9.473153</td>\n",
              "    </tr>\n",
              "    <tr>\n",
              "      <th>191</th>\n",
              "      <td>Статин.1</td>\n",
              "      <td>4.760371</td>\n",
              "    </tr>\n",
              "    <tr>\n",
              "      <th>1</th>\n",
              "      <td>Возраст</td>\n",
              "      <td>2.919990</td>\n",
              "    </tr>\n",
              "    <tr>\n",
              "      <th>184</th>\n",
              "      <td>Доза.11</td>\n",
              "      <td>2.723484</td>\n",
              "    </tr>\n",
              "    <tr>\n",
              "      <th>193</th>\n",
              "      <td>БАБ.1</td>\n",
              "      <td>2.407862</td>\n",
              "    </tr>\n",
              "    <tr>\n",
              "      <th>199</th>\n",
              "      <td>АСК.1</td>\n",
              "      <td>2.345333</td>\n",
              "    </tr>\n",
              "    <tr>\n",
              "      <th>194</th>\n",
              "      <td>Доза.16</td>\n",
              "      <td>2.196764</td>\n",
              "    </tr>\n",
              "    <tr>\n",
              "      <th>200</th>\n",
              "      <td>Доза.19</td>\n",
              "      <td>1.962459</td>\n",
              "    </tr>\n",
              "    <tr>\n",
              "      <th>183</th>\n",
              "      <td>ИАПФ.1</td>\n",
              "      <td>1.756125</td>\n",
              "    </tr>\n",
              "    <tr>\n",
              "      <th>145</th>\n",
              "      <td>Статин</td>\n",
              "      <td>1.593921</td>\n",
              "    </tr>\n",
              "    <tr>\n",
              "      <th>201</th>\n",
              "      <td>Антитромботик 2.1</td>\n",
              "      <td>1.511627</td>\n",
              "    </tr>\n",
              "    <tr>\n",
              "      <th>138</th>\n",
              "      <td>Доза</td>\n",
              "      <td>1.397849</td>\n",
              "    </tr>\n",
              "    <tr>\n",
              "      <th>106</th>\n",
              "      <td>ЛПВП, ммоль/л</td>\n",
              "      <td>1.373953</td>\n",
              "    </tr>\n",
              "    <tr>\n",
              "      <th>112</th>\n",
              "      <td>Креатинин, мкмоль/л</td>\n",
              "      <td>1.296080</td>\n",
              "    </tr>\n",
              "    <tr>\n",
              "      <th>28</th>\n",
              "      <td>CRUSADE Bleeding Score</td>\n",
              "      <td>1.229645</td>\n",
              "    </tr>\n",
              "  </tbody>\n",
              "</table>\n",
              "</div>\n",
              "      <button class=\"colab-df-convert\" onclick=\"convertToInteractive('df-d8d0092d-aa9c-4db7-a679-1e4119e6ed03')\"\n",
              "              title=\"Convert this dataframe to an interactive table.\"\n",
              "              style=\"display:none;\">\n",
              "        \n",
              "  <svg xmlns=\"http://www.w3.org/2000/svg\" height=\"24px\"viewBox=\"0 0 24 24\"\n",
              "       width=\"24px\">\n",
              "    <path d=\"M0 0h24v24H0V0z\" fill=\"none\"/>\n",
              "    <path d=\"M18.56 5.44l.94 2.06.94-2.06 2.06-.94-2.06-.94-.94-2.06-.94 2.06-2.06.94zm-11 1L8.5 8.5l.94-2.06 2.06-.94-2.06-.94L8.5 2.5l-.94 2.06-2.06.94zm10 10l.94 2.06.94-2.06 2.06-.94-2.06-.94-.94-2.06-.94 2.06-2.06.94z\"/><path d=\"M17.41 7.96l-1.37-1.37c-.4-.4-.92-.59-1.43-.59-.52 0-1.04.2-1.43.59L10.3 9.45l-7.72 7.72c-.78.78-.78 2.05 0 2.83L4 21.41c.39.39.9.59 1.41.59.51 0 1.02-.2 1.41-.59l7.78-7.78 2.81-2.81c.8-.78.8-2.07 0-2.86zM5.41 20L4 18.59l7.72-7.72 1.47 1.35L5.41 20z\"/>\n",
              "  </svg>\n",
              "      </button>\n",
              "      \n",
              "  <style>\n",
              "    .colab-df-container {\n",
              "      display:flex;\n",
              "      flex-wrap:wrap;\n",
              "      gap: 12px;\n",
              "    }\n",
              "\n",
              "    .colab-df-convert {\n",
              "      background-color: #E8F0FE;\n",
              "      border: none;\n",
              "      border-radius: 50%;\n",
              "      cursor: pointer;\n",
              "      display: none;\n",
              "      fill: #1967D2;\n",
              "      height: 32px;\n",
              "      padding: 0 0 0 0;\n",
              "      width: 32px;\n",
              "    }\n",
              "\n",
              "    .colab-df-convert:hover {\n",
              "      background-color: #E2EBFA;\n",
              "      box-shadow: 0px 1px 2px rgba(60, 64, 67, 0.3), 0px 1px 3px 1px rgba(60, 64, 67, 0.15);\n",
              "      fill: #174EA6;\n",
              "    }\n",
              "\n",
              "    [theme=dark] .colab-df-convert {\n",
              "      background-color: #3B4455;\n",
              "      fill: #D2E3FC;\n",
              "    }\n",
              "\n",
              "    [theme=dark] .colab-df-convert:hover {\n",
              "      background-color: #434B5C;\n",
              "      box-shadow: 0px 1px 3px 1px rgba(0, 0, 0, 0.15);\n",
              "      filter: drop-shadow(0px 1px 2px rgba(0, 0, 0, 0.3));\n",
              "      fill: #FFFFFF;\n",
              "    }\n",
              "  </style>\n",
              "\n",
              "      <script>\n",
              "        const buttonEl =\n",
              "          document.querySelector('#df-d8d0092d-aa9c-4db7-a679-1e4119e6ed03 button.colab-df-convert');\n",
              "        buttonEl.style.display =\n",
              "          google.colab.kernel.accessAllowed ? 'block' : 'none';\n",
              "\n",
              "        async function convertToInteractive(key) {\n",
              "          const element = document.querySelector('#df-d8d0092d-aa9c-4db7-a679-1e4119e6ed03');\n",
              "          const dataTable =\n",
              "            await google.colab.kernel.invokeFunction('convertToInteractive',\n",
              "                                                     [key], {});\n",
              "          if (!dataTable) return;\n",
              "\n",
              "          const docLinkHtml = 'Like what you see? Visit the ' +\n",
              "            '<a target=\"_blank\" href=https://colab.research.google.com/notebooks/data_table.ipynb>data table notebook</a>'\n",
              "            + ' to learn more about interactive tables.';\n",
              "          element.innerHTML = '';\n",
              "          dataTable['output_type'] = 'display_data';\n",
              "          await google.colab.output.renderOutput(dataTable, element);\n",
              "          const docLink = document.createElement('div');\n",
              "          docLink.innerHTML = docLinkHtml;\n",
              "          element.appendChild(docLink);\n",
              "        }\n",
              "      </script>\n",
              "    </div>\n",
              "  </div>\n",
              "  "
            ]
          },
          "metadata": {},
          "execution_count": 38
        }
      ]
    },
    {
      "cell_type": "code",
      "source": [
        "X_normal.columns.values[np.where( X_normal.columns.values == 'Доза.15')[0][0]-1]"
      ],
      "metadata": {
        "colab": {
          "base_uri": "https://localhost:8080/",
          "height": 35
        },
        "id": "CHrkicyGppgx",
        "outputId": "35c29871-4874-46c3-bb36-609e3ebe66ef"
      },
      "execution_count": 39,
      "outputs": [
        {
          "output_type": "execute_result",
          "data": {
            "text/plain": [
              "'Статин.1'"
            ],
            "application/vnd.google.colaboratory.intrinsic+json": {
              "type": "string"
            }
          },
          "metadata": {},
          "execution_count": 39
        }
      ]
    },
    {
      "cell_type": "code",
      "source": [
        "X_normal.columns.values[np.where( X_normal.columns.values == 'Доза.19')[0][0]-1]"
      ],
      "metadata": {
        "colab": {
          "base_uri": "https://localhost:8080/",
          "height": 35
        },
        "id": "GLtV9sP3qLVt",
        "outputId": "cd4dfd7c-050c-45d4-b906-8adffae28063"
      },
      "execution_count": 40,
      "outputs": [
        {
          "output_type": "execute_result",
          "data": {
            "text/plain": [
              "'АСК.1'"
            ],
            "application/vnd.google.colaboratory.intrinsic+json": {
              "type": "string"
            }
          },
          "metadata": {},
          "execution_count": 40
        }
      ]
    },
    {
      "cell_type": "code",
      "source": [
        "X_normal.columns.values[np.where( X_normal.columns.values == 'Доза.11')[0][0]-1]"
      ],
      "metadata": {
        "colab": {
          "base_uri": "https://localhost:8080/",
          "height": 35
        },
        "id": "7N2zPX8dqnCb",
        "outputId": "f876ccec-c1a8-4c09-ed3a-d01e93ea7b1b"
      },
      "execution_count": 41,
      "outputs": [
        {
          "output_type": "execute_result",
          "data": {
            "text/plain": [
              "'ИАПФ.1'"
            ],
            "application/vnd.google.colaboratory.intrinsic+json": {
              "type": "string"
            }
          },
          "metadata": {},
          "execution_count": 41
        }
      ]
    },
    {
      "cell_type": "code",
      "source": [
        "plot_roc_curve(boost_normal, X_test_normal, y_test_normal)"
      ],
      "metadata": {
        "colab": {
          "base_uri": "https://localhost:8080/",
          "height": 296
        },
        "id": "gfTB-RjlrC0e",
        "outputId": "24050b75-2bd7-4f1f-e28e-4012817f2d4d"
      },
      "execution_count": 42,
      "outputs": [
        {
          "output_type": "execute_result",
          "data": {
            "text/plain": [
              "<sklearn.metrics._plot.roc_curve.RocCurveDisplay at 0x7fce1a0c7bd0>"
            ]
          },
          "metadata": {},
          "execution_count": 42
        },
        {
          "output_type": "display_data",
          "data": {
            "text/plain": [
              "<Figure size 432x288 with 1 Axes>"
            ],
            "image/png": "[encoded data removed]"
          },
          "metadata": {
            "needs_background": "light"
          }
        }
      ]
    },
    {
      "cell_type": "code",
      "source": [
        "group_names = ['True Neg','False Pos','False Neg','True Pos']\n",
        "cf_matrix_cb = confusion_matrix(y_test,boost_normal.predict(X_test_normal))\n",
        "group_counts = [\"{0:0.0f}\".format(value) for value in\n",
        "                cf_matrix_cb.flatten()]\n",
        "group_percentages = [\"{0:.2%}\".format(value) for value in\n",
        "                     cf_matrix_cb.flatten()/np.sum(cf_matrix_cb)]\n",
        "labels = [f\"{v1}\\n{v2}\\n{v3}\" for v1, v2, v3 in\n",
        "          zip(group_names,group_counts,group_percentages)]\n",
        "labels = np.asarray(labels).reshape(2,2)\n",
        "f, ax = plt.subplots(figsize=(7, 6))\n",
        "sns.heatmap(cf_matrix_cb, annot=labels, fmt='')"
      ],
      "metadata": {
        "colab": {
          "base_uri": "https://localhost:8080/",
          "height": 391
        },
        "id": "NmfFAaV_rUHO",
        "outputId": "31a193f1-b8ca-4128-a9b0-b14cb4e6e72f"
      },
      "execution_count": 43,
      "outputs": [
        {
          "output_type": "execute_result",
          "data": {
            "text/plain": [
              "<matplotlib.axes._subplots.AxesSubplot at 0x7fce19673ed0>"
            ]
          },
          "metadata": {},
          "execution_count": 43
        },
        {
          "output_type": "display_data",
          "data": {
            "text/plain": [
              "<Figure size 504x432 with 2 Axes>"
            ],
            "image/png": "[encoded data removed]"
          },
          "metadata": {
            "needs_background": "light"
          }
        }
      ]
    },
    {
      "cell_type": "markdown",
      "source": [
        "### Попробуем обычную логистическую регрессию"
      ],
      "metadata": {
        "id": "V7mO5D6dWtgh"
      }
    },
    {
      "cell_type": "markdown",
      "source": [
        "После отбора"
      ],
      "metadata": {
        "id": "m2GFZu18Xe3f"
      }
    },
    {
      "cell_type": "code",
      "source": [
        "from sklearn.linear_model import LogisticRegression"
      ],
      "metadata": {
        "id": "ookqSkKdYZJN"
      },
      "execution_count": 44,
      "outputs": []
    },
    {
      "cell_type": "code",
      "source": [
        "logreg = LogisticRegression(n_jobs = -1, random_state = 17,penalty='l1',solver='liblinear')#lasso\n",
        "logreg.fit(X_train, y_train)\n",
        "logpred = logreg.predict(X_test)\n",
        "print(accuracy_score(y_test,logpred), f1_score(y_test, logpred))\n",
        "print(classification_report(y_test,logpred))"
      ],
      "metadata": {
        "colab": {
          "base_uri": "https://localhost:8080/"
        },
        "id": "gJsAxYPuWmrP",
        "outputId": "ae4b6572-f4e9-46b7-d18b-d5b6f155c88d"
      },
      "execution_count": 45,
      "outputs": [
        {
          "output_type": "stream",
          "name": "stdout",
          "text": [
            "0.9622641509433962 0.7499999999999999\n",
            "              precision    recall  f1-score   support\n",
            "\n",
            "           0       0.96      1.00      0.98        48\n",
            "           1       1.00      0.60      0.75         5\n",
            "\n",
            "    accuracy                           0.96        53\n",
            "   macro avg       0.98      0.80      0.86        53\n",
            "weighted avg       0.96      0.96      0.96        53\n",
            "\n"
          ]
        }
      ]
    },
    {
      "cell_type": "markdown",
      "source": [
        "До отбора"
      ],
      "metadata": {
        "id": "VF0woQKQYlQT"
      }
    },
    {
      "cell_type": "code",
      "source": [
        "logreg = LogisticRegression(n_jobs = -1, random_state = 17,penalty='l1',solver='liblinear')#lasso\n",
        "logreg.fit(X_train_normal, y_train_normal)\n",
        "logpred = logreg.predict(X_test_normal)\n",
        "print(accuracy_score(y_test_normal,logpred), f1_score(y_test_normal, logpred))\n",
        "print(classification_report(y_test_normal,logpred))"
      ],
      "metadata": {
        "colab": {
          "base_uri": "https://localhost:8080/"
        },
        "id": "UtCX6AwBYYkP",
        "outputId": "35bb3449-1db7-4b8c-9eef-68af559e5152"
      },
      "execution_count": 46,
      "outputs": [
        {
          "output_type": "stream",
          "name": "stdout",
          "text": [
            "0.8867924528301887 0.4000000000000001\n",
            "              precision    recall  f1-score   support\n",
            "\n",
            "           0       0.94      0.94      0.94        48\n",
            "           1       0.40      0.40      0.40         5\n",
            "\n",
            "    accuracy                           0.89        53\n",
            "   macro avg       0.67      0.67      0.67        53\n",
            "weighted avg       0.89      0.89      0.89        53\n",
            "\n"
          ]
        }
      ]
    },
    {
      "cell_type": "code",
      "source": [
        "plot_roc_curve(logreg, X_test_normal, y_test_normal)"
      ],
      "metadata": {
        "colab": {
          "base_uri": "https://localhost:8080/",
          "height": 296
        },
        "id": "4QguNlmcZ5Y-",
        "outputId": "2d53aced-70c3-4c88-fd62-cc1410d85ded"
      },
      "execution_count": 47,
      "outputs": [
        {
          "output_type": "execute_result",
          "data": {
            "text/plain": [
              "<sklearn.metrics._plot.roc_curve.RocCurveDisplay at 0x7fce19685c50>"
            ]
          },
          "metadata": {},
          "execution_count": 47
        },
        {
          "output_type": "display_data",
          "data": {
            "text/plain": [
              "<Figure size 432x288 with 1 Axes>"
            ],
            "image/png": "[encoded data removed]"
          },
          "metadata": {
            "needs_background": "light"
          }
        }
      ]
    },
    {
      "cell_type": "code",
      "source": [
        "imp_df = pd.DataFrame(X_normal.columns.values)\n",
        "imp_df.columns = ['Feature']\n",
        "imp_df[\"Importance\"] = pd.Series(logreg.coef_[0])\n",
        "\n",
        "imp_df.sort_values(by='Importance', ascending=False).head(15)"
      ],
      "metadata": {
        "colab": {
          "base_uri": "https://localhost:8080/",
          "height": 429
        },
        "id": "d6ew5Q06YwyH",
        "outputId": "a9a37648-7367-4c48-e3c0-1edeb2ab9826"
      },
      "execution_count": 48,
      "outputs": [
        {
          "output_type": "execute_result",
          "data": {
            "text/plain": [
              "                                    Feature  Importance\n",
              "138                                    Доза    0.147915\n",
              "142                                  Доза.2    0.137325\n",
              "3                                       Вес    0.053412\n",
              "6                                систол. АД    0.045152\n",
              "14   Длительность проживания на Севере, лет    0.043572\n",
              "123                                   УО ЛЖ    0.035003\n",
              "7                                       ЧСС    0.033495\n",
              "188                                 Доза.13    0.031526\n",
              "198                                 Доза.18    0.031115\n",
              "162                                     СКФ    0.024583\n",
              "154                                  Доза.7    0.023828\n",
              "156                                  Доза.8    0.023089\n",
              "103                           ТnI-24, нг/мл    0.017293\n",
              "118                                  КДО ЛЖ    0.008352\n",
              "127                                   ММ ЛЖ    0.006301"
            ],
            "text/html": [
              "\n",
              "  <div id=\"df-f9581d97-b1df-4368-b61e-b6abedba6b3d\">\n",
              "    <div class=\"colab-df-container\">\n",
              "      <div>\n",
              "<style scoped>\n",
              "    .dataframe tbody tr th:only-of-type {\n",
              "        vertical-align: middle;\n",
              "    }\n",
              "\n",
              "    .dataframe tbody tr th {\n",
              "        vertical-align: top;\n",
              "    }\n",
              "\n",
              "    .dataframe thead th {\n",
              "        text-align: right;\n",
              "    }\n",
              "</style>\n",
              "<table border=\"1\" class=\"dataframe\">\n",
              "  <thead>\n",
              "    <tr style=\"text-align: right;\">\n",
              "      <th></th>\n",
              "      <th>Feature</th>\n",
              "      <th>Importance</th>\n",
              "    </tr>\n",
              "  </thead>\n",
              "  <tbody>\n",
              "    <tr>\n",
              "      <th>138</th>\n",
              "      <td>Доза</td>\n",
              "      <td>0.147915</td>\n",
              "    </tr>\n",
              "    <tr>\n",
              "      <th>142</th>\n",
              "      <td>Доза.2</td>\n",
              "      <td>0.137325</td>\n",
              "    </tr>\n",
              "    <tr>\n",
              "      <th>3</th>\n",
              "      <td>Вес</td>\n",
              "      <td>0.053412</td>\n",
              "    </tr>\n",
              "    <tr>\n",
              "      <th>6</th>\n",
              "      <td>систол. АД</td>\n",
              "      <td>0.045152</td>\n",
              "    </tr>\n",
              "    <tr>\n",
              "      <th>14</th>\n",
              "      <td>Длительность проживания на Севере, лет</td>\n",
              "      <td>0.043572</td>\n",
              "    </tr>\n",
              "    <tr>\n",
              "      <th>123</th>\n",
              "      <td>УО ЛЖ</td>\n",
              "      <td>0.035003</td>\n",
              "    </tr>\n",
              "    <tr>\n",
              "      <th>7</th>\n",
              "      <td>ЧСС</td>\n",
              "      <td>0.033495</td>\n",
              "    </tr>\n",
              "    <tr>\n",
              "      <th>188</th>\n",
              "      <td>Доза.13</td>\n",
              "      <td>0.031526</td>\n",
              "    </tr>\n",
              "    <tr>\n",
              "      <th>198</th>\n",
              "      <td>Доза.18</td>\n",
              "      <td>0.031115</td>\n",
              "    </tr>\n",
              "    <tr>\n",
              "      <th>162</th>\n",
              "      <td>СКФ</td>\n",
              "      <td>0.024583</td>\n",
              "    </tr>\n",
              "    <tr>\n",
              "      <th>154</th>\n",
              "      <td>Доза.7</td>\n",
              "      <td>0.023828</td>\n",
              "    </tr>\n",
              "    <tr>\n",
              "      <th>156</th>\n",
              "      <td>Доза.8</td>\n",
              "      <td>0.023089</td>\n",
              "    </tr>\n",
              "    <tr>\n",
              "      <th>103</th>\n",
              "      <td>ТnI-24, нг/мл</td>\n",
              "      <td>0.017293</td>\n",
              "    </tr>\n",
              "    <tr>\n",
              "      <th>118</th>\n",
              "      <td>КДО ЛЖ</td>\n",
              "      <td>0.008352</td>\n",
              "    </tr>\n",
              "    <tr>\n",
              "      <th>127</th>\n",
              "      <td>ММ ЛЖ</td>\n",
              "      <td>0.006301</td>\n",
              "    </tr>\n",
              "  </tbody>\n",
              "</table>\n",
              "</div>\n",
              "      <button class=\"colab-df-convert\" onclick=\"convertToInteractive('df-f9581d97-b1df-4368-b61e-b6abedba6b3d')\"\n",
              "              title=\"Convert this dataframe to an interactive table.\"\n",
              "              style=\"display:none;\">\n",
              "        \n",
              "  <svg xmlns=\"http://www.w3.org/2000/svg\" height=\"24px\"viewBox=\"0 0 24 24\"\n",
              "       width=\"24px\">\n",
              "    <path d=\"M0 0h24v24H0V0z\" fill=\"none\"/>\n",
              "    <path d=\"M18.56 5.44l.94 2.06.94-2.06 2.06-.94-2.06-.94-.94-2.06-.94 2.06-2.06.94zm-11 1L8.5 8.5l.94-2.06 2.06-.94-2.06-.94L8.5 2.5l-.94 2.06-2.06.94zm10 10l.94 2.06.94-2.06 2.06-.94-2.06-.94-.94-2.06-.94 2.06-2.06.94z\"/><path d=\"M17.41 7.96l-1.37-1.37c-.4-.4-.92-.59-1.43-.59-.52 0-1.04.2-1.43.59L10.3 9.45l-7.72 7.72c-.78.78-.78 2.05 0 2.83L4 21.41c.39.39.9.59 1.41.59.51 0 1.02-.2 1.41-.59l7.78-7.78 2.81-2.81c.8-.78.8-2.07 0-2.86zM5.41 20L4 18.59l7.72-7.72 1.47 1.35L5.41 20z\"/>\n",
              "  </svg>\n",
              "      </button>\n",
              "      \n",
              "  <style>\n",
              "    .colab-df-container {\n",
              "      display:flex;\n",
              "      flex-wrap:wrap;\n",
              "      gap: 12px;\n",
              "    }\n",
              "\n",
              "    .colab-df-convert {\n",
              "      background-color: #E8F0FE;\n",
              "      border: none;\n",
              "      border-radius: 50%;\n",
              "      cursor: pointer;\n",
              "      display: none;\n",
              "      fill: #1967D2;\n",
              "      height: 32px;\n",
              "      padding: 0 0 0 0;\n",
              "      width: 32px;\n",
              "    }\n",
              "\n",
              "    .colab-df-convert:hover {\n",
              "      background-color: #E2EBFA;\n",
              "      box-shadow: 0px 1px 2px rgba(60, 64, 67, 0.3), 0px 1px 3px 1px rgba(60, 64, 67, 0.15);\n",
              "      fill: #174EA6;\n",
              "    }\n",
              "\n",
              "    [theme=dark] .colab-df-convert {\n",
              "      background-color: #3B4455;\n",
              "      fill: #D2E3FC;\n",
              "    }\n",
              "\n",
              "    [theme=dark] .colab-df-convert:hover {\n",
              "      background-color: #434B5C;\n",
              "      box-shadow: 0px 1px 3px 1px rgba(0, 0, 0, 0.15);\n",
              "      filter: drop-shadow(0px 1px 2px rgba(0, 0, 0, 0.3));\n",
              "      fill: #FFFFFF;\n",
              "    }\n",
              "  </style>\n",
              "\n",
              "      <script>\n",
              "        const buttonEl =\n",
              "          document.querySelector('#df-f9581d97-b1df-4368-b61e-b6abedba6b3d button.colab-df-convert');\n",
              "        buttonEl.style.display =\n",
              "          google.colab.kernel.accessAllowed ? 'block' : 'none';\n",
              "\n",
              "        async function convertToInteractive(key) {\n",
              "          const element = document.querySelector('#df-f9581d97-b1df-4368-b61e-b6abedba6b3d');\n",
              "          const dataTable =\n",
              "            await google.colab.kernel.invokeFunction('convertToInteractive',\n",
              "                                                     [key], {});\n",
              "          if (!dataTable) return;\n",
              "\n",
              "          const docLinkHtml = 'Like what you see? Visit the ' +\n",
              "            '<a target=\"_blank\" href=https://colab.research.google.com/notebooks/data_table.ipynb>data table notebook</a>'\n",
              "            + ' to learn more about interactive tables.';\n",
              "          element.innerHTML = '';\n",
              "          dataTable['output_type'] = 'display_data';\n",
              "          await google.colab.output.renderOutput(dataTable, element);\n",
              "          const docLink = document.createElement('div');\n",
              "          docLink.innerHTML = docLinkHtml;\n",
              "          element.appendChild(docLink);\n",
              "        }\n",
              "      </script>\n",
              "    </div>\n",
              "  </div>\n",
              "  "
            ]
          },
          "metadata": {},
          "execution_count": 48
        }
      ]
    },
    {
      "cell_type": "code",
      "source": [
        "X_normal.columns.values[np.where( X_normal.columns.values == 'Доза.13')[0][0]-1]"
      ],
      "metadata": {
        "colab": {
          "base_uri": "https://localhost:8080/",
          "height": 35
        },
        "id": "fc2eQOZ9ZC8Z",
        "outputId": "f674a7f4-d827-4b20-925e-a427a36b233c"
      },
      "execution_count": 49,
      "outputs": [
        {
          "output_type": "execute_result",
          "data": {
            "text/plain": [
              "'АМР.1'"
            ],
            "application/vnd.google.colaboratory.intrinsic+json": {
              "type": "string"
            }
          },
          "metadata": {},
          "execution_count": 49
        }
      ]
    },
    {
      "cell_type": "markdown",
      "source": [
        "Антагонисты минералокортикоидных рецепторов"
      ],
      "metadata": {
        "id": "E6-u9mfJZmQA"
      }
    },
    {
      "cell_type": "markdown",
      "source": [
        "Проверим бустинг на отобранных признаках"
      ],
      "metadata": {
        "id": "YuEpbKivaobG"
      }
    },
    {
      "cell_type": "code",
      "source": [
        "X_lasso = X_normal[X_normal.columns.values[logreg.coef_[0]!=0]]\n",
        "y_lasso = y_normal\n",
        "X_train_lasso, X_test_lasso, y_train_lasso, y_test_lasso = train_test_split(X_lasso,y_lasso,test_size=0.2, random_state=17,shuffle=True)"
      ],
      "metadata": {
        "id": "Ne9jU6hGZPwX"
      },
      "execution_count": 50,
      "outputs": []
    },
    {
      "cell_type": "code",
      "source": [
        "boost_lasso = CatBoostClassifier(eval_metric='F1',\n",
        "                             verbose=False,\n",
        "                             early_stopping_rounds=100,\n",
        "                             iterations = 500,\n",
        "                             random_seed=10)\n",
        "boost_lasso.fit(X_train_lasso,y_train_lasso)\n",
        "print(accuracy_score(y_test_lasso,boost_lasso.predict(X_test_lasso)), f1_score(y_test_lasso, boost_lasso.predict(X_test_lasso)))"
      ],
      "metadata": {
        "colab": {
          "base_uri": "https://localhost:8080/"
        },
        "id": "ExMBEtzoZuwj",
        "outputId": "6e45378c-88b4-4b90-9d22-c94062e9d640"
      },
      "execution_count": 51,
      "outputs": [
        {
          "output_type": "stream",
          "name": "stdout",
          "text": [
            "0.9622641509433962 0.8\n"
          ]
        }
      ]
    },
    {
      "cell_type": "code",
      "source": [
        "plot_roc_curve(boost_lasso, X_test_lasso, y_test_lasso)"
      ],
      "metadata": {
        "colab": {
          "base_uri": "https://localhost:8080/",
          "height": 296
        },
        "id": "R4F1Mzzha7pm",
        "outputId": "06948c1c-ce66-46a1-e92b-3b382971cdcf"
      },
      "execution_count": 52,
      "outputs": [
        {
          "output_type": "execute_result",
          "data": {
            "text/plain": [
              "<sklearn.metrics._plot.roc_curve.RocCurveDisplay at 0x7fce19592490>"
            ]
          },
          "metadata": {},
          "execution_count": 52
        },
        {
          "output_type": "display_data",
          "data": {
            "text/plain": [
              "<Figure size 432x288 with 1 Axes>"
            ],
            "image/png": "[encoded data removed]"
          },
          "metadata": {
            "needs_background": "light"
          }
        }
      ]
    },
    {
      "cell_type": "code",
      "source": [
        "group_names = ['True Neg','False Pos','False Neg','True Pos']\n",
        "cf_matrix_cb = confusion_matrix(y_test_lasso,boost_lasso.predict(X_test_lasso))\n",
        "group_counts = [\"{0:0.0f}\".format(value) for value in\n",
        "                cf_matrix_cb.flatten()]\n",
        "group_percentages = [\"{0:.2%}\".format(value) for value in\n",
        "                     cf_matrix_cb.flatten()/np.sum(cf_matrix_cb)]\n",
        "labels = [f\"{v1}\\n{v2}\\n{v3}\" for v1, v2, v3 in\n",
        "          zip(group_names,group_counts,group_percentages)]\n",
        "labels = np.asarray(labels).reshape(2,2)\n",
        "f, ax = plt.subplots(figsize=(7, 6))\n",
        "sns.heatmap(cf_matrix_cb, annot=labels, fmt='')"
      ],
      "metadata": {
        "colab": {
          "base_uri": "https://localhost:8080/",
          "height": 391
        },
        "id": "6V87Vtswb7Oa",
        "outputId": "6866aa25-c680-44f6-c93f-7d0dc4b46c8b"
      },
      "execution_count": 53,
      "outputs": [
        {
          "output_type": "execute_result",
          "data": {
            "text/plain": [
              "<matplotlib.axes._subplots.AxesSubplot at 0x7fce19522510>"
            ]
          },
          "metadata": {},
          "execution_count": 53
        },
        {
          "output_type": "display_data",
          "data": {
            "text/plain": [
              "<Figure size 504x432 with 2 Axes>"
            ],
            "image/png": "[encoded data removed]"
          },
          "metadata": {
            "needs_background": "light"
          }
        }
      ]
    },
    {
      "cell_type": "code",
      "source": [
        "imp_df = pd.DataFrame(X_lasso.columns.values)\n",
        "imp_df.columns = ['Feature']\n",
        "imp_df[\"Importance\"] = pd.Series(boost_lasso.get_feature_importance())\n",
        "\n",
        "imp_df.sort_values(by='Importance', ascending=False).head(15)"
      ],
      "metadata": {
        "colab": {
          "base_uri": "https://localhost:8080/",
          "height": 520
        },
        "id": "fw824z505vNJ",
        "outputId": "d3ba85a7-52ff-4a45-e2b6-343d8f4770dc"
      },
      "execution_count": 81,
      "outputs": [
        {
          "output_type": "execute_result",
          "data": {
            "text/plain": [
              "                Feature  Importance\n",
              "28              Доза.15   15.633050\n",
              "31              Доза.19    8.853531\n",
              "10              СКФ EPI    8.644346\n",
              "25                  СКФ    5.391726\n",
              "27              Доза.13    4.157738\n",
              "19                 Доза    4.095318\n",
              "14               КДО ЛЖ    4.061590\n",
              "29              Доза.16    4.049840\n",
              "2                   ЧСС    3.396211\n",
              "16                УО ЛЖ    3.149912\n",
              "13  Билирубин, мкмоль/л    3.127817\n",
              "24              Доза.10    3.053117\n",
              "23               Доза.8    2.997974\n",
              "0                   Вес    2.667490\n",
              "15               КСО ЛЖ    2.436407"
            ],
            "text/html": [
              "\n",
              "  <div id=\"df-ab80f43c-d37e-4473-9d53-4103d8fcbe81\">\n",
              "    <div class=\"colab-df-container\">\n",
              "      <div>\n",
              "<style scoped>\n",
              "    .dataframe tbody tr th:only-of-type {\n",
              "        vertical-align: middle;\n",
              "    }\n",
              "\n",
              "    .dataframe tbody tr th {\n",
              "        vertical-align: top;\n",
              "    }\n",
              "\n",
              "    .dataframe thead th {\n",
              "        text-align: right;\n",
              "    }\n",
              "</style>\n",
              "<table border=\"1\" class=\"dataframe\">\n",
              "  <thead>\n",
              "    <tr style=\"text-align: right;\">\n",
              "      <th></th>\n",
              "      <th>Feature</th>\n",
              "      <th>Importance</th>\n",
              "    </tr>\n",
              "  </thead>\n",
              "  <tbody>\n",
              "    <tr>\n",
              "      <th>28</th>\n",
              "      <td>Доза.15</td>\n",
              "      <td>15.633050</td>\n",
              "    </tr>\n",
              "    <tr>\n",
              "      <th>31</th>\n",
              "      <td>Доза.19</td>\n",
              "      <td>8.853531</td>\n",
              "    </tr>\n",
              "    <tr>\n",
              "      <th>10</th>\n",
              "      <td>СКФ EPI</td>\n",
              "      <td>8.644346</td>\n",
              "    </tr>\n",
              "    <tr>\n",
              "      <th>25</th>\n",
              "      <td>СКФ</td>\n",
              "      <td>5.391726</td>\n",
              "    </tr>\n",
              "    <tr>\n",
              "      <th>27</th>\n",
              "      <td>Доза.13</td>\n",
              "      <td>4.157738</td>\n",
              "    </tr>\n",
              "    <tr>\n",
              "      <th>19</th>\n",
              "      <td>Доза</td>\n",
              "      <td>4.095318</td>\n",
              "    </tr>\n",
              "    <tr>\n",
              "      <th>14</th>\n",
              "      <td>КДО ЛЖ</td>\n",
              "      <td>4.061590</td>\n",
              "    </tr>\n",
              "    <tr>\n",
              "      <th>29</th>\n",
              "      <td>Доза.16</td>\n",
              "      <td>4.049840</td>\n",
              "    </tr>\n",
              "    <tr>\n",
              "      <th>2</th>\n",
              "      <td>ЧСС</td>\n",
              "      <td>3.396211</td>\n",
              "    </tr>\n",
              "    <tr>\n",
              "      <th>16</th>\n",
              "      <td>УО ЛЖ</td>\n",
              "      <td>3.149912</td>\n",
              "    </tr>\n",
              "    <tr>\n",
              "      <th>13</th>\n",
              "      <td>Билирубин, мкмоль/л</td>\n",
              "      <td>3.127817</td>\n",
              "    </tr>\n",
              "    <tr>\n",
              "      <th>24</th>\n",
              "      <td>Доза.10</td>\n",
              "      <td>3.053117</td>\n",
              "    </tr>\n",
              "    <tr>\n",
              "      <th>23</th>\n",
              "      <td>Доза.8</td>\n",
              "      <td>2.997974</td>\n",
              "    </tr>\n",
              "    <tr>\n",
              "      <th>0</th>\n",
              "      <td>Вес</td>\n",
              "      <td>2.667490</td>\n",
              "    </tr>\n",
              "    <tr>\n",
              "      <th>15</th>\n",
              "      <td>КСО ЛЖ</td>\n",
              "      <td>2.436407</td>\n",
              "    </tr>\n",
              "  </tbody>\n",
              "</table>\n",
              "</div>\n",
              "      <button class=\"colab-df-convert\" onclick=\"convertToInteractive('df-ab80f43c-d37e-4473-9d53-4103d8fcbe81')\"\n",
              "              title=\"Convert this dataframe to an interactive table.\"\n",
              "              style=\"display:none;\">\n",
              "        \n",
              "  <svg xmlns=\"http://www.w3.org/2000/svg\" height=\"24px\"viewBox=\"0 0 24 24\"\n",
              "       width=\"24px\">\n",
              "    <path d=\"M0 0h24v24H0V0z\" fill=\"none\"/>\n",
              "    <path d=\"M18.56 5.44l.94 2.06.94-2.06 2.06-.94-2.06-.94-.94-2.06-.94 2.06-2.06.94zm-11 1L8.5 8.5l.94-2.06 2.06-.94-2.06-.94L8.5 2.5l-.94 2.06-2.06.94zm10 10l.94 2.06.94-2.06 2.06-.94-2.06-.94-.94-2.06-.94 2.06-2.06.94z\"/><path d=\"M17.41 7.96l-1.37-1.37c-.4-.4-.92-.59-1.43-.59-.52 0-1.04.2-1.43.59L10.3 9.45l-7.72 7.72c-.78.78-.78 2.05 0 2.83L4 21.41c.39.39.9.59 1.41.59.51 0 1.02-.2 1.41-.59l7.78-7.78 2.81-2.81c.8-.78.8-2.07 0-2.86zM5.41 20L4 18.59l7.72-7.72 1.47 1.35L5.41 20z\"/>\n",
              "  </svg>\n",
              "      </button>\n",
              "      \n",
              "  <style>\n",
              "    .colab-df-container {\n",
              "      display:flex;\n",
              "      flex-wrap:wrap;\n",
              "      gap: 12px;\n",
              "    }\n",
              "\n",
              "    .colab-df-convert {\n",
              "      background-color: #E8F0FE;\n",
              "      border: none;\n",
              "      border-radius: 50%;\n",
              "      cursor: pointer;\n",
              "      display: none;\n",
              "      fill: #1967D2;\n",
              "      height: 32px;\n",
              "      padding: 0 0 0 0;\n",
              "      width: 32px;\n",
              "    }\n",
              "\n",
              "    .colab-df-convert:hover {\n",
              "      background-color: #E2EBFA;\n",
              "      box-shadow: 0px 1px 2px rgba(60, 64, 67, 0.3), 0px 1px 3px 1px rgba(60, 64, 67, 0.15);\n",
              "      fill: #174EA6;\n",
              "    }\n",
              "\n",
              "    [theme=dark] .colab-df-convert {\n",
              "      background-color: #3B4455;\n",
              "      fill: #D2E3FC;\n",
              "    }\n",
              "\n",
              "    [theme=dark] .colab-df-convert:hover {\n",
              "      background-color: #434B5C;\n",
              "      box-shadow: 0px 1px 3px 1px rgba(0, 0, 0, 0.15);\n",
              "      filter: drop-shadow(0px 1px 2px rgba(0, 0, 0, 0.3));\n",
              "      fill: #FFFFFF;\n",
              "    }\n",
              "  </style>\n",
              "\n",
              "      <script>\n",
              "        const buttonEl =\n",
              "          document.querySelector('#df-ab80f43c-d37e-4473-9d53-4103d8fcbe81 button.colab-df-convert');\n",
              "        buttonEl.style.display =\n",
              "          google.colab.kernel.accessAllowed ? 'block' : 'none';\n",
              "\n",
              "        async function convertToInteractive(key) {\n",
              "          const element = document.querySelector('#df-ab80f43c-d37e-4473-9d53-4103d8fcbe81');\n",
              "          const dataTable =\n",
              "            await google.colab.kernel.invokeFunction('convertToInteractive',\n",
              "                                                     [key], {});\n",
              "          if (!dataTable) return;\n",
              "\n",
              "          const docLinkHtml = 'Like what you see? Visit the ' +\n",
              "            '<a target=\"_blank\" href=https://colab.research.google.com/notebooks/data_table.ipynb>data table notebook</a>'\n",
              "            + ' to learn more about interactive tables.';\n",
              "          element.innerHTML = '';\n",
              "          dataTable['output_type'] = 'display_data';\n",
              "          await google.colab.output.renderOutput(dataTable, element);\n",
              "          const docLink = document.createElement('div');\n",
              "          docLink.innerHTML = docLinkHtml;\n",
              "          element.appendChild(docLink);\n",
              "        }\n",
              "      </script>\n",
              "    </div>\n",
              "  </div>\n",
              "  "
            ]
          },
          "metadata": {},
          "execution_count": 81
        }
      ]
    },
    {
      "cell_type": "markdown",
      "source": [
        "### Малое количество данных и большая размерность - пробуем бутстрап и случайный лес"
      ],
      "metadata": {
        "id": "Hav5QyJ_cGwL"
      }
    },
    {
      "cell_type": "code",
      "source": [
        "from sklearn.model_selection import GridSearchCV"
      ],
      "metadata": {
        "id": "Qcal82yVcilb"
      },
      "execution_count": 54,
      "outputs": []
    },
    {
      "cell_type": "code",
      "source": [
        "from sklearn.ensemble import RandomForestClassifier\n",
        "\n",
        "params = {'bootstrap': [True],\n",
        "          'max_depth': [8, None],\n",
        "          'max_features': ['sqrt',0.5],\n",
        "          'min_samples_split': [10,50,100],\n",
        "          'max_samples': [0.7, 0.5],\n",
        "          'n_estimators': [300]}\n",
        "\n",
        "random_forest = RandomForestClassifier(random_state=10)\n",
        "random_forest_cv = GridSearchCV(random_forest, params,cv = 5, scoring = 'f1',verbose=2)\n",
        "random_forest_cv.fit(X_train_normal,y_train_normal)"
      ],
      "metadata": {
        "colab": {
          "base_uri": "https://localhost:8080/"
        },
        "id": "cDSZEB6zcFxr",
        "outputId": "e9bb304a-0172-4031-fde6-4ab1f7aab6a9"
      },
      "execution_count": 55,
      "outputs": [
        {
          "output_type": "stream",
          "name": "stdout",
          "text": [
            "Fitting 5 folds for each of 24 candidates, totalling 120 fits\n",
            "[CV] END bootstrap=True, max_depth=8, max_features=sqrt, max_samples=0.7, min_samples_split=10, n_estimators=300; total time=   1.2s\n",
            "[CV] END bootstrap=True, max_depth=8, max_features=sqrt, max_samples=0.7, min_samples_split=10, n_estimators=300; total time=   1.1s\n",
            "[CV] END bootstrap=True, max_depth=8, max_features=sqrt, max_samples=0.7, min_samples_split=10, n_estimators=300; total time=   1.6s\n",
            "[CV] END bootstrap=True, max_depth=8, max_features=sqrt, max_samples=0.7, min_samples_split=10, n_estimators=300; total time=   1.0s\n",
            "[CV] END bootstrap=True, max_depth=8, max_features=sqrt, max_samples=0.7, min_samples_split=10, n_estimators=300; total time=   1.1s\n",
            "[CV] END bootstrap=True, max_depth=8, max_features=sqrt, max_samples=0.7, min_samples_split=50, n_estimators=300; total time=   1.0s\n",
            "[CV] END bootstrap=True, max_depth=8, max_features=sqrt, max_samples=0.7, min_samples_split=50, n_estimators=300; total time=   1.0s\n",
            "[CV] END bootstrap=True, max_depth=8, max_features=sqrt, max_samples=0.7, min_samples_split=50, n_estimators=300; total time=   1.5s\n",
            "[CV] END bootstrap=True, max_depth=8, max_features=sqrt, max_samples=0.7, min_samples_split=50, n_estimators=300; total time=   1.3s\n",
            "[CV] END bootstrap=True, max_depth=8, max_features=sqrt, max_samples=0.7, min_samples_split=50, n_estimators=300; total time=   1.7s\n",
            "[CV] END bootstrap=True, max_depth=8, max_features=sqrt, max_samples=0.7, min_samples_split=100, n_estimators=300; total time=   1.6s\n",
            "[CV] END bootstrap=True, max_depth=8, max_features=sqrt, max_samples=0.7, min_samples_split=100, n_estimators=300; total time=   1.0s\n",
            "[CV] END bootstrap=True, max_depth=8, max_features=sqrt, max_samples=0.7, min_samples_split=100, n_estimators=300; total time=   1.4s\n",
            "[CV] END bootstrap=True, max_depth=8, max_features=sqrt, max_samples=0.7, min_samples_split=100, n_estimators=300; total time=   0.9s\n",
            "[CV] END bootstrap=True, max_depth=8, max_features=sqrt, max_samples=0.7, min_samples_split=100, n_estimators=300; total time=   1.0s\n",
            "[CV] END bootstrap=True, max_depth=8, max_features=sqrt, max_samples=0.5, min_samples_split=10, n_estimators=300; total time=   1.3s\n",
            "[CV] END bootstrap=True, max_depth=8, max_features=sqrt, max_samples=0.5, min_samples_split=10, n_estimators=300; total time=   1.2s\n",
            "[CV] END bootstrap=True, max_depth=8, max_features=sqrt, max_samples=0.5, min_samples_split=10, n_estimators=300; total time=   1.4s\n",
            "[CV] END bootstrap=True, max_depth=8, max_features=sqrt, max_samples=0.5, min_samples_split=10, n_estimators=300; total time=   1.3s\n",
            "[CV] END bootstrap=True, max_depth=8, max_features=sqrt, max_samples=0.5, min_samples_split=10, n_estimators=300; total time=   1.1s\n",
            "[CV] END bootstrap=True, max_depth=8, max_features=sqrt, max_samples=0.5, min_samples_split=50, n_estimators=300; total time=   0.5s\n",
            "[CV] END bootstrap=True, max_depth=8, max_features=sqrt, max_samples=0.5, min_samples_split=50, n_estimators=300; total time=   0.5s\n",
            "[CV] END bootstrap=True, max_depth=8, max_features=sqrt, max_samples=0.5, min_samples_split=50, n_estimators=300; total time=   0.6s\n",
            "[CV] END bootstrap=True, max_depth=8, max_features=sqrt, max_samples=0.5, min_samples_split=50, n_estimators=300; total time=   0.5s\n",
            "[CV] END bootstrap=True, max_depth=8, max_features=sqrt, max_samples=0.5, min_samples_split=50, n_estimators=300; total time=   0.5s\n",
            "[CV] END bootstrap=True, max_depth=8, max_features=sqrt, max_samples=0.5, min_samples_split=100, n_estimators=300; total time=   0.5s\n",
            "[CV] END bootstrap=True, max_depth=8, max_features=sqrt, max_samples=0.5, min_samples_split=100, n_estimators=300; total time=   0.5s\n",
            "[CV] END bootstrap=True, max_depth=8, max_features=sqrt, max_samples=0.5, min_samples_split=100, n_estimators=300; total time=   0.5s\n",
            "[CV] END bootstrap=True, max_depth=8, max_features=sqrt, max_samples=0.5, min_samples_split=100, n_estimators=300; total time=   0.5s\n",
            "[CV] END bootstrap=True, max_depth=8, max_features=sqrt, max_samples=0.5, min_samples_split=100, n_estimators=300; total time=   0.5s\n",
            "[CV] END bootstrap=True, max_depth=8, max_features=0.5, max_samples=0.7, min_samples_split=10, n_estimators=300; total time=   0.7s\n",
            "[CV] END bootstrap=True, max_depth=8, max_features=0.5, max_samples=0.7, min_samples_split=10, n_estimators=300; total time=   0.7s\n",
            "[CV] END bootstrap=True, max_depth=8, max_features=0.5, max_samples=0.7, min_samples_split=10, n_estimators=300; total time=   0.6s\n",
            "[CV] END bootstrap=True, max_depth=8, max_features=0.5, max_samples=0.7, min_samples_split=10, n_estimators=300; total time=   0.6s\n",
            "[CV] END bootstrap=True, max_depth=8, max_features=0.5, max_samples=0.7, min_samples_split=10, n_estimators=300; total time=   0.7s\n",
            "[CV] END bootstrap=True, max_depth=8, max_features=0.5, max_samples=0.7, min_samples_split=50, n_estimators=300; total time=   0.7s\n",
            "[CV] END bootstrap=True, max_depth=8, max_features=0.5, max_samples=0.7, min_samples_split=50, n_estimators=300; total time=   0.7s\n",
            "[CV] END bootstrap=True, max_depth=8, max_features=0.5, max_samples=0.7, min_samples_split=50, n_estimators=300; total time=   0.6s\n",
            "[CV] END bootstrap=True, max_depth=8, max_features=0.5, max_samples=0.7, min_samples_split=50, n_estimators=300; total time=   0.7s\n",
            "[CV] END bootstrap=True, max_depth=8, max_features=0.5, max_samples=0.7, min_samples_split=50, n_estimators=300; total time=   0.7s\n",
            "[CV] END bootstrap=True, max_depth=8, max_features=0.5, max_samples=0.7, min_samples_split=100, n_estimators=300; total time=   0.5s\n",
            "[CV] END bootstrap=True, max_depth=8, max_features=0.5, max_samples=0.7, min_samples_split=100, n_estimators=300; total time=   0.5s\n",
            "[CV] END bootstrap=True, max_depth=8, max_features=0.5, max_samples=0.7, min_samples_split=100, n_estimators=300; total time=   0.5s\n",
            "[CV] END bootstrap=True, max_depth=8, max_features=0.5, max_samples=0.7, min_samples_split=100, n_estimators=300; total time=   0.5s\n",
            "[CV] END bootstrap=True, max_depth=8, max_features=0.5, max_samples=0.7, min_samples_split=100, n_estimators=300; total time=   0.5s\n",
            "[CV] END bootstrap=True, max_depth=8, max_features=0.5, max_samples=0.5, min_samples_split=10, n_estimators=300; total time=   0.7s\n",
            "[CV] END bootstrap=True, max_depth=8, max_features=0.5, max_samples=0.5, min_samples_split=10, n_estimators=300; total time=   0.6s\n",
            "[CV] END bootstrap=True, max_depth=8, max_features=0.5, max_samples=0.5, min_samples_split=10, n_estimators=300; total time=   0.6s\n",
            "[CV] END bootstrap=True, max_depth=8, max_features=0.5, max_samples=0.5, min_samples_split=10, n_estimators=300; total time=   0.6s\n",
            "[CV] END bootstrap=True, max_depth=8, max_features=0.5, max_samples=0.5, min_samples_split=10, n_estimators=300; total time=   0.6s\n",
            "[CV] END bootstrap=True, max_depth=8, max_features=0.5, max_samples=0.5, min_samples_split=50, n_estimators=300; total time=   0.6s\n",
            "[CV] END bootstrap=True, max_depth=8, max_features=0.5, max_samples=0.5, min_samples_split=50, n_estimators=300; total time=   0.6s\n",
            "[CV] END bootstrap=True, max_depth=8, max_features=0.5, max_samples=0.5, min_samples_split=50, n_estimators=300; total time=   0.6s\n",
            "[CV] END bootstrap=True, max_depth=8, max_features=0.5, max_samples=0.5, min_samples_split=50, n_estimators=300; total time=   0.6s\n",
            "[CV] END bootstrap=True, max_depth=8, max_features=0.5, max_samples=0.5, min_samples_split=50, n_estimators=300; total time=   0.6s\n",
            "[CV] END bootstrap=True, max_depth=8, max_features=0.5, max_samples=0.5, min_samples_split=100, n_estimators=300; total time=   0.5s\n",
            "[CV] END bootstrap=True, max_depth=8, max_features=0.5, max_samples=0.5, min_samples_split=100, n_estimators=300; total time=   0.5s\n",
            "[CV] END bootstrap=True, max_depth=8, max_features=0.5, max_samples=0.5, min_samples_split=100, n_estimators=300; total time=   0.5s\n",
            "[CV] END bootstrap=True, max_depth=8, max_features=0.5, max_samples=0.5, min_samples_split=100, n_estimators=300; total time=   0.5s\n",
            "[CV] END bootstrap=True, max_depth=8, max_features=0.5, max_samples=0.5, min_samples_split=100, n_estimators=300; total time=   0.5s\n",
            "[CV] END bootstrap=True, max_depth=None, max_features=sqrt, max_samples=0.7, min_samples_split=10, n_estimators=300; total time=   0.5s\n",
            "[CV] END bootstrap=True, max_depth=None, max_features=sqrt, max_samples=0.7, min_samples_split=10, n_estimators=300; total time=   0.5s\n",
            "[CV] END bootstrap=True, max_depth=None, max_features=sqrt, max_samples=0.7, min_samples_split=10, n_estimators=300; total time=   0.5s\n",
            "[CV] END bootstrap=True, max_depth=None, max_features=sqrt, max_samples=0.7, min_samples_split=10, n_estimators=300; total time=   0.5s\n",
            "[CV] END bootstrap=True, max_depth=None, max_features=sqrt, max_samples=0.7, min_samples_split=10, n_estimators=300; total time=   0.5s\n",
            "[CV] END bootstrap=True, max_depth=None, max_features=sqrt, max_samples=0.7, min_samples_split=50, n_estimators=300; total time=   0.5s\n",
            "[CV] END bootstrap=True, max_depth=None, max_features=sqrt, max_samples=0.7, min_samples_split=50, n_estimators=300; total time=   0.5s\n",
            "[CV] END bootstrap=True, max_depth=None, max_features=sqrt, max_samples=0.7, min_samples_split=50, n_estimators=300; total time=   0.5s\n",
            "[CV] END bootstrap=True, max_depth=None, max_features=sqrt, max_samples=0.7, min_samples_split=50, n_estimators=300; total time=   0.5s\n",
            "[CV] END bootstrap=True, max_depth=None, max_features=sqrt, max_samples=0.7, min_samples_split=50, n_estimators=300; total time=   0.5s\n",
            "[CV] END bootstrap=True, max_depth=None, max_features=sqrt, max_samples=0.7, min_samples_split=100, n_estimators=300; total time=   0.5s\n",
            "[CV] END bootstrap=True, max_depth=None, max_features=sqrt, max_samples=0.7, min_samples_split=100, n_estimators=300; total time=   0.5s\n",
            "[CV] END bootstrap=True, max_depth=None, max_features=sqrt, max_samples=0.7, min_samples_split=100, n_estimators=300; total time=   0.5s\n",
            "[CV] END bootstrap=True, max_depth=None, max_features=sqrt, max_samples=0.7, min_samples_split=100, n_estimators=300; total time=   0.5s\n",
            "[CV] END bootstrap=True, max_depth=None, max_features=sqrt, max_samples=0.7, min_samples_split=100, n_estimators=300; total time=   0.5s\n",
            "[CV] END bootstrap=True, max_depth=None, max_features=sqrt, max_samples=0.5, min_samples_split=10, n_estimators=300; total time=   0.5s\n",
            "[CV] END bootstrap=True, max_depth=None, max_features=sqrt, max_samples=0.5, min_samples_split=10, n_estimators=300; total time=   0.5s\n",
            "[CV] END bootstrap=True, max_depth=None, max_features=sqrt, max_samples=0.5, min_samples_split=10, n_estimators=300; total time=   0.5s\n",
            "[CV] END bootstrap=True, max_depth=None, max_features=sqrt, max_samples=0.5, min_samples_split=10, n_estimators=300; total time=   0.5s\n",
            "[CV] END bootstrap=True, max_depth=None, max_features=sqrt, max_samples=0.5, min_samples_split=10, n_estimators=300; total time=   0.5s\n",
            "[CV] END bootstrap=True, max_depth=None, max_features=sqrt, max_samples=0.5, min_samples_split=50, n_estimators=300; total time=   0.5s\n",
            "[CV] END bootstrap=True, max_depth=None, max_features=sqrt, max_samples=0.5, min_samples_split=50, n_estimators=300; total time=   0.5s\n",
            "[CV] END bootstrap=True, max_depth=None, max_features=sqrt, max_samples=0.5, min_samples_split=50, n_estimators=300; total time=   0.5s\n",
            "[CV] END bootstrap=True, max_depth=None, max_features=sqrt, max_samples=0.5, min_samples_split=50, n_estimators=300; total time=   0.5s\n",
            "[CV] END bootstrap=True, max_depth=None, max_features=sqrt, max_samples=0.5, min_samples_split=50, n_estimators=300; total time=   0.5s\n",
            "[CV] END bootstrap=True, max_depth=None, max_features=sqrt, max_samples=0.5, min_samples_split=100, n_estimators=300; total time=   0.4s\n",
            "[CV] END bootstrap=True, max_depth=None, max_features=sqrt, max_samples=0.5, min_samples_split=100, n_estimators=300; total time=   0.5s\n",
            "[CV] END bootstrap=True, max_depth=None, max_features=sqrt, max_samples=0.5, min_samples_split=100, n_estimators=300; total time=   0.4s\n",
            "[CV] END bootstrap=True, max_depth=None, max_features=sqrt, max_samples=0.5, min_samples_split=100, n_estimators=300; total time=   0.5s\n",
            "[CV] END bootstrap=True, max_depth=None, max_features=sqrt, max_samples=0.5, min_samples_split=100, n_estimators=300; total time=   0.5s\n",
            "[CV] END bootstrap=True, max_depth=None, max_features=0.5, max_samples=0.7, min_samples_split=10, n_estimators=300; total time=   0.7s\n",
            "[CV] END bootstrap=True, max_depth=None, max_features=0.5, max_samples=0.7, min_samples_split=10, n_estimators=300; total time=   0.6s\n",
            "[CV] END bootstrap=True, max_depth=None, max_features=0.5, max_samples=0.7, min_samples_split=10, n_estimators=300; total time=   0.6s\n",
            "[CV] END bootstrap=True, max_depth=None, max_features=0.5, max_samples=0.7, min_samples_split=10, n_estimators=300; total time=   0.7s\n",
            "[CV] END bootstrap=True, max_depth=None, max_features=0.5, max_samples=0.7, min_samples_split=10, n_estimators=300; total time=   0.6s\n",
            "[CV] END bootstrap=True, max_depth=None, max_features=0.5, max_samples=0.7, min_samples_split=50, n_estimators=300; total time=   0.7s\n",
            "[CV] END bootstrap=True, max_depth=None, max_features=0.5, max_samples=0.7, min_samples_split=50, n_estimators=300; total time=   0.7s\n",
            "[CV] END bootstrap=True, max_depth=None, max_features=0.5, max_samples=0.7, min_samples_split=50, n_estimators=300; total time=   0.6s\n",
            "[CV] END bootstrap=True, max_depth=None, max_features=0.5, max_samples=0.7, min_samples_split=50, n_estimators=300; total time=   0.7s\n",
            "[CV] END bootstrap=True, max_depth=None, max_features=0.5, max_samples=0.7, min_samples_split=50, n_estimators=300; total time=   0.7s\n",
            "[CV] END bootstrap=True, max_depth=None, max_features=0.5, max_samples=0.7, min_samples_split=100, n_estimators=300; total time=   0.5s\n",
            "[CV] END bootstrap=True, max_depth=None, max_features=0.5, max_samples=0.7, min_samples_split=100, n_estimators=300; total time=   0.5s\n",
            "[CV] END bootstrap=True, max_depth=None, max_features=0.5, max_samples=0.7, min_samples_split=100, n_estimators=300; total time=   0.5s\n",
            "[CV] END bootstrap=True, max_depth=None, max_features=0.5, max_samples=0.7, min_samples_split=100, n_estimators=300; total time=   0.5s\n",
            "[CV] END bootstrap=True, max_depth=None, max_features=0.5, max_samples=0.7, min_samples_split=100, n_estimators=300; total time=   0.5s\n",
            "[CV] END bootstrap=True, max_depth=None, max_features=0.5, max_samples=0.5, min_samples_split=10, n_estimators=300; total time=   0.7s\n",
            "[CV] END bootstrap=True, max_depth=None, max_features=0.5, max_samples=0.5, min_samples_split=10, n_estimators=300; total time=   0.6s\n",
            "[CV] END bootstrap=True, max_depth=None, max_features=0.5, max_samples=0.5, min_samples_split=10, n_estimators=300; total time=   0.6s\n",
            "[CV] END bootstrap=True, max_depth=None, max_features=0.5, max_samples=0.5, min_samples_split=10, n_estimators=300; total time=   0.6s\n",
            "[CV] END bootstrap=True, max_depth=None, max_features=0.5, max_samples=0.5, min_samples_split=10, n_estimators=300; total time=   0.6s\n",
            "[CV] END bootstrap=True, max_depth=None, max_features=0.5, max_samples=0.5, min_samples_split=50, n_estimators=300; total time=   0.7s\n",
            "[CV] END bootstrap=True, max_depth=None, max_features=0.5, max_samples=0.5, min_samples_split=50, n_estimators=300; total time=   0.6s\n",
            "[CV] END bootstrap=True, max_depth=None, max_features=0.5, max_samples=0.5, min_samples_split=50, n_estimators=300; total time=   0.6s\n",
            "[CV] END bootstrap=True, max_depth=None, max_features=0.5, max_samples=0.5, min_samples_split=50, n_estimators=300; total time=   0.6s\n",
            "[CV] END bootstrap=True, max_depth=None, max_features=0.5, max_samples=0.5, min_samples_split=50, n_estimators=300; total time=   0.6s\n",
            "[CV] END bootstrap=True, max_depth=None, max_features=0.5, max_samples=0.5, min_samples_split=100, n_estimators=300; total time=   0.5s\n",
            "[CV] END bootstrap=True, max_depth=None, max_features=0.5, max_samples=0.5, min_samples_split=100, n_estimators=300; total time=   0.5s\n",
            "[CV] END bootstrap=True, max_depth=None, max_features=0.5, max_samples=0.5, min_samples_split=100, n_estimators=300; total time=   0.5s\n",
            "[CV] END bootstrap=True, max_depth=None, max_features=0.5, max_samples=0.5, min_samples_split=100, n_estimators=300; total time=   0.4s\n",
            "[CV] END bootstrap=True, max_depth=None, max_features=0.5, max_samples=0.5, min_samples_split=100, n_estimators=300; total time=   0.4s\n"
          ]
        },
        {
          "output_type": "execute_result",
          "data": {
            "text/plain": [
              "GridSearchCV(cv=5, estimator=RandomForestClassifier(random_state=10),\n",
              "             param_grid={'bootstrap': [True], 'max_depth': [8, None],\n",
              "                         'max_features': ['sqrt', 0.5],\n",
              "                         'max_samples': [0.7, 0.5],\n",
              "                         'min_samples_split': [10, 50, 100],\n",
              "                         'n_estimators': [300]},\n",
              "             scoring='f1', verbose=2)"
            ]
          },
          "metadata": {},
          "execution_count": 55
        }
      ]
    },
    {
      "cell_type": "code",
      "source": [
        "random_forest_pred = random_forest_cv.predict(X_test_normal)\n",
        "random_forest_cv.best_params_, random_forest_cv.best_score_"
      ],
      "metadata": {
        "colab": {
          "base_uri": "https://localhost:8080/"
        },
        "id": "zKneg30NcwRl",
        "outputId": "97eed59b-69cf-4d29-ed64-f966cbcda400"
      },
      "execution_count": 56,
      "outputs": [
        {
          "output_type": "execute_result",
          "data": {
            "text/plain": [
              "({'bootstrap': True,\n",
              "  'max_depth': 8,\n",
              "  'max_features': 0.5,\n",
              "  'max_samples': 0.5,\n",
              "  'min_samples_split': 10,\n",
              "  'n_estimators': 300},\n",
              " 0.7799999999999999)"
            ]
          },
          "metadata": {},
          "execution_count": 56
        }
      ]
    },
    {
      "cell_type": "code",
      "source": [
        "print(accuracy_score(y_test_normal,random_forest_pred), f1_score(y_test_normal, random_forest_cv.predict(X_test_normal)))\n",
        "print(classification_report(y_test_normal,random_forest_pred))"
      ],
      "metadata": {
        "colab": {
          "base_uri": "https://localhost:8080/"
        },
        "id": "cDZg2LR5c75g",
        "outputId": "fbead860-2a1d-4737-9fe8-cdc8e91102ac"
      },
      "execution_count": 57,
      "outputs": [
        {
          "output_type": "stream",
          "name": "stdout",
          "text": [
            "0.9622641509433962 0.7499999999999999\n",
            "              precision    recall  f1-score   support\n",
            "\n",
            "           0       0.96      1.00      0.98        48\n",
            "           1       1.00      0.60      0.75         5\n",
            "\n",
            "    accuracy                           0.96        53\n",
            "   macro avg       0.98      0.80      0.86        53\n",
            "weighted avg       0.96      0.96      0.96        53\n",
            "\n"
          ]
        }
      ]
    },
    {
      "cell_type": "code",
      "source": [
        "plot_roc_curve(random_forest_cv, X_test_normal, y_test_normal)"
      ],
      "metadata": {
        "colab": {
          "base_uri": "https://localhost:8080/",
          "height": 296
        },
        "id": "HKrQA1YEmM2o",
        "outputId": "d39bff60-e84b-4ffe-92ca-26aeb491a2f7"
      },
      "execution_count": 58,
      "outputs": [
        {
          "output_type": "execute_result",
          "data": {
            "text/plain": [
              "<sklearn.metrics._plot.roc_curve.RocCurveDisplay at 0x7fce1943d950>"
            ]
          },
          "metadata": {},
          "execution_count": 58
        },
        {
          "output_type": "display_data",
          "data": {
            "text/plain": [
              "<Figure size 432x288 with 1 Axes>"
            ],
            "image/png": "[encoded data removed]"
          },
          "metadata": {
            "needs_background": "light"
          }
        }
      ]
    },
    {
      "cell_type": "code",
      "source": [
        "group_names = ['True Neg','False Pos','False Neg','True Pos']\n",
        "cf_matrix_cb = confusion_matrix(y_test_normal,random_forest_pred)\n",
        "group_counts = [\"{0:0.0f}\".format(value) for value in\n",
        "                cf_matrix_cb.flatten()]\n",
        "group_percentages = [\"{0:.2%}\".format(value) for value in\n",
        "                     cf_matrix_cb.flatten()/np.sum(cf_matrix_cb)]\n",
        "labels = [f\"{v1}\\n{v2}\\n{v3}\" for v1, v2, v3 in\n",
        "          zip(group_names,group_counts,group_percentages)]\n",
        "labels = np.asarray(labels).reshape(2,2)\n",
        "f, ax = plt.subplots(figsize=(7, 6))\n",
        "sns.heatmap(cf_matrix_cb, annot=labels, fmt='')"
      ],
      "metadata": {
        "colab": {
          "base_uri": "https://localhost:8080/",
          "height": 391
        },
        "id": "EuEa3qCLm3yO",
        "outputId": "37d77b3e-dfc2-4ef1-8eed-83355f115686"
      },
      "execution_count": 59,
      "outputs": [
        {
          "output_type": "execute_result",
          "data": {
            "text/plain": [
              "<matplotlib.axes._subplots.AxesSubplot at 0x7fce189ad990>"
            ]
          },
          "metadata": {},
          "execution_count": 59
        },
        {
          "output_type": "display_data",
          "data": {
            "text/plain": [
              "<Figure size 504x432 with 2 Axes>"
            ],
            "image/png": "[encoded data removed]"
          },
          "metadata": {
            "needs_background": "light"
          }
        }
      ]
    },
    {
      "cell_type": "code",
      "source": [
        "imp_df = pd.DataFrame(X_train_normal.columns)\n",
        "imp_df.columns = ['Feature']\n",
        "imp_df[\"Importance\"] = pd.Series(random_forest_cv.best_estimator_.feature_importances_)\n",
        "\n",
        "imp_df.sort_values(by='Importance', ascending=False).head(15)"
      ],
      "metadata": {
        "colab": {
          "base_uri": "https://localhost:8080/",
          "height": 520
        },
        "id": "w6h1cNvBdG4K",
        "outputId": "0a500755-b353-4f6a-f707-6283f2a3001a"
      },
      "execution_count": 60,
      "outputs": [
        {
          "output_type": "execute_result",
          "data": {
            "text/plain": [
              "                    Feature  Importance\n",
              "192                 Доза.15    0.150554\n",
              "191                Статин.1    0.135860\n",
              "199                   АСК.1    0.066483\n",
              "200                 Доза.19    0.065607\n",
              "193                   БАБ.1    0.062482\n",
              "1                   Возраст    0.057447\n",
              "112     Креатинин, мкмоль/л    0.042840\n",
              "145                  Статин    0.036350\n",
              "50                      ГТЛ    0.030937\n",
              "161             Креатинин 2    0.027761\n",
              "194                 Доза.16    0.026620\n",
              "58                 ПМЖВ ЛКА    0.018843\n",
              "60                  Стент.1    0.016441\n",
              "183                  ИАПФ.1    0.016071\n",
              "28   CRUSADE Bleeding Score    0.014822"
            ],
            "text/html": [
              "\n",
              "  <div id=\"df-94fb6825-9ef5-4ec0-a5b5-e81be2e519f0\">\n",
              "    <div class=\"colab-df-container\">\n",
              "      <div>\n",
              "<style scoped>\n",
              "    .dataframe tbody tr th:only-of-type {\n",
              "        vertical-align: middle;\n",
              "    }\n",
              "\n",
              "    .dataframe tbody tr th {\n",
              "        vertical-align: top;\n",
              "    }\n",
              "\n",
              "    .dataframe thead th {\n",
              "        text-align: right;\n",
              "    }\n",
              "</style>\n",
              "<table border=\"1\" class=\"dataframe\">\n",
              "  <thead>\n",
              "    <tr style=\"text-align: right;\">\n",
              "      <th></th>\n",
              "      <th>Feature</th>\n",
              "      <th>Importance</th>\n",
              "    </tr>\n",
              "  </thead>\n",
              "  <tbody>\n",
              "    <tr>\n",
              "      <th>192</th>\n",
              "      <td>Доза.15</td>\n",
              "      <td>0.150554</td>\n",
              "    </tr>\n",
              "    <tr>\n",
              "      <th>191</th>\n",
              "      <td>Статин.1</td>\n",
              "      <td>0.135860</td>\n",
              "    </tr>\n",
              "    <tr>\n",
              "      <th>199</th>\n",
              "      <td>АСК.1</td>\n",
              "      <td>0.066483</td>\n",
              "    </tr>\n",
              "    <tr>\n",
              "      <th>200</th>\n",
              "      <td>Доза.19</td>\n",
              "      <td>0.065607</td>\n",
              "    </tr>\n",
              "    <tr>\n",
              "      <th>193</th>\n",
              "      <td>БАБ.1</td>\n",
              "      <td>0.062482</td>\n",
              "    </tr>\n",
              "    <tr>\n",
              "      <th>1</th>\n",
              "      <td>Возраст</td>\n",
              "      <td>0.057447</td>\n",
              "    </tr>\n",
              "    <tr>\n",
              "      <th>112</th>\n",
              "      <td>Креатинин, мкмоль/л</td>\n",
              "      <td>0.042840</td>\n",
              "    </tr>\n",
              "    <tr>\n",
              "      <th>145</th>\n",
              "      <td>Статин</td>\n",
              "      <td>0.036350</td>\n",
              "    </tr>\n",
              "    <tr>\n",
              "      <th>50</th>\n",
              "      <td>ГТЛ</td>\n",
              "      <td>0.030937</td>\n",
              "    </tr>\n",
              "    <tr>\n",
              "      <th>161</th>\n",
              "      <td>Креатинин 2</td>\n",
              "      <td>0.027761</td>\n",
              "    </tr>\n",
              "    <tr>\n",
              "      <th>194</th>\n",
              "      <td>Доза.16</td>\n",
              "      <td>0.026620</td>\n",
              "    </tr>\n",
              "    <tr>\n",
              "      <th>58</th>\n",
              "      <td>ПМЖВ ЛКА</td>\n",
              "      <td>0.018843</td>\n",
              "    </tr>\n",
              "    <tr>\n",
              "      <th>60</th>\n",
              "      <td>Стент.1</td>\n",
              "      <td>0.016441</td>\n",
              "    </tr>\n",
              "    <tr>\n",
              "      <th>183</th>\n",
              "      <td>ИАПФ.1</td>\n",
              "      <td>0.016071</td>\n",
              "    </tr>\n",
              "    <tr>\n",
              "      <th>28</th>\n",
              "      <td>CRUSADE Bleeding Score</td>\n",
              "      <td>0.014822</td>\n",
              "    </tr>\n",
              "  </tbody>\n",
              "</table>\n",
              "</div>\n",
              "      <button class=\"colab-df-convert\" onclick=\"convertToInteractive('df-94fb6825-9ef5-4ec0-a5b5-e81be2e519f0')\"\n",
              "              title=\"Convert this dataframe to an interactive table.\"\n",
              "              style=\"display:none;\">\n",
              "        \n",
              "  <svg xmlns=\"http://www.w3.org/2000/svg\" height=\"24px\"viewBox=\"0 0 24 24\"\n",
              "       width=\"24px\">\n",
              "    <path d=\"M0 0h24v24H0V0z\" fill=\"none\"/>\n",
              "    <path d=\"M18.56 5.44l.94 2.06.94-2.06 2.06-.94-2.06-.94-.94-2.06-.94 2.06-2.06.94zm-11 1L8.5 8.5l.94-2.06 2.06-.94-2.06-.94L8.5 2.5l-.94 2.06-2.06.94zm10 10l.94 2.06.94-2.06 2.06-.94-2.06-.94-.94-2.06-.94 2.06-2.06.94z\"/><path d=\"M17.41 7.96l-1.37-1.37c-.4-.4-.92-.59-1.43-.59-.52 0-1.04.2-1.43.59L10.3 9.45l-7.72 7.72c-.78.78-.78 2.05 0 2.83L4 21.41c.39.39.9.59 1.41.59.51 0 1.02-.2 1.41-.59l7.78-7.78 2.81-2.81c.8-.78.8-2.07 0-2.86zM5.41 20L4 18.59l7.72-7.72 1.47 1.35L5.41 20z\"/>\n",
              "  </svg>\n",
              "      </button>\n",
              "      \n",
              "  <style>\n",
              "    .colab-df-container {\n",
              "      display:flex;\n",
              "      flex-wrap:wrap;\n",
              "      gap: 12px;\n",
              "    }\n",
              "\n",
              "    .colab-df-convert {\n",
              "      background-color: #E8F0FE;\n",
              "      border: none;\n",
              "      border-radius: 50%;\n",
              "      cursor: pointer;\n",
              "      display: none;\n",
              "      fill: #1967D2;\n",
              "      height: 32px;\n",
              "      padding: 0 0 0 0;\n",
              "      width: 32px;\n",
              "    }\n",
              "\n",
              "    .colab-df-convert:hover {\n",
              "      background-color: #E2EBFA;\n",
              "      box-shadow: 0px 1px 2px rgba(60, 64, 67, 0.3), 0px 1px 3px 1px rgba(60, 64, 67, 0.15);\n",
              "      fill: #174EA6;\n",
              "    }\n",
              "\n",
              "    [theme=dark] .colab-df-convert {\n",
              "      background-color: #3B4455;\n",
              "      fill: #D2E3FC;\n",
              "    }\n",
              "\n",
              "    [theme=dark] .colab-df-convert:hover {\n",
              "      background-color: #434B5C;\n",
              "      box-shadow: 0px 1px 3px 1px rgba(0, 0, 0, 0.15);\n",
              "      filter: drop-shadow(0px 1px 2px rgba(0, 0, 0, 0.3));\n",
              "      fill: #FFFFFF;\n",
              "    }\n",
              "  </style>\n",
              "\n",
              "      <script>\n",
              "        const buttonEl =\n",
              "          document.querySelector('#df-94fb6825-9ef5-4ec0-a5b5-e81be2e519f0 button.colab-df-convert');\n",
              "        buttonEl.style.display =\n",
              "          google.colab.kernel.accessAllowed ? 'block' : 'none';\n",
              "\n",
              "        async function convertToInteractive(key) {\n",
              "          const element = document.querySelector('#df-94fb6825-9ef5-4ec0-a5b5-e81be2e519f0');\n",
              "          const dataTable =\n",
              "            await google.colab.kernel.invokeFunction('convertToInteractive',\n",
              "                                                     [key], {});\n",
              "          if (!dataTable) return;\n",
              "\n",
              "          const docLinkHtml = 'Like what you see? Visit the ' +\n",
              "            '<a target=\"_blank\" href=https://colab.research.google.com/notebooks/data_table.ipynb>data table notebook</a>'\n",
              "            + ' to learn more about interactive tables.';\n",
              "          element.innerHTML = '';\n",
              "          dataTable['output_type'] = 'display_data';\n",
              "          await google.colab.output.renderOutput(dataTable, element);\n",
              "          const docLink = document.createElement('div');\n",
              "          docLink.innerHTML = docLinkHtml;\n",
              "          element.appendChild(docLink);\n",
              "        }\n",
              "      </script>\n",
              "    </div>\n",
              "  </div>\n",
              "  "
            ]
          },
          "metadata": {},
          "execution_count": 60
        }
      ]
    },
    {
      "cell_type": "code",
      "source": [
        "params = {'bootstrap': [True],\n",
        "          'max_depth': [8, None],\n",
        "          'max_features': ['sqrt',0.5],\n",
        "          'min_samples_split': [10,50,100],\n",
        "          'max_samples': [0.7, 0.5],\n",
        "          'n_estimators': [300]}\n",
        "\n",
        "random_forest = RandomForestClassifier(random_state=10)\n",
        "random_forest_cv = GridSearchCV(random_forest, params,cv = 5, scoring = 'f1',verbose=2)\n",
        "random_forest_cv.fit(X_train,y_train)"
      ],
      "metadata": {
        "colab": {
          "base_uri": "https://localhost:8080/"
        },
        "id": "hwGtyI180hja",
        "outputId": "799cbc28-8aec-465e-82fb-8f65cd3cbdc9"
      },
      "execution_count": 77,
      "outputs": [
        {
          "output_type": "stream",
          "name": "stdout",
          "text": [
            "Fitting 5 folds for each of 24 candidates, totalling 120 fits\n",
            "[CV] END bootstrap=True, max_depth=8, max_features=sqrt, max_samples=0.7, min_samples_split=10, n_estimators=300; total time=   0.5s\n",
            "[CV] END bootstrap=True, max_depth=8, max_features=sqrt, max_samples=0.7, min_samples_split=10, n_estimators=300; total time=   0.5s\n",
            "[CV] END bootstrap=True, max_depth=8, max_features=sqrt, max_samples=0.7, min_samples_split=10, n_estimators=300; total time=   0.5s\n",
            "[CV] END bootstrap=True, max_depth=8, max_features=sqrt, max_samples=0.7, min_samples_split=10, n_estimators=300; total time=   0.5s\n",
            "[CV] END bootstrap=True, max_depth=8, max_features=sqrt, max_samples=0.7, min_samples_split=10, n_estimators=300; total time=   0.5s\n",
            "[CV] END bootstrap=True, max_depth=8, max_features=sqrt, max_samples=0.7, min_samples_split=50, n_estimators=300; total time=   0.5s\n",
            "[CV] END bootstrap=True, max_depth=8, max_features=sqrt, max_samples=0.7, min_samples_split=50, n_estimators=300; total time=   0.5s\n",
            "[CV] END bootstrap=True, max_depth=8, max_features=sqrt, max_samples=0.7, min_samples_split=50, n_estimators=300; total time=   0.5s\n",
            "[CV] END bootstrap=True, max_depth=8, max_features=sqrt, max_samples=0.7, min_samples_split=50, n_estimators=300; total time=   0.5s\n",
            "[CV] END bootstrap=True, max_depth=8, max_features=sqrt, max_samples=0.7, min_samples_split=50, n_estimators=300; total time=   0.5s\n",
            "[CV] END bootstrap=True, max_depth=8, max_features=sqrt, max_samples=0.7, min_samples_split=100, n_estimators=300; total time=   0.5s\n",
            "[CV] END bootstrap=True, max_depth=8, max_features=sqrt, max_samples=0.7, min_samples_split=100, n_estimators=300; total time=   0.5s\n",
            "[CV] END bootstrap=True, max_depth=8, max_features=sqrt, max_samples=0.7, min_samples_split=100, n_estimators=300; total time=   0.6s\n",
            "[CV] END bootstrap=True, max_depth=8, max_features=sqrt, max_samples=0.7, min_samples_split=100, n_estimators=300; total time=   0.5s\n",
            "[CV] END bootstrap=True, max_depth=8, max_features=sqrt, max_samples=0.7, min_samples_split=100, n_estimators=300; total time=   0.5s\n",
            "[CV] END bootstrap=True, max_depth=8, max_features=sqrt, max_samples=0.5, min_samples_split=10, n_estimators=300; total time=   0.5s\n",
            "[CV] END bootstrap=True, max_depth=8, max_features=sqrt, max_samples=0.5, min_samples_split=10, n_estimators=300; total time=   0.5s\n",
            "[CV] END bootstrap=True, max_depth=8, max_features=sqrt, max_samples=0.5, min_samples_split=10, n_estimators=300; total time=   0.4s\n",
            "[CV] END bootstrap=True, max_depth=8, max_features=sqrt, max_samples=0.5, min_samples_split=10, n_estimators=300; total time=   0.5s\n",
            "[CV] END bootstrap=True, max_depth=8, max_features=sqrt, max_samples=0.5, min_samples_split=10, n_estimators=300; total time=   0.5s\n",
            "[CV] END bootstrap=True, max_depth=8, max_features=sqrt, max_samples=0.5, min_samples_split=50, n_estimators=300; total time=   0.5s\n",
            "[CV] END bootstrap=True, max_depth=8, max_features=sqrt, max_samples=0.5, min_samples_split=50, n_estimators=300; total time=   0.5s\n",
            "[CV] END bootstrap=True, max_depth=8, max_features=sqrt, max_samples=0.5, min_samples_split=50, n_estimators=300; total time=   0.5s\n",
            "[CV] END bootstrap=True, max_depth=8, max_features=sqrt, max_samples=0.5, min_samples_split=50, n_estimators=300; total time=   0.4s\n",
            "[CV] END bootstrap=True, max_depth=8, max_features=sqrt, max_samples=0.5, min_samples_split=50, n_estimators=300; total time=   0.5s\n",
            "[CV] END bootstrap=True, max_depth=8, max_features=sqrt, max_samples=0.5, min_samples_split=100, n_estimators=300; total time=   0.4s\n",
            "[CV] END bootstrap=True, max_depth=8, max_features=sqrt, max_samples=0.5, min_samples_split=100, n_estimators=300; total time=   0.4s\n",
            "[CV] END bootstrap=True, max_depth=8, max_features=sqrt, max_samples=0.5, min_samples_split=100, n_estimators=300; total time=   0.5s\n",
            "[CV] END bootstrap=True, max_depth=8, max_features=sqrt, max_samples=0.5, min_samples_split=100, n_estimators=300; total time=   0.5s\n",
            "[CV] END bootstrap=True, max_depth=8, max_features=sqrt, max_samples=0.5, min_samples_split=100, n_estimators=300; total time=   0.5s\n",
            "[CV] END bootstrap=True, max_depth=8, max_features=0.5, max_samples=0.7, min_samples_split=10, n_estimators=300; total time=   0.4s\n",
            "[CV] END bootstrap=True, max_depth=8, max_features=0.5, max_samples=0.7, min_samples_split=10, n_estimators=300; total time=   0.5s\n",
            "[CV] END bootstrap=True, max_depth=8, max_features=0.5, max_samples=0.7, min_samples_split=10, n_estimators=300; total time=   0.5s\n",
            "[CV] END bootstrap=True, max_depth=8, max_features=0.5, max_samples=0.7, min_samples_split=10, n_estimators=300; total time=   0.5s\n",
            "[CV] END bootstrap=True, max_depth=8, max_features=0.5, max_samples=0.7, min_samples_split=10, n_estimators=300; total time=   0.5s\n",
            "[CV] END bootstrap=True, max_depth=8, max_features=0.5, max_samples=0.7, min_samples_split=50, n_estimators=300; total time=   0.4s\n",
            "[CV] END bootstrap=True, max_depth=8, max_features=0.5, max_samples=0.7, min_samples_split=50, n_estimators=300; total time=   0.4s\n",
            "[CV] END bootstrap=True, max_depth=8, max_features=0.5, max_samples=0.7, min_samples_split=50, n_estimators=300; total time=   0.4s\n",
            "[CV] END bootstrap=True, max_depth=8, max_features=0.5, max_samples=0.7, min_samples_split=50, n_estimators=300; total time=   0.5s\n",
            "[CV] END bootstrap=True, max_depth=8, max_features=0.5, max_samples=0.7, min_samples_split=50, n_estimators=300; total time=   0.5s\n",
            "[CV] END bootstrap=True, max_depth=8, max_features=0.5, max_samples=0.7, min_samples_split=100, n_estimators=300; total time=   0.4s\n",
            "[CV] END bootstrap=True, max_depth=8, max_features=0.5, max_samples=0.7, min_samples_split=100, n_estimators=300; total time=   0.5s\n",
            "[CV] END bootstrap=True, max_depth=8, max_features=0.5, max_samples=0.7, min_samples_split=100, n_estimators=300; total time=   0.5s\n",
            "[CV] END bootstrap=True, max_depth=8, max_features=0.5, max_samples=0.7, min_samples_split=100, n_estimators=300; total time=   0.5s\n",
            "[CV] END bootstrap=True, max_depth=8, max_features=0.5, max_samples=0.7, min_samples_split=100, n_estimators=300; total time=   0.5s\n",
            "[CV] END bootstrap=True, max_depth=8, max_features=0.5, max_samples=0.5, min_samples_split=10, n_estimators=300; total time=   0.4s\n",
            "[CV] END bootstrap=True, max_depth=8, max_features=0.5, max_samples=0.5, min_samples_split=10, n_estimators=300; total time=   0.5s\n",
            "[CV] END bootstrap=True, max_depth=8, max_features=0.5, max_samples=0.5, min_samples_split=10, n_estimators=300; total time=   0.4s\n",
            "[CV] END bootstrap=True, max_depth=8, max_features=0.5, max_samples=0.5, min_samples_split=10, n_estimators=300; total time=   0.5s\n",
            "[CV] END bootstrap=True, max_depth=8, max_features=0.5, max_samples=0.5, min_samples_split=10, n_estimators=300; total time=   0.5s\n",
            "[CV] END bootstrap=True, max_depth=8, max_features=0.5, max_samples=0.5, min_samples_split=50, n_estimators=300; total time=   0.5s\n",
            "[CV] END bootstrap=True, max_depth=8, max_features=0.5, max_samples=0.5, min_samples_split=50, n_estimators=300; total time=   0.5s\n",
            "[CV] END bootstrap=True, max_depth=8, max_features=0.5, max_samples=0.5, min_samples_split=50, n_estimators=300; total time=   0.5s\n",
            "[CV] END bootstrap=True, max_depth=8, max_features=0.5, max_samples=0.5, min_samples_split=50, n_estimators=300; total time=   0.5s\n",
            "[CV] END bootstrap=True, max_depth=8, max_features=0.5, max_samples=0.5, min_samples_split=50, n_estimators=300; total time=   0.4s\n",
            "[CV] END bootstrap=True, max_depth=8, max_features=0.5, max_samples=0.5, min_samples_split=100, n_estimators=300; total time=   0.5s\n",
            "[CV] END bootstrap=True, max_depth=8, max_features=0.5, max_samples=0.5, min_samples_split=100, n_estimators=300; total time=   0.5s\n",
            "[CV] END bootstrap=True, max_depth=8, max_features=0.5, max_samples=0.5, min_samples_split=100, n_estimators=300; total time=   0.5s\n",
            "[CV] END bootstrap=True, max_depth=8, max_features=0.5, max_samples=0.5, min_samples_split=100, n_estimators=300; total time=   0.4s\n",
            "[CV] END bootstrap=True, max_depth=8, max_features=0.5, max_samples=0.5, min_samples_split=100, n_estimators=300; total time=   0.5s\n",
            "[CV] END bootstrap=True, max_depth=None, max_features=sqrt, max_samples=0.7, min_samples_split=10, n_estimators=300; total time=   0.5s\n",
            "[CV] END bootstrap=True, max_depth=None, max_features=sqrt, max_samples=0.7, min_samples_split=10, n_estimators=300; total time=   0.5s\n",
            "[CV] END bootstrap=True, max_depth=None, max_features=sqrt, max_samples=0.7, min_samples_split=10, n_estimators=300; total time=   0.5s\n",
            "[CV] END bootstrap=True, max_depth=None, max_features=sqrt, max_samples=0.7, min_samples_split=10, n_estimators=300; total time=   0.5s\n",
            "[CV] END bootstrap=True, max_depth=None, max_features=sqrt, max_samples=0.7, min_samples_split=10, n_estimators=300; total time=   0.5s\n",
            "[CV] END bootstrap=True, max_depth=None, max_features=sqrt, max_samples=0.7, min_samples_split=50, n_estimators=300; total time=   0.5s\n",
            "[CV] END bootstrap=True, max_depth=None, max_features=sqrt, max_samples=0.7, min_samples_split=50, n_estimators=300; total time=   0.5s\n",
            "[CV] END bootstrap=True, max_depth=None, max_features=sqrt, max_samples=0.7, min_samples_split=50, n_estimators=300; total time=   0.4s\n",
            "[CV] END bootstrap=True, max_depth=None, max_features=sqrt, max_samples=0.7, min_samples_split=50, n_estimators=300; total time=   0.5s\n",
            "[CV] END bootstrap=True, max_depth=None, max_features=sqrt, max_samples=0.7, min_samples_split=50, n_estimators=300; total time=   0.5s\n",
            "[CV] END bootstrap=True, max_depth=None, max_features=sqrt, max_samples=0.7, min_samples_split=100, n_estimators=300; total time=   0.4s\n",
            "[CV] END bootstrap=True, max_depth=None, max_features=sqrt, max_samples=0.7, min_samples_split=100, n_estimators=300; total time=   0.4s\n",
            "[CV] END bootstrap=True, max_depth=None, max_features=sqrt, max_samples=0.7, min_samples_split=100, n_estimators=300; total time=   0.5s\n",
            "[CV] END bootstrap=True, max_depth=None, max_features=sqrt, max_samples=0.7, min_samples_split=100, n_estimators=300; total time=   0.4s\n",
            "[CV] END bootstrap=True, max_depth=None, max_features=sqrt, max_samples=0.7, min_samples_split=100, n_estimators=300; total time=   0.5s\n",
            "[CV] END bootstrap=True, max_depth=None, max_features=sqrt, max_samples=0.5, min_samples_split=10, n_estimators=300; total time=   0.5s\n",
            "[CV] END bootstrap=True, max_depth=None, max_features=sqrt, max_samples=0.5, min_samples_split=10, n_estimators=300; total time=   0.5s\n",
            "[CV] END bootstrap=True, max_depth=None, max_features=sqrt, max_samples=0.5, min_samples_split=10, n_estimators=300; total time=   0.5s\n",
            "[CV] END bootstrap=True, max_depth=None, max_features=sqrt, max_samples=0.5, min_samples_split=10, n_estimators=300; total time=   0.5s\n",
            "[CV] END bootstrap=True, max_depth=None, max_features=sqrt, max_samples=0.5, min_samples_split=10, n_estimators=300; total time=   0.5s\n",
            "[CV] END bootstrap=True, max_depth=None, max_features=sqrt, max_samples=0.5, min_samples_split=50, n_estimators=300; total time=   0.5s\n",
            "[CV] END bootstrap=True, max_depth=None, max_features=sqrt, max_samples=0.5, min_samples_split=50, n_estimators=300; total time=   0.5s\n",
            "[CV] END bootstrap=True, max_depth=None, max_features=sqrt, max_samples=0.5, min_samples_split=50, n_estimators=300; total time=   0.5s\n",
            "[CV] END bootstrap=True, max_depth=None, max_features=sqrt, max_samples=0.5, min_samples_split=50, n_estimators=300; total time=   0.5s\n",
            "[CV] END bootstrap=True, max_depth=None, max_features=sqrt, max_samples=0.5, min_samples_split=50, n_estimators=300; total time=   0.4s\n",
            "[CV] END bootstrap=True, max_depth=None, max_features=sqrt, max_samples=0.5, min_samples_split=100, n_estimators=300; total time=   0.4s\n",
            "[CV] END bootstrap=True, max_depth=None, max_features=sqrt, max_samples=0.5, min_samples_split=100, n_estimators=300; total time=   0.5s\n",
            "[CV] END bootstrap=True, max_depth=None, max_features=sqrt, max_samples=0.5, min_samples_split=100, n_estimators=300; total time=   0.5s\n",
            "[CV] END bootstrap=True, max_depth=None, max_features=sqrt, max_samples=0.5, min_samples_split=100, n_estimators=300; total time=   0.5s\n",
            "[CV] END bootstrap=True, max_depth=None, max_features=sqrt, max_samples=0.5, min_samples_split=100, n_estimators=300; total time=   0.4s\n",
            "[CV] END bootstrap=True, max_depth=None, max_features=0.5, max_samples=0.7, min_samples_split=10, n_estimators=300; total time=   0.5s\n",
            "[CV] END bootstrap=True, max_depth=None, max_features=0.5, max_samples=0.7, min_samples_split=10, n_estimators=300; total time=   0.5s\n",
            "[CV] END bootstrap=True, max_depth=None, max_features=0.5, max_samples=0.7, min_samples_split=10, n_estimators=300; total time=   0.5s\n",
            "[CV] END bootstrap=True, max_depth=None, max_features=0.5, max_samples=0.7, min_samples_split=10, n_estimators=300; total time=   0.4s\n",
            "[CV] END bootstrap=True, max_depth=None, max_features=0.5, max_samples=0.7, min_samples_split=10, n_estimators=300; total time=   0.5s\n",
            "[CV] END bootstrap=True, max_depth=None, max_features=0.5, max_samples=0.7, min_samples_split=50, n_estimators=300; total time=   0.5s\n",
            "[CV] END bootstrap=True, max_depth=None, max_features=0.5, max_samples=0.7, min_samples_split=50, n_estimators=300; total time=   0.5s\n",
            "[CV] END bootstrap=True, max_depth=None, max_features=0.5, max_samples=0.7, min_samples_split=50, n_estimators=300; total time=   0.5s\n",
            "[CV] END bootstrap=True, max_depth=None, max_features=0.5, max_samples=0.7, min_samples_split=50, n_estimators=300; total time=   0.5s\n",
            "[CV] END bootstrap=True, max_depth=None, max_features=0.5, max_samples=0.7, min_samples_split=50, n_estimators=300; total time=   0.4s\n",
            "[CV] END bootstrap=True, max_depth=None, max_features=0.5, max_samples=0.7, min_samples_split=100, n_estimators=300; total time=   0.4s\n",
            "[CV] END bootstrap=True, max_depth=None, max_features=0.5, max_samples=0.7, min_samples_split=100, n_estimators=300; total time=   0.4s\n",
            "[CV] END bootstrap=True, max_depth=None, max_features=0.5, max_samples=0.7, min_samples_split=100, n_estimators=300; total time=   0.5s\n",
            "[CV] END bootstrap=True, max_depth=None, max_features=0.5, max_samples=0.7, min_samples_split=100, n_estimators=300; total time=   0.4s\n",
            "[CV] END bootstrap=True, max_depth=None, max_features=0.5, max_samples=0.7, min_samples_split=100, n_estimators=300; total time=   0.4s\n",
            "[CV] END bootstrap=True, max_depth=None, max_features=0.5, max_samples=0.5, min_samples_split=10, n_estimators=300; total time=   0.5s\n",
            "[CV] END bootstrap=True, max_depth=None, max_features=0.5, max_samples=0.5, min_samples_split=10, n_estimators=300; total time=   0.4s\n",
            "[CV] END bootstrap=True, max_depth=None, max_features=0.5, max_samples=0.5, min_samples_split=10, n_estimators=300; total time=   0.5s\n",
            "[CV] END bootstrap=True, max_depth=None, max_features=0.5, max_samples=0.5, min_samples_split=10, n_estimators=300; total time=   0.5s\n",
            "[CV] END bootstrap=True, max_depth=None, max_features=0.5, max_samples=0.5, min_samples_split=10, n_estimators=300; total time=   0.5s\n",
            "[CV] END bootstrap=True, max_depth=None, max_features=0.5, max_samples=0.5, min_samples_split=50, n_estimators=300; total time=   0.4s\n",
            "[CV] END bootstrap=True, max_depth=None, max_features=0.5, max_samples=0.5, min_samples_split=50, n_estimators=300; total time=   0.5s\n",
            "[CV] END bootstrap=True, max_depth=None, max_features=0.5, max_samples=0.5, min_samples_split=50, n_estimators=300; total time=   0.4s\n",
            "[CV] END bootstrap=True, max_depth=None, max_features=0.5, max_samples=0.5, min_samples_split=50, n_estimators=300; total time=   0.5s\n",
            "[CV] END bootstrap=True, max_depth=None, max_features=0.5, max_samples=0.5, min_samples_split=50, n_estimators=300; total time=   0.4s\n",
            "[CV] END bootstrap=True, max_depth=None, max_features=0.5, max_samples=0.5, min_samples_split=100, n_estimators=300; total time=   0.4s\n",
            "[CV] END bootstrap=True, max_depth=None, max_features=0.5, max_samples=0.5, min_samples_split=100, n_estimators=300; total time=   0.4s\n",
            "[CV] END bootstrap=True, max_depth=None, max_features=0.5, max_samples=0.5, min_samples_split=100, n_estimators=300; total time=   0.4s\n",
            "[CV] END bootstrap=True, max_depth=None, max_features=0.5, max_samples=0.5, min_samples_split=100, n_estimators=300; total time=   0.5s\n",
            "[CV] END bootstrap=True, max_depth=None, max_features=0.5, max_samples=0.5, min_samples_split=100, n_estimators=300; total time=   0.5s\n"
          ]
        },
        {
          "output_type": "execute_result",
          "data": {
            "text/plain": [
              "GridSearchCV(cv=5, estimator=RandomForestClassifier(random_state=10),\n",
              "             param_grid={'bootstrap': [True], 'max_depth': [8, None],\n",
              "                         'max_features': ['sqrt', 0.5],\n",
              "                         'max_samples': [0.7, 0.5],\n",
              "                         'min_samples_split': [10, 50, 100],\n",
              "                         'n_estimators': [300]},\n",
              "             scoring='f1', verbose=2)"
            ]
          },
          "metadata": {},
          "execution_count": 77
        }
      ]
    },
    {
      "cell_type": "code",
      "source": [
        "random_forest_pred = random_forest_cv.predict(X_test)\n",
        "random_forest_cv.best_params_, random_forest_cv.best_score_"
      ],
      "metadata": {
        "colab": {
          "base_uri": "https://localhost:8080/"
        },
        "id": "k_xjQvYY081d",
        "outputId": "1e4bcae0-fdb6-479e-e75b-1a4777918d62"
      },
      "execution_count": 78,
      "outputs": [
        {
          "output_type": "execute_result",
          "data": {
            "text/plain": [
              "({'bootstrap': True,\n",
              "  'max_depth': 8,\n",
              "  'max_features': 'sqrt',\n",
              "  'max_samples': 0.5,\n",
              "  'min_samples_split': 10,\n",
              "  'n_estimators': 300},\n",
              " 0.6933333333333334)"
            ]
          },
          "metadata": {},
          "execution_count": 78
        }
      ]
    },
    {
      "cell_type": "code",
      "source": [
        "print(accuracy_score(y_test,random_forest_pred), f1_score(y_test, random_forest_cv.predict(X_test)))\n",
        "print(classification_report(y_test,random_forest_pred))"
      ],
      "metadata": {
        "colab": {
          "base_uri": "https://localhost:8080/"
        },
        "id": "CK3dKI7c0-iK",
        "outputId": "6d591af4-b2a3-4e15-e59d-06d92cbb83ea"
      },
      "execution_count": 79,
      "outputs": [
        {
          "output_type": "stream",
          "name": "stdout",
          "text": [
            "0.9433962264150944 0.5714285714285715\n",
            "              precision    recall  f1-score   support\n",
            "\n",
            "           0       0.94      1.00      0.97        48\n",
            "           1       1.00      0.40      0.57         5\n",
            "\n",
            "    accuracy                           0.94        53\n",
            "   macro avg       0.97      0.70      0.77        53\n",
            "weighted avg       0.95      0.94      0.93        53\n",
            "\n"
          ]
        }
      ]
    },
    {
      "cell_type": "code",
      "source": [
        "plot_roc_curve(random_forest_cv, X_test, y_test)"
      ],
      "metadata": {
        "colab": {
          "base_uri": "https://localhost:8080/",
          "height": 296
        },
        "id": "vsq1s9qk4kz6",
        "outputId": "76e785f2-2e9d-421d-e719-b0d78ec5c0a4"
      },
      "execution_count": 80,
      "outputs": [
        {
          "output_type": "execute_result",
          "data": {
            "text/plain": [
              "<sklearn.metrics._plot.roc_curve.RocCurveDisplay at 0x7fce1869ce10>"
            ]
          },
          "metadata": {},
          "execution_count": 80
        },
        {
          "output_type": "display_data",
          "data": {
            "text/plain": [
              "<Figure size 432x288 with 1 Axes>"
            ],
            "image/png": "[encoded data removed]"
          },
          "metadata": {
            "needs_background": "light"
          }
        }
      ]
    },
    {
      "cell_type": "code",
      "source": [
        ""
      ],
      "metadata": {
        "id": "CMNz15kG6eCt"
      },
      "execution_count": null,
      "outputs": []
    },
    {
      "cell_type": "code",
      "source": [
        "params = {'bootstrap': [True],\n",
        "          'max_depth': [8, None],\n",
        "          'max_features': ['sqrt',0.5],\n",
        "          'min_samples_split': [10,50,100],\n",
        "          'max_samples': [0.7, 0.5],\n",
        "          'n_estimators': [300]}\n",
        "\n",
        "random_forest = RandomForestClassifier(random_state=10)\n",
        "random_forest_cv = GridSearchCV(random_forest, params,cv = 5, scoring = 'f1',verbose=2)\n",
        "random_forest_cv.fit(X_train_lasso,y_train_lasso)"
      ],
      "metadata": {
        "colab": {
          "base_uri": "https://localhost:8080/"
        },
        "id": "nfpOV7lh1Jl5",
        "outputId": "7259a9ba-0845-452e-d293-f4f0ba99349b"
      },
      "execution_count": 82,
      "outputs": [
        {
          "output_type": "stream",
          "name": "stdout",
          "text": [
            "Fitting 5 folds for each of 24 candidates, totalling 120 fits\n",
            "[CV] END bootstrap=True, max_depth=8, max_features=sqrt, max_samples=0.7, min_samples_split=10, n_estimators=300; total time=   0.5s\n",
            "[CV] END bootstrap=True, max_depth=8, max_features=sqrt, max_samples=0.7, min_samples_split=10, n_estimators=300; total time=   0.5s\n",
            "[CV] END bootstrap=True, max_depth=8, max_features=sqrt, max_samples=0.7, min_samples_split=10, n_estimators=300; total time=   0.5s\n",
            "[CV] END bootstrap=True, max_depth=8, max_features=sqrt, max_samples=0.7, min_samples_split=10, n_estimators=300; total time=   0.5s\n",
            "[CV] END bootstrap=True, max_depth=8, max_features=sqrt, max_samples=0.7, min_samples_split=10, n_estimators=300; total time=   0.5s\n",
            "[CV] END bootstrap=True, max_depth=8, max_features=sqrt, max_samples=0.7, min_samples_split=50, n_estimators=300; total time=   0.5s\n",
            "[CV] END bootstrap=True, max_depth=8, max_features=sqrt, max_samples=0.7, min_samples_split=50, n_estimators=300; total time=   0.5s\n",
            "[CV] END bootstrap=True, max_depth=8, max_features=sqrt, max_samples=0.7, min_samples_split=50, n_estimators=300; total time=   0.5s\n",
            "[CV] END bootstrap=True, max_depth=8, max_features=sqrt, max_samples=0.7, min_samples_split=50, n_estimators=300; total time=   0.5s\n",
            "[CV] END bootstrap=True, max_depth=8, max_features=sqrt, max_samples=0.7, min_samples_split=50, n_estimators=300; total time=   0.5s\n",
            "[CV] END bootstrap=True, max_depth=8, max_features=sqrt, max_samples=0.7, min_samples_split=100, n_estimators=300; total time=   0.4s\n",
            "[CV] END bootstrap=True, max_depth=8, max_features=sqrt, max_samples=0.7, min_samples_split=100, n_estimators=300; total time=   0.5s\n",
            "[CV] END bootstrap=True, max_depth=8, max_features=sqrt, max_samples=0.7, min_samples_split=100, n_estimators=300; total time=   0.4s\n",
            "[CV] END bootstrap=True, max_depth=8, max_features=sqrt, max_samples=0.7, min_samples_split=100, n_estimators=300; total time=   0.6s\n",
            "[CV] END bootstrap=True, max_depth=8, max_features=sqrt, max_samples=0.7, min_samples_split=100, n_estimators=300; total time=   0.8s\n",
            "[CV] END bootstrap=True, max_depth=8, max_features=sqrt, max_samples=0.5, min_samples_split=10, n_estimators=300; total time=   1.0s\n",
            "[CV] END bootstrap=True, max_depth=8, max_features=sqrt, max_samples=0.5, min_samples_split=10, n_estimators=300; total time=   1.3s\n",
            "[CV] END bootstrap=True, max_depth=8, max_features=sqrt, max_samples=0.5, min_samples_split=10, n_estimators=300; total time=   1.4s\n",
            "[CV] END bootstrap=True, max_depth=8, max_features=sqrt, max_samples=0.5, min_samples_split=10, n_estimators=300; total time=   1.0s\n",
            "[CV] END bootstrap=True, max_depth=8, max_features=sqrt, max_samples=0.5, min_samples_split=10, n_estimators=300; total time=   0.8s\n",
            "[CV] END bootstrap=True, max_depth=8, max_features=sqrt, max_samples=0.5, min_samples_split=50, n_estimators=300; total time=   0.9s\n",
            "[CV] END bootstrap=True, max_depth=8, max_features=sqrt, max_samples=0.5, min_samples_split=50, n_estimators=300; total time=   0.8s\n",
            "[CV] END bootstrap=True, max_depth=8, max_features=sqrt, max_samples=0.5, min_samples_split=50, n_estimators=300; total time=   0.5s\n",
            "[CV] END bootstrap=True, max_depth=8, max_features=sqrt, max_samples=0.5, min_samples_split=50, n_estimators=300; total time=   0.5s\n",
            "[CV] END bootstrap=True, max_depth=8, max_features=sqrt, max_samples=0.5, min_samples_split=50, n_estimators=300; total time=   0.8s\n",
            "[CV] END bootstrap=True, max_depth=8, max_features=sqrt, max_samples=0.5, min_samples_split=100, n_estimators=300; total time=   0.8s\n",
            "[CV] END bootstrap=True, max_depth=8, max_features=sqrt, max_samples=0.5, min_samples_split=100, n_estimators=300; total time=   0.8s\n",
            "[CV] END bootstrap=True, max_depth=8, max_features=sqrt, max_samples=0.5, min_samples_split=100, n_estimators=300; total time=   0.8s\n",
            "[CV] END bootstrap=True, max_depth=8, max_features=sqrt, max_samples=0.5, min_samples_split=100, n_estimators=300; total time=   0.8s\n",
            "[CV] END bootstrap=True, max_depth=8, max_features=sqrt, max_samples=0.5, min_samples_split=100, n_estimators=300; total time=   0.8s\n",
            "[CV] END bootstrap=True, max_depth=8, max_features=0.5, max_samples=0.7, min_samples_split=10, n_estimators=300; total time=   1.3s\n",
            "[CV] END bootstrap=True, max_depth=8, max_features=0.5, max_samples=0.7, min_samples_split=10, n_estimators=300; total time=   1.3s\n",
            "[CV] END bootstrap=True, max_depth=8, max_features=0.5, max_samples=0.7, min_samples_split=10, n_estimators=300; total time=   0.8s\n",
            "[CV] END bootstrap=True, max_depth=8, max_features=0.5, max_samples=0.7, min_samples_split=10, n_estimators=300; total time=   0.5s\n",
            "[CV] END bootstrap=True, max_depth=8, max_features=0.5, max_samples=0.7, min_samples_split=10, n_estimators=300; total time=   0.5s\n",
            "[CV] END bootstrap=True, max_depth=8, max_features=0.5, max_samples=0.7, min_samples_split=50, n_estimators=300; total time=   0.5s\n",
            "[CV] END bootstrap=True, max_depth=8, max_features=0.5, max_samples=0.7, min_samples_split=50, n_estimators=300; total time=   0.5s\n",
            "[CV] END bootstrap=True, max_depth=8, max_features=0.5, max_samples=0.7, min_samples_split=50, n_estimators=300; total time=   0.5s\n",
            "[CV] END bootstrap=True, max_depth=8, max_features=0.5, max_samples=0.7, min_samples_split=50, n_estimators=300; total time=   0.5s\n",
            "[CV] END bootstrap=True, max_depth=8, max_features=0.5, max_samples=0.7, min_samples_split=50, n_estimators=300; total time=   0.5s\n",
            "[CV] END bootstrap=True, max_depth=8, max_features=0.5, max_samples=0.7, min_samples_split=100, n_estimators=300; total time=   0.4s\n",
            "[CV] END bootstrap=True, max_depth=8, max_features=0.5, max_samples=0.7, min_samples_split=100, n_estimators=300; total time=   0.5s\n",
            "[CV] END bootstrap=True, max_depth=8, max_features=0.5, max_samples=0.7, min_samples_split=100, n_estimators=300; total time=   0.4s\n",
            "[CV] END bootstrap=True, max_depth=8, max_features=0.5, max_samples=0.7, min_samples_split=100, n_estimators=300; total time=   0.4s\n",
            "[CV] END bootstrap=True, max_depth=8, max_features=0.5, max_samples=0.7, min_samples_split=100, n_estimators=300; total time=   0.5s\n",
            "[CV] END bootstrap=True, max_depth=8, max_features=0.5, max_samples=0.5, min_samples_split=10, n_estimators=300; total time=   0.5s\n",
            "[CV] END bootstrap=True, max_depth=8, max_features=0.5, max_samples=0.5, min_samples_split=10, n_estimators=300; total time=   0.5s\n",
            "[CV] END bootstrap=True, max_depth=8, max_features=0.5, max_samples=0.5, min_samples_split=10, n_estimators=300; total time=   0.5s\n",
            "[CV] END bootstrap=True, max_depth=8, max_features=0.5, max_samples=0.5, min_samples_split=10, n_estimators=300; total time=   0.5s\n",
            "[CV] END bootstrap=True, max_depth=8, max_features=0.5, max_samples=0.5, min_samples_split=10, n_estimators=300; total time=   0.5s\n",
            "[CV] END bootstrap=True, max_depth=8, max_features=0.5, max_samples=0.5, min_samples_split=50, n_estimators=300; total time=   0.5s\n",
            "[CV] END bootstrap=True, max_depth=8, max_features=0.5, max_samples=0.5, min_samples_split=50, n_estimators=300; total time=   0.5s\n",
            "[CV] END bootstrap=True, max_depth=8, max_features=0.5, max_samples=0.5, min_samples_split=50, n_estimators=300; total time=   0.5s\n",
            "[CV] END bootstrap=True, max_depth=8, max_features=0.5, max_samples=0.5, min_samples_split=50, n_estimators=300; total time=   0.5s\n",
            "[CV] END bootstrap=True, max_depth=8, max_features=0.5, max_samples=0.5, min_samples_split=50, n_estimators=300; total time=   0.5s\n",
            "[CV] END bootstrap=True, max_depth=8, max_features=0.5, max_samples=0.5, min_samples_split=100, n_estimators=300; total time=   0.4s\n",
            "[CV] END bootstrap=True, max_depth=8, max_features=0.5, max_samples=0.5, min_samples_split=100, n_estimators=300; total time=   0.5s\n",
            "[CV] END bootstrap=True, max_depth=8, max_features=0.5, max_samples=0.5, min_samples_split=100, n_estimators=300; total time=   0.5s\n",
            "[CV] END bootstrap=True, max_depth=8, max_features=0.5, max_samples=0.5, min_samples_split=100, n_estimators=300; total time=   0.5s\n",
            "[CV] END bootstrap=True, max_depth=8, max_features=0.5, max_samples=0.5, min_samples_split=100, n_estimators=300; total time=   0.4s\n",
            "[CV] END bootstrap=True, max_depth=None, max_features=sqrt, max_samples=0.7, min_samples_split=10, n_estimators=300; total time=   0.5s\n",
            "[CV] END bootstrap=True, max_depth=None, max_features=sqrt, max_samples=0.7, min_samples_split=10, n_estimators=300; total time=   0.5s\n",
            "[CV] END bootstrap=True, max_depth=None, max_features=sqrt, max_samples=0.7, min_samples_split=10, n_estimators=300; total time=   0.5s\n",
            "[CV] END bootstrap=True, max_depth=None, max_features=sqrt, max_samples=0.7, min_samples_split=10, n_estimators=300; total time=   0.5s\n",
            "[CV] END bootstrap=True, max_depth=None, max_features=sqrt, max_samples=0.7, min_samples_split=10, n_estimators=300; total time=   0.5s\n",
            "[CV] END bootstrap=True, max_depth=None, max_features=sqrt, max_samples=0.7, min_samples_split=50, n_estimators=300; total time=   0.5s\n",
            "[CV] END bootstrap=True, max_depth=None, max_features=sqrt, max_samples=0.7, min_samples_split=50, n_estimators=300; total time=   0.5s\n",
            "[CV] END bootstrap=True, max_depth=None, max_features=sqrt, max_samples=0.7, min_samples_split=50, n_estimators=300; total time=   0.5s\n",
            "[CV] END bootstrap=True, max_depth=None, max_features=sqrt, max_samples=0.7, min_samples_split=50, n_estimators=300; total time=   0.5s\n",
            "[CV] END bootstrap=True, max_depth=None, max_features=sqrt, max_samples=0.7, min_samples_split=50, n_estimators=300; total time=   0.5s\n",
            "[CV] END bootstrap=True, max_depth=None, max_features=sqrt, max_samples=0.7, min_samples_split=100, n_estimators=300; total time=   0.5s\n",
            "[CV] END bootstrap=True, max_depth=None, max_features=sqrt, max_samples=0.7, min_samples_split=100, n_estimators=300; total time=   0.5s\n",
            "[CV] END bootstrap=True, max_depth=None, max_features=sqrt, max_samples=0.7, min_samples_split=100, n_estimators=300; total time=   0.4s\n",
            "[CV] END bootstrap=True, max_depth=None, max_features=sqrt, max_samples=0.7, min_samples_split=100, n_estimators=300; total time=   0.5s\n",
            "[CV] END bootstrap=True, max_depth=None, max_features=sqrt, max_samples=0.7, min_samples_split=100, n_estimators=300; total time=   0.5s\n",
            "[CV] END bootstrap=True, max_depth=None, max_features=sqrt, max_samples=0.5, min_samples_split=10, n_estimators=300; total time=   0.5s\n",
            "[CV] END bootstrap=True, max_depth=None, max_features=sqrt, max_samples=0.5, min_samples_split=10, n_estimators=300; total time=   0.5s\n",
            "[CV] END bootstrap=True, max_depth=None, max_features=sqrt, max_samples=0.5, min_samples_split=10, n_estimators=300; total time=   0.5s\n",
            "[CV] END bootstrap=True, max_depth=None, max_features=sqrt, max_samples=0.5, min_samples_split=10, n_estimators=300; total time=   0.5s\n",
            "[CV] END bootstrap=True, max_depth=None, max_features=sqrt, max_samples=0.5, min_samples_split=10, n_estimators=300; total time=   0.5s\n",
            "[CV] END bootstrap=True, max_depth=None, max_features=sqrt, max_samples=0.5, min_samples_split=50, n_estimators=300; total time=   0.5s\n",
            "[CV] END bootstrap=True, max_depth=None, max_features=sqrt, max_samples=0.5, min_samples_split=50, n_estimators=300; total time=   0.5s\n",
            "[CV] END bootstrap=True, max_depth=None, max_features=sqrt, max_samples=0.5, min_samples_split=50, n_estimators=300; total time=   0.5s\n",
            "[CV] END bootstrap=True, max_depth=None, max_features=sqrt, max_samples=0.5, min_samples_split=50, n_estimators=300; total time=   0.5s\n",
            "[CV] END bootstrap=True, max_depth=None, max_features=sqrt, max_samples=0.5, min_samples_split=50, n_estimators=300; total time=   0.5s\n",
            "[CV] END bootstrap=True, max_depth=None, max_features=sqrt, max_samples=0.5, min_samples_split=100, n_estimators=300; total time=   0.4s\n",
            "[CV] END bootstrap=True, max_depth=None, max_features=sqrt, max_samples=0.5, min_samples_split=100, n_estimators=300; total time=   0.5s\n",
            "[CV] END bootstrap=True, max_depth=None, max_features=sqrt, max_samples=0.5, min_samples_split=100, n_estimators=300; total time=   0.5s\n",
            "[CV] END bootstrap=True, max_depth=None, max_features=sqrt, max_samples=0.5, min_samples_split=100, n_estimators=300; total time=   0.5s\n",
            "[CV] END bootstrap=True, max_depth=None, max_features=sqrt, max_samples=0.5, min_samples_split=100, n_estimators=300; total time=   0.5s\n",
            "[CV] END bootstrap=True, max_depth=None, max_features=0.5, max_samples=0.7, min_samples_split=10, n_estimators=300; total time=   0.5s\n",
            "[CV] END bootstrap=True, max_depth=None, max_features=0.5, max_samples=0.7, min_samples_split=10, n_estimators=300; total time=   0.5s\n",
            "[CV] END bootstrap=True, max_depth=None, max_features=0.5, max_samples=0.7, min_samples_split=10, n_estimators=300; total time=   0.5s\n",
            "[CV] END bootstrap=True, max_depth=None, max_features=0.5, max_samples=0.7, min_samples_split=10, n_estimators=300; total time=   0.5s\n",
            "[CV] END bootstrap=True, max_depth=None, max_features=0.5, max_samples=0.7, min_samples_split=10, n_estimators=300; total time=   0.5s\n",
            "[CV] END bootstrap=True, max_depth=None, max_features=0.5, max_samples=0.7, min_samples_split=50, n_estimators=300; total time=   0.5s\n",
            "[CV] END bootstrap=True, max_depth=None, max_features=0.5, max_samples=0.7, min_samples_split=50, n_estimators=300; total time=   0.5s\n",
            "[CV] END bootstrap=True, max_depth=None, max_features=0.5, max_samples=0.7, min_samples_split=50, n_estimators=300; total time=   0.5s\n",
            "[CV] END bootstrap=True, max_depth=None, max_features=0.5, max_samples=0.7, min_samples_split=50, n_estimators=300; total time=   0.5s\n",
            "[CV] END bootstrap=True, max_depth=None, max_features=0.5, max_samples=0.7, min_samples_split=50, n_estimators=300; total time=   0.5s\n",
            "[CV] END bootstrap=True, max_depth=None, max_features=0.5, max_samples=0.7, min_samples_split=100, n_estimators=300; total time=   0.5s\n",
            "[CV] END bootstrap=True, max_depth=None, max_features=0.5, max_samples=0.7, min_samples_split=100, n_estimators=300; total time=   0.5s\n",
            "[CV] END bootstrap=True, max_depth=None, max_features=0.5, max_samples=0.7, min_samples_split=100, n_estimators=300; total time=   0.5s\n",
            "[CV] END bootstrap=True, max_depth=None, max_features=0.5, max_samples=0.7, min_samples_split=100, n_estimators=300; total time=   0.5s\n",
            "[CV] END bootstrap=True, max_depth=None, max_features=0.5, max_samples=0.7, min_samples_split=100, n_estimators=300; total time=   0.5s\n",
            "[CV] END bootstrap=True, max_depth=None, max_features=0.5, max_samples=0.5, min_samples_split=10, n_estimators=300; total time=   0.5s\n",
            "[CV] END bootstrap=True, max_depth=None, max_features=0.5, max_samples=0.5, min_samples_split=10, n_estimators=300; total time=   0.5s\n",
            "[CV] END bootstrap=True, max_depth=None, max_features=0.5, max_samples=0.5, min_samples_split=10, n_estimators=300; total time=   0.5s\n",
            "[CV] END bootstrap=True, max_depth=None, max_features=0.5, max_samples=0.5, min_samples_split=10, n_estimators=300; total time=   0.5s\n",
            "[CV] END bootstrap=True, max_depth=None, max_features=0.5, max_samples=0.5, min_samples_split=10, n_estimators=300; total time=   0.5s\n",
            "[CV] END bootstrap=True, max_depth=None, max_features=0.5, max_samples=0.5, min_samples_split=50, n_estimators=300; total time=   0.5s\n",
            "[CV] END bootstrap=True, max_depth=None, max_features=0.5, max_samples=0.5, min_samples_split=50, n_estimators=300; total time=   0.5s\n",
            "[CV] END bootstrap=True, max_depth=None, max_features=0.5, max_samples=0.5, min_samples_split=50, n_estimators=300; total time=   0.5s\n",
            "[CV] END bootstrap=True, max_depth=None, max_features=0.5, max_samples=0.5, min_samples_split=50, n_estimators=300; total time=   0.5s\n",
            "[CV] END bootstrap=True, max_depth=None, max_features=0.5, max_samples=0.5, min_samples_split=50, n_estimators=300; total time=   0.5s\n",
            "[CV] END bootstrap=True, max_depth=None, max_features=0.5, max_samples=0.5, min_samples_split=100, n_estimators=300; total time=   0.5s\n",
            "[CV] END bootstrap=True, max_depth=None, max_features=0.5, max_samples=0.5, min_samples_split=100, n_estimators=300; total time=   0.5s\n",
            "[CV] END bootstrap=True, max_depth=None, max_features=0.5, max_samples=0.5, min_samples_split=100, n_estimators=300; total time=   0.5s\n",
            "[CV] END bootstrap=True, max_depth=None, max_features=0.5, max_samples=0.5, min_samples_split=100, n_estimators=300; total time=   0.5s\n",
            "[CV] END bootstrap=True, max_depth=None, max_features=0.5, max_samples=0.5, min_samples_split=100, n_estimators=300; total time=   0.5s\n"
          ]
        },
        {
          "output_type": "execute_result",
          "data": {
            "text/plain": [
              "GridSearchCV(cv=5, estimator=RandomForestClassifier(random_state=10),\n",
              "             param_grid={'bootstrap': [True], 'max_depth': [8, None],\n",
              "                         'max_features': ['sqrt', 0.5],\n",
              "                         'max_samples': [0.7, 0.5],\n",
              "                         'min_samples_split': [10, 50, 100],\n",
              "                         'n_estimators': [300]},\n",
              "             scoring='f1', verbose=2)"
            ]
          },
          "metadata": {},
          "execution_count": 82
        }
      ]
    },
    {
      "cell_type": "code",
      "source": [
        "random_forest_pred = random_forest_cv.predict(X_test_lasso)\n",
        "random_forest_cv.best_params_, random_forest_cv.best_score_"
      ],
      "metadata": {
        "colab": {
          "base_uri": "https://localhost:8080/"
        },
        "id": "dtd17qa41ZBr",
        "outputId": "6b7d23e2-246b-4c16-8ba9-bc238d3fc603"
      },
      "execution_count": 83,
      "outputs": [
        {
          "output_type": "execute_result",
          "data": {
            "text/plain": [
              "({'bootstrap': True,\n",
              "  'max_depth': 8,\n",
              "  'max_features': 0.5,\n",
              "  'max_samples': 0.7,\n",
              "  'min_samples_split': 10,\n",
              "  'n_estimators': 300},\n",
              " 0.4)"
            ]
          },
          "metadata": {},
          "execution_count": 83
        }
      ]
    },
    {
      "cell_type": "code",
      "source": [
        "print(accuracy_score(y_test_lasso,random_forest_pred), f1_score(y_test_lasso, random_forest_cv.predict(X_test_lasso)))\n",
        "print(classification_report(y_test_lasso,random_forest_pred))"
      ],
      "metadata": {
        "colab": {
          "base_uri": "https://localhost:8080/"
        },
        "id": "9rL3SE5U1bBx",
        "outputId": "ceab8520-366b-4019-ad27-3c9fb4b730e5"
      },
      "execution_count": 84,
      "outputs": [
        {
          "output_type": "stream",
          "name": "stdout",
          "text": [
            "0.9622641509433962 0.8\n",
            "              precision    recall  f1-score   support\n",
            "\n",
            "           0       0.96      1.00      0.98        47\n",
            "           1       1.00      0.67      0.80         6\n",
            "\n",
            "    accuracy                           0.96        53\n",
            "   macro avg       0.98      0.83      0.89        53\n",
            "weighted avg       0.96      0.96      0.96        53\n",
            "\n"
          ]
        }
      ]
    },
    {
      "cell_type": "code",
      "source": [
        "plot_roc_curve(random_forest_cv, X_test_lasso, y_test_lasso)"
      ],
      "metadata": {
        "colab": {
          "base_uri": "https://localhost:8080/",
          "height": 296
        },
        "id": "WkzsclBC3w1w",
        "outputId": "2a373deb-9517-407a-bb48-87ed89447d6b"
      },
      "execution_count": 85,
      "outputs": [
        {
          "output_type": "execute_result",
          "data": {
            "text/plain": [
              "<sklearn.metrics._plot.roc_curve.RocCurveDisplay at 0x7fce18a138d0>"
            ]
          },
          "metadata": {},
          "execution_count": 85
        },
        {
          "output_type": "display_data",
          "data": {
            "text/plain": [
              "<Figure size 432x288 with 1 Axes>"
            ],
            "image/png": "[encoded data removed]"
          },
          "metadata": {
            "needs_background": "light"
          }
        }
      ]
    },
    {
      "cell_type": "code",
      "source": [
        "group_names = ['True Neg','False Pos','False Neg','True Pos']\n",
        "cf_matrix_cb = confusion_matrix(y_test_lasso,random_forest_cv.predict(X_test_lasso))\n",
        "group_counts = [\"{0:0.0f}\".format(value) for value in\n",
        "                cf_matrix_cb.flatten()]\n",
        "group_percentages = [\"{0:.2%}\".format(value) for value in\n",
        "                     cf_matrix_cb.flatten()/np.sum(cf_matrix_cb)]\n",
        "labels = [f\"{v1}\\n{v2}\\n{v3}\" for v1, v2, v3 in\n",
        "          zip(group_names,group_counts,group_percentages)]\n",
        "labels = np.asarray(labels).reshape(2,2)\n",
        "f, ax = plt.subplots(figsize=(7, 6))\n",
        "sns.heatmap(cf_matrix_cb, annot=labels, fmt='')"
      ],
      "metadata": {
        "colab": {
          "base_uri": "https://localhost:8080/",
          "height": 391
        },
        "id": "IogTe73J6jAG",
        "outputId": "55f5dcaa-2704-4cf5-e537-51f6480d0c20"
      },
      "execution_count": 86,
      "outputs": [
        {
          "output_type": "execute_result",
          "data": {
            "text/plain": [
              "<matplotlib.axes._subplots.AxesSubplot at 0x7fce184ea610>"
            ]
          },
          "metadata": {},
          "execution_count": 86
        },
        {
          "output_type": "display_data",
          "data": {
            "text/plain": [
              "<Figure size 504x432 with 2 Axes>"
            ],
            "image/png": "[encoded data removed]"
          },
          "metadata": {
            "needs_background": "light"
          }
        }
      ]
    },
    {
      "cell_type": "markdown",
      "source": [
        "### Без указания дозировки"
      ],
      "metadata": {
        "id": "GK9fK2TNeMwN"
      }
    },
    {
      "cell_type": "code",
      "source": [
        "dose = []\n",
        "for column in X_normal.columns:\n",
        "  if 'Доза' in column:\n",
        "    dose.append(column)"
      ],
      "metadata": {
        "id": "pxe8PvmzeKzl"
      },
      "execution_count": 61,
      "outputs": []
    },
    {
      "cell_type": "code",
      "source": [
        "X_new = X_normal.drop(columns=dose)\n",
        "y_new = y_normal\n",
        "X_train_new, X_test_new, y_train_new, y_test_new = train_test_split(X_new,y_new,test_size=0.2, random_state=17,shuffle=True)"
      ],
      "metadata": {
        "id": "JW4jOutWezmP"
      },
      "execution_count": 62,
      "outputs": []
    },
    {
      "cell_type": "code",
      "source": [
        "params = {'bootstrap': [True],\n",
        "          'max_depth': [8, None],\n",
        "          'max_features': ['sqrt',0.5],\n",
        "          'min_samples_split': [10,50,100],\n",
        "          'max_samples': [0.7, 0.5],\n",
        "          'n_estimators': [300]}\n",
        "\n",
        "random_forest = RandomForestClassifier(random_state=10)\n",
        "random_forest_cv = GridSearchCV(random_forest, params,cv = 5, scoring = 'f1',verbose=2)\n",
        "random_forest_cv.fit(X_train_new,y_train_new)"
      ],
      "metadata": {
        "colab": {
          "base_uri": "https://localhost:8080/"
        },
        "id": "yUpMEbnffvRl",
        "outputId": "f70cdaa7-f3aa-4123-ccf5-a2abac6f2f6d"
      },
      "execution_count": 64,
      "outputs": [
        {
          "output_type": "stream",
          "name": "stdout",
          "text": [
            "Fitting 5 folds for each of 24 candidates, totalling 120 fits\n",
            "[CV] END bootstrap=True, max_depth=8, max_features=sqrt, max_samples=0.7, min_samples_split=10, n_estimators=300; total time=   0.5s\n",
            "[CV] END bootstrap=True, max_depth=8, max_features=sqrt, max_samples=0.7, min_samples_split=10, n_estimators=300; total time=   0.5s\n",
            "[CV] END bootstrap=True, max_depth=8, max_features=sqrt, max_samples=0.7, min_samples_split=10, n_estimators=300; total time=   0.5s\n",
            "[CV] END bootstrap=True, max_depth=8, max_features=sqrt, max_samples=0.7, min_samples_split=10, n_estimators=300; total time=   0.5s\n",
            "[CV] END bootstrap=True, max_depth=8, max_features=sqrt, max_samples=0.7, min_samples_split=10, n_estimators=300; total time=   0.5s\n",
            "[CV] END bootstrap=True, max_depth=8, max_features=sqrt, max_samples=0.7, min_samples_split=50, n_estimators=300; total time=   0.5s\n",
            "[CV] END bootstrap=True, max_depth=8, max_features=sqrt, max_samples=0.7, min_samples_split=50, n_estimators=300; total time=   0.5s\n",
            "[CV] END bootstrap=True, max_depth=8, max_features=sqrt, max_samples=0.7, min_samples_split=50, n_estimators=300; total time=   0.5s\n",
            "[CV] END bootstrap=True, max_depth=8, max_features=sqrt, max_samples=0.7, min_samples_split=50, n_estimators=300; total time=   0.5s\n",
            "[CV] END bootstrap=True, max_depth=8, max_features=sqrt, max_samples=0.7, min_samples_split=50, n_estimators=300; total time=   0.5s\n",
            "[CV] END bootstrap=True, max_depth=8, max_features=sqrt, max_samples=0.7, min_samples_split=100, n_estimators=300; total time=   0.5s\n",
            "[CV] END bootstrap=True, max_depth=8, max_features=sqrt, max_samples=0.7, min_samples_split=100, n_estimators=300; total time=   0.5s\n",
            "[CV] END bootstrap=True, max_depth=8, max_features=sqrt, max_samples=0.7, min_samples_split=100, n_estimators=300; total time=   0.5s\n",
            "[CV] END bootstrap=True, max_depth=8, max_features=sqrt, max_samples=0.7, min_samples_split=100, n_estimators=300; total time=   0.5s\n",
            "[CV] END bootstrap=True, max_depth=8, max_features=sqrt, max_samples=0.7, min_samples_split=100, n_estimators=300; total time=   0.4s\n",
            "[CV] END bootstrap=True, max_depth=8, max_features=sqrt, max_samples=0.5, min_samples_split=10, n_estimators=300; total time=   0.5s\n",
            "[CV] END bootstrap=True, max_depth=8, max_features=sqrt, max_samples=0.5, min_samples_split=10, n_estimators=300; total time=   1.1s\n",
            "[CV] END bootstrap=True, max_depth=8, max_features=sqrt, max_samples=0.5, min_samples_split=10, n_estimators=300; total time=   1.3s\n",
            "[CV] END bootstrap=True, max_depth=8, max_features=sqrt, max_samples=0.5, min_samples_split=10, n_estimators=300; total time=   1.5s\n",
            "[CV] END bootstrap=True, max_depth=8, max_features=sqrt, max_samples=0.5, min_samples_split=10, n_estimators=300; total time=   1.2s\n",
            "[CV] END bootstrap=True, max_depth=8, max_features=sqrt, max_samples=0.5, min_samples_split=50, n_estimators=300; total time=   1.1s\n",
            "[CV] END bootstrap=True, max_depth=8, max_features=sqrt, max_samples=0.5, min_samples_split=50, n_estimators=300; total time=   1.0s\n",
            "[CV] END bootstrap=True, max_depth=8, max_features=sqrt, max_samples=0.5, min_samples_split=50, n_estimators=300; total time=   1.1s\n",
            "[CV] END bootstrap=True, max_depth=8, max_features=sqrt, max_samples=0.5, min_samples_split=50, n_estimators=300; total time=   0.9s\n",
            "[CV] END bootstrap=True, max_depth=8, max_features=sqrt, max_samples=0.5, min_samples_split=50, n_estimators=300; total time=   0.9s\n",
            "[CV] END bootstrap=True, max_depth=8, max_features=sqrt, max_samples=0.5, min_samples_split=100, n_estimators=300; total time=   1.0s\n",
            "[CV] END bootstrap=True, max_depth=8, max_features=sqrt, max_samples=0.5, min_samples_split=100, n_estimators=300; total time=   1.3s\n",
            "[CV] END bootstrap=True, max_depth=8, max_features=sqrt, max_samples=0.5, min_samples_split=100, n_estimators=300; total time=   0.6s\n",
            "[CV] END bootstrap=True, max_depth=8, max_features=sqrt, max_samples=0.5, min_samples_split=100, n_estimators=300; total time=   0.9s\n",
            "[CV] END bootstrap=True, max_depth=8, max_features=sqrt, max_samples=0.5, min_samples_split=100, n_estimators=300; total time=   1.0s\n",
            "[CV] END bootstrap=True, max_depth=8, max_features=0.5, max_samples=0.7, min_samples_split=10, n_estimators=300; total time=   1.4s\n",
            "[CV] END bootstrap=True, max_depth=8, max_features=0.5, max_samples=0.7, min_samples_split=10, n_estimators=300; total time=   1.3s\n",
            "[CV] END bootstrap=True, max_depth=8, max_features=0.5, max_samples=0.7, min_samples_split=10, n_estimators=300; total time=   1.2s\n",
            "[CV] END bootstrap=True, max_depth=8, max_features=0.5, max_samples=0.7, min_samples_split=10, n_estimators=300; total time=   1.4s\n",
            "[CV] END bootstrap=True, max_depth=8, max_features=0.5, max_samples=0.7, min_samples_split=10, n_estimators=300; total time=   2.0s\n",
            "[CV] END bootstrap=True, max_depth=8, max_features=0.5, max_samples=0.7, min_samples_split=50, n_estimators=300; total time=   1.8s\n",
            "[CV] END bootstrap=True, max_depth=8, max_features=0.5, max_samples=0.7, min_samples_split=50, n_estimators=300; total time=   1.6s\n",
            "[CV] END bootstrap=True, max_depth=8, max_features=0.5, max_samples=0.7, min_samples_split=50, n_estimators=300; total time=   1.2s\n",
            "[CV] END bootstrap=True, max_depth=8, max_features=0.5, max_samples=0.7, min_samples_split=50, n_estimators=300; total time=   1.5s\n",
            "[CV] END bootstrap=True, max_depth=8, max_features=0.5, max_samples=0.7, min_samples_split=50, n_estimators=300; total time=   2.0s\n",
            "[CV] END bootstrap=True, max_depth=8, max_features=0.5, max_samples=0.7, min_samples_split=100, n_estimators=300; total time=   1.3s\n",
            "[CV] END bootstrap=True, max_depth=8, max_features=0.5, max_samples=0.7, min_samples_split=100, n_estimators=300; total time=   1.5s\n",
            "[CV] END bootstrap=True, max_depth=8, max_features=0.5, max_samples=0.7, min_samples_split=100, n_estimators=300; total time=   1.6s\n",
            "[CV] END bootstrap=True, max_depth=8, max_features=0.5, max_samples=0.7, min_samples_split=100, n_estimators=300; total time=   1.2s\n",
            "[CV] END bootstrap=True, max_depth=8, max_features=0.5, max_samples=0.7, min_samples_split=100, n_estimators=300; total time=   1.3s\n",
            "[CV] END bootstrap=True, max_depth=8, max_features=0.5, max_samples=0.5, min_samples_split=10, n_estimators=300; total time=   1.4s\n",
            "[CV] END bootstrap=True, max_depth=8, max_features=0.5, max_samples=0.5, min_samples_split=10, n_estimators=300; total time=   1.2s\n",
            "[CV] END bootstrap=True, max_depth=8, max_features=0.5, max_samples=0.5, min_samples_split=10, n_estimators=300; total time=   1.4s\n",
            "[CV] END bootstrap=True, max_depth=8, max_features=0.5, max_samples=0.5, min_samples_split=10, n_estimators=300; total time=   0.6s\n",
            "[CV] END bootstrap=True, max_depth=8, max_features=0.5, max_samples=0.5, min_samples_split=10, n_estimators=300; total time=   0.6s\n",
            "[CV] END bootstrap=True, max_depth=8, max_features=0.5, max_samples=0.5, min_samples_split=50, n_estimators=300; total time=   0.6s\n",
            "[CV] END bootstrap=True, max_depth=8, max_features=0.5, max_samples=0.5, min_samples_split=50, n_estimators=300; total time=   0.6s\n",
            "[CV] END bootstrap=True, max_depth=8, max_features=0.5, max_samples=0.5, min_samples_split=50, n_estimators=300; total time=   0.6s\n",
            "[CV] END bootstrap=True, max_depth=8, max_features=0.5, max_samples=0.5, min_samples_split=50, n_estimators=300; total time=   0.6s\n",
            "[CV] END bootstrap=True, max_depth=8, max_features=0.5, max_samples=0.5, min_samples_split=50, n_estimators=300; total time=   0.5s\n",
            "[CV] END bootstrap=True, max_depth=8, max_features=0.5, max_samples=0.5, min_samples_split=100, n_estimators=300; total time=   0.5s\n",
            "[CV] END bootstrap=True, max_depth=8, max_features=0.5, max_samples=0.5, min_samples_split=100, n_estimators=300; total time=   0.5s\n",
            "[CV] END bootstrap=True, max_depth=8, max_features=0.5, max_samples=0.5, min_samples_split=100, n_estimators=300; total time=   0.5s\n",
            "[CV] END bootstrap=True, max_depth=8, max_features=0.5, max_samples=0.5, min_samples_split=100, n_estimators=300; total time=   0.4s\n",
            "[CV] END bootstrap=True, max_depth=8, max_features=0.5, max_samples=0.5, min_samples_split=100, n_estimators=300; total time=   0.5s\n",
            "[CV] END bootstrap=True, max_depth=None, max_features=sqrt, max_samples=0.7, min_samples_split=10, n_estimators=300; total time=   0.5s\n",
            "[CV] END bootstrap=True, max_depth=None, max_features=sqrt, max_samples=0.7, min_samples_split=10, n_estimators=300; total time=   0.5s\n",
            "[CV] END bootstrap=True, max_depth=None, max_features=sqrt, max_samples=0.7, min_samples_split=10, n_estimators=300; total time=   0.6s\n",
            "[CV] END bootstrap=True, max_depth=None, max_features=sqrt, max_samples=0.7, min_samples_split=10, n_estimators=300; total time=   0.5s\n",
            "[CV] END bootstrap=True, max_depth=None, max_features=sqrt, max_samples=0.7, min_samples_split=10, n_estimators=300; total time=   0.5s\n",
            "[CV] END bootstrap=True, max_depth=None, max_features=sqrt, max_samples=0.7, min_samples_split=50, n_estimators=300; total time=   0.5s\n",
            "[CV] END bootstrap=True, max_depth=None, max_features=sqrt, max_samples=0.7, min_samples_split=50, n_estimators=300; total time=   0.5s\n",
            "[CV] END bootstrap=True, max_depth=None, max_features=sqrt, max_samples=0.7, min_samples_split=50, n_estimators=300; total time=   0.5s\n",
            "[CV] END bootstrap=True, max_depth=None, max_features=sqrt, max_samples=0.7, min_samples_split=50, n_estimators=300; total time=   0.5s\n",
            "[CV] END bootstrap=True, max_depth=None, max_features=sqrt, max_samples=0.7, min_samples_split=50, n_estimators=300; total time=   0.5s\n",
            "[CV] END bootstrap=True, max_depth=None, max_features=sqrt, max_samples=0.7, min_samples_split=100, n_estimators=300; total time=   0.4s\n",
            "[CV] END bootstrap=True, max_depth=None, max_features=sqrt, max_samples=0.7, min_samples_split=100, n_estimators=300; total time=   0.5s\n",
            "[CV] END bootstrap=True, max_depth=None, max_features=sqrt, max_samples=0.7, min_samples_split=100, n_estimators=300; total time=   0.5s\n",
            "[CV] END bootstrap=True, max_depth=None, max_features=sqrt, max_samples=0.7, min_samples_split=100, n_estimators=300; total time=   0.5s\n",
            "[CV] END bootstrap=True, max_depth=None, max_features=sqrt, max_samples=0.7, min_samples_split=100, n_estimators=300; total time=   0.4s\n",
            "[CV] END bootstrap=True, max_depth=None, max_features=sqrt, max_samples=0.5, min_samples_split=10, n_estimators=300; total time=   0.5s\n",
            "[CV] END bootstrap=True, max_depth=None, max_features=sqrt, max_samples=0.5, min_samples_split=10, n_estimators=300; total time=   0.5s\n",
            "[CV] END bootstrap=True, max_depth=None, max_features=sqrt, max_samples=0.5, min_samples_split=10, n_estimators=300; total time=   0.5s\n",
            "[CV] END bootstrap=True, max_depth=None, max_features=sqrt, max_samples=0.5, min_samples_split=10, n_estimators=300; total time=   0.5s\n",
            "[CV] END bootstrap=True, max_depth=None, max_features=sqrt, max_samples=0.5, min_samples_split=10, n_estimators=300; total time=   0.5s\n",
            "[CV] END bootstrap=True, max_depth=None, max_features=sqrt, max_samples=0.5, min_samples_split=50, n_estimators=300; total time=   0.5s\n",
            "[CV] END bootstrap=True, max_depth=None, max_features=sqrt, max_samples=0.5, min_samples_split=50, n_estimators=300; total time=   0.5s\n",
            "[CV] END bootstrap=True, max_depth=None, max_features=sqrt, max_samples=0.5, min_samples_split=50, n_estimators=300; total time=   0.5s\n",
            "[CV] END bootstrap=True, max_depth=None, max_features=sqrt, max_samples=0.5, min_samples_split=50, n_estimators=300; total time=   0.5s\n",
            "[CV] END bootstrap=True, max_depth=None, max_features=sqrt, max_samples=0.5, min_samples_split=50, n_estimators=300; total time=   0.5s\n",
            "[CV] END bootstrap=True, max_depth=None, max_features=sqrt, max_samples=0.5, min_samples_split=100, n_estimators=300; total time=   0.5s\n",
            "[CV] END bootstrap=True, max_depth=None, max_features=sqrt, max_samples=0.5, min_samples_split=100, n_estimators=300; total time=   0.5s\n",
            "[CV] END bootstrap=True, max_depth=None, max_features=sqrt, max_samples=0.5, min_samples_split=100, n_estimators=300; total time=   0.5s\n",
            "[CV] END bootstrap=True, max_depth=None, max_features=sqrt, max_samples=0.5, min_samples_split=100, n_estimators=300; total time=   0.4s\n",
            "[CV] END bootstrap=True, max_depth=None, max_features=sqrt, max_samples=0.5, min_samples_split=100, n_estimators=300; total time=   0.5s\n",
            "[CV] END bootstrap=True, max_depth=None, max_features=0.5, max_samples=0.7, min_samples_split=10, n_estimators=300; total time=   0.6s\n",
            "[CV] END bootstrap=True, max_depth=None, max_features=0.5, max_samples=0.7, min_samples_split=10, n_estimators=300; total time=   0.7s\n",
            "[CV] END bootstrap=True, max_depth=None, max_features=0.5, max_samples=0.7, min_samples_split=10, n_estimators=300; total time=   0.7s\n",
            "[CV] END bootstrap=True, max_depth=None, max_features=0.5, max_samples=0.7, min_samples_split=10, n_estimators=300; total time=   0.7s\n",
            "[CV] END bootstrap=True, max_depth=None, max_features=0.5, max_samples=0.7, min_samples_split=10, n_estimators=300; total time=   0.7s\n",
            "[CV] END bootstrap=True, max_depth=None, max_features=0.5, max_samples=0.7, min_samples_split=50, n_estimators=300; total time=   0.6s\n",
            "[CV] END bootstrap=True, max_depth=None, max_features=0.5, max_samples=0.7, min_samples_split=50, n_estimators=300; total time=   0.7s\n",
            "[CV] END bootstrap=True, max_depth=None, max_features=0.5, max_samples=0.7, min_samples_split=50, n_estimators=300; total time=   0.7s\n",
            "[CV] END bootstrap=True, max_depth=None, max_features=0.5, max_samples=0.7, min_samples_split=50, n_estimators=300; total time=   0.7s\n",
            "[CV] END bootstrap=True, max_depth=None, max_features=0.5, max_samples=0.7, min_samples_split=50, n_estimators=300; total time=   0.7s\n",
            "[CV] END bootstrap=True, max_depth=None, max_features=0.5, max_samples=0.7, min_samples_split=100, n_estimators=300; total time=   0.5s\n",
            "[CV] END bootstrap=True, max_depth=None, max_features=0.5, max_samples=0.7, min_samples_split=100, n_estimators=300; total time=   0.5s\n",
            "[CV] END bootstrap=True, max_depth=None, max_features=0.5, max_samples=0.7, min_samples_split=100, n_estimators=300; total time=   0.5s\n",
            "[CV] END bootstrap=True, max_depth=None, max_features=0.5, max_samples=0.7, min_samples_split=100, n_estimators=300; total time=   0.5s\n",
            "[CV] END bootstrap=True, max_depth=None, max_features=0.5, max_samples=0.7, min_samples_split=100, n_estimators=300; total time=   0.5s\n",
            "[CV] END bootstrap=True, max_depth=None, max_features=0.5, max_samples=0.5, min_samples_split=10, n_estimators=300; total time=   0.6s\n",
            "[CV] END bootstrap=True, max_depth=None, max_features=0.5, max_samples=0.5, min_samples_split=10, n_estimators=300; total time=   0.7s\n",
            "[CV] END bootstrap=True, max_depth=None, max_features=0.5, max_samples=0.5, min_samples_split=10, n_estimators=300; total time=   0.6s\n",
            "[CV] END bootstrap=True, max_depth=None, max_features=0.5, max_samples=0.5, min_samples_split=10, n_estimators=300; total time=   0.6s\n",
            "[CV] END bootstrap=True, max_depth=None, max_features=0.5, max_samples=0.5, min_samples_split=10, n_estimators=300; total time=   0.6s\n",
            "[CV] END bootstrap=True, max_depth=None, max_features=0.5, max_samples=0.5, min_samples_split=50, n_estimators=300; total time=   0.6s\n",
            "[CV] END bootstrap=True, max_depth=None, max_features=0.5, max_samples=0.5, min_samples_split=50, n_estimators=300; total time=   0.6s\n",
            "[CV] END bootstrap=True, max_depth=None, max_features=0.5, max_samples=0.5, min_samples_split=50, n_estimators=300; total time=   0.6s\n",
            "[CV] END bootstrap=True, max_depth=None, max_features=0.5, max_samples=0.5, min_samples_split=50, n_estimators=300; total time=   0.7s\n",
            "[CV] END bootstrap=True, max_depth=None, max_features=0.5, max_samples=0.5, min_samples_split=50, n_estimators=300; total time=   0.6s\n",
            "[CV] END bootstrap=True, max_depth=None, max_features=0.5, max_samples=0.5, min_samples_split=100, n_estimators=300; total time=   0.5s\n",
            "[CV] END bootstrap=True, max_depth=None, max_features=0.5, max_samples=0.5, min_samples_split=100, n_estimators=300; total time=   0.6s\n",
            "[CV] END bootstrap=True, max_depth=None, max_features=0.5, max_samples=0.5, min_samples_split=100, n_estimators=300; total time=   0.6s\n",
            "[CV] END bootstrap=True, max_depth=None, max_features=0.5, max_samples=0.5, min_samples_split=100, n_estimators=300; total time=   0.8s\n",
            "[CV] END bootstrap=True, max_depth=None, max_features=0.5, max_samples=0.5, min_samples_split=100, n_estimators=300; total time=   0.7s\n"
          ]
        },
        {
          "output_type": "execute_result",
          "data": {
            "text/plain": [
              "GridSearchCV(cv=5, estimator=RandomForestClassifier(random_state=10),\n",
              "             param_grid={'bootstrap': [True], 'max_depth': [8, None],\n",
              "                         'max_features': ['sqrt', 0.5],\n",
              "                         'max_samples': [0.7, 0.5],\n",
              "                         'min_samples_split': [10, 50, 100],\n",
              "                         'n_estimators': [300]},\n",
              "             scoring='f1', verbose=2)"
            ]
          },
          "metadata": {},
          "execution_count": 64
        }
      ]
    },
    {
      "cell_type": "code",
      "source": [
        "random_forest_pred = random_forest_cv.predict(X_test_new)\n",
        "random_forest_cv.best_params_, random_forest_cv.best_score_"
      ],
      "metadata": {
        "colab": {
          "base_uri": "https://localhost:8080/"
        },
        "id": "GzNgpn9lf3ec",
        "outputId": "024a4682-19d3-4d8f-fa7b-5ff321f2ed40"
      },
      "execution_count": 65,
      "outputs": [
        {
          "output_type": "execute_result",
          "data": {
            "text/plain": [
              "({'bootstrap': True,\n",
              "  'max_depth': 8,\n",
              "  'max_features': 0.5,\n",
              "  'max_samples': 0.7,\n",
              "  'min_samples_split': 10,\n",
              "  'n_estimators': 300},\n",
              " 0.3)"
            ]
          },
          "metadata": {},
          "execution_count": 65
        }
      ]
    },
    {
      "cell_type": "code",
      "source": [
        "print(accuracy_score(y_test_new,random_forest_pred), f1_score(y_test_new, random_forest_cv.predict(X_test_new)))\n",
        "print(classification_report(y_test_new,random_forest_pred))"
      ],
      "metadata": {
        "colab": {
          "base_uri": "https://localhost:8080/"
        },
        "id": "Qlq-Arpjf7nw",
        "outputId": "d74bb40b-1779-4842-a533-74c7c968ce33"
      },
      "execution_count": 66,
      "outputs": [
        {
          "output_type": "stream",
          "name": "stdout",
          "text": [
            "0.9056603773584906 0.2857142857142857\n",
            "              precision    recall  f1-score   support\n",
            "\n",
            "           0       0.90      1.00      0.95        47\n",
            "           1       1.00      0.17      0.29         6\n",
            "\n",
            "    accuracy                           0.91        53\n",
            "   macro avg       0.95      0.58      0.62        53\n",
            "weighted avg       0.91      0.91      0.87        53\n",
            "\n"
          ]
        }
      ]
    },
    {
      "cell_type": "code",
      "source": [
        "imp_df = pd.DataFrame(X_train_new.columns)\n",
        "imp_df.columns = ['Feature']\n",
        "imp_df[\"Importance\"] = pd.Series(random_forest_cv.best_estimator_.feature_importances_)\n",
        "\n",
        "imp_df.sort_values(by='Importance', ascending=False).head(15)"
      ],
      "metadata": {
        "colab": {
          "base_uri": "https://localhost:8080/",
          "height": 520
        },
        "id": "TlRrdfRPgKbS",
        "outputId": "5a63f5eb-ad3f-4d70-a382-c18fea7bc009"
      },
      "execution_count": 67,
      "outputs": [
        {
          "output_type": "execute_result",
          "data": {
            "text/plain": [
              "                   Feature  Importance\n",
              "176               Статин.1    0.175602\n",
              "180                  АСК.1    0.148987\n",
              "7                      ЧСС    0.073613\n",
              "141                 Статин    0.048093\n",
              "172                 ИАПФ.1    0.040636\n",
              "115               АСТ, U/L    0.035034\n",
              "95              Шунт к ПКА    0.032724\n",
              "177                  БАБ.1    0.031073\n",
              "174                  АМР.1    0.028109\n",
              "113                СКФ EPI    0.022223\n",
              "142                    БАБ    0.021460\n",
              "50                     ГТЛ    0.020913\n",
              "3                      Вес    0.020092\n",
              "32   пост-ВЧ-кровоизлияние    0.019652\n",
              "146                    АСК    0.019489"
            ],
            "text/html": [
              "\n",
              "  <div id=\"df-5ee8160f-10fa-4a96-bed0-40daec259a78\">\n",
              "    <div class=\"colab-df-container\">\n",
              "      <div>\n",
              "<style scoped>\n",
              "    .dataframe tbody tr th:only-of-type {\n",
              "        vertical-align: middle;\n",
              "    }\n",
              "\n",
              "    .dataframe tbody tr th {\n",
              "        vertical-align: top;\n",
              "    }\n",
              "\n",
              "    .dataframe thead th {\n",
              "        text-align: right;\n",
              "    }\n",
              "</style>\n",
              "<table border=\"1\" class=\"dataframe\">\n",
              "  <thead>\n",
              "    <tr style=\"text-align: right;\">\n",
              "      <th></th>\n",
              "      <th>Feature</th>\n",
              "      <th>Importance</th>\n",
              "    </tr>\n",
              "  </thead>\n",
              "  <tbody>\n",
              "    <tr>\n",
              "      <th>176</th>\n",
              "      <td>Статин.1</td>\n",
              "      <td>0.175602</td>\n",
              "    </tr>\n",
              "    <tr>\n",
              "      <th>180</th>\n",
              "      <td>АСК.1</td>\n",
              "      <td>0.148987</td>\n",
              "    </tr>\n",
              "    <tr>\n",
              "      <th>7</th>\n",
              "      <td>ЧСС</td>\n",
              "      <td>0.073613</td>\n",
              "    </tr>\n",
              "    <tr>\n",
              "      <th>141</th>\n",
              "      <td>Статин</td>\n",
              "      <td>0.048093</td>\n",
              "    </tr>\n",
              "    <tr>\n",
              "      <th>172</th>\n",
              "      <td>ИАПФ.1</td>\n",
              "      <td>0.040636</td>\n",
              "    </tr>\n",
              "    <tr>\n",
              "      <th>115</th>\n",
              "      <td>АСТ, U/L</td>\n",
              "      <td>0.035034</td>\n",
              "    </tr>\n",
              "    <tr>\n",
              "      <th>95</th>\n",
              "      <td>Шунт к ПКА</td>\n",
              "      <td>0.032724</td>\n",
              "    </tr>\n",
              "    <tr>\n",
              "      <th>177</th>\n",
              "      <td>БАБ.1</td>\n",
              "      <td>0.031073</td>\n",
              "    </tr>\n",
              "    <tr>\n",
              "      <th>174</th>\n",
              "      <td>АМР.1</td>\n",
              "      <td>0.028109</td>\n",
              "    </tr>\n",
              "    <tr>\n",
              "      <th>113</th>\n",
              "      <td>СКФ EPI</td>\n",
              "      <td>0.022223</td>\n",
              "    </tr>\n",
              "    <tr>\n",
              "      <th>142</th>\n",
              "      <td>БАБ</td>\n",
              "      <td>0.021460</td>\n",
              "    </tr>\n",
              "    <tr>\n",
              "      <th>50</th>\n",
              "      <td>ГТЛ</td>\n",
              "      <td>0.020913</td>\n",
              "    </tr>\n",
              "    <tr>\n",
              "      <th>3</th>\n",
              "      <td>Вес</td>\n",
              "      <td>0.020092</td>\n",
              "    </tr>\n",
              "    <tr>\n",
              "      <th>32</th>\n",
              "      <td>пост-ВЧ-кровоизлияние</td>\n",
              "      <td>0.019652</td>\n",
              "    </tr>\n",
              "    <tr>\n",
              "      <th>146</th>\n",
              "      <td>АСК</td>\n",
              "      <td>0.019489</td>\n",
              "    </tr>\n",
              "  </tbody>\n",
              "</table>\n",
              "</div>\n",
              "      <button class=\"colab-df-convert\" onclick=\"convertToInteractive('df-5ee8160f-10fa-4a96-bed0-40daec259a78')\"\n",
              "              title=\"Convert this dataframe to an interactive table.\"\n",
              "              style=\"display:none;\">\n",
              "        \n",
              "  <svg xmlns=\"http://www.w3.org/2000/svg\" height=\"24px\"viewBox=\"0 0 24 24\"\n",
              "       width=\"24px\">\n",
              "    <path d=\"M0 0h24v24H0V0z\" fill=\"none\"/>\n",
              "    <path d=\"M18.56 5.44l.94 2.06.94-2.06 2.06-.94-2.06-.94-.94-2.06-.94 2.06-2.06.94zm-11 1L8.5 8.5l.94-2.06 2.06-.94-2.06-.94L8.5 2.5l-.94 2.06-2.06.94zm10 10l.94 2.06.94-2.06 2.06-.94-2.06-.94-.94-2.06-.94 2.06-2.06.94z\"/><path d=\"M17.41 7.96l-1.37-1.37c-.4-.4-.92-.59-1.43-.59-.52 0-1.04.2-1.43.59L10.3 9.45l-7.72 7.72c-.78.78-.78 2.05 0 2.83L4 21.41c.39.39.9.59 1.41.59.51 0 1.02-.2 1.41-.59l7.78-7.78 2.81-2.81c.8-.78.8-2.07 0-2.86zM5.41 20L4 18.59l7.72-7.72 1.47 1.35L5.41 20z\"/>\n",
              "  </svg>\n",
              "      </button>\n",
              "      \n",
              "  <style>\n",
              "    .colab-df-container {\n",
              "      display:flex;\n",
              "      flex-wrap:wrap;\n",
              "      gap: 12px;\n",
              "    }\n",
              "\n",
              "    .colab-df-convert {\n",
              "      background-color: #E8F0FE;\n",
              "      border: none;\n",
              "      border-radius: 50%;\n",
              "      cursor: pointer;\n",
              "      display: none;\n",
              "      fill: #1967D2;\n",
              "      height: 32px;\n",
              "      padding: 0 0 0 0;\n",
              "      width: 32px;\n",
              "    }\n",
              "\n",
              "    .colab-df-convert:hover {\n",
              "      background-color: #E2EBFA;\n",
              "      box-shadow: 0px 1px 2px rgba(60, 64, 67, 0.3), 0px 1px 3px 1px rgba(60, 64, 67, 0.15);\n",
              "      fill: #174EA6;\n",
              "    }\n",
              "\n",
              "    [theme=dark] .colab-df-convert {\n",
              "      background-color: #3B4455;\n",
              "      fill: #D2E3FC;\n",
              "    }\n",
              "\n",
              "    [theme=dark] .colab-df-convert:hover {\n",
              "      background-color: #434B5C;\n",
              "      box-shadow: 0px 1px 3px 1px rgba(0, 0, 0, 0.15);\n",
              "      filter: drop-shadow(0px 1px 2px rgba(0, 0, 0, 0.3));\n",
              "      fill: #FFFFFF;\n",
              "    }\n",
              "  </style>\n",
              "\n",
              "      <script>\n",
              "        const buttonEl =\n",
              "          document.querySelector('#df-5ee8160f-10fa-4a96-bed0-40daec259a78 button.colab-df-convert');\n",
              "        buttonEl.style.display =\n",
              "          google.colab.kernel.accessAllowed ? 'block' : 'none';\n",
              "\n",
              "        async function convertToInteractive(key) {\n",
              "          const element = document.querySelector('#df-5ee8160f-10fa-4a96-bed0-40daec259a78');\n",
              "          const dataTable =\n",
              "            await google.colab.kernel.invokeFunction('convertToInteractive',\n",
              "                                                     [key], {});\n",
              "          if (!dataTable) return;\n",
              "\n",
              "          const docLinkHtml = 'Like what you see? Visit the ' +\n",
              "            '<a target=\"_blank\" href=https://colab.research.google.com/notebooks/data_table.ipynb>data table notebook</a>'\n",
              "            + ' to learn more about interactive tables.';\n",
              "          element.innerHTML = '';\n",
              "          dataTable['output_type'] = 'display_data';\n",
              "          await google.colab.output.renderOutput(dataTable, element);\n",
              "          const docLink = document.createElement('div');\n",
              "          docLink.innerHTML = docLinkHtml;\n",
              "          element.appendChild(docLink);\n",
              "        }\n",
              "      </script>\n",
              "    </div>\n",
              "  </div>\n",
              "  "
            ]
          },
          "metadata": {},
          "execution_count": 67
        }
      ]
    }
  ]
}