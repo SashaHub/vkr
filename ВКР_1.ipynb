{
  "nbformat": 4,
  "nbformat_minor": 0,
  "metadata": {
    "colab": {
      "name": "ВКР_1",
      "provenance": [],
      "collapsed_sections": [],
      "authorship_tag": "ABX9TyMBOitMDd+Gd2ilmzStWygc"
    },
    "kernelspec": {
      "name": "python3",
      "display_name": "Python 3"
    },
    "language_info": {
      "name": "python"
    }
  },
  "cells": [
    {
      "cell_type": "code",
      "source": [
        "import warnings\n",
        "warnings.filterwarnings('ignore')\n",
        "%pylab inline"
      ],
      "metadata": {
        "id": "sL9zYcAnIomr",
        "colab": {
          "base_uri": "https://localhost:8080/"
        },
        "outputId": "acdb916d-bbf5-429e-d1de-689200382074"
      },
      "execution_count": null,
      "outputs": [
        {
          "output_type": "stream",
          "name": "stdout",
          "text": [
            "Populating the interactive namespace from numpy and matplotlib\n"
          ]
        }
      ]
    },
    {
      "cell_type": "code",
      "metadata": {
        "id": "sFQz7r1c4gN7"
      },
      "source": [
        "import pandas as pd\n",
        "import numpy as np\n",
        "import matplotlib.pyplot as plt\n",
        "import seaborn as sns"
      ],
      "execution_count": null,
      "outputs": []
    },
    {
      "cell_type": "code",
      "metadata": {
        "id": "qsTCRfZtx__d"
      },
      "source": [
        "#import os\n",
        "#from google.colab import drive\n",
        "\n",
        " \n",
        "#drive.mount('/content/drive')\n",
        " \n",
        "#data_root = '/content/drive/MyDrive/Colab Notebooks/cardio'\n",
        "#os.environ['DATA_ROOT'] = data_root\n",
        " \n",
        "#print('Data root:', data_root)\n",
        "#print('Data root contains:', os.listdir(data_root))"
      ],
      "execution_count": null,
      "outputs": []
    },
    {
      "cell_type": "markdown",
      "metadata": {
        "id": "UsUi8zIHwiwo"
      },
      "source": [
        "# Чтение, обработка и исследование данных"
      ]
    },
    {
      "cell_type": "code",
      "metadata": {
        "colab": {
          "base_uri": "https://localhost:8080/",
          "height": 206
        },
        "id": "mBrmPq2I0tcb",
        "outputId": "390061dc-212f-420f-9243-ee87da708748"
      },
      "source": [
        "data = pd.read_csv('cardio_train.csv',sep = r';')\n",
        "data = data.drop(columns='id')\n",
        "data.head(5)"
      ],
      "execution_count": null,
      "outputs": [
        {
          "output_type": "execute_result",
          "data": {
            "text/plain": [
              "     age  gender  height  weight  ap_hi  ap_lo  cholesterol  gluc  smoke  \\\n",
              "0  18393       2     168    62.0    110     80            1     1      0   \n",
              "1  20228       1     156    85.0    140     90            3     1      0   \n",
              "2  18857       1     165    64.0    130     70            3     1      0   \n",
              "3  17623       2     169    82.0    150    100            1     1      0   \n",
              "4  17474       1     156    56.0    100     60            1     1      0   \n",
              "\n",
              "   alco  active  cardio  \n",
              "0     0       1       0  \n",
              "1     0       1       1  \n",
              "2     0       0       1  \n",
              "3     0       1       1  \n",
              "4     0       0       0  "
            ],
            "text/html": [
              "\n",
              "  <div id=\"df-7d77489d-6e79-48bf-b009-f5f821d64f16\">\n",
              "    <div class=\"colab-df-container\">\n",
              "      <div>\n",
              "<style scoped>\n",
              "    .dataframe tbody tr th:only-of-type {\n",
              "        vertical-align: middle;\n",
              "    }\n",
              "\n",
              "    .dataframe tbody tr th {\n",
              "        vertical-align: top;\n",
              "    }\n",
              "\n",
              "    .dataframe thead th {\n",
              "        text-align: right;\n",
              "    }\n",
              "</style>\n",
              "<table border=\"1\" class=\"dataframe\">\n",
              "  <thead>\n",
              "    <tr style=\"text-align: right;\">\n",
              "      <th></th>\n",
              "      <th>age</th>\n",
              "      <th>gender</th>\n",
              "      <th>height</th>\n",
              "      <th>weight</th>\n",
              "      <th>ap_hi</th>\n",
              "      <th>ap_lo</th>\n",
              "      <th>cholesterol</th>\n",
              "      <th>gluc</th>\n",
              "      <th>smoke</th>\n",
              "      <th>alco</th>\n",
              "      <th>active</th>\n",
              "      <th>cardio</th>\n",
              "    </tr>\n",
              "  </thead>\n",
              "  <tbody>\n",
              "    <tr>\n",
              "      <th>0</th>\n",
              "      <td>18393</td>\n",
              "      <td>2</td>\n",
              "      <td>168</td>\n",
              "      <td>62.0</td>\n",
              "      <td>110</td>\n",
              "      <td>80</td>\n",
              "      <td>1</td>\n",
              "      <td>1</td>\n",
              "      <td>0</td>\n",
              "      <td>0</td>\n",
              "      <td>1</td>\n",
              "      <td>0</td>\n",
              "    </tr>\n",
              "    <tr>\n",
              "      <th>1</th>\n",
              "      <td>20228</td>\n",
              "      <td>1</td>\n",
              "      <td>156</td>\n",
              "      <td>85.0</td>\n",
              "      <td>140</td>\n",
              "      <td>90</td>\n",
              "      <td>3</td>\n",
              "      <td>1</td>\n",
              "      <td>0</td>\n",
              "      <td>0</td>\n",
              "      <td>1</td>\n",
              "      <td>1</td>\n",
              "    </tr>\n",
              "    <tr>\n",
              "      <th>2</th>\n",
              "      <td>18857</td>\n",
              "      <td>1</td>\n",
              "      <td>165</td>\n",
              "      <td>64.0</td>\n",
              "      <td>130</td>\n",
              "      <td>70</td>\n",
              "      <td>3</td>\n",
              "      <td>1</td>\n",
              "      <td>0</td>\n",
              "      <td>0</td>\n",
              "      <td>0</td>\n",
              "      <td>1</td>\n",
              "    </tr>\n",
              "    <tr>\n",
              "      <th>3</th>\n",
              "      <td>17623</td>\n",
              "      <td>2</td>\n",
              "      <td>169</td>\n",
              "      <td>82.0</td>\n",
              "      <td>150</td>\n",
              "      <td>100</td>\n",
              "      <td>1</td>\n",
              "      <td>1</td>\n",
              "      <td>0</td>\n",
              "      <td>0</td>\n",
              "      <td>1</td>\n",
              "      <td>1</td>\n",
              "    </tr>\n",
              "    <tr>\n",
              "      <th>4</th>\n",
              "      <td>17474</td>\n",
              "      <td>1</td>\n",
              "      <td>156</td>\n",
              "      <td>56.0</td>\n",
              "      <td>100</td>\n",
              "      <td>60</td>\n",
              "      <td>1</td>\n",
              "      <td>1</td>\n",
              "      <td>0</td>\n",
              "      <td>0</td>\n",
              "      <td>0</td>\n",
              "      <td>0</td>\n",
              "    </tr>\n",
              "  </tbody>\n",
              "</table>\n",
              "</div>\n",
              "      <button class=\"colab-df-convert\" onclick=\"convertToInteractive('df-7d77489d-6e79-48bf-b009-f5f821d64f16')\"\n",
              "              title=\"Convert this dataframe to an interactive table.\"\n",
              "              style=\"display:none;\">\n",
              "        \n",
              "  <svg xmlns=\"http://www.w3.org/2000/svg\" height=\"24px\"viewBox=\"0 0 24 24\"\n",
              "       width=\"24px\">\n",
              "    <path d=\"M0 0h24v24H0V0z\" fill=\"none\"/>\n",
              "    <path d=\"M18.56 5.44l.94 2.06.94-2.06 2.06-.94-2.06-.94-.94-2.06-.94 2.06-2.06.94zm-11 1L8.5 8.5l.94-2.06 2.06-.94-2.06-.94L8.5 2.5l-.94 2.06-2.06.94zm10 10l.94 2.06.94-2.06 2.06-.94-2.06-.94-.94-2.06-.94 2.06-2.06.94z\"/><path d=\"M17.41 7.96l-1.37-1.37c-.4-.4-.92-.59-1.43-.59-.52 0-1.04.2-1.43.59L10.3 9.45l-7.72 7.72c-.78.78-.78 2.05 0 2.83L4 21.41c.39.39.9.59 1.41.59.51 0 1.02-.2 1.41-.59l7.78-7.78 2.81-2.81c.8-.78.8-2.07 0-2.86zM5.41 20L4 18.59l7.72-7.72 1.47 1.35L5.41 20z\"/>\n",
              "  </svg>\n",
              "      </button>\n",
              "      \n",
              "  <style>\n",
              "    .colab-df-container {\n",
              "      display:flex;\n",
              "      flex-wrap:wrap;\n",
              "      gap: 12px;\n",
              "    }\n",
              "\n",
              "    .colab-df-convert {\n",
              "      background-color: #E8F0FE;\n",
              "      border: none;\n",
              "      border-radius: 50%;\n",
              "      cursor: pointer;\n",
              "      display: none;\n",
              "      fill: #1967D2;\n",
              "      height: 32px;\n",
              "      padding: 0 0 0 0;\n",
              "      width: 32px;\n",
              "    }\n",
              "\n",
              "    .colab-df-convert:hover {\n",
              "      background-color: #E2EBFA;\n",
              "      box-shadow: 0px 1px 2px rgba(60, 64, 67, 0.3), 0px 1px 3px 1px rgba(60, 64, 67, 0.15);\n",
              "      fill: #174EA6;\n",
              "    }\n",
              "\n",
              "    [theme=dark] .colab-df-convert {\n",
              "      background-color: #3B4455;\n",
              "      fill: #D2E3FC;\n",
              "    }\n",
              "\n",
              "    [theme=dark] .colab-df-convert:hover {\n",
              "      background-color: #434B5C;\n",
              "      box-shadow: 0px 1px 3px 1px rgba(0, 0, 0, 0.15);\n",
              "      filter: drop-shadow(0px 1px 2px rgba(0, 0, 0, 0.3));\n",
              "      fill: #FFFFFF;\n",
              "    }\n",
              "  </style>\n",
              "\n",
              "      <script>\n",
              "        const buttonEl =\n",
              "          document.querySelector('#df-7d77489d-6e79-48bf-b009-f5f821d64f16 button.colab-df-convert');\n",
              "        buttonEl.style.display =\n",
              "          google.colab.kernel.accessAllowed ? 'block' : 'none';\n",
              "\n",
              "        async function convertToInteractive(key) {\n",
              "          const element = document.querySelector('#df-7d77489d-6e79-48bf-b009-f5f821d64f16');\n",
              "          const dataTable =\n",
              "            await google.colab.kernel.invokeFunction('convertToInteractive',\n",
              "                                                     [key], {});\n",
              "          if (!dataTable) return;\n",
              "\n",
              "          const docLinkHtml = 'Like what you see? Visit the ' +\n",
              "            '<a target=\"_blank\" href=https://colab.research.google.com/notebooks/data_table.ipynb>data table notebook</a>'\n",
              "            + ' to learn more about interactive tables.';\n",
              "          element.innerHTML = '';\n",
              "          dataTable['output_type'] = 'display_data';\n",
              "          await google.colab.output.renderOutput(dataTable, element);\n",
              "          const docLink = document.createElement('div');\n",
              "          docLink.innerHTML = docLinkHtml;\n",
              "          element.appendChild(docLink);\n",
              "        }\n",
              "      </script>\n",
              "    </div>\n",
              "  </div>\n",
              "  "
            ]
          },
          "metadata": {},
          "execution_count": 3
        }
      ]
    },
    {
      "cell_type": "code",
      "metadata": {
        "colab": {
          "base_uri": "https://localhost:8080/"
        },
        "id": "h-BB_d4__I6Z",
        "outputId": "72894f22-c0c8-444c-f4f1-cd55f9c0eced"
      },
      "source": [
        "data.info()"
      ],
      "execution_count": null,
      "outputs": [
        {
          "output_type": "stream",
          "name": "stdout",
          "text": [
            "<class 'pandas.core.frame.DataFrame'>\n",
            "RangeIndex: 70000 entries, 0 to 69999\n",
            "Data columns (total 12 columns):\n",
            " #   Column       Non-Null Count  Dtype  \n",
            "---  ------       --------------  -----  \n",
            " 0   age          70000 non-null  int64  \n",
            " 1   gender       70000 non-null  int64  \n",
            " 2   height       70000 non-null  int64  \n",
            " 3   weight       70000 non-null  float64\n",
            " 4   ap_hi        70000 non-null  int64  \n",
            " 5   ap_lo        70000 non-null  int64  \n",
            " 6   cholesterol  70000 non-null  int64  \n",
            " 7   gluc         70000 non-null  int64  \n",
            " 8   smoke        70000 non-null  int64  \n",
            " 9   alco         70000 non-null  int64  \n",
            " 10  active       70000 non-null  int64  \n",
            " 11  cardio       70000 non-null  int64  \n",
            "dtypes: float64(1), int64(11)\n",
            "memory usage: 6.4 MB\n"
          ]
        }
      ]
    },
    {
      "cell_type": "code",
      "metadata": {
        "colab": {
          "base_uri": "https://localhost:8080/"
        },
        "id": "J6gEqx5ROKFy",
        "outputId": "7a6894fa-5b98-4ffd-e4b3-d471619bc0f6"
      },
      "source": [
        "data.duplicated().sum() # Удаление повторяющихся значений"
      ],
      "execution_count": null,
      "outputs": [
        {
          "output_type": "execute_result",
          "data": {
            "text/plain": [
              "24"
            ]
          },
          "metadata": {},
          "execution_count": 5
        }
      ]
    },
    {
      "cell_type": "code",
      "metadata": {
        "id": "nH4jR8ZdOQaW"
      },
      "source": [
        "data.drop_duplicates(inplace=True)"
      ],
      "execution_count": null,
      "outputs": []
    },
    {
      "cell_type": "code",
      "metadata": {
        "colab": {
          "base_uri": "https://localhost:8080/"
        },
        "id": "br4mzwZ_2H9P",
        "outputId": "fed5ae6f-456c-4676-dbef-7150d5a10f1d"
      },
      "source": [
        "data.isna().sum()"
      ],
      "execution_count": null,
      "outputs": [
        {
          "output_type": "execute_result",
          "data": {
            "text/plain": [
              "age            0\n",
              "gender         0\n",
              "height         0\n",
              "weight         0\n",
              "ap_hi          0\n",
              "ap_lo          0\n",
              "cholesterol    0\n",
              "gluc           0\n",
              "smoke          0\n",
              "alco           0\n",
              "active         0\n",
              "cardio         0\n",
              "dtype: int64"
            ]
          },
          "metadata": {},
          "execution_count": 7
        }
      ]
    },
    {
      "cell_type": "code",
      "source": [
        "from scipy.stats import shapiro\n",
        "stat,p = shapiro(data['age'])#p-value 0, возраст не распределен нормально\n",
        "p"
      ],
      "metadata": {
        "colab": {
          "base_uri": "https://localhost:8080/"
        },
        "id": "KXagX-YT8az6",
        "outputId": "4d8187be-e698-46a4-f027-419b7e5821c8"
      },
      "execution_count": null,
      "outputs": [
        {
          "output_type": "execute_result",
          "data": {
            "text/plain": [
              "0.0"
            ]
          },
          "metadata": {},
          "execution_count": 8
        }
      ]
    },
    {
      "cell_type": "code",
      "metadata": {
        "id": "LS6mAigiPc0x"
      },
      "source": [
        "data['age'] = round(data['age']/365.25) # Заменим возраст на возраст в годах\n",
        "bmi = data['weight']/((data['height']/100.0)**2) # Новый столбец - индекс массы тела\n",
        "data.insert(4,'bmi',bmi)"
      ],
      "execution_count": null,
      "outputs": []
    },
    {
      "cell_type": "markdown",
      "metadata": {
        "id": "yBAkcc_SuyoB"
      },
      "source": [
        "Посмотрим на сами значения"
      ]
    },
    {
      "cell_type": "code",
      "metadata": {
        "colab": {
          "base_uri": "https://localhost:8080/",
          "height": 364
        },
        "id": "URNBZeoFELrF",
        "outputId": "00c4c5b6-7262-43dc-a882-193eb0facf49"
      },
      "source": [
        "data.describe()"
      ],
      "execution_count": null,
      "outputs": [
        {
          "output_type": "execute_result",
          "data": {
            "text/plain": [
              "                age        gender        height        weight           bmi  \\\n",
              "count  69976.000000  69976.000000  69976.000000  69976.000000  69976.000000   \n",
              "mean      53.303404      1.349648    164.359152     74.208519     27.557610   \n",
              "std        6.760509      0.476862      8.211218     14.397211      6.092210   \n",
              "min       30.000000      1.000000     55.000000     10.000000      3.471784   \n",
              "25%       48.000000      1.000000    159.000000     65.000000     23.875115   \n",
              "50%       54.000000      1.000000    165.000000     72.000000     26.391837   \n",
              "75%       58.000000      2.000000    170.000000     82.000000     30.222222   \n",
              "max       65.000000      2.000000    250.000000    200.000000    298.666667   \n",
              "\n",
              "              ap_hi         ap_lo   cholesterol          gluc         smoke  \\\n",
              "count  69976.000000  69976.000000  69976.000000  69976.000000  69976.000000   \n",
              "mean     128.820453     96.636261      1.366997      1.226535      0.088159   \n",
              "std      154.037729    188.504581      0.680333      0.572353      0.283528   \n",
              "min     -150.000000    -70.000000      1.000000      1.000000      0.000000   \n",
              "25%      120.000000     80.000000      1.000000      1.000000      0.000000   \n",
              "50%      120.000000     80.000000      1.000000      1.000000      0.000000   \n",
              "75%      140.000000     90.000000      2.000000      1.000000      0.000000   \n",
              "max    16020.000000  11000.000000      3.000000      3.000000      1.000000   \n",
              "\n",
              "               alco        active        cardio  \n",
              "count  69976.000000  69976.000000  69976.000000  \n",
              "mean       0.053790      0.803718      0.499771  \n",
              "std        0.225604      0.397187      0.500004  \n",
              "min        0.000000      0.000000      0.000000  \n",
              "25%        0.000000      1.000000      0.000000  \n",
              "50%        0.000000      1.000000      0.000000  \n",
              "75%        0.000000      1.000000      1.000000  \n",
              "max        1.000000      1.000000      1.000000  "
            ],
            "text/html": [
              "\n",
              "  <div id=\"df-1daf82c1-bd23-4814-a3dc-c7e8a9c2ca53\">\n",
              "    <div class=\"colab-df-container\">\n",
              "      <div>\n",
              "<style scoped>\n",
              "    .dataframe tbody tr th:only-of-type {\n",
              "        vertical-align: middle;\n",
              "    }\n",
              "\n",
              "    .dataframe tbody tr th {\n",
              "        vertical-align: top;\n",
              "    }\n",
              "\n",
              "    .dataframe thead th {\n",
              "        text-align: right;\n",
              "    }\n",
              "</style>\n",
              "<table border=\"1\" class=\"dataframe\">\n",
              "  <thead>\n",
              "    <tr style=\"text-align: right;\">\n",
              "      <th></th>\n",
              "      <th>age</th>\n",
              "      <th>gender</th>\n",
              "      <th>height</th>\n",
              "      <th>weight</th>\n",
              "      <th>bmi</th>\n",
              "      <th>ap_hi</th>\n",
              "      <th>ap_lo</th>\n",
              "      <th>cholesterol</th>\n",
              "      <th>gluc</th>\n",
              "      <th>smoke</th>\n",
              "      <th>alco</th>\n",
              "      <th>active</th>\n",
              "      <th>cardio</th>\n",
              "    </tr>\n",
              "  </thead>\n",
              "  <tbody>\n",
              "    <tr>\n",
              "      <th>count</th>\n",
              "      <td>69976.000000</td>\n",
              "      <td>69976.000000</td>\n",
              "      <td>69976.000000</td>\n",
              "      <td>69976.000000</td>\n",
              "      <td>69976.000000</td>\n",
              "      <td>69976.000000</td>\n",
              "      <td>69976.000000</td>\n",
              "      <td>69976.000000</td>\n",
              "      <td>69976.000000</td>\n",
              "      <td>69976.000000</td>\n",
              "      <td>69976.000000</td>\n",
              "      <td>69976.000000</td>\n",
              "      <td>69976.000000</td>\n",
              "    </tr>\n",
              "    <tr>\n",
              "      <th>mean</th>\n",
              "      <td>53.303404</td>\n",
              "      <td>1.349648</td>\n",
              "      <td>164.359152</td>\n",
              "      <td>74.208519</td>\n",
              "      <td>27.557610</td>\n",
              "      <td>128.820453</td>\n",
              "      <td>96.636261</td>\n",
              "      <td>1.366997</td>\n",
              "      <td>1.226535</td>\n",
              "      <td>0.088159</td>\n",
              "      <td>0.053790</td>\n",
              "      <td>0.803718</td>\n",
              "      <td>0.499771</td>\n",
              "    </tr>\n",
              "    <tr>\n",
              "      <th>std</th>\n",
              "      <td>6.760509</td>\n",
              "      <td>0.476862</td>\n",
              "      <td>8.211218</td>\n",
              "      <td>14.397211</td>\n",
              "      <td>6.092210</td>\n",
              "      <td>154.037729</td>\n",
              "      <td>188.504581</td>\n",
              "      <td>0.680333</td>\n",
              "      <td>0.572353</td>\n",
              "      <td>0.283528</td>\n",
              "      <td>0.225604</td>\n",
              "      <td>0.397187</td>\n",
              "      <td>0.500004</td>\n",
              "    </tr>\n",
              "    <tr>\n",
              "      <th>min</th>\n",
              "      <td>30.000000</td>\n",
              "      <td>1.000000</td>\n",
              "      <td>55.000000</td>\n",
              "      <td>10.000000</td>\n",
              "      <td>3.471784</td>\n",
              "      <td>-150.000000</td>\n",
              "      <td>-70.000000</td>\n",
              "      <td>1.000000</td>\n",
              "      <td>1.000000</td>\n",
              "      <td>0.000000</td>\n",
              "      <td>0.000000</td>\n",
              "      <td>0.000000</td>\n",
              "      <td>0.000000</td>\n",
              "    </tr>\n",
              "    <tr>\n",
              "      <th>25%</th>\n",
              "      <td>48.000000</td>\n",
              "      <td>1.000000</td>\n",
              "      <td>159.000000</td>\n",
              "      <td>65.000000</td>\n",
              "      <td>23.875115</td>\n",
              "      <td>120.000000</td>\n",
              "      <td>80.000000</td>\n",
              "      <td>1.000000</td>\n",
              "      <td>1.000000</td>\n",
              "      <td>0.000000</td>\n",
              "      <td>0.000000</td>\n",
              "      <td>1.000000</td>\n",
              "      <td>0.000000</td>\n",
              "    </tr>\n",
              "    <tr>\n",
              "      <th>50%</th>\n",
              "      <td>54.000000</td>\n",
              "      <td>1.000000</td>\n",
              "      <td>165.000000</td>\n",
              "      <td>72.000000</td>\n",
              "      <td>26.391837</td>\n",
              "      <td>120.000000</td>\n",
              "      <td>80.000000</td>\n",
              "      <td>1.000000</td>\n",
              "      <td>1.000000</td>\n",
              "      <td>0.000000</td>\n",
              "      <td>0.000000</td>\n",
              "      <td>1.000000</td>\n",
              "      <td>0.000000</td>\n",
              "    </tr>\n",
              "    <tr>\n",
              "      <th>75%</th>\n",
              "      <td>58.000000</td>\n",
              "      <td>2.000000</td>\n",
              "      <td>170.000000</td>\n",
              "      <td>82.000000</td>\n",
              "      <td>30.222222</td>\n",
              "      <td>140.000000</td>\n",
              "      <td>90.000000</td>\n",
              "      <td>2.000000</td>\n",
              "      <td>1.000000</td>\n",
              "      <td>0.000000</td>\n",
              "      <td>0.000000</td>\n",
              "      <td>1.000000</td>\n",
              "      <td>1.000000</td>\n",
              "    </tr>\n",
              "    <tr>\n",
              "      <th>max</th>\n",
              "      <td>65.000000</td>\n",
              "      <td>2.000000</td>\n",
              "      <td>250.000000</td>\n",
              "      <td>200.000000</td>\n",
              "      <td>298.666667</td>\n",
              "      <td>16020.000000</td>\n",
              "      <td>11000.000000</td>\n",
              "      <td>3.000000</td>\n",
              "      <td>3.000000</td>\n",
              "      <td>1.000000</td>\n",
              "      <td>1.000000</td>\n",
              "      <td>1.000000</td>\n",
              "      <td>1.000000</td>\n",
              "    </tr>\n",
              "  </tbody>\n",
              "</table>\n",
              "</div>\n",
              "      <button class=\"colab-df-convert\" onclick=\"convertToInteractive('df-1daf82c1-bd23-4814-a3dc-c7e8a9c2ca53')\"\n",
              "              title=\"Convert this dataframe to an interactive table.\"\n",
              "              style=\"display:none;\">\n",
              "        \n",
              "  <svg xmlns=\"http://www.w3.org/2000/svg\" height=\"24px\"viewBox=\"0 0 24 24\"\n",
              "       width=\"24px\">\n",
              "    <path d=\"M0 0h24v24H0V0z\" fill=\"none\"/>\n",
              "    <path d=\"M18.56 5.44l.94 2.06.94-2.06 2.06-.94-2.06-.94-.94-2.06-.94 2.06-2.06.94zm-11 1L8.5 8.5l.94-2.06 2.06-.94-2.06-.94L8.5 2.5l-.94 2.06-2.06.94zm10 10l.94 2.06.94-2.06 2.06-.94-2.06-.94-.94-2.06-.94 2.06-2.06.94z\"/><path d=\"M17.41 7.96l-1.37-1.37c-.4-.4-.92-.59-1.43-.59-.52 0-1.04.2-1.43.59L10.3 9.45l-7.72 7.72c-.78.78-.78 2.05 0 2.83L4 21.41c.39.39.9.59 1.41.59.51 0 1.02-.2 1.41-.59l7.78-7.78 2.81-2.81c.8-.78.8-2.07 0-2.86zM5.41 20L4 18.59l7.72-7.72 1.47 1.35L5.41 20z\"/>\n",
              "  </svg>\n",
              "      </button>\n",
              "      \n",
              "  <style>\n",
              "    .colab-df-container {\n",
              "      display:flex;\n",
              "      flex-wrap:wrap;\n",
              "      gap: 12px;\n",
              "    }\n",
              "\n",
              "    .colab-df-convert {\n",
              "      background-color: #E8F0FE;\n",
              "      border: none;\n",
              "      border-radius: 50%;\n",
              "      cursor: pointer;\n",
              "      display: none;\n",
              "      fill: #1967D2;\n",
              "      height: 32px;\n",
              "      padding: 0 0 0 0;\n",
              "      width: 32px;\n",
              "    }\n",
              "\n",
              "    .colab-df-convert:hover {\n",
              "      background-color: #E2EBFA;\n",
              "      box-shadow: 0px 1px 2px rgba(60, 64, 67, 0.3), 0px 1px 3px 1px rgba(60, 64, 67, 0.15);\n",
              "      fill: #174EA6;\n",
              "    }\n",
              "\n",
              "    [theme=dark] .colab-df-convert {\n",
              "      background-color: #3B4455;\n",
              "      fill: #D2E3FC;\n",
              "    }\n",
              "\n",
              "    [theme=dark] .colab-df-convert:hover {\n",
              "      background-color: #434B5C;\n",
              "      box-shadow: 0px 1px 3px 1px rgba(0, 0, 0, 0.15);\n",
              "      filter: drop-shadow(0px 1px 2px rgba(0, 0, 0, 0.3));\n",
              "      fill: #FFFFFF;\n",
              "    }\n",
              "  </style>\n",
              "\n",
              "      <script>\n",
              "        const buttonEl =\n",
              "          document.querySelector('#df-1daf82c1-bd23-4814-a3dc-c7e8a9c2ca53 button.colab-df-convert');\n",
              "        buttonEl.style.display =\n",
              "          google.colab.kernel.accessAllowed ? 'block' : 'none';\n",
              "\n",
              "        async function convertToInteractive(key) {\n",
              "          const element = document.querySelector('#df-1daf82c1-bd23-4814-a3dc-c7e8a9c2ca53');\n",
              "          const dataTable =\n",
              "            await google.colab.kernel.invokeFunction('convertToInteractive',\n",
              "                                                     [key], {});\n",
              "          if (!dataTable) return;\n",
              "\n",
              "          const docLinkHtml = 'Like what you see? Visit the ' +\n",
              "            '<a target=\"_blank\" href=https://colab.research.google.com/notebooks/data_table.ipynb>data table notebook</a>'\n",
              "            + ' to learn more about interactive tables.';\n",
              "          element.innerHTML = '';\n",
              "          dataTable['output_type'] = 'display_data';\n",
              "          await google.colab.output.renderOutput(dataTable, element);\n",
              "          const docLink = document.createElement('div');\n",
              "          docLink.innerHTML = docLinkHtml;\n",
              "          element.appendChild(docLink);\n",
              "        }\n",
              "      </script>\n",
              "    </div>\n",
              "  </div>\n",
              "  "
            ]
          },
          "metadata": {},
          "execution_count": 10
        }
      ]
    },
    {
      "cell_type": "markdown",
      "metadata": {
        "id": "cv8z0Gi5tbck"
      },
      "source": [
        "По минимальному росту и весу видно, что в данных есть ошибки (или по крайней мере нетипичные значения), также давление не должно быть отрицательным. Удалим для начала значения давления меньше 1."
      ]
    },
    {
      "cell_type": "code",
      "metadata": {
        "id": "DYxvjPyjr3d3"
      },
      "source": [
        "data = data.drop(data[(data['ap_hi'] <=1) | (data['ap_lo'] <=1)] .index)"
      ],
      "execution_count": null,
      "outputs": []
    },
    {
      "cell_type": "markdown",
      "source": [
        "Удалим записи, в которых ap_hi меньше ap_lo"
      ],
      "metadata": {
        "id": "ekIhF2v-60I9"
      }
    },
    {
      "cell_type": "code",
      "source": [
        "data = data.drop(data[(data['ap_hi'] <= data['ap_lo'])] .index)"
      ],
      "metadata": {
        "id": "g0ZRM2FH69dW"
      },
      "execution_count": null,
      "outputs": []
    },
    {
      "cell_type": "markdown",
      "metadata": {
        "id": "dMUZi-m3ty4W"
      },
      "source": [
        "По примерно логичным значениям ИМТ и давления посмотрим сколько данных им не соответствуют."
      ]
    },
    {
      "cell_type": "code",
      "metadata": {
        "colab": {
          "base_uri": "https://localhost:8080/",
          "height": 423
        },
        "id": "38slR4O5H5bH",
        "outputId": "75ee7d6b-b906-4bcb-e619-d67b246c2b28"
      },
      "source": [
        "data[(data['bmi']>=70) | (data['bmi'] <= 10) | (data['ap_hi'] >= 200) | (data['ap_lo'] >= 200)]"
      ],
      "execution_count": null,
      "outputs": [
        {
          "output_type": "execute_result",
          "data": {
            "text/plain": [
              "        age  gender  height  weight        bmi  ap_hi  ap_lo  cholesterol  \\\n",
              "224    60.0       2      76    55.0  95.221607    120     80            1   \n",
              "1328   58.0       2     174   106.0  35.011230    220    120            3   \n",
              "1876   41.0       1     160    60.0  23.437500    902     60            1   \n",
              "2278   62.0       1     156   101.0  41.502301    220    110            1   \n",
              "3420   40.0       1     100    70.0  70.000000    100     70            1   \n",
              "...     ...     ...     ...     ...        ...    ...    ...          ...   \n",
              "68448  42.0       2     179   100.0  31.210012    200    140            1   \n",
              "68579  54.0       2     171    71.0  24.280975    220    110            2   \n",
              "69329  54.0       1     145    62.0  29.488704    240    130            1   \n",
              "69370  40.0       1     170    74.0  25.605536   2000    100            2   \n",
              "69894  46.0       1     160    70.0  27.343750    200    100            1   \n",
              "\n",
              "       gluc  smoke  alco  active  cardio  \n",
              "224       1      0     0       1       0  \n",
              "1328      3      0     0       1       0  \n",
              "1876      1      0     0       1       0  \n",
              "2278      2      0     0       0       1  \n",
              "3420      1      0     0       1       0  \n",
              "...     ...    ...   ...     ...     ...  \n",
              "68448     2      1     0       1       1  \n",
              "68579     1      0     0       1       1  \n",
              "69329     1      0     0       0       1  \n",
              "69370     1      0     0       1       1  \n",
              "69894     2      0     0       1       1  \n",
              "\n",
              "[222 rows x 13 columns]"
            ],
            "text/html": [
              "\n",
              "  <div id=\"df-af9588ac-21db-4d1d-9a4c-c2b363d2be9b\">\n",
              "    <div class=\"colab-df-container\">\n",
              "      <div>\n",
              "<style scoped>\n",
              "    .dataframe tbody tr th:only-of-type {\n",
              "        vertical-align: middle;\n",
              "    }\n",
              "\n",
              "    .dataframe tbody tr th {\n",
              "        vertical-align: top;\n",
              "    }\n",
              "\n",
              "    .dataframe thead th {\n",
              "        text-align: right;\n",
              "    }\n",
              "</style>\n",
              "<table border=\"1\" class=\"dataframe\">\n",
              "  <thead>\n",
              "    <tr style=\"text-align: right;\">\n",
              "      <th></th>\n",
              "      <th>age</th>\n",
              "      <th>gender</th>\n",
              "      <th>height</th>\n",
              "      <th>weight</th>\n",
              "      <th>bmi</th>\n",
              "      <th>ap_hi</th>\n",
              "      <th>ap_lo</th>\n",
              "      <th>cholesterol</th>\n",
              "      <th>gluc</th>\n",
              "      <th>smoke</th>\n",
              "      <th>alco</th>\n",
              "      <th>active</th>\n",
              "      <th>cardio</th>\n",
              "    </tr>\n",
              "  </thead>\n",
              "  <tbody>\n",
              "    <tr>\n",
              "      <th>224</th>\n",
              "      <td>60.0</td>\n",
              "      <td>2</td>\n",
              "      <td>76</td>\n",
              "      <td>55.0</td>\n",
              "      <td>95.221607</td>\n",
              "      <td>120</td>\n",
              "      <td>80</td>\n",
              "      <td>1</td>\n",
              "      <td>1</td>\n",
              "      <td>0</td>\n",
              "      <td>0</td>\n",
              "      <td>1</td>\n",
              "      <td>0</td>\n",
              "    </tr>\n",
              "    <tr>\n",
              "      <th>1328</th>\n",
              "      <td>58.0</td>\n",
              "      <td>2</td>\n",
              "      <td>174</td>\n",
              "      <td>106.0</td>\n",
              "      <td>35.011230</td>\n",
              "      <td>220</td>\n",
              "      <td>120</td>\n",
              "      <td>3</td>\n",
              "      <td>3</td>\n",
              "      <td>0</td>\n",
              "      <td>0</td>\n",
              "      <td>1</td>\n",
              "      <td>0</td>\n",
              "    </tr>\n",
              "    <tr>\n",
              "      <th>1876</th>\n",
              "      <td>41.0</td>\n",
              "      <td>1</td>\n",
              "      <td>160</td>\n",
              "      <td>60.0</td>\n",
              "      <td>23.437500</td>\n",
              "      <td>902</td>\n",
              "      <td>60</td>\n",
              "      <td>1</td>\n",
              "      <td>1</td>\n",
              "      <td>0</td>\n",
              "      <td>0</td>\n",
              "      <td>1</td>\n",
              "      <td>0</td>\n",
              "    </tr>\n",
              "    <tr>\n",
              "      <th>2278</th>\n",
              "      <td>62.0</td>\n",
              "      <td>1</td>\n",
              "      <td>156</td>\n",
              "      <td>101.0</td>\n",
              "      <td>41.502301</td>\n",
              "      <td>220</td>\n",
              "      <td>110</td>\n",
              "      <td>1</td>\n",
              "      <td>2</td>\n",
              "      <td>0</td>\n",
              "      <td>0</td>\n",
              "      <td>0</td>\n",
              "      <td>1</td>\n",
              "    </tr>\n",
              "    <tr>\n",
              "      <th>3420</th>\n",
              "      <td>40.0</td>\n",
              "      <td>1</td>\n",
              "      <td>100</td>\n",
              "      <td>70.0</td>\n",
              "      <td>70.000000</td>\n",
              "      <td>100</td>\n",
              "      <td>70</td>\n",
              "      <td>1</td>\n",
              "      <td>1</td>\n",
              "      <td>0</td>\n",
              "      <td>0</td>\n",
              "      <td>1</td>\n",
              "      <td>0</td>\n",
              "    </tr>\n",
              "    <tr>\n",
              "      <th>...</th>\n",
              "      <td>...</td>\n",
              "      <td>...</td>\n",
              "      <td>...</td>\n",
              "      <td>...</td>\n",
              "      <td>...</td>\n",
              "      <td>...</td>\n",
              "      <td>...</td>\n",
              "      <td>...</td>\n",
              "      <td>...</td>\n",
              "      <td>...</td>\n",
              "      <td>...</td>\n",
              "      <td>...</td>\n",
              "      <td>...</td>\n",
              "    </tr>\n",
              "    <tr>\n",
              "      <th>68448</th>\n",
              "      <td>42.0</td>\n",
              "      <td>2</td>\n",
              "      <td>179</td>\n",
              "      <td>100.0</td>\n",
              "      <td>31.210012</td>\n",
              "      <td>200</td>\n",
              "      <td>140</td>\n",
              "      <td>1</td>\n",
              "      <td>2</td>\n",
              "      <td>1</td>\n",
              "      <td>0</td>\n",
              "      <td>1</td>\n",
              "      <td>1</td>\n",
              "    </tr>\n",
              "    <tr>\n",
              "      <th>68579</th>\n",
              "      <td>54.0</td>\n",
              "      <td>2</td>\n",
              "      <td>171</td>\n",
              "      <td>71.0</td>\n",
              "      <td>24.280975</td>\n",
              "      <td>220</td>\n",
              "      <td>110</td>\n",
              "      <td>2</td>\n",
              "      <td>1</td>\n",
              "      <td>0</td>\n",
              "      <td>0</td>\n",
              "      <td>1</td>\n",
              "      <td>1</td>\n",
              "    </tr>\n",
              "    <tr>\n",
              "      <th>69329</th>\n",
              "      <td>54.0</td>\n",
              "      <td>1</td>\n",
              "      <td>145</td>\n",
              "      <td>62.0</td>\n",
              "      <td>29.488704</td>\n",
              "      <td>240</td>\n",
              "      <td>130</td>\n",
              "      <td>1</td>\n",
              "      <td>1</td>\n",
              "      <td>0</td>\n",
              "      <td>0</td>\n",
              "      <td>0</td>\n",
              "      <td>1</td>\n",
              "    </tr>\n",
              "    <tr>\n",
              "      <th>69370</th>\n",
              "      <td>40.0</td>\n",
              "      <td>1</td>\n",
              "      <td>170</td>\n",
              "      <td>74.0</td>\n",
              "      <td>25.605536</td>\n",
              "      <td>2000</td>\n",
              "      <td>100</td>\n",
              "      <td>2</td>\n",
              "      <td>1</td>\n",
              "      <td>0</td>\n",
              "      <td>0</td>\n",
              "      <td>1</td>\n",
              "      <td>1</td>\n",
              "    </tr>\n",
              "    <tr>\n",
              "      <th>69894</th>\n",
              "      <td>46.0</td>\n",
              "      <td>1</td>\n",
              "      <td>160</td>\n",
              "      <td>70.0</td>\n",
              "      <td>27.343750</td>\n",
              "      <td>200</td>\n",
              "      <td>100</td>\n",
              "      <td>1</td>\n",
              "      <td>2</td>\n",
              "      <td>0</td>\n",
              "      <td>0</td>\n",
              "      <td>1</td>\n",
              "      <td>1</td>\n",
              "    </tr>\n",
              "  </tbody>\n",
              "</table>\n",
              "<p>222 rows × 13 columns</p>\n",
              "</div>\n",
              "      <button class=\"colab-df-convert\" onclick=\"convertToInteractive('df-af9588ac-21db-4d1d-9a4c-c2b363d2be9b')\"\n",
              "              title=\"Convert this dataframe to an interactive table.\"\n",
              "              style=\"display:none;\">\n",
              "        \n",
              "  <svg xmlns=\"http://www.w3.org/2000/svg\" height=\"24px\"viewBox=\"0 0 24 24\"\n",
              "       width=\"24px\">\n",
              "    <path d=\"M0 0h24v24H0V0z\" fill=\"none\"/>\n",
              "    <path d=\"M18.56 5.44l.94 2.06.94-2.06 2.06-.94-2.06-.94-.94-2.06-.94 2.06-2.06.94zm-11 1L8.5 8.5l.94-2.06 2.06-.94-2.06-.94L8.5 2.5l-.94 2.06-2.06.94zm10 10l.94 2.06.94-2.06 2.06-.94-2.06-.94-.94-2.06-.94 2.06-2.06.94z\"/><path d=\"M17.41 7.96l-1.37-1.37c-.4-.4-.92-.59-1.43-.59-.52 0-1.04.2-1.43.59L10.3 9.45l-7.72 7.72c-.78.78-.78 2.05 0 2.83L4 21.41c.39.39.9.59 1.41.59.51 0 1.02-.2 1.41-.59l7.78-7.78 2.81-2.81c.8-.78.8-2.07 0-2.86zM5.41 20L4 18.59l7.72-7.72 1.47 1.35L5.41 20z\"/>\n",
              "  </svg>\n",
              "      </button>\n",
              "      \n",
              "  <style>\n",
              "    .colab-df-container {\n",
              "      display:flex;\n",
              "      flex-wrap:wrap;\n",
              "      gap: 12px;\n",
              "    }\n",
              "\n",
              "    .colab-df-convert {\n",
              "      background-color: #E8F0FE;\n",
              "      border: none;\n",
              "      border-radius: 50%;\n",
              "      cursor: pointer;\n",
              "      display: none;\n",
              "      fill: #1967D2;\n",
              "      height: 32px;\n",
              "      padding: 0 0 0 0;\n",
              "      width: 32px;\n",
              "    }\n",
              "\n",
              "    .colab-df-convert:hover {\n",
              "      background-color: #E2EBFA;\n",
              "      box-shadow: 0px 1px 2px rgba(60, 64, 67, 0.3), 0px 1px 3px 1px rgba(60, 64, 67, 0.15);\n",
              "      fill: #174EA6;\n",
              "    }\n",
              "\n",
              "    [theme=dark] .colab-df-convert {\n",
              "      background-color: #3B4455;\n",
              "      fill: #D2E3FC;\n",
              "    }\n",
              "\n",
              "    [theme=dark] .colab-df-convert:hover {\n",
              "      background-color: #434B5C;\n",
              "      box-shadow: 0px 1px 3px 1px rgba(0, 0, 0, 0.15);\n",
              "      filter: drop-shadow(0px 1px 2px rgba(0, 0, 0, 0.3));\n",
              "      fill: #FFFFFF;\n",
              "    }\n",
              "  </style>\n",
              "\n",
              "      <script>\n",
              "        const buttonEl =\n",
              "          document.querySelector('#df-af9588ac-21db-4d1d-9a4c-c2b363d2be9b button.colab-df-convert');\n",
              "        buttonEl.style.display =\n",
              "          google.colab.kernel.accessAllowed ? 'block' : 'none';\n",
              "\n",
              "        async function convertToInteractive(key) {\n",
              "          const element = document.querySelector('#df-af9588ac-21db-4d1d-9a4c-c2b363d2be9b');\n",
              "          const dataTable =\n",
              "            await google.colab.kernel.invokeFunction('convertToInteractive',\n",
              "                                                     [key], {});\n",
              "          if (!dataTable) return;\n",
              "\n",
              "          const docLinkHtml = 'Like what you see? Visit the ' +\n",
              "            '<a target=\"_blank\" href=https://colab.research.google.com/notebooks/data_table.ipynb>data table notebook</a>'\n",
              "            + ' to learn more about interactive tables.';\n",
              "          element.innerHTML = '';\n",
              "          dataTable['output_type'] = 'display_data';\n",
              "          await google.colab.output.renderOutput(dataTable, element);\n",
              "          const docLink = document.createElement('div');\n",
              "          docLink.innerHTML = docLinkHtml;\n",
              "          element.appendChild(docLink);\n",
              "        }\n",
              "      </script>\n",
              "    </div>\n",
              "  </div>\n",
              "  "
            ]
          },
          "metadata": {},
          "execution_count": 13
        }
      ]
    },
    {
      "cell_type": "markdown",
      "metadata": {
        "id": "jKylAjpDuOKo"
      },
      "source": [
        "Посмотрим сколько данных выходят за три сигмы по значениям ИМТ и давления. Код вычисляет z-оценку по ИМТ и давлению и выводит строки, в которых хотя бы в одном из этих столбцов значение выходит за 3 сигмы."
      ]
    },
    {
      "cell_type": "code",
      "metadata": {
        "colab": {
          "base_uri": "https://localhost:8080/",
          "height": 423
        },
        "id": "5otKTFMCmaGd",
        "outputId": "44d01700-54aa-4f75-a2a8-8fc1a55c8118"
      },
      "source": [
        "from scipy import stats\n",
        "data[(np.abs(stats.zscore(data[['bmi','ap_hi','ap_lo']])) > 3)]"
      ],
      "execution_count": null,
      "outputs": [
        {
          "output_type": "execute_result",
          "data": {
            "text/plain": [
              "        age  gender  height  weight        bmi  ap_hi  ap_lo  cholesterol  \\\n",
              "83     54.0       1     152   110.0  47.610803    160     90            1   \n",
              "97     50.0       1     165    99.0  36.363636    150    110            1   \n",
              "115    60.0       2     160    57.0  22.265625    170    110            1   \n",
              "224    60.0       2      76    55.0  95.221607    120     80            1   \n",
              "296    57.0       2     169    76.0  26.609713    170    110            1   \n",
              "...     ...     ...     ...     ...        ...    ...    ...          ...   \n",
              "69511  55.0       1     167    65.0  23.306680    170    110            3   \n",
              "69587  64.0       1     169   101.0  35.362907    180    110            1   \n",
              "69708  58.0       1     144   115.0  55.459105    140     90            1   \n",
              "69929  54.0       1     164    85.0  31.603212    165    110            3   \n",
              "69996  62.0       1     158   126.0  50.472681    140     90            2   \n",
              "\n",
              "       gluc  smoke  alco  active  cardio  \n",
              "83        1      0     0       1       1  \n",
              "97        1      0     0       0       1  \n",
              "115       1      0     0       1       1  \n",
              "224       1      0     0       1       0  \n",
              "296       1      0     0       0       1  \n",
              "...     ...    ...   ...     ...     ...  \n",
              "69511     1      0     0       1       1  \n",
              "69587     1      0     0       0       1  \n",
              "69708     1      0     1       0       1  \n",
              "69929     3      0     0       1       1  \n",
              "69996     2      0     0       1       1  \n",
              "\n",
              "[1294 rows x 13 columns]"
            ],
            "text/html": [
              "\n",
              "  <div id=\"df-5e899cc0-570a-4d32-98a4-161a3bd9562c\">\n",
              "    <div class=\"colab-df-container\">\n",
              "      <div>\n",
              "<style scoped>\n",
              "    .dataframe tbody tr th:only-of-type {\n",
              "        vertical-align: middle;\n",
              "    }\n",
              "\n",
              "    .dataframe tbody tr th {\n",
              "        vertical-align: top;\n",
              "    }\n",
              "\n",
              "    .dataframe thead th {\n",
              "        text-align: right;\n",
              "    }\n",
              "</style>\n",
              "<table border=\"1\" class=\"dataframe\">\n",
              "  <thead>\n",
              "    <tr style=\"text-align: right;\">\n",
              "      <th></th>\n",
              "      <th>age</th>\n",
              "      <th>gender</th>\n",
              "      <th>height</th>\n",
              "      <th>weight</th>\n",
              "      <th>bmi</th>\n",
              "      <th>ap_hi</th>\n",
              "      <th>ap_lo</th>\n",
              "      <th>cholesterol</th>\n",
              "      <th>gluc</th>\n",
              "      <th>smoke</th>\n",
              "      <th>alco</th>\n",
              "      <th>active</th>\n",
              "      <th>cardio</th>\n",
              "    </tr>\n",
              "  </thead>\n",
              "  <tbody>\n",
              "    <tr>\n",
              "      <th>83</th>\n",
              "      <td>54.0</td>\n",
              "      <td>1</td>\n",
              "      <td>152</td>\n",
              "      <td>110.0</td>\n",
              "      <td>47.610803</td>\n",
              "      <td>160</td>\n",
              "      <td>90</td>\n",
              "      <td>1</td>\n",
              "      <td>1</td>\n",
              "      <td>0</td>\n",
              "      <td>0</td>\n",
              "      <td>1</td>\n",
              "      <td>1</td>\n",
              "    </tr>\n",
              "    <tr>\n",
              "      <th>97</th>\n",
              "      <td>50.0</td>\n",
              "      <td>1</td>\n",
              "      <td>165</td>\n",
              "      <td>99.0</td>\n",
              "      <td>36.363636</td>\n",
              "      <td>150</td>\n",
              "      <td>110</td>\n",
              "      <td>1</td>\n",
              "      <td>1</td>\n",
              "      <td>0</td>\n",
              "      <td>0</td>\n",
              "      <td>0</td>\n",
              "      <td>1</td>\n",
              "    </tr>\n",
              "    <tr>\n",
              "      <th>115</th>\n",
              "      <td>60.0</td>\n",
              "      <td>2</td>\n",
              "      <td>160</td>\n",
              "      <td>57.0</td>\n",
              "      <td>22.265625</td>\n",
              "      <td>170</td>\n",
              "      <td>110</td>\n",
              "      <td>1</td>\n",
              "      <td>1</td>\n",
              "      <td>0</td>\n",
              "      <td>0</td>\n",
              "      <td>1</td>\n",
              "      <td>1</td>\n",
              "    </tr>\n",
              "    <tr>\n",
              "      <th>224</th>\n",
              "      <td>60.0</td>\n",
              "      <td>2</td>\n",
              "      <td>76</td>\n",
              "      <td>55.0</td>\n",
              "      <td>95.221607</td>\n",
              "      <td>120</td>\n",
              "      <td>80</td>\n",
              "      <td>1</td>\n",
              "      <td>1</td>\n",
              "      <td>0</td>\n",
              "      <td>0</td>\n",
              "      <td>1</td>\n",
              "      <td>0</td>\n",
              "    </tr>\n",
              "    <tr>\n",
              "      <th>296</th>\n",
              "      <td>57.0</td>\n",
              "      <td>2</td>\n",
              "      <td>169</td>\n",
              "      <td>76.0</td>\n",
              "      <td>26.609713</td>\n",
              "      <td>170</td>\n",
              "      <td>110</td>\n",
              "      <td>1</td>\n",
              "      <td>1</td>\n",
              "      <td>0</td>\n",
              "      <td>0</td>\n",
              "      <td>0</td>\n",
              "      <td>1</td>\n",
              "    </tr>\n",
              "    <tr>\n",
              "      <th>...</th>\n",
              "      <td>...</td>\n",
              "      <td>...</td>\n",
              "      <td>...</td>\n",
              "      <td>...</td>\n",
              "      <td>...</td>\n",
              "      <td>...</td>\n",
              "      <td>...</td>\n",
              "      <td>...</td>\n",
              "      <td>...</td>\n",
              "      <td>...</td>\n",
              "      <td>...</td>\n",
              "      <td>...</td>\n",
              "      <td>...</td>\n",
              "    </tr>\n",
              "    <tr>\n",
              "      <th>69511</th>\n",
              "      <td>55.0</td>\n",
              "      <td>1</td>\n",
              "      <td>167</td>\n",
              "      <td>65.0</td>\n",
              "      <td>23.306680</td>\n",
              "      <td>170</td>\n",
              "      <td>110</td>\n",
              "      <td>3</td>\n",
              "      <td>1</td>\n",
              "      <td>0</td>\n",
              "      <td>0</td>\n",
              "      <td>1</td>\n",
              "      <td>1</td>\n",
              "    </tr>\n",
              "    <tr>\n",
              "      <th>69587</th>\n",
              "      <td>64.0</td>\n",
              "      <td>1</td>\n",
              "      <td>169</td>\n",
              "      <td>101.0</td>\n",
              "      <td>35.362907</td>\n",
              "      <td>180</td>\n",
              "      <td>110</td>\n",
              "      <td>1</td>\n",
              "      <td>1</td>\n",
              "      <td>0</td>\n",
              "      <td>0</td>\n",
              "      <td>0</td>\n",
              "      <td>1</td>\n",
              "    </tr>\n",
              "    <tr>\n",
              "      <th>69708</th>\n",
              "      <td>58.0</td>\n",
              "      <td>1</td>\n",
              "      <td>144</td>\n",
              "      <td>115.0</td>\n",
              "      <td>55.459105</td>\n",
              "      <td>140</td>\n",
              "      <td>90</td>\n",
              "      <td>1</td>\n",
              "      <td>1</td>\n",
              "      <td>0</td>\n",
              "      <td>1</td>\n",
              "      <td>0</td>\n",
              "      <td>1</td>\n",
              "    </tr>\n",
              "    <tr>\n",
              "      <th>69929</th>\n",
              "      <td>54.0</td>\n",
              "      <td>1</td>\n",
              "      <td>164</td>\n",
              "      <td>85.0</td>\n",
              "      <td>31.603212</td>\n",
              "      <td>165</td>\n",
              "      <td>110</td>\n",
              "      <td>3</td>\n",
              "      <td>3</td>\n",
              "      <td>0</td>\n",
              "      <td>0</td>\n",
              "      <td>1</td>\n",
              "      <td>1</td>\n",
              "    </tr>\n",
              "    <tr>\n",
              "      <th>69996</th>\n",
              "      <td>62.0</td>\n",
              "      <td>1</td>\n",
              "      <td>158</td>\n",
              "      <td>126.0</td>\n",
              "      <td>50.472681</td>\n",
              "      <td>140</td>\n",
              "      <td>90</td>\n",
              "      <td>2</td>\n",
              "      <td>2</td>\n",
              "      <td>0</td>\n",
              "      <td>0</td>\n",
              "      <td>1</td>\n",
              "      <td>1</td>\n",
              "    </tr>\n",
              "  </tbody>\n",
              "</table>\n",
              "<p>1294 rows × 13 columns</p>\n",
              "</div>\n",
              "      <button class=\"colab-df-convert\" onclick=\"convertToInteractive('df-5e899cc0-570a-4d32-98a4-161a3bd9562c')\"\n",
              "              title=\"Convert this dataframe to an interactive table.\"\n",
              "              style=\"display:none;\">\n",
              "        \n",
              "  <svg xmlns=\"http://www.w3.org/2000/svg\" height=\"24px\"viewBox=\"0 0 24 24\"\n",
              "       width=\"24px\">\n",
              "    <path d=\"M0 0h24v24H0V0z\" fill=\"none\"/>\n",
              "    <path d=\"M18.56 5.44l.94 2.06.94-2.06 2.06-.94-2.06-.94-.94-2.06-.94 2.06-2.06.94zm-11 1L8.5 8.5l.94-2.06 2.06-.94-2.06-.94L8.5 2.5l-.94 2.06-2.06.94zm10 10l.94 2.06.94-2.06 2.06-.94-2.06-.94-.94-2.06-.94 2.06-2.06.94z\"/><path d=\"M17.41 7.96l-1.37-1.37c-.4-.4-.92-.59-1.43-.59-.52 0-1.04.2-1.43.59L10.3 9.45l-7.72 7.72c-.78.78-.78 2.05 0 2.83L4 21.41c.39.39.9.59 1.41.59.51 0 1.02-.2 1.41-.59l7.78-7.78 2.81-2.81c.8-.78.8-2.07 0-2.86zM5.41 20L4 18.59l7.72-7.72 1.47 1.35L5.41 20z\"/>\n",
              "  </svg>\n",
              "      </button>\n",
              "      \n",
              "  <style>\n",
              "    .colab-df-container {\n",
              "      display:flex;\n",
              "      flex-wrap:wrap;\n",
              "      gap: 12px;\n",
              "    }\n",
              "\n",
              "    .colab-df-convert {\n",
              "      background-color: #E8F0FE;\n",
              "      border: none;\n",
              "      border-radius: 50%;\n",
              "      cursor: pointer;\n",
              "      display: none;\n",
              "      fill: #1967D2;\n",
              "      height: 32px;\n",
              "      padding: 0 0 0 0;\n",
              "      width: 32px;\n",
              "    }\n",
              "\n",
              "    .colab-df-convert:hover {\n",
              "      background-color: #E2EBFA;\n",
              "      box-shadow: 0px 1px 2px rgba(60, 64, 67, 0.3), 0px 1px 3px 1px rgba(60, 64, 67, 0.15);\n",
              "      fill: #174EA6;\n",
              "    }\n",
              "\n",
              "    [theme=dark] .colab-df-convert {\n",
              "      background-color: #3B4455;\n",
              "      fill: #D2E3FC;\n",
              "    }\n",
              "\n",
              "    [theme=dark] .colab-df-convert:hover {\n",
              "      background-color: #434B5C;\n",
              "      box-shadow: 0px 1px 3px 1px rgba(0, 0, 0, 0.15);\n",
              "      filter: drop-shadow(0px 1px 2px rgba(0, 0, 0, 0.3));\n",
              "      fill: #FFFFFF;\n",
              "    }\n",
              "  </style>\n",
              "\n",
              "      <script>\n",
              "        const buttonEl =\n",
              "          document.querySelector('#df-5e899cc0-570a-4d32-98a4-161a3bd9562c button.colab-df-convert');\n",
              "        buttonEl.style.display =\n",
              "          google.colab.kernel.accessAllowed ? 'block' : 'none';\n",
              "\n",
              "        async function convertToInteractive(key) {\n",
              "          const element = document.querySelector('#df-5e899cc0-570a-4d32-98a4-161a3bd9562c');\n",
              "          const dataTable =\n",
              "            await google.colab.kernel.invokeFunction('convertToInteractive',\n",
              "                                                     [key], {});\n",
              "          if (!dataTable) return;\n",
              "\n",
              "          const docLinkHtml = 'Like what you see? Visit the ' +\n",
              "            '<a target=\"_blank\" href=https://colab.research.google.com/notebooks/data_table.ipynb>data table notebook</a>'\n",
              "            + ' to learn more about interactive tables.';\n",
              "          element.innerHTML = '';\n",
              "          dataTable['output_type'] = 'display_data';\n",
              "          await google.colab.output.renderOutput(dataTable, element);\n",
              "          const docLink = document.createElement('div');\n",
              "          docLink.innerHTML = docLinkHtml;\n",
              "          element.appendChild(docLink);\n",
              "        }\n",
              "      </script>\n",
              "    </div>\n",
              "  </div>\n",
              "  "
            ]
          },
          "metadata": {},
          "execution_count": 14
        }
      ]
    },
    {
      "cell_type": "markdown",
      "metadata": {
        "id": "5Mgomfo7vC3o"
      },
      "source": [
        "Удалим все значения которые выходят за три сигмы.\n",
        "\n"
      ]
    },
    {
      "cell_type": "code",
      "metadata": {
        "colab": {
          "base_uri": "https://localhost:8080/",
          "height": 364
        },
        "id": "UV7f_cvmK_nh",
        "outputId": "63e74ce0-5c97-4793-8ca5-504407c5c8b5"
      },
      "source": [
        "data = data.drop(data[(np.abs(stats.zscore(data[['bmi','ap_hi','ap_lo']])) > 3)].index)\n",
        "data.describe()"
      ],
      "execution_count": null,
      "outputs": [
        {
          "output_type": "execute_result",
          "data": {
            "text/plain": [
              "                age        gender        height        weight           bmi  \\\n",
              "count  67452.000000  67452.000000  67452.000000  67452.000000  67452.000000   \n",
              "mean      53.284810      1.349493    164.471921     73.701459     27.271285   \n",
              "std        6.766849      0.476813      7.829257     13.562801      4.867142   \n",
              "min       30.000000      1.000000    120.000000     23.000000      9.331007   \n",
              "25%       48.000000      1.000000    159.000000     65.000000     23.874536   \n",
              "50%       54.000000      1.000000    165.000000     72.000000     26.264944   \n",
              "75%       58.000000      2.000000    170.000000     82.000000     30.078125   \n",
              "max       65.000000      2.000000    250.000000    165.000000     45.724737   \n",
              "\n",
              "              ap_hi         ap_lo   cholesterol          gluc         smoke  \\\n",
              "count  67452.000000  67452.000000  67452.000000  67452.000000  67452.000000   \n",
              "mean     126.219712     81.008080      1.360330      1.223107      0.087840   \n",
              "std       16.039267      8.814358      0.675733      0.569149      0.283065   \n",
              "min       80.000000     53.000000      1.000000      1.000000      0.000000   \n",
              "25%      120.000000     80.000000      1.000000      1.000000      0.000000   \n",
              "50%      120.000000     80.000000      1.000000      1.000000      0.000000   \n",
              "75%      140.000000     90.000000      1.000000      1.000000      0.000000   \n",
              "max      401.000000    109.000000      3.000000      3.000000      1.000000   \n",
              "\n",
              "               alco        active        cardio  \n",
              "count  67452.000000  67452.000000  67452.000000  \n",
              "mean       0.053015      0.803371      0.490527  \n",
              "std        0.224066      0.397452      0.499914  \n",
              "min        0.000000      0.000000      0.000000  \n",
              "25%        0.000000      1.000000      0.000000  \n",
              "50%        0.000000      1.000000      0.000000  \n",
              "75%        0.000000      1.000000      1.000000  \n",
              "max        1.000000      1.000000      1.000000  "
            ],
            "text/html": [
              "\n",
              "  <div id=\"df-3521b1dc-d23d-46ac-904a-bd54ef47bd45\">\n",
              "    <div class=\"colab-df-container\">\n",
              "      <div>\n",
              "<style scoped>\n",
              "    .dataframe tbody tr th:only-of-type {\n",
              "        vertical-align: middle;\n",
              "    }\n",
              "\n",
              "    .dataframe tbody tr th {\n",
              "        vertical-align: top;\n",
              "    }\n",
              "\n",
              "    .dataframe thead th {\n",
              "        text-align: right;\n",
              "    }\n",
              "</style>\n",
              "<table border=\"1\" class=\"dataframe\">\n",
              "  <thead>\n",
              "    <tr style=\"text-align: right;\">\n",
              "      <th></th>\n",
              "      <th>age</th>\n",
              "      <th>gender</th>\n",
              "      <th>height</th>\n",
              "      <th>weight</th>\n",
              "      <th>bmi</th>\n",
              "      <th>ap_hi</th>\n",
              "      <th>ap_lo</th>\n",
              "      <th>cholesterol</th>\n",
              "      <th>gluc</th>\n",
              "      <th>smoke</th>\n",
              "      <th>alco</th>\n",
              "      <th>active</th>\n",
              "      <th>cardio</th>\n",
              "    </tr>\n",
              "  </thead>\n",
              "  <tbody>\n",
              "    <tr>\n",
              "      <th>count</th>\n",
              "      <td>67452.000000</td>\n",
              "      <td>67452.000000</td>\n",
              "      <td>67452.000000</td>\n",
              "      <td>67452.000000</td>\n",
              "      <td>67452.000000</td>\n",
              "      <td>67452.000000</td>\n",
              "      <td>67452.000000</td>\n",
              "      <td>67452.000000</td>\n",
              "      <td>67452.000000</td>\n",
              "      <td>67452.000000</td>\n",
              "      <td>67452.000000</td>\n",
              "      <td>67452.000000</td>\n",
              "      <td>67452.000000</td>\n",
              "    </tr>\n",
              "    <tr>\n",
              "      <th>mean</th>\n",
              "      <td>53.284810</td>\n",
              "      <td>1.349493</td>\n",
              "      <td>164.471921</td>\n",
              "      <td>73.701459</td>\n",
              "      <td>27.271285</td>\n",
              "      <td>126.219712</td>\n",
              "      <td>81.008080</td>\n",
              "      <td>1.360330</td>\n",
              "      <td>1.223107</td>\n",
              "      <td>0.087840</td>\n",
              "      <td>0.053015</td>\n",
              "      <td>0.803371</td>\n",
              "      <td>0.490527</td>\n",
              "    </tr>\n",
              "    <tr>\n",
              "      <th>std</th>\n",
              "      <td>6.766849</td>\n",
              "      <td>0.476813</td>\n",
              "      <td>7.829257</td>\n",
              "      <td>13.562801</td>\n",
              "      <td>4.867142</td>\n",
              "      <td>16.039267</td>\n",
              "      <td>8.814358</td>\n",
              "      <td>0.675733</td>\n",
              "      <td>0.569149</td>\n",
              "      <td>0.283065</td>\n",
              "      <td>0.224066</td>\n",
              "      <td>0.397452</td>\n",
              "      <td>0.499914</td>\n",
              "    </tr>\n",
              "    <tr>\n",
              "      <th>min</th>\n",
              "      <td>30.000000</td>\n",
              "      <td>1.000000</td>\n",
              "      <td>120.000000</td>\n",
              "      <td>23.000000</td>\n",
              "      <td>9.331007</td>\n",
              "      <td>80.000000</td>\n",
              "      <td>53.000000</td>\n",
              "      <td>1.000000</td>\n",
              "      <td>1.000000</td>\n",
              "      <td>0.000000</td>\n",
              "      <td>0.000000</td>\n",
              "      <td>0.000000</td>\n",
              "      <td>0.000000</td>\n",
              "    </tr>\n",
              "    <tr>\n",
              "      <th>25%</th>\n",
              "      <td>48.000000</td>\n",
              "      <td>1.000000</td>\n",
              "      <td>159.000000</td>\n",
              "      <td>65.000000</td>\n",
              "      <td>23.874536</td>\n",
              "      <td>120.000000</td>\n",
              "      <td>80.000000</td>\n",
              "      <td>1.000000</td>\n",
              "      <td>1.000000</td>\n",
              "      <td>0.000000</td>\n",
              "      <td>0.000000</td>\n",
              "      <td>1.000000</td>\n",
              "      <td>0.000000</td>\n",
              "    </tr>\n",
              "    <tr>\n",
              "      <th>50%</th>\n",
              "      <td>54.000000</td>\n",
              "      <td>1.000000</td>\n",
              "      <td>165.000000</td>\n",
              "      <td>72.000000</td>\n",
              "      <td>26.264944</td>\n",
              "      <td>120.000000</td>\n",
              "      <td>80.000000</td>\n",
              "      <td>1.000000</td>\n",
              "      <td>1.000000</td>\n",
              "      <td>0.000000</td>\n",
              "      <td>0.000000</td>\n",
              "      <td>1.000000</td>\n",
              "      <td>0.000000</td>\n",
              "    </tr>\n",
              "    <tr>\n",
              "      <th>75%</th>\n",
              "      <td>58.000000</td>\n",
              "      <td>2.000000</td>\n",
              "      <td>170.000000</td>\n",
              "      <td>82.000000</td>\n",
              "      <td>30.078125</td>\n",
              "      <td>140.000000</td>\n",
              "      <td>90.000000</td>\n",
              "      <td>1.000000</td>\n",
              "      <td>1.000000</td>\n",
              "      <td>0.000000</td>\n",
              "      <td>0.000000</td>\n",
              "      <td>1.000000</td>\n",
              "      <td>1.000000</td>\n",
              "    </tr>\n",
              "    <tr>\n",
              "      <th>max</th>\n",
              "      <td>65.000000</td>\n",
              "      <td>2.000000</td>\n",
              "      <td>250.000000</td>\n",
              "      <td>165.000000</td>\n",
              "      <td>45.724737</td>\n",
              "      <td>401.000000</td>\n",
              "      <td>109.000000</td>\n",
              "      <td>3.000000</td>\n",
              "      <td>3.000000</td>\n",
              "      <td>1.000000</td>\n",
              "      <td>1.000000</td>\n",
              "      <td>1.000000</td>\n",
              "      <td>1.000000</td>\n",
              "    </tr>\n",
              "  </tbody>\n",
              "</table>\n",
              "</div>\n",
              "      <button class=\"colab-df-convert\" onclick=\"convertToInteractive('df-3521b1dc-d23d-46ac-904a-bd54ef47bd45')\"\n",
              "              title=\"Convert this dataframe to an interactive table.\"\n",
              "              style=\"display:none;\">\n",
              "        \n",
              "  <svg xmlns=\"http://www.w3.org/2000/svg\" height=\"24px\"viewBox=\"0 0 24 24\"\n",
              "       width=\"24px\">\n",
              "    <path d=\"M0 0h24v24H0V0z\" fill=\"none\"/>\n",
              "    <path d=\"M18.56 5.44l.94 2.06.94-2.06 2.06-.94-2.06-.94-.94-2.06-.94 2.06-2.06.94zm-11 1L8.5 8.5l.94-2.06 2.06-.94-2.06-.94L8.5 2.5l-.94 2.06-2.06.94zm10 10l.94 2.06.94-2.06 2.06-.94-2.06-.94-.94-2.06-.94 2.06-2.06.94z\"/><path d=\"M17.41 7.96l-1.37-1.37c-.4-.4-.92-.59-1.43-.59-.52 0-1.04.2-1.43.59L10.3 9.45l-7.72 7.72c-.78.78-.78 2.05 0 2.83L4 21.41c.39.39.9.59 1.41.59.51 0 1.02-.2 1.41-.59l7.78-7.78 2.81-2.81c.8-.78.8-2.07 0-2.86zM5.41 20L4 18.59l7.72-7.72 1.47 1.35L5.41 20z\"/>\n",
              "  </svg>\n",
              "      </button>\n",
              "      \n",
              "  <style>\n",
              "    .colab-df-container {\n",
              "      display:flex;\n",
              "      flex-wrap:wrap;\n",
              "      gap: 12px;\n",
              "    }\n",
              "\n",
              "    .colab-df-convert {\n",
              "      background-color: #E8F0FE;\n",
              "      border: none;\n",
              "      border-radius: 50%;\n",
              "      cursor: pointer;\n",
              "      display: none;\n",
              "      fill: #1967D2;\n",
              "      height: 32px;\n",
              "      padding: 0 0 0 0;\n",
              "      width: 32px;\n",
              "    }\n",
              "\n",
              "    .colab-df-convert:hover {\n",
              "      background-color: #E2EBFA;\n",
              "      box-shadow: 0px 1px 2px rgba(60, 64, 67, 0.3), 0px 1px 3px 1px rgba(60, 64, 67, 0.15);\n",
              "      fill: #174EA6;\n",
              "    }\n",
              "\n",
              "    [theme=dark] .colab-df-convert {\n",
              "      background-color: #3B4455;\n",
              "      fill: #D2E3FC;\n",
              "    }\n",
              "\n",
              "    [theme=dark] .colab-df-convert:hover {\n",
              "      background-color: #434B5C;\n",
              "      box-shadow: 0px 1px 3px 1px rgba(0, 0, 0, 0.15);\n",
              "      filter: drop-shadow(0px 1px 2px rgba(0, 0, 0, 0.3));\n",
              "      fill: #FFFFFF;\n",
              "    }\n",
              "  </style>\n",
              "\n",
              "      <script>\n",
              "        const buttonEl =\n",
              "          document.querySelector('#df-3521b1dc-d23d-46ac-904a-bd54ef47bd45 button.colab-df-convert');\n",
              "        buttonEl.style.display =\n",
              "          google.colab.kernel.accessAllowed ? 'block' : 'none';\n",
              "\n",
              "        async function convertToInteractive(key) {\n",
              "          const element = document.querySelector('#df-3521b1dc-d23d-46ac-904a-bd54ef47bd45');\n",
              "          const dataTable =\n",
              "            await google.colab.kernel.invokeFunction('convertToInteractive',\n",
              "                                                     [key], {});\n",
              "          if (!dataTable) return;\n",
              "\n",
              "          const docLinkHtml = 'Like what you see? Visit the ' +\n",
              "            '<a target=\"_blank\" href=https://colab.research.google.com/notebooks/data_table.ipynb>data table notebook</a>'\n",
              "            + ' to learn more about interactive tables.';\n",
              "          element.innerHTML = '';\n",
              "          dataTable['output_type'] = 'display_data';\n",
              "          await google.colab.output.renderOutput(dataTable, element);\n",
              "          const docLink = document.createElement('div');\n",
              "          docLink.innerHTML = docLinkHtml;\n",
              "          element.appendChild(docLink);\n",
              "        }\n",
              "      </script>\n",
              "    </div>\n",
              "  </div>\n",
              "  "
            ]
          },
          "metadata": {},
          "execution_count": 15
        }
      ]
    },
    {
      "cell_type": "markdown",
      "metadata": {
        "id": "D2Izix26wCdd"
      },
      "source": [
        "Корреляция Пирсона между признаками, целевой переменной."
      ]
    },
    {
      "cell_type": "code",
      "metadata": {
        "colab": {
          "base_uri": "https://localhost:8080/",
          "height": 647
        },
        "id": "KlM940ZG3Xbc",
        "outputId": "939b363a-d9d7-4260-b437-00ffaacc9bc5"
      },
      "source": [
        "corr = data.corr()\n",
        "mask = np.triu(np.ones_like(corr, dtype=bool))\n",
        "f, ax = plt.subplots(figsize=(13, 12))\n",
        "cmap = sns.diverging_palette(230, 20, as_cmap=True)\n",
        "sns.heatmap(corr, mask=mask, cmap=cmap, vmax=.3, center=0,\n",
        "            square=True, linewidths=.5, cbar_kws={\"shrink\": .5},annot=True)"
      ],
      "execution_count": null,
      "outputs": [
        {
          "output_type": "execute_result",
          "data": {
            "text/plain": [
              "<matplotlib.axes._subplots.AxesSubplot at 0x7f36f12b6610>"
            ]
          },
          "metadata": {},
          "execution_count": 16
        },
        {
          "output_type": "display_data",
          "data": {
            "text/plain": [
              "<Figure size 936x864 with 2 Axes>"
            ],
            "image/png": "[encoded data removed]"
          },
          "metadata": {
            "needs_background": "light"
          }
        }
      ]
    },
    {
      "cell_type": "markdown",
      "source": [
        "Распределение по полу"
      ],
      "metadata": {
        "id": "6nkxzthii7m5"
      }
    },
    {
      "cell_type": "code",
      "source": [
        "sns.countplot(data=data,x='gender',hue='cardio')"
      ],
      "metadata": {
        "colab": {
          "base_uri": "https://localhost:8080/",
          "height": 297
        },
        "id": "FuhBKCN3jDFe",
        "outputId": "d44e7904-a44e-4dde-fa04-021eca192565"
      },
      "execution_count": null,
      "outputs": [
        {
          "output_type": "execute_result",
          "data": {
            "text/plain": [
              "<matplotlib.axes._subplots.AxesSubplot at 0x7f36f129d9d0>"
            ]
          },
          "metadata": {},
          "execution_count": 17
        },
        {
          "output_type": "display_data",
          "data": {
            "text/plain": [
              "<Figure size 432x288 with 1 Axes>"
            ],
            "image/png": "[encoded data removed]"
          },
          "metadata": {
            "needs_background": "light"
          }
        }
      ]
    },
    {
      "cell_type": "markdown",
      "metadata": {
        "id": "k8iyZ-nBwNNL"
      },
      "source": [
        "Распределение целевой переменной по ИМТ"
      ]
    },
    {
      "cell_type": "code",
      "metadata": {
        "colab": {
          "base_uri": "https://localhost:8080/",
          "height": 387
        },
        "id": "NGqhnANvV5WS",
        "outputId": "fadeab3c-1dc3-4af9-dc7c-07dd38868300"
      },
      "source": [
        "sns.displot(data=data,x='bmi',hue='cardio',aspect=3,)"
      ],
      "execution_count": null,
      "outputs": [
        {
          "output_type": "execute_result",
          "data": {
            "text/plain": [
              "<seaborn.axisgrid.FacetGrid at 0x7f36ee815650>"
            ]
          },
          "metadata": {},
          "execution_count": 18
        },
        {
          "output_type": "display_data",
          "data": {
            "text/plain": [
              "<Figure size 1122.38x360 with 1 Axes>"
            ],
            "image/png": "[encoded data removed]"
          },
          "metadata": {
            "needs_background": "light"
          }
        }
      ]
    },
    {
      "cell_type": "markdown",
      "metadata": {
        "id": "bTThT934wWGc"
      },
      "source": [
        "Распределение болезней по возрасту"
      ]
    },
    {
      "cell_type": "code",
      "metadata": {
        "colab": {
          "base_uri": "https://localhost:8080/",
          "height": 387
        },
        "id": "xLa0W4f6bgy3",
        "outputId": "f03aabcb-cf23-49aa-a7c9-895601731cae"
      },
      "source": [
        "sns.displot(data=data,x='age',hue='cardio',aspect=3)"
      ],
      "execution_count": null,
      "outputs": [
        {
          "output_type": "execute_result",
          "data": {
            "text/plain": [
              "<seaborn.axisgrid.FacetGrid at 0x7f36ecb34850>"
            ]
          },
          "metadata": {},
          "execution_count": 19
        },
        {
          "output_type": "display_data",
          "data": {
            "text/plain": [
              "<Figure size 1122.38x360 with 1 Axes>"
            ],
            "image/png": "[encoded data removed]"
          },
          "metadata": {
            "needs_background": "light"
          }
        }
      ]
    },
    {
      "cell_type": "markdown",
      "metadata": {
        "id": "d28Cjw_rTAai"
      },
      "source": [
        "Распределение целевой переменной"
      ]
    },
    {
      "cell_type": "code",
      "metadata": {
        "colab": {
          "base_uri": "https://localhost:8080/",
          "height": 304
        },
        "id": "FkeD9m-JR3GR",
        "outputId": "0879f9b0-34d8-4049-93d0-53c6dc85ceb3"
      },
      "source": [
        "fig, ax = plt.subplots(figsize=(7,7))\n",
        "plt.tight_layout(pad=10)\n",
        "ax.pie(x=data['cardio'].value_counts(), labels=['No cardio','Cardio'],autopct='%1.1f%%')\n",
        "plt.show()"
      ],
      "execution_count": null,
      "outputs": [
        {
          "output_type": "display_data",
          "data": {
            "text/plain": [
              "<Figure size 504x504 with 1 Axes>"
            ],
            "image/png": "[encoded data removed]"
          },
          "metadata": {}
        }
      ]
    },
    {
      "cell_type": "markdown",
      "metadata": {
        "id": "7eWh4itbzSO2"
      },
      "source": [
        "# Работа с данными и обучение моделей"
      ]
    },
    {
      "cell_type": "code",
      "metadata": {
        "id": "XRjIwH3ykZXh"
      },
      "source": [
        "df = data.copy()"
      ],
      "execution_count": null,
      "outputs": []
    },
    {
      "cell_type": "markdown",
      "metadata": {
        "id": "fQx_pvGP1Eeb"
      },
      "source": [
        "Добавим категориальное значение ИМТ"
      ]
    },
    {
      "cell_type": "code",
      "metadata": {
        "colab": {
          "base_uri": "https://localhost:8080/",
          "height": 206
        },
        "id": "A9QwE1dsznL7",
        "outputId": "d138e9c1-b120-4f7b-dc64-8223db141ee1"
      },
      "source": [
        "df.loc[(data['bmi'] < 18.5),'cat_bmi'] = 'under'\n",
        "df.loc[(data['bmi'] >= 18.5) & (data['bmi'] < 25) ,'cat_bmi'] = 'healthy'\n",
        "df.loc[(data['bmi'] >= 25) & (data['bmi'] < 30) ,'cat_bmi']= 'over'\n",
        "df.loc[(data['bmi'] >= 30), 'cat_bmi'] = 'obese'\n",
        "df.head()"
      ],
      "execution_count": null,
      "outputs": [
        {
          "output_type": "execute_result",
          "data": {
            "text/plain": [
              "    age  gender  height  weight        bmi  ap_hi  ap_lo  cholesterol  gluc  \\\n",
              "0  50.0       2     168    62.0  21.967120    110     80            1     1   \n",
              "1  55.0       1     156    85.0  34.927679    140     90            3     1   \n",
              "2  52.0       1     165    64.0  23.507805    130     70            3     1   \n",
              "3  48.0       2     169    82.0  28.710479    150    100            1     1   \n",
              "4  48.0       1     156    56.0  23.011177    100     60            1     1   \n",
              "\n",
              "   smoke  alco  active  cardio  cat_bmi  \n",
              "0      0     0       1       0  healthy  \n",
              "1      0     0       1       1    obese  \n",
              "2      0     0       0       1  healthy  \n",
              "3      0     0       1       1     over  \n",
              "4      0     0       0       0  healthy  "
            ],
            "text/html": [
              "\n",
              "  <div id=\"df-79e905e5-ad84-414e-86b6-cd549cb7ca22\">\n",
              "    <div class=\"colab-df-container\">\n",
              "      <div>\n",
              "<style scoped>\n",
              "    .dataframe tbody tr th:only-of-type {\n",
              "        vertical-align: middle;\n",
              "    }\n",
              "\n",
              "    .dataframe tbody tr th {\n",
              "        vertical-align: top;\n",
              "    }\n",
              "\n",
              "    .dataframe thead th {\n",
              "        text-align: right;\n",
              "    }\n",
              "</style>\n",
              "<table border=\"1\" class=\"dataframe\">\n",
              "  <thead>\n",
              "    <tr style=\"text-align: right;\">\n",
              "      <th></th>\n",
              "      <th>age</th>\n",
              "      <th>gender</th>\n",
              "      <th>height</th>\n",
              "      <th>weight</th>\n",
              "      <th>bmi</th>\n",
              "      <th>ap_hi</th>\n",
              "      <th>ap_lo</th>\n",
              "      <th>cholesterol</th>\n",
              "      <th>gluc</th>\n",
              "      <th>smoke</th>\n",
              "      <th>alco</th>\n",
              "      <th>active</th>\n",
              "      <th>cardio</th>\n",
              "      <th>cat_bmi</th>\n",
              "    </tr>\n",
              "  </thead>\n",
              "  <tbody>\n",
              "    <tr>\n",
              "      <th>0</th>\n",
              "      <td>50.0</td>\n",
              "      <td>2</td>\n",
              "      <td>168</td>\n",
              "      <td>62.0</td>\n",
              "      <td>21.967120</td>\n",
              "      <td>110</td>\n",
              "      <td>80</td>\n",
              "      <td>1</td>\n",
              "      <td>1</td>\n",
              "      <td>0</td>\n",
              "      <td>0</td>\n",
              "      <td>1</td>\n",
              "      <td>0</td>\n",
              "      <td>healthy</td>\n",
              "    </tr>\n",
              "    <tr>\n",
              "      <th>1</th>\n",
              "      <td>55.0</td>\n",
              "      <td>1</td>\n",
              "      <td>156</td>\n",
              "      <td>85.0</td>\n",
              "      <td>34.927679</td>\n",
              "      <td>140</td>\n",
              "      <td>90</td>\n",
              "      <td>3</td>\n",
              "      <td>1</td>\n",
              "      <td>0</td>\n",
              "      <td>0</td>\n",
              "      <td>1</td>\n",
              "      <td>1</td>\n",
              "      <td>obese</td>\n",
              "    </tr>\n",
              "    <tr>\n",
              "      <th>2</th>\n",
              "      <td>52.0</td>\n",
              "      <td>1</td>\n",
              "      <td>165</td>\n",
              "      <td>64.0</td>\n",
              "      <td>23.507805</td>\n",
              "      <td>130</td>\n",
              "      <td>70</td>\n",
              "      <td>3</td>\n",
              "      <td>1</td>\n",
              "      <td>0</td>\n",
              "      <td>0</td>\n",
              "      <td>0</td>\n",
              "      <td>1</td>\n",
              "      <td>healthy</td>\n",
              "    </tr>\n",
              "    <tr>\n",
              "      <th>3</th>\n",
              "      <td>48.0</td>\n",
              "      <td>2</td>\n",
              "      <td>169</td>\n",
              "      <td>82.0</td>\n",
              "      <td>28.710479</td>\n",
              "      <td>150</td>\n",
              "      <td>100</td>\n",
              "      <td>1</td>\n",
              "      <td>1</td>\n",
              "      <td>0</td>\n",
              "      <td>0</td>\n",
              "      <td>1</td>\n",
              "      <td>1</td>\n",
              "      <td>over</td>\n",
              "    </tr>\n",
              "    <tr>\n",
              "      <th>4</th>\n",
              "      <td>48.0</td>\n",
              "      <td>1</td>\n",
              "      <td>156</td>\n",
              "      <td>56.0</td>\n",
              "      <td>23.011177</td>\n",
              "      <td>100</td>\n",
              "      <td>60</td>\n",
              "      <td>1</td>\n",
              "      <td>1</td>\n",
              "      <td>0</td>\n",
              "      <td>0</td>\n",
              "      <td>0</td>\n",
              "      <td>0</td>\n",
              "      <td>healthy</td>\n",
              "    </tr>\n",
              "  </tbody>\n",
              "</table>\n",
              "</div>\n",
              "      <button class=\"colab-df-convert\" onclick=\"convertToInteractive('df-79e905e5-ad84-414e-86b6-cd549cb7ca22')\"\n",
              "              title=\"Convert this dataframe to an interactive table.\"\n",
              "              style=\"display:none;\">\n",
              "        \n",
              "  <svg xmlns=\"http://www.w3.org/2000/svg\" height=\"24px\"viewBox=\"0 0 24 24\"\n",
              "       width=\"24px\">\n",
              "    <path d=\"M0 0h24v24H0V0z\" fill=\"none\"/>\n",
              "    <path d=\"M18.56 5.44l.94 2.06.94-2.06 2.06-.94-2.06-.94-.94-2.06-.94 2.06-2.06.94zm-11 1L8.5 8.5l.94-2.06 2.06-.94-2.06-.94L8.5 2.5l-.94 2.06-2.06.94zm10 10l.94 2.06.94-2.06 2.06-.94-2.06-.94-.94-2.06-.94 2.06-2.06.94z\"/><path d=\"M17.41 7.96l-1.37-1.37c-.4-.4-.92-.59-1.43-.59-.52 0-1.04.2-1.43.59L10.3 9.45l-7.72 7.72c-.78.78-.78 2.05 0 2.83L4 21.41c.39.39.9.59 1.41.59.51 0 1.02-.2 1.41-.59l7.78-7.78 2.81-2.81c.8-.78.8-2.07 0-2.86zM5.41 20L4 18.59l7.72-7.72 1.47 1.35L5.41 20z\"/>\n",
              "  </svg>\n",
              "      </button>\n",
              "      \n",
              "  <style>\n",
              "    .colab-df-container {\n",
              "      display:flex;\n",
              "      flex-wrap:wrap;\n",
              "      gap: 12px;\n",
              "    }\n",
              "\n",
              "    .colab-df-convert {\n",
              "      background-color: #E8F0FE;\n",
              "      border: none;\n",
              "      border-radius: 50%;\n",
              "      cursor: pointer;\n",
              "      display: none;\n",
              "      fill: #1967D2;\n",
              "      height: 32px;\n",
              "      padding: 0 0 0 0;\n",
              "      width: 32px;\n",
              "    }\n",
              "\n",
              "    .colab-df-convert:hover {\n",
              "      background-color: #E2EBFA;\n",
              "      box-shadow: 0px 1px 2px rgba(60, 64, 67, 0.3), 0px 1px 3px 1px rgba(60, 64, 67, 0.15);\n",
              "      fill: #174EA6;\n",
              "    }\n",
              "\n",
              "    [theme=dark] .colab-df-convert {\n",
              "      background-color: #3B4455;\n",
              "      fill: #D2E3FC;\n",
              "    }\n",
              "\n",
              "    [theme=dark] .colab-df-convert:hover {\n",
              "      background-color: #434B5C;\n",
              "      box-shadow: 0px 1px 3px 1px rgba(0, 0, 0, 0.15);\n",
              "      filter: drop-shadow(0px 1px 2px rgba(0, 0, 0, 0.3));\n",
              "      fill: #FFFFFF;\n",
              "    }\n",
              "  </style>\n",
              "\n",
              "      <script>\n",
              "        const buttonEl =\n",
              "          document.querySelector('#df-79e905e5-ad84-414e-86b6-cd549cb7ca22 button.colab-df-convert');\n",
              "        buttonEl.style.display =\n",
              "          google.colab.kernel.accessAllowed ? 'block' : 'none';\n",
              "\n",
              "        async function convertToInteractive(key) {\n",
              "          const element = document.querySelector('#df-79e905e5-ad84-414e-86b6-cd549cb7ca22');\n",
              "          const dataTable =\n",
              "            await google.colab.kernel.invokeFunction('convertToInteractive',\n",
              "                                                     [key], {});\n",
              "          if (!dataTable) return;\n",
              "\n",
              "          const docLinkHtml = 'Like what you see? Visit the ' +\n",
              "            '<a target=\"_blank\" href=https://colab.research.google.com/notebooks/data_table.ipynb>data table notebook</a>'\n",
              "            + ' to learn more about interactive tables.';\n",
              "          element.innerHTML = '';\n",
              "          dataTable['output_type'] = 'display_data';\n",
              "          await google.colab.output.renderOutput(dataTable, element);\n",
              "          const docLink = document.createElement('div');\n",
              "          docLink.innerHTML = docLinkHtml;\n",
              "          element.appendChild(docLink);\n",
              "        }\n",
              "      </script>\n",
              "    </div>\n",
              "  </div>\n",
              "  "
            ]
          },
          "metadata": {},
          "execution_count": 22
        }
      ]
    },
    {
      "cell_type": "markdown",
      "metadata": {
        "id": "frRUa7cO47-k"
      },
      "source": [
        "Добавим категориальное значение давления"
      ]
    },
    {
      "cell_type": "code",
      "metadata": {
        "colab": {
          "base_uri": "https://localhost:8080/",
          "height": 206
        },
        "id": "QNyERlv31PFP",
        "outputId": "a14df741-1251-49fa-bf9c-e3c052623967"
      },
      "source": [
        "df.loc[((data[\"ap_lo\"])<=90) & ((data[\"ap_lo\"])>=60) & ((data[\"ap_hi\"])>=90) & ((data[\"ap_hi\"])<=140), \"blood_pressure\"] = 'normal'\n",
        "df.loc[((data[\"ap_lo\"])<60) | ((data[\"ap_hi\"])<90), \"blood_pressure\"] = 'under'\n",
        "df.loc[((data[\"ap_lo\"])>90) | ((data[\"ap_hi\"])>140), \"blood_pressure\"] = 'higher'\n",
        "df_cat = df.copy()\n",
        "df.head()"
      ],
      "execution_count": null,
      "outputs": [
        {
          "output_type": "execute_result",
          "data": {
            "text/plain": [
              "    age  gender  height  weight        bmi  ap_hi  ap_lo  cholesterol  gluc  \\\n",
              "0  50.0       2     168    62.0  21.967120    110     80            1     1   \n",
              "1  55.0       1     156    85.0  34.927679    140     90            3     1   \n",
              "2  52.0       1     165    64.0  23.507805    130     70            3     1   \n",
              "3  48.0       2     169    82.0  28.710479    150    100            1     1   \n",
              "4  48.0       1     156    56.0  23.011177    100     60            1     1   \n",
              "\n",
              "   smoke  alco  active  cardio  cat_bmi blood_pressure  \n",
              "0      0     0       1       0  healthy         normal  \n",
              "1      0     0       1       1    obese         normal  \n",
              "2      0     0       0       1  healthy         normal  \n",
              "3      0     0       1       1     over         higher  \n",
              "4      0     0       0       0  healthy         normal  "
            ],
            "text/html": [
              "\n",
              "  <div id=\"df-ee868544-8a44-444f-ad40-275ccea4b761\">\n",
              "    <div class=\"colab-df-container\">\n",
              "      <div>\n",
              "<style scoped>\n",
              "    .dataframe tbody tr th:only-of-type {\n",
              "        vertical-align: middle;\n",
              "    }\n",
              "\n",
              "    .dataframe tbody tr th {\n",
              "        vertical-align: top;\n",
              "    }\n",
              "\n",
              "    .dataframe thead th {\n",
              "        text-align: right;\n",
              "    }\n",
              "</style>\n",
              "<table border=\"1\" class=\"dataframe\">\n",
              "  <thead>\n",
              "    <tr style=\"text-align: right;\">\n",
              "      <th></th>\n",
              "      <th>age</th>\n",
              "      <th>gender</th>\n",
              "      <th>height</th>\n",
              "      <th>weight</th>\n",
              "      <th>bmi</th>\n",
              "      <th>ap_hi</th>\n",
              "      <th>ap_lo</th>\n",
              "      <th>cholesterol</th>\n",
              "      <th>gluc</th>\n",
              "      <th>smoke</th>\n",
              "      <th>alco</th>\n",
              "      <th>active</th>\n",
              "      <th>cardio</th>\n",
              "      <th>cat_bmi</th>\n",
              "      <th>blood_pressure</th>\n",
              "    </tr>\n",
              "  </thead>\n",
              "  <tbody>\n",
              "    <tr>\n",
              "      <th>0</th>\n",
              "      <td>50.0</td>\n",
              "      <td>2</td>\n",
              "      <td>168</td>\n",
              "      <td>62.0</td>\n",
              "      <td>21.967120</td>\n",
              "      <td>110</td>\n",
              "      <td>80</td>\n",
              "      <td>1</td>\n",
              "      <td>1</td>\n",
              "      <td>0</td>\n",
              "      <td>0</td>\n",
              "      <td>1</td>\n",
              "      <td>0</td>\n",
              "      <td>healthy</td>\n",
              "      <td>normal</td>\n",
              "    </tr>\n",
              "    <tr>\n",
              "      <th>1</th>\n",
              "      <td>55.0</td>\n",
              "      <td>1</td>\n",
              "      <td>156</td>\n",
              "      <td>85.0</td>\n",
              "      <td>34.927679</td>\n",
              "      <td>140</td>\n",
              "      <td>90</td>\n",
              "      <td>3</td>\n",
              "      <td>1</td>\n",
              "      <td>0</td>\n",
              "      <td>0</td>\n",
              "      <td>1</td>\n",
              "      <td>1</td>\n",
              "      <td>obese</td>\n",
              "      <td>normal</td>\n",
              "    </tr>\n",
              "    <tr>\n",
              "      <th>2</th>\n",
              "      <td>52.0</td>\n",
              "      <td>1</td>\n",
              "      <td>165</td>\n",
              "      <td>64.0</td>\n",
              "      <td>23.507805</td>\n",
              "      <td>130</td>\n",
              "      <td>70</td>\n",
              "      <td>3</td>\n",
              "      <td>1</td>\n",
              "      <td>0</td>\n",
              "      <td>0</td>\n",
              "      <td>0</td>\n",
              "      <td>1</td>\n",
              "      <td>healthy</td>\n",
              "      <td>normal</td>\n",
              "    </tr>\n",
              "    <tr>\n",
              "      <th>3</th>\n",
              "      <td>48.0</td>\n",
              "      <td>2</td>\n",
              "      <td>169</td>\n",
              "      <td>82.0</td>\n",
              "      <td>28.710479</td>\n",
              "      <td>150</td>\n",
              "      <td>100</td>\n",
              "      <td>1</td>\n",
              "      <td>1</td>\n",
              "      <td>0</td>\n",
              "      <td>0</td>\n",
              "      <td>1</td>\n",
              "      <td>1</td>\n",
              "      <td>over</td>\n",
              "      <td>higher</td>\n",
              "    </tr>\n",
              "    <tr>\n",
              "      <th>4</th>\n",
              "      <td>48.0</td>\n",
              "      <td>1</td>\n",
              "      <td>156</td>\n",
              "      <td>56.0</td>\n",
              "      <td>23.011177</td>\n",
              "      <td>100</td>\n",
              "      <td>60</td>\n",
              "      <td>1</td>\n",
              "      <td>1</td>\n",
              "      <td>0</td>\n",
              "      <td>0</td>\n",
              "      <td>0</td>\n",
              "      <td>0</td>\n",
              "      <td>healthy</td>\n",
              "      <td>normal</td>\n",
              "    </tr>\n",
              "  </tbody>\n",
              "</table>\n",
              "</div>\n",
              "      <button class=\"colab-df-convert\" onclick=\"convertToInteractive('df-ee868544-8a44-444f-ad40-275ccea4b761')\"\n",
              "              title=\"Convert this dataframe to an interactive table.\"\n",
              "              style=\"display:none;\">\n",
              "        \n",
              "  <svg xmlns=\"http://www.w3.org/2000/svg\" height=\"24px\"viewBox=\"0 0 24 24\"\n",
              "       width=\"24px\">\n",
              "    <path d=\"M0 0h24v24H0V0z\" fill=\"none\"/>\n",
              "    <path d=\"M18.56 5.44l.94 2.06.94-2.06 2.06-.94-2.06-.94-.94-2.06-.94 2.06-2.06.94zm-11 1L8.5 8.5l.94-2.06 2.06-.94-2.06-.94L8.5 2.5l-.94 2.06-2.06.94zm10 10l.94 2.06.94-2.06 2.06-.94-2.06-.94-.94-2.06-.94 2.06-2.06.94z\"/><path d=\"M17.41 7.96l-1.37-1.37c-.4-.4-.92-.59-1.43-.59-.52 0-1.04.2-1.43.59L10.3 9.45l-7.72 7.72c-.78.78-.78 2.05 0 2.83L4 21.41c.39.39.9.59 1.41.59.51 0 1.02-.2 1.41-.59l7.78-7.78 2.81-2.81c.8-.78.8-2.07 0-2.86zM5.41 20L4 18.59l7.72-7.72 1.47 1.35L5.41 20z\"/>\n",
              "  </svg>\n",
              "      </button>\n",
              "      \n",
              "  <style>\n",
              "    .colab-df-container {\n",
              "      display:flex;\n",
              "      flex-wrap:wrap;\n",
              "      gap: 12px;\n",
              "    }\n",
              "\n",
              "    .colab-df-convert {\n",
              "      background-color: #E8F0FE;\n",
              "      border: none;\n",
              "      border-radius: 50%;\n",
              "      cursor: pointer;\n",
              "      display: none;\n",
              "      fill: #1967D2;\n",
              "      height: 32px;\n",
              "      padding: 0 0 0 0;\n",
              "      width: 32px;\n",
              "    }\n",
              "\n",
              "    .colab-df-convert:hover {\n",
              "      background-color: #E2EBFA;\n",
              "      box-shadow: 0px 1px 2px rgba(60, 64, 67, 0.3), 0px 1px 3px 1px rgba(60, 64, 67, 0.15);\n",
              "      fill: #174EA6;\n",
              "    }\n",
              "\n",
              "    [theme=dark] .colab-df-convert {\n",
              "      background-color: #3B4455;\n",
              "      fill: #D2E3FC;\n",
              "    }\n",
              "\n",
              "    [theme=dark] .colab-df-convert:hover {\n",
              "      background-color: #434B5C;\n",
              "      box-shadow: 0px 1px 3px 1px rgba(0, 0, 0, 0.15);\n",
              "      filter: drop-shadow(0px 1px 2px rgba(0, 0, 0, 0.3));\n",
              "      fill: #FFFFFF;\n",
              "    }\n",
              "  </style>\n",
              "\n",
              "      <script>\n",
              "        const buttonEl =\n",
              "          document.querySelector('#df-ee868544-8a44-444f-ad40-275ccea4b761 button.colab-df-convert');\n",
              "        buttonEl.style.display =\n",
              "          google.colab.kernel.accessAllowed ? 'block' : 'none';\n",
              "\n",
              "        async function convertToInteractive(key) {\n",
              "          const element = document.querySelector('#df-ee868544-8a44-444f-ad40-275ccea4b761');\n",
              "          const dataTable =\n",
              "            await google.colab.kernel.invokeFunction('convertToInteractive',\n",
              "                                                     [key], {});\n",
              "          if (!dataTable) return;\n",
              "\n",
              "          const docLinkHtml = 'Like what you see? Visit the ' +\n",
              "            '<a target=\"_blank\" href=https://colab.research.google.com/notebooks/data_table.ipynb>data table notebook</a>'\n",
              "            + ' to learn more about interactive tables.';\n",
              "          element.innerHTML = '';\n",
              "          dataTable['output_type'] = 'display_data';\n",
              "          await google.colab.output.renderOutput(dataTable, element);\n",
              "          const docLink = document.createElement('div');\n",
              "          docLink.innerHTML = docLinkHtml;\n",
              "          element.appendChild(docLink);\n",
              "        }\n",
              "      </script>\n",
              "    </div>\n",
              "  </div>\n",
              "  "
            ]
          },
          "metadata": {},
          "execution_count": 23
        }
      ]
    },
    {
      "cell_type": "markdown",
      "metadata": {
        "id": "-4tktwg267pr"
      },
      "source": [
        "Закодируем все категориальные значения в отдельные столбцы\n",
        "\n"
      ]
    },
    {
      "cell_type": "code",
      "metadata": {
        "colab": {
          "base_uri": "https://localhost:8080/",
          "height": 299
        },
        "id": "YP5I2RfuE0AF",
        "outputId": "2d669415-f61a-4fcf-de52-7eec0593f47f"
      },
      "source": [
        "cat_cols = [col for col in df.columns if 10 >= len(df[col].unique()) > 2]\n",
        "df = pd.get_dummies(df, columns=cat_cols, drop_first=False)\n",
        "df.head()"
      ],
      "execution_count": null,
      "outputs": [
        {
          "output_type": "execute_result",
          "data": {
            "text/plain": [
              "    age  gender  height  weight        bmi  ap_hi  ap_lo  smoke  alco  active  \\\n",
              "0  50.0       2     168    62.0  21.967120    110     80      0     0       1   \n",
              "1  55.0       1     156    85.0  34.927679    140     90      0     0       1   \n",
              "2  52.0       1     165    64.0  23.507805    130     70      0     0       0   \n",
              "3  48.0       2     169    82.0  28.710479    150    100      0     0       1   \n",
              "4  48.0       1     156    56.0  23.011177    100     60      0     0       0   \n",
              "\n",
              "   ...  gluc_1  gluc_2  gluc_3  cat_bmi_healthy  cat_bmi_obese  cat_bmi_over  \\\n",
              "0  ...       1       0       0                1              0             0   \n",
              "1  ...       1       0       0                0              1             0   \n",
              "2  ...       1       0       0                1              0             0   \n",
              "3  ...       1       0       0                0              0             1   \n",
              "4  ...       1       0       0                1              0             0   \n",
              "\n",
              "   cat_bmi_under  blood_pressure_higher  blood_pressure_normal  \\\n",
              "0              0                      0                      1   \n",
              "1              0                      0                      1   \n",
              "2              0                      0                      1   \n",
              "3              0                      1                      0   \n",
              "4              0                      0                      1   \n",
              "\n",
              "   blood_pressure_under  \n",
              "0                     0  \n",
              "1                     0  \n",
              "2                     0  \n",
              "3                     0  \n",
              "4                     0  \n",
              "\n",
              "[5 rows x 24 columns]"
            ],
            "text/html": [
              "\n",
              "  <div id=\"df-3a3d154d-1533-4a0c-bbc1-63c5ef7e3554\">\n",
              "    <div class=\"colab-df-container\">\n",
              "      <div>\n",
              "<style scoped>\n",
              "    .dataframe tbody tr th:only-of-type {\n",
              "        vertical-align: middle;\n",
              "    }\n",
              "\n",
              "    .dataframe tbody tr th {\n",
              "        vertical-align: top;\n",
              "    }\n",
              "\n",
              "    .dataframe thead th {\n",
              "        text-align: right;\n",
              "    }\n",
              "</style>\n",
              "<table border=\"1\" class=\"dataframe\">\n",
              "  <thead>\n",
              "    <tr style=\"text-align: right;\">\n",
              "      <th></th>\n",
              "      <th>age</th>\n",
              "      <th>gender</th>\n",
              "      <th>height</th>\n",
              "      <th>weight</th>\n",
              "      <th>bmi</th>\n",
              "      <th>ap_hi</th>\n",
              "      <th>ap_lo</th>\n",
              "      <th>smoke</th>\n",
              "      <th>alco</th>\n",
              "      <th>active</th>\n",
              "      <th>...</th>\n",
              "      <th>gluc_1</th>\n",
              "      <th>gluc_2</th>\n",
              "      <th>gluc_3</th>\n",
              "      <th>cat_bmi_healthy</th>\n",
              "      <th>cat_bmi_obese</th>\n",
              "      <th>cat_bmi_over</th>\n",
              "      <th>cat_bmi_under</th>\n",
              "      <th>blood_pressure_higher</th>\n",
              "      <th>blood_pressure_normal</th>\n",
              "      <th>blood_pressure_under</th>\n",
              "    </tr>\n",
              "  </thead>\n",
              "  <tbody>\n",
              "    <tr>\n",
              "      <th>0</th>\n",
              "      <td>50.0</td>\n",
              "      <td>2</td>\n",
              "      <td>168</td>\n",
              "      <td>62.0</td>\n",
              "      <td>21.967120</td>\n",
              "      <td>110</td>\n",
              "      <td>80</td>\n",
              "      <td>0</td>\n",
              "      <td>0</td>\n",
              "      <td>1</td>\n",
              "      <td>...</td>\n",
              "      <td>1</td>\n",
              "      <td>0</td>\n",
              "      <td>0</td>\n",
              "      <td>1</td>\n",
              "      <td>0</td>\n",
              "      <td>0</td>\n",
              "      <td>0</td>\n",
              "      <td>0</td>\n",
              "      <td>1</td>\n",
              "      <td>0</td>\n",
              "    </tr>\n",
              "    <tr>\n",
              "      <th>1</th>\n",
              "      <td>55.0</td>\n",
              "      <td>1</td>\n",
              "      <td>156</td>\n",
              "      <td>85.0</td>\n",
              "      <td>34.927679</td>\n",
              "      <td>140</td>\n",
              "      <td>90</td>\n",
              "      <td>0</td>\n",
              "      <td>0</td>\n",
              "      <td>1</td>\n",
              "      <td>...</td>\n",
              "      <td>1</td>\n",
              "      <td>0</td>\n",
              "      <td>0</td>\n",
              "      <td>0</td>\n",
              "      <td>1</td>\n",
              "      <td>0</td>\n",
              "      <td>0</td>\n",
              "      <td>0</td>\n",
              "      <td>1</td>\n",
              "      <td>0</td>\n",
              "    </tr>\n",
              "    <tr>\n",
              "      <th>2</th>\n",
              "      <td>52.0</td>\n",
              "      <td>1</td>\n",
              "      <td>165</td>\n",
              "      <td>64.0</td>\n",
              "      <td>23.507805</td>\n",
              "      <td>130</td>\n",
              "      <td>70</td>\n",
              "      <td>0</td>\n",
              "      <td>0</td>\n",
              "      <td>0</td>\n",
              "      <td>...</td>\n",
              "      <td>1</td>\n",
              "      <td>0</td>\n",
              "      <td>0</td>\n",
              "      <td>1</td>\n",
              "      <td>0</td>\n",
              "      <td>0</td>\n",
              "      <td>0</td>\n",
              "      <td>0</td>\n",
              "      <td>1</td>\n",
              "      <td>0</td>\n",
              "    </tr>\n",
              "    <tr>\n",
              "      <th>3</th>\n",
              "      <td>48.0</td>\n",
              "      <td>2</td>\n",
              "      <td>169</td>\n",
              "      <td>82.0</td>\n",
              "      <td>28.710479</td>\n",
              "      <td>150</td>\n",
              "      <td>100</td>\n",
              "      <td>0</td>\n",
              "      <td>0</td>\n",
              "      <td>1</td>\n",
              "      <td>...</td>\n",
              "      <td>1</td>\n",
              "      <td>0</td>\n",
              "      <td>0</td>\n",
              "      <td>0</td>\n",
              "      <td>0</td>\n",
              "      <td>1</td>\n",
              "      <td>0</td>\n",
              "      <td>1</td>\n",
              "      <td>0</td>\n",
              "      <td>0</td>\n",
              "    </tr>\n",
              "    <tr>\n",
              "      <th>4</th>\n",
              "      <td>48.0</td>\n",
              "      <td>1</td>\n",
              "      <td>156</td>\n",
              "      <td>56.0</td>\n",
              "      <td>23.011177</td>\n",
              "      <td>100</td>\n",
              "      <td>60</td>\n",
              "      <td>0</td>\n",
              "      <td>0</td>\n",
              "      <td>0</td>\n",
              "      <td>...</td>\n",
              "      <td>1</td>\n",
              "      <td>0</td>\n",
              "      <td>0</td>\n",
              "      <td>1</td>\n",
              "      <td>0</td>\n",
              "      <td>0</td>\n",
              "      <td>0</td>\n",
              "      <td>0</td>\n",
              "      <td>1</td>\n",
              "      <td>0</td>\n",
              "    </tr>\n",
              "  </tbody>\n",
              "</table>\n",
              "<p>5 rows × 24 columns</p>\n",
              "</div>\n",
              "      <button class=\"colab-df-convert\" onclick=\"convertToInteractive('df-3a3d154d-1533-4a0c-bbc1-63c5ef7e3554')\"\n",
              "              title=\"Convert this dataframe to an interactive table.\"\n",
              "              style=\"display:none;\">\n",
              "        \n",
              "  <svg xmlns=\"http://www.w3.org/2000/svg\" height=\"24px\"viewBox=\"0 0 24 24\"\n",
              "       width=\"24px\">\n",
              "    <path d=\"M0 0h24v24H0V0z\" fill=\"none\"/>\n",
              "    <path d=\"M18.56 5.44l.94 2.06.94-2.06 2.06-.94-2.06-.94-.94-2.06-.94 2.06-2.06.94zm-11 1L8.5 8.5l.94-2.06 2.06-.94-2.06-.94L8.5 2.5l-.94 2.06-2.06.94zm10 10l.94 2.06.94-2.06 2.06-.94-2.06-.94-.94-2.06-.94 2.06-2.06.94z\"/><path d=\"M17.41 7.96l-1.37-1.37c-.4-.4-.92-.59-1.43-.59-.52 0-1.04.2-1.43.59L10.3 9.45l-7.72 7.72c-.78.78-.78 2.05 0 2.83L4 21.41c.39.39.9.59 1.41.59.51 0 1.02-.2 1.41-.59l7.78-7.78 2.81-2.81c.8-.78.8-2.07 0-2.86zM5.41 20L4 18.59l7.72-7.72 1.47 1.35L5.41 20z\"/>\n",
              "  </svg>\n",
              "      </button>\n",
              "      \n",
              "  <style>\n",
              "    .colab-df-container {\n",
              "      display:flex;\n",
              "      flex-wrap:wrap;\n",
              "      gap: 12px;\n",
              "    }\n",
              "\n",
              "    .colab-df-convert {\n",
              "      background-color: #E8F0FE;\n",
              "      border: none;\n",
              "      border-radius: 50%;\n",
              "      cursor: pointer;\n",
              "      display: none;\n",
              "      fill: #1967D2;\n",
              "      height: 32px;\n",
              "      padding: 0 0 0 0;\n",
              "      width: 32px;\n",
              "    }\n",
              "\n",
              "    .colab-df-convert:hover {\n",
              "      background-color: #E2EBFA;\n",
              "      box-shadow: 0px 1px 2px rgba(60, 64, 67, 0.3), 0px 1px 3px 1px rgba(60, 64, 67, 0.15);\n",
              "      fill: #174EA6;\n",
              "    }\n",
              "\n",
              "    [theme=dark] .colab-df-convert {\n",
              "      background-color: #3B4455;\n",
              "      fill: #D2E3FC;\n",
              "    }\n",
              "\n",
              "    [theme=dark] .colab-df-convert:hover {\n",
              "      background-color: #434B5C;\n",
              "      box-shadow: 0px 1px 3px 1px rgba(0, 0, 0, 0.15);\n",
              "      filter: drop-shadow(0px 1px 2px rgba(0, 0, 0, 0.3));\n",
              "      fill: #FFFFFF;\n",
              "    }\n",
              "  </style>\n",
              "\n",
              "      <script>\n",
              "        const buttonEl =\n",
              "          document.querySelector('#df-3a3d154d-1533-4a0c-bbc1-63c5ef7e3554 button.colab-df-convert');\n",
              "        buttonEl.style.display =\n",
              "          google.colab.kernel.accessAllowed ? 'block' : 'none';\n",
              "\n",
              "        async function convertToInteractive(key) {\n",
              "          const element = document.querySelector('#df-3a3d154d-1533-4a0c-bbc1-63c5ef7e3554');\n",
              "          const dataTable =\n",
              "            await google.colab.kernel.invokeFunction('convertToInteractive',\n",
              "                                                     [key], {});\n",
              "          if (!dataTable) return;\n",
              "\n",
              "          const docLinkHtml = 'Like what you see? Visit the ' +\n",
              "            '<a target=\"_blank\" href=https://colab.research.google.com/notebooks/data_table.ipynb>data table notebook</a>'\n",
              "            + ' to learn more about interactive tables.';\n",
              "          element.innerHTML = '';\n",
              "          dataTable['output_type'] = 'display_data';\n",
              "          await google.colab.output.renderOutput(dataTable, element);\n",
              "          const docLink = document.createElement('div');\n",
              "          docLink.innerHTML = docLinkHtml;\n",
              "          element.appendChild(docLink);\n",
              "        }\n",
              "      </script>\n",
              "    </div>\n",
              "  </div>\n",
              "  "
            ]
          },
          "metadata": {},
          "execution_count": 24
        }
      ]
    },
    {
      "cell_type": "markdown",
      "metadata": {
        "id": "BdLbgN0LMyqn"
      },
      "source": [
        "Разделяем на тестовую и обучающую выборки"
      ]
    },
    {
      "cell_type": "code",
      "metadata": {
        "id": "NA1OQ3j7cwCf"
      },
      "source": [
        "X = df.drop(columns='cardio')\n",
        "y = df['cardio']\n",
        "y[y==0] = -1\n",
        "X_cat = df_cat.drop(columns='cardio')\n",
        "y_cat = df_cat['cardio']\n",
        "y_cat[y_cat==0] = -1"
      ],
      "execution_count": null,
      "outputs": []
    },
    {
      "cell_type": "code",
      "metadata": {
        "id": "sdUMTQAYAnF1"
      },
      "source": [
        "from sklearn.model_selection import train_test_split\n",
        "X_train, X_test, y_train, y_test = train_test_split(X,y,test_size=0.2, random_state=10,shuffle=True)\n",
        "X_train_cat, X_test_cat, y_train_cat, y_test_cat = train_test_split(X_cat,y_cat,test_size=0.2, random_state=10,shuffle=True)"
      ],
      "execution_count": null,
      "outputs": []
    },
    {
      "cell_type": "markdown",
      "metadata": {
        "id": "06LQn_SwMkds"
      },
      "source": [
        "Масштабируем числовые данные устойчивой к выбросам функцией. В функцию подаем только значения из тренировочной выборки, тестовую выборку изменяем по ней."
      ]
    },
    {
      "cell_type": "code",
      "metadata": {
        "id": "rXfxZxMk46X-"
      },
      "source": [
        "from sklearn.preprocessing import RobustScaler\n",
        "rs = RobustScaler()\n",
        "X_train[['age','height','weight','bmi','ap_hi','ap_lo']]= rs.fit_transform(X_train[['age','height','weight','bmi','ap_hi','ap_lo']])\n",
        "X_test[['age','height','weight','bmi','ap_hi','ap_lo']]= rs.transform(X_test[['age','height','weight','bmi','ap_hi','ap_lo']])\n",
        "X_train_cat[['age','height','weight','bmi','ap_hi','ap_lo']]= rs.fit_transform(X_train_cat[['age','height','weight','bmi','ap_hi','ap_lo']])\n",
        "X_test_cat[['age','height','weight','bmi','ap_hi','ap_lo']]= rs.transform(X_test_cat[['age','height','weight','bmi','ap_hi','ap_lo']])"
      ],
      "execution_count": null,
      "outputs": []
    },
    {
      "cell_type": "code",
      "metadata": {
        "colab": {
          "base_uri": "https://localhost:8080/",
          "height": 299
        },
        "id": "Yf2LuDTzbRh9",
        "outputId": "89922597-a4d1-466a-ab69-ce76794b6d36"
      },
      "source": [
        "X_train.head()"
      ],
      "execution_count": null,
      "outputs": [
        {
          "output_type": "execute_result",
          "data": {
            "text/plain": [
              "       age  gender    height  weight       bmi  ap_hi  ap_lo  smoke  alco  \\\n",
              "30529  0.2       1  0.090909  0.2500  0.207718   -0.5   -1.0      0     0   \n",
              "47303  0.4       1  0.272727 -0.6250 -0.697178    0.5   -0.1      0     0   \n",
              "59991 -0.2       1 -0.636364 -0.4375 -0.040985    0.0    0.0      0     0   \n",
              "26034 -0.2       2  0.454545 -0.1250 -0.333753    0.0    0.0      0     0   \n",
              "15987  0.7       1 -0.454545  0.8125  1.114201    1.0    1.0      0     0   \n",
              "\n",
              "       active  ...  gluc_1  gluc_2  gluc_3  cat_bmi_healthy  cat_bmi_obese  \\\n",
              "30529       1  ...       1       0       0                0              0   \n",
              "47303       1  ...       1       0       0                1              0   \n",
              "59991       1  ...       1       0       0                0              0   \n",
              "26034       1  ...       1       0       0                1              0   \n",
              "15987       1  ...       1       0       0                0              1   \n",
              "\n",
              "       cat_bmi_over  cat_bmi_under  blood_pressure_higher  \\\n",
              "30529             1              0                      0   \n",
              "47303             0              0                      0   \n",
              "59991             1              0                      0   \n",
              "26034             0              0                      0   \n",
              "15987             0              0                      0   \n",
              "\n",
              "       blood_pressure_normal  blood_pressure_under  \n",
              "30529                      1                     0  \n",
              "47303                      1                     0  \n",
              "59991                      1                     0  \n",
              "26034                      1                     0  \n",
              "15987                      1                     0  \n",
              "\n",
              "[5 rows x 23 columns]"
            ],
            "text/html": [
              "\n",
              "  <div id=\"df-9ac9fa01-6032-4120-85a3-deaf60e72138\">\n",
              "    <div class=\"colab-df-container\">\n",
              "      <div>\n",
              "<style scoped>\n",
              "    .dataframe tbody tr th:only-of-type {\n",
              "        vertical-align: middle;\n",
              "    }\n",
              "\n",
              "    .dataframe tbody tr th {\n",
              "        vertical-align: top;\n",
              "    }\n",
              "\n",
              "    .dataframe thead th {\n",
              "        text-align: right;\n",
              "    }\n",
              "</style>\n",
              "<table border=\"1\" class=\"dataframe\">\n",
              "  <thead>\n",
              "    <tr style=\"text-align: right;\">\n",
              "      <th></th>\n",
              "      <th>age</th>\n",
              "      <th>gender</th>\n",
              "      <th>height</th>\n",
              "      <th>weight</th>\n",
              "      <th>bmi</th>\n",
              "      <th>ap_hi</th>\n",
              "      <th>ap_lo</th>\n",
              "      <th>smoke</th>\n",
              "      <th>alco</th>\n",
              "      <th>active</th>\n",
              "      <th>...</th>\n",
              "      <th>gluc_1</th>\n",
              "      <th>gluc_2</th>\n",
              "      <th>gluc_3</th>\n",
              "      <th>cat_bmi_healthy</th>\n",
              "      <th>cat_bmi_obese</th>\n",
              "      <th>cat_bmi_over</th>\n",
              "      <th>cat_bmi_under</th>\n",
              "      <th>blood_pressure_higher</th>\n",
              "      <th>blood_pressure_normal</th>\n",
              "      <th>blood_pressure_under</th>\n",
              "    </tr>\n",
              "  </thead>\n",
              "  <tbody>\n",
              "    <tr>\n",
              "      <th>30529</th>\n",
              "      <td>0.2</td>\n",
              "      <td>1</td>\n",
              "      <td>0.090909</td>\n",
              "      <td>0.2500</td>\n",
              "      <td>0.207718</td>\n",
              "      <td>-0.5</td>\n",
              "      <td>-1.0</td>\n",
              "      <td>0</td>\n",
              "      <td>0</td>\n",
              "      <td>1</td>\n",
              "      <td>...</td>\n",
              "      <td>1</td>\n",
              "      <td>0</td>\n",
              "      <td>0</td>\n",
              "      <td>0</td>\n",
              "      <td>0</td>\n",
              "      <td>1</td>\n",
              "      <td>0</td>\n",
              "      <td>0</td>\n",
              "      <td>1</td>\n",
              "      <td>0</td>\n",
              "    </tr>\n",
              "    <tr>\n",
              "      <th>47303</th>\n",
              "      <td>0.4</td>\n",
              "      <td>1</td>\n",
              "      <td>0.272727</td>\n",
              "      <td>-0.6250</td>\n",
              "      <td>-0.697178</td>\n",
              "      <td>0.5</td>\n",
              "      <td>-0.1</td>\n",
              "      <td>0</td>\n",
              "      <td>0</td>\n",
              "      <td>1</td>\n",
              "      <td>...</td>\n",
              "      <td>1</td>\n",
              "      <td>0</td>\n",
              "      <td>0</td>\n",
              "      <td>1</td>\n",
              "      <td>0</td>\n",
              "      <td>0</td>\n",
              "      <td>0</td>\n",
              "      <td>0</td>\n",
              "      <td>1</td>\n",
              "      <td>0</td>\n",
              "    </tr>\n",
              "    <tr>\n",
              "      <th>59991</th>\n",
              "      <td>-0.2</td>\n",
              "      <td>1</td>\n",
              "      <td>-0.636364</td>\n",
              "      <td>-0.4375</td>\n",
              "      <td>-0.040985</td>\n",
              "      <td>0.0</td>\n",
              "      <td>0.0</td>\n",
              "      <td>0</td>\n",
              "      <td>0</td>\n",
              "      <td>1</td>\n",
              "      <td>...</td>\n",
              "      <td>1</td>\n",
              "      <td>0</td>\n",
              "      <td>0</td>\n",
              "      <td>0</td>\n",
              "      <td>0</td>\n",
              "      <td>1</td>\n",
              "      <td>0</td>\n",
              "      <td>0</td>\n",
              "      <td>1</td>\n",
              "      <td>0</td>\n",
              "    </tr>\n",
              "    <tr>\n",
              "      <th>26034</th>\n",
              "      <td>-0.2</td>\n",
              "      <td>2</td>\n",
              "      <td>0.454545</td>\n",
              "      <td>-0.1250</td>\n",
              "      <td>-0.333753</td>\n",
              "      <td>0.0</td>\n",
              "      <td>0.0</td>\n",
              "      <td>0</td>\n",
              "      <td>0</td>\n",
              "      <td>1</td>\n",
              "      <td>...</td>\n",
              "      <td>1</td>\n",
              "      <td>0</td>\n",
              "      <td>0</td>\n",
              "      <td>1</td>\n",
              "      <td>0</td>\n",
              "      <td>0</td>\n",
              "      <td>0</td>\n",
              "      <td>0</td>\n",
              "      <td>1</td>\n",
              "      <td>0</td>\n",
              "    </tr>\n",
              "    <tr>\n",
              "      <th>15987</th>\n",
              "      <td>0.7</td>\n",
              "      <td>1</td>\n",
              "      <td>-0.454545</td>\n",
              "      <td>0.8125</td>\n",
              "      <td>1.114201</td>\n",
              "      <td>1.0</td>\n",
              "      <td>1.0</td>\n",
              "      <td>0</td>\n",
              "      <td>0</td>\n",
              "      <td>1</td>\n",
              "      <td>...</td>\n",
              "      <td>1</td>\n",
              "      <td>0</td>\n",
              "      <td>0</td>\n",
              "      <td>0</td>\n",
              "      <td>1</td>\n",
              "      <td>0</td>\n",
              "      <td>0</td>\n",
              "      <td>0</td>\n",
              "      <td>1</td>\n",
              "      <td>0</td>\n",
              "    </tr>\n",
              "  </tbody>\n",
              "</table>\n",
              "<p>5 rows × 23 columns</p>\n",
              "</div>\n",
              "      <button class=\"colab-df-convert\" onclick=\"convertToInteractive('df-9ac9fa01-6032-4120-85a3-deaf60e72138')\"\n",
              "              title=\"Convert this dataframe to an interactive table.\"\n",
              "              style=\"display:none;\">\n",
              "        \n",
              "  <svg xmlns=\"http://www.w3.org/2000/svg\" height=\"24px\"viewBox=\"0 0 24 24\"\n",
              "       width=\"24px\">\n",
              "    <path d=\"M0 0h24v24H0V0z\" fill=\"none\"/>\n",
              "    <path d=\"M18.56 5.44l.94 2.06.94-2.06 2.06-.94-2.06-.94-.94-2.06-.94 2.06-2.06.94zm-11 1L8.5 8.5l.94-2.06 2.06-.94-2.06-.94L8.5 2.5l-.94 2.06-2.06.94zm10 10l.94 2.06.94-2.06 2.06-.94-2.06-.94-.94-2.06-.94 2.06-2.06.94z\"/><path d=\"M17.41 7.96l-1.37-1.37c-.4-.4-.92-.59-1.43-.59-.52 0-1.04.2-1.43.59L10.3 9.45l-7.72 7.72c-.78.78-.78 2.05 0 2.83L4 21.41c.39.39.9.59 1.41.59.51 0 1.02-.2 1.41-.59l7.78-7.78 2.81-2.81c.8-.78.8-2.07 0-2.86zM5.41 20L4 18.59l7.72-7.72 1.47 1.35L5.41 20z\"/>\n",
              "  </svg>\n",
              "      </button>\n",
              "      \n",
              "  <style>\n",
              "    .colab-df-container {\n",
              "      display:flex;\n",
              "      flex-wrap:wrap;\n",
              "      gap: 12px;\n",
              "    }\n",
              "\n",
              "    .colab-df-convert {\n",
              "      background-color: #E8F0FE;\n",
              "      border: none;\n",
              "      border-radius: 50%;\n",
              "      cursor: pointer;\n",
              "      display: none;\n",
              "      fill: #1967D2;\n",
              "      height: 32px;\n",
              "      padding: 0 0 0 0;\n",
              "      width: 32px;\n",
              "    }\n",
              "\n",
              "    .colab-df-convert:hover {\n",
              "      background-color: #E2EBFA;\n",
              "      box-shadow: 0px 1px 2px rgba(60, 64, 67, 0.3), 0px 1px 3px 1px rgba(60, 64, 67, 0.15);\n",
              "      fill: #174EA6;\n",
              "    }\n",
              "\n",
              "    [theme=dark] .colab-df-convert {\n",
              "      background-color: #3B4455;\n",
              "      fill: #D2E3FC;\n",
              "    }\n",
              "\n",
              "    [theme=dark] .colab-df-convert:hover {\n",
              "      background-color: #434B5C;\n",
              "      box-shadow: 0px 1px 3px 1px rgba(0, 0, 0, 0.15);\n",
              "      filter: drop-shadow(0px 1px 2px rgba(0, 0, 0, 0.3));\n",
              "      fill: #FFFFFF;\n",
              "    }\n",
              "  </style>\n",
              "\n",
              "      <script>\n",
              "        const buttonEl =\n",
              "          document.querySelector('#df-9ac9fa01-6032-4120-85a3-deaf60e72138 button.colab-df-convert');\n",
              "        buttonEl.style.display =\n",
              "          google.colab.kernel.accessAllowed ? 'block' : 'none';\n",
              "\n",
              "        async function convertToInteractive(key) {\n",
              "          const element = document.querySelector('#df-9ac9fa01-6032-4120-85a3-deaf60e72138');\n",
              "          const dataTable =\n",
              "            await google.colab.kernel.invokeFunction('convertToInteractive',\n",
              "                                                     [key], {});\n",
              "          if (!dataTable) return;\n",
              "\n",
              "          const docLinkHtml = 'Like what you see? Visit the ' +\n",
              "            '<a target=\"_blank\" href=https://colab.research.google.com/notebooks/data_table.ipynb>data table notebook</a>'\n",
              "            + ' to learn more about interactive tables.';\n",
              "          element.innerHTML = '';\n",
              "          dataTable['output_type'] = 'display_data';\n",
              "          await google.colab.output.renderOutput(dataTable, element);\n",
              "          const docLink = document.createElement('div');\n",
              "          docLink.innerHTML = docLinkHtml;\n",
              "          element.appendChild(docLink);\n",
              "        }\n",
              "      </script>\n",
              "    </div>\n",
              "  </div>\n",
              "  "
            ]
          },
          "metadata": {},
          "execution_count": 28
        }
      ]
    },
    {
      "cell_type": "code",
      "metadata": {
        "colab": {
          "base_uri": "https://localhost:8080/",
          "height": 299
        },
        "id": "IU1NJ5tTbUSn",
        "outputId": "f4cb61f1-c484-445e-f16c-5a2b7b7d230b"
      },
      "source": [
        "X_test.head()"
      ],
      "execution_count": null,
      "outputs": [
        {
          "output_type": "execute_result",
          "data": {
            "text/plain": [
              "       age  gender    height  weight       bmi  ap_hi  ap_lo  smoke  alco  \\\n",
              "21325  0.2       1 -0.545455 -0.1250  0.225222    0.0    0.0      0     0   \n",
              "56653  0.3       2  0.000000 -0.4375 -0.389586    0.0    0.0      0     0   \n",
              "22582  0.8       1 -0.181818  1.7500  1.829132    0.5    0.0      0     0   \n",
              "28236  0.4       2  0.181818  1.0625  0.906092    0.0    0.0      0     0   \n",
              "60349  0.4       1 -0.818182 -1.3750 -0.926329    1.5    1.0      0     0   \n",
              "\n",
              "       active  ...  gluc_1  gluc_2  gluc_3  cat_bmi_healthy  cat_bmi_obese  \\\n",
              "21325       1  ...       1       0       0                0              0   \n",
              "56653       1  ...       1       0       0                1              0   \n",
              "22582       1  ...       1       0       0                0              1   \n",
              "28236       1  ...       1       0       0                0              1   \n",
              "60349       0  ...       1       0       0                1              0   \n",
              "\n",
              "       cat_bmi_over  cat_bmi_under  blood_pressure_higher  \\\n",
              "21325             1              0                      0   \n",
              "56653             0              0                      0   \n",
              "22582             0              0                      0   \n",
              "28236             0              0                      0   \n",
              "60349             0              0                      1   \n",
              "\n",
              "       blood_pressure_normal  blood_pressure_under  \n",
              "21325                      1                     0  \n",
              "56653                      1                     0  \n",
              "22582                      1                     0  \n",
              "28236                      1                     0  \n",
              "60349                      0                     0  \n",
              "\n",
              "[5 rows x 23 columns]"
            ],
            "text/html": [
              "\n",
              "  <div id=\"df-7bd73ce8-1cf6-42fe-866b-81e0a0a69e8f\">\n",
              "    <div class=\"colab-df-container\">\n",
              "      <div>\n",
              "<style scoped>\n",
              "    .dataframe tbody tr th:only-of-type {\n",
              "        vertical-align: middle;\n",
              "    }\n",
              "\n",
              "    .dataframe tbody tr th {\n",
              "        vertical-align: top;\n",
              "    }\n",
              "\n",
              "    .dataframe thead th {\n",
              "        text-align: right;\n",
              "    }\n",
              "</style>\n",
              "<table border=\"1\" class=\"dataframe\">\n",
              "  <thead>\n",
              "    <tr style=\"text-align: right;\">\n",
              "      <th></th>\n",
              "      <th>age</th>\n",
              "      <th>gender</th>\n",
              "      <th>height</th>\n",
              "      <th>weight</th>\n",
              "      <th>bmi</th>\n",
              "      <th>ap_hi</th>\n",
              "      <th>ap_lo</th>\n",
              "      <th>smoke</th>\n",
              "      <th>alco</th>\n",
              "      <th>active</th>\n",
              "      <th>...</th>\n",
              "      <th>gluc_1</th>\n",
              "      <th>gluc_2</th>\n",
              "      <th>gluc_3</th>\n",
              "      <th>cat_bmi_healthy</th>\n",
              "      <th>cat_bmi_obese</th>\n",
              "      <th>cat_bmi_over</th>\n",
              "      <th>cat_bmi_under</th>\n",
              "      <th>blood_pressure_higher</th>\n",
              "      <th>blood_pressure_normal</th>\n",
              "      <th>blood_pressure_under</th>\n",
              "    </tr>\n",
              "  </thead>\n",
              "  <tbody>\n",
              "    <tr>\n",
              "      <th>21325</th>\n",
              "      <td>0.2</td>\n",
              "      <td>1</td>\n",
              "      <td>-0.545455</td>\n",
              "      <td>-0.1250</td>\n",
              "      <td>0.225222</td>\n",
              "      <td>0.0</td>\n",
              "      <td>0.0</td>\n",
              "      <td>0</td>\n",
              "      <td>0</td>\n",
              "      <td>1</td>\n",
              "      <td>...</td>\n",
              "      <td>1</td>\n",
              "      <td>0</td>\n",
              "      <td>0</td>\n",
              "      <td>0</td>\n",
              "      <td>0</td>\n",
              "      <td>1</td>\n",
              "      <td>0</td>\n",
              "      <td>0</td>\n",
              "      <td>1</td>\n",
              "      <td>0</td>\n",
              "    </tr>\n",
              "    <tr>\n",
              "      <th>56653</th>\n",
              "      <td>0.3</td>\n",
              "      <td>2</td>\n",
              "      <td>0.000000</td>\n",
              "      <td>-0.4375</td>\n",
              "      <td>-0.389586</td>\n",
              "      <td>0.0</td>\n",
              "      <td>0.0</td>\n",
              "      <td>0</td>\n",
              "      <td>0</td>\n",
              "      <td>1</td>\n",
              "      <td>...</td>\n",
              "      <td>1</td>\n",
              "      <td>0</td>\n",
              "      <td>0</td>\n",
              "      <td>1</td>\n",
              "      <td>0</td>\n",
              "      <td>0</td>\n",
              "      <td>0</td>\n",
              "      <td>0</td>\n",
              "      <td>1</td>\n",
              "      <td>0</td>\n",
              "    </tr>\n",
              "    <tr>\n",
              "      <th>22582</th>\n",
              "      <td>0.8</td>\n",
              "      <td>1</td>\n",
              "      <td>-0.181818</td>\n",
              "      <td>1.7500</td>\n",
              "      <td>1.829132</td>\n",
              "      <td>0.5</td>\n",
              "      <td>0.0</td>\n",
              "      <td>0</td>\n",
              "      <td>0</td>\n",
              "      <td>1</td>\n",
              "      <td>...</td>\n",
              "      <td>1</td>\n",
              "      <td>0</td>\n",
              "      <td>0</td>\n",
              "      <td>0</td>\n",
              "      <td>1</td>\n",
              "      <td>0</td>\n",
              "      <td>0</td>\n",
              "      <td>0</td>\n",
              "      <td>1</td>\n",
              "      <td>0</td>\n",
              "    </tr>\n",
              "    <tr>\n",
              "      <th>28236</th>\n",
              "      <td>0.4</td>\n",
              "      <td>2</td>\n",
              "      <td>0.181818</td>\n",
              "      <td>1.0625</td>\n",
              "      <td>0.906092</td>\n",
              "      <td>0.0</td>\n",
              "      <td>0.0</td>\n",
              "      <td>0</td>\n",
              "      <td>0</td>\n",
              "      <td>1</td>\n",
              "      <td>...</td>\n",
              "      <td>1</td>\n",
              "      <td>0</td>\n",
              "      <td>0</td>\n",
              "      <td>0</td>\n",
              "      <td>1</td>\n",
              "      <td>0</td>\n",
              "      <td>0</td>\n",
              "      <td>0</td>\n",
              "      <td>1</td>\n",
              "      <td>0</td>\n",
              "    </tr>\n",
              "    <tr>\n",
              "      <th>60349</th>\n",
              "      <td>0.4</td>\n",
              "      <td>1</td>\n",
              "      <td>-0.818182</td>\n",
              "      <td>-1.3750</td>\n",
              "      <td>-0.926329</td>\n",
              "      <td>1.5</td>\n",
              "      <td>1.0</td>\n",
              "      <td>0</td>\n",
              "      <td>0</td>\n",
              "      <td>0</td>\n",
              "      <td>...</td>\n",
              "      <td>1</td>\n",
              "      <td>0</td>\n",
              "      <td>0</td>\n",
              "      <td>1</td>\n",
              "      <td>0</td>\n",
              "      <td>0</td>\n",
              "      <td>0</td>\n",
              "      <td>1</td>\n",
              "      <td>0</td>\n",
              "      <td>0</td>\n",
              "    </tr>\n",
              "  </tbody>\n",
              "</table>\n",
              "<p>5 rows × 23 columns</p>\n",
              "</div>\n",
              "      <button class=\"colab-df-convert\" onclick=\"convertToInteractive('df-7bd73ce8-1cf6-42fe-866b-81e0a0a69e8f')\"\n",
              "              title=\"Convert this dataframe to an interactive table.\"\n",
              "              style=\"display:none;\">\n",
              "        \n",
              "  <svg xmlns=\"http://www.w3.org/2000/svg\" height=\"24px\"viewBox=\"0 0 24 24\"\n",
              "       width=\"24px\">\n",
              "    <path d=\"M0 0h24v24H0V0z\" fill=\"none\"/>\n",
              "    <path d=\"M18.56 5.44l.94 2.06.94-2.06 2.06-.94-2.06-.94-.94-2.06-.94 2.06-2.06.94zm-11 1L8.5 8.5l.94-2.06 2.06-.94-2.06-.94L8.5 2.5l-.94 2.06-2.06.94zm10 10l.94 2.06.94-2.06 2.06-.94-2.06-.94-.94-2.06-.94 2.06-2.06.94z\"/><path d=\"M17.41 7.96l-1.37-1.37c-.4-.4-.92-.59-1.43-.59-.52 0-1.04.2-1.43.59L10.3 9.45l-7.72 7.72c-.78.78-.78 2.05 0 2.83L4 21.41c.39.39.9.59 1.41.59.51 0 1.02-.2 1.41-.59l7.78-7.78 2.81-2.81c.8-.78.8-2.07 0-2.86zM5.41 20L4 18.59l7.72-7.72 1.47 1.35L5.41 20z\"/>\n",
              "  </svg>\n",
              "      </button>\n",
              "      \n",
              "  <style>\n",
              "    .colab-df-container {\n",
              "      display:flex;\n",
              "      flex-wrap:wrap;\n",
              "      gap: 12px;\n",
              "    }\n",
              "\n",
              "    .colab-df-convert {\n",
              "      background-color: #E8F0FE;\n",
              "      border: none;\n",
              "      border-radius: 50%;\n",
              "      cursor: pointer;\n",
              "      display: none;\n",
              "      fill: #1967D2;\n",
              "      height: 32px;\n",
              "      padding: 0 0 0 0;\n",
              "      width: 32px;\n",
              "    }\n",
              "\n",
              "    .colab-df-convert:hover {\n",
              "      background-color: #E2EBFA;\n",
              "      box-shadow: 0px 1px 2px rgba(60, 64, 67, 0.3), 0px 1px 3px 1px rgba(60, 64, 67, 0.15);\n",
              "      fill: #174EA6;\n",
              "    }\n",
              "\n",
              "    [theme=dark] .colab-df-convert {\n",
              "      background-color: #3B4455;\n",
              "      fill: #D2E3FC;\n",
              "    }\n",
              "\n",
              "    [theme=dark] .colab-df-convert:hover {\n",
              "      background-color: #434B5C;\n",
              "      box-shadow: 0px 1px 3px 1px rgba(0, 0, 0, 0.15);\n",
              "      filter: drop-shadow(0px 1px 2px rgba(0, 0, 0, 0.3));\n",
              "      fill: #FFFFFF;\n",
              "    }\n",
              "  </style>\n",
              "\n",
              "      <script>\n",
              "        const buttonEl =\n",
              "          document.querySelector('#df-7bd73ce8-1cf6-42fe-866b-81e0a0a69e8f button.colab-df-convert');\n",
              "        buttonEl.style.display =\n",
              "          google.colab.kernel.accessAllowed ? 'block' : 'none';\n",
              "\n",
              "        async function convertToInteractive(key) {\n",
              "          const element = document.querySelector('#df-7bd73ce8-1cf6-42fe-866b-81e0a0a69e8f');\n",
              "          const dataTable =\n",
              "            await google.colab.kernel.invokeFunction('convertToInteractive',\n",
              "                                                     [key], {});\n",
              "          if (!dataTable) return;\n",
              "\n",
              "          const docLinkHtml = 'Like what you see? Visit the ' +\n",
              "            '<a target=\"_blank\" href=https://colab.research.google.com/notebooks/data_table.ipynb>data table notebook</a>'\n",
              "            + ' to learn more about interactive tables.';\n",
              "          element.innerHTML = '';\n",
              "          dataTable['output_type'] = 'display_data';\n",
              "          await google.colab.output.renderOutput(dataTable, element);\n",
              "          const docLink = document.createElement('div');\n",
              "          docLink.innerHTML = docLinkHtml;\n",
              "          element.appendChild(docLink);\n",
              "        }\n",
              "      </script>\n",
              "    </div>\n",
              "  </div>\n",
              "  "
            ]
          },
          "metadata": {},
          "execution_count": 29
        }
      ]
    },
    {
      "cell_type": "markdown",
      "metadata": {
        "id": "gCexxbLSQxBm"
      },
      "source": [
        "## Логистическая регрессия"
      ]
    },
    {
      "cell_type": "code",
      "source": [
        "from sklearn.linear_model import LogisticRegression, LogisticRegressionCV\n",
        "from sklearn.metrics import classification_report, accuracy_score, roc_auc_score, r2_score, confusion_matrix, plot_confusion_matrix, plot_roc_curve,f1_score"
      ],
      "metadata": {
        "id": "5UTuiOAhMh6T"
      },
      "execution_count": null,
      "outputs": []
    },
    {
      "cell_type": "code",
      "metadata": {
        "colab": {
          "base_uri": "https://localhost:8080/"
        },
        "id": "VAWZ8T24TNT5",
        "outputId": "c7800536-55b5-44bc-9a82-f846df4be239"
      },
      "source": [
        "logreg = LogisticRegression(n_jobs = -1, random_state = 10)\n",
        "logreg.fit(X_train, y_train)"
      ],
      "execution_count": null,
      "outputs": [
        {
          "output_type": "execute_result",
          "data": {
            "text/plain": [
              "LogisticRegression(n_jobs=-1, random_state=10)"
            ]
          },
          "metadata": {},
          "execution_count": 31
        }
      ]
    },
    {
      "cell_type": "markdown",
      "metadata": {
        "id": "rbYrRfFpn_a3"
      },
      "source": [
        "Стандартная логистическая регрессия. Первое значение вывода - accuracy, второе - f1-score"
      ]
    },
    {
      "cell_type": "code",
      "metadata": {
        "colab": {
          "base_uri": "https://localhost:8080/"
        },
        "id": "b0R542d6VDM0",
        "outputId": "81a196b6-ae29-46dc-e679-8b8f60b1ea0c"
      },
      "source": [
        "logpred = logreg.predict(X_test)\n",
        "print(accuracy_score(y_test,logpred), f1_score(y_test, logpred))"
      ],
      "execution_count": null,
      "outputs": [
        {
          "output_type": "stream",
          "name": "stdout",
          "text": [
            "0.733822548365577 0.7116820553994381\n"
          ]
        }
      ]
    },
    {
      "cell_type": "code",
      "metadata": {
        "colab": {
          "base_uri": "https://localhost:8080/"
        },
        "id": "h-pZTTmfVzW5",
        "outputId": "26f5639a-2678-49d7-98d8-b1194fb78f7d"
      },
      "source": [
        "print(classification_report(y_test,logpred))"
      ],
      "execution_count": null,
      "outputs": [
        {
          "output_type": "stream",
          "name": "stdout",
          "text": [
            "              precision    recall  f1-score   support\n",
            "\n",
            "          -1       0.72      0.79      0.75      6895\n",
            "           1       0.76      0.67      0.71      6596\n",
            "\n",
            "    accuracy                           0.73     13491\n",
            "   macro avg       0.74      0.73      0.73     13491\n",
            "weighted avg       0.74      0.73      0.73     13491\n",
            "\n"
          ]
        }
      ]
    },
    {
      "cell_type": "markdown",
      "metadata": {
        "id": "MNnQ3luloN8f"
      },
      "source": [
        "Важность признаков для логистической регрессии"
      ]
    },
    {
      "cell_type": "code",
      "metadata": {
        "colab": {
          "base_uri": "https://localhost:8080/",
          "height": 771
        },
        "id": "TJhScbFZpm-t",
        "outputId": "cdf3e661-69ee-4c2d-88bc-50ff89fdc398"
      },
      "source": [
        "coeff_df = pd.DataFrame(X_train.columns)\n",
        "coeff_df.columns = ['Feature']\n",
        "coeff_df[\"Correlation\"] = pd.Series(logreg.coef_[0])\n",
        "\n",
        "coeff_df.sort_values(by='Correlation', ascending=False)"
      ],
      "execution_count": null,
      "outputs": [
        {
          "output_type": "execute_result",
          "data": {
            "text/html": [
              "\n",
              "  <div id=\"df-14c7a802-9b32-45c8-9532-903f9a2ed458\">\n",
              "    <div class=\"colab-df-container\">\n",
              "      <div>\n",
              "<style scoped>\n",
              "    .dataframe tbody tr th:only-of-type {\n",
              "        vertical-align: middle;\n",
              "    }\n",
              "\n",
              "    .dataframe tbody tr th {\n",
              "        vertical-align: top;\n",
              "    }\n",
              "\n",
              "    .dataframe thead th {\n",
              "        text-align: right;\n",
              "    }\n",
              "</style>\n",
              "<table border=\"1\" class=\"dataframe\">\n",
              "  <thead>\n",
              "    <tr style=\"text-align: right;\">\n",
              "      <th></th>\n",
              "      <th>Feature</th>\n",
              "      <th>Correlation</th>\n",
              "    </tr>\n",
              "  </thead>\n",
              "  <tbody>\n",
              "    <tr>\n",
              "      <th>5</th>\n",
              "      <td>ap_hi</td>\n",
              "      <td>1.172169</td>\n",
              "    </tr>\n",
              "    <tr>\n",
              "      <th>22</th>\n",
              "      <td>blood_pressure_under</td>\n",
              "      <td>0.860277</td>\n",
              "    </tr>\n",
              "    <tr>\n",
              "      <th>12</th>\n",
              "      <td>cholesterol_3</td>\n",
              "      <td>0.666824</td>\n",
              "    </tr>\n",
              "    <tr>\n",
              "      <th>0</th>\n",
              "      <td>age</td>\n",
              "      <td>0.504136</td>\n",
              "    </tr>\n",
              "    <tr>\n",
              "      <th>14</th>\n",
              "      <td>gluc_2</td>\n",
              "      <td>0.187373</td>\n",
              "    </tr>\n",
              "    <tr>\n",
              "      <th>13</th>\n",
              "      <td>gluc_1</td>\n",
              "      <td>0.166827</td>\n",
              "    </tr>\n",
              "    <tr>\n",
              "      <th>3</th>\n",
              "      <td>weight</td>\n",
              "      <td>0.162920</td>\n",
              "    </tr>\n",
              "    <tr>\n",
              "      <th>6</th>\n",
              "      <td>ap_lo</td>\n",
              "      <td>0.116508</td>\n",
              "    </tr>\n",
              "    <tr>\n",
              "      <th>18</th>\n",
              "      <td>cat_bmi_over</td>\n",
              "      <td>0.065297</td>\n",
              "    </tr>\n",
              "    <tr>\n",
              "      <th>19</th>\n",
              "      <td>cat_bmi_under</td>\n",
              "      <td>0.064616</td>\n",
              "    </tr>\n",
              "    <tr>\n",
              "      <th>16</th>\n",
              "      <td>cat_bmi_healthy</td>\n",
              "      <td>0.043786</td>\n",
              "    </tr>\n",
              "    <tr>\n",
              "      <th>4</th>\n",
              "      <td>bmi</td>\n",
              "      <td>0.032251</td>\n",
              "    </tr>\n",
              "    <tr>\n",
              "      <th>17</th>\n",
              "      <td>cat_bmi_obese</td>\n",
              "      <td>0.024506</td>\n",
              "    </tr>\n",
              "    <tr>\n",
              "      <th>1</th>\n",
              "      <td>gender</td>\n",
              "      <td>-0.016806</td>\n",
              "    </tr>\n",
              "    <tr>\n",
              "      <th>2</th>\n",
              "      <td>height</td>\n",
              "      <td>-0.037931</td>\n",
              "    </tr>\n",
              "    <tr>\n",
              "      <th>11</th>\n",
              "      <td>cholesterol_2</td>\n",
              "      <td>-0.039151</td>\n",
              "    </tr>\n",
              "    <tr>\n",
              "      <th>7</th>\n",
              "      <td>smoke</td>\n",
              "      <td>-0.132164</td>\n",
              "    </tr>\n",
              "    <tr>\n",
              "      <th>15</th>\n",
              "      <td>gluc_3</td>\n",
              "      <td>-0.155995</td>\n",
              "    </tr>\n",
              "    <tr>\n",
              "      <th>9</th>\n",
              "      <td>active</td>\n",
              "      <td>-0.211587</td>\n",
              "    </tr>\n",
              "    <tr>\n",
              "      <th>8</th>\n",
              "      <td>alco</td>\n",
              "      <td>-0.218950</td>\n",
              "    </tr>\n",
              "    <tr>\n",
              "      <th>21</th>\n",
              "      <td>blood_pressure_normal</td>\n",
              "      <td>-0.289211</td>\n",
              "    </tr>\n",
              "    <tr>\n",
              "      <th>20</th>\n",
              "      <td>blood_pressure_higher</td>\n",
              "      <td>-0.372860</td>\n",
              "    </tr>\n",
              "    <tr>\n",
              "      <th>10</th>\n",
              "      <td>cholesterol_1</td>\n",
              "      <td>-0.429468</td>\n",
              "    </tr>\n",
              "  </tbody>\n",
              "</table>\n",
              "</div>\n",
              "      <button class=\"colab-df-convert\" onclick=\"convertToInteractive('df-14c7a802-9b32-45c8-9532-903f9a2ed458')\"\n",
              "              title=\"Convert this dataframe to an interactive table.\"\n",
              "              style=\"display:none;\">\n",
              "        \n",
              "  <svg xmlns=\"http://www.w3.org/2000/svg\" height=\"24px\"viewBox=\"0 0 24 24\"\n",
              "       width=\"24px\">\n",
              "    <path d=\"M0 0h24v24H0V0z\" fill=\"none\"/>\n",
              "    <path d=\"M18.56 5.44l.94 2.06.94-2.06 2.06-.94-2.06-.94-.94-2.06-.94 2.06-2.06.94zm-11 1L8.5 8.5l.94-2.06 2.06-.94-2.06-.94L8.5 2.5l-.94 2.06-2.06.94zm10 10l.94 2.06.94-2.06 2.06-.94-2.06-.94-.94-2.06-.94 2.06-2.06.94z\"/><path d=\"M17.41 7.96l-1.37-1.37c-.4-.4-.92-.59-1.43-.59-.52 0-1.04.2-1.43.59L10.3 9.45l-7.72 7.72c-.78.78-.78 2.05 0 2.83L4 21.41c.39.39.9.59 1.41.59.51 0 1.02-.2 1.41-.59l7.78-7.78 2.81-2.81c.8-.78.8-2.07 0-2.86zM5.41 20L4 18.59l7.72-7.72 1.47 1.35L5.41 20z\"/>\n",
              "  </svg>\n",
              "      </button>\n",
              "      \n",
              "  <style>\n",
              "    .colab-df-container {\n",
              "      display:flex;\n",
              "      flex-wrap:wrap;\n",
              "      gap: 12px;\n",
              "    }\n",
              "\n",
              "    .colab-df-convert {\n",
              "      background-color: #E8F0FE;\n",
              "      border: none;\n",
              "      border-radius: 50%;\n",
              "      cursor: pointer;\n",
              "      display: none;\n",
              "      fill: #1967D2;\n",
              "      height: 32px;\n",
              "      padding: 0 0 0 0;\n",
              "      width: 32px;\n",
              "    }\n",
              "\n",
              "    .colab-df-convert:hover {\n",
              "      background-color: #E2EBFA;\n",
              "      box-shadow: 0px 1px 2px rgba(60, 64, 67, 0.3), 0px 1px 3px 1px rgba(60, 64, 67, 0.15);\n",
              "      fill: #174EA6;\n",
              "    }\n",
              "\n",
              "    [theme=dark] .colab-df-convert {\n",
              "      background-color: #3B4455;\n",
              "      fill: #D2E3FC;\n",
              "    }\n",
              "\n",
              "    [theme=dark] .colab-df-convert:hover {\n",
              "      background-color: #434B5C;\n",
              "      box-shadow: 0px 1px 3px 1px rgba(0, 0, 0, 0.15);\n",
              "      filter: drop-shadow(0px 1px 2px rgba(0, 0, 0, 0.3));\n",
              "      fill: #FFFFFF;\n",
              "    }\n",
              "  </style>\n",
              "\n",
              "      <script>\n",
              "        const buttonEl =\n",
              "          document.querySelector('#df-14c7a802-9b32-45c8-9532-903f9a2ed458 button.colab-df-convert');\n",
              "        buttonEl.style.display =\n",
              "          google.colab.kernel.accessAllowed ? 'block' : 'none';\n",
              "\n",
              "        async function convertToInteractive(key) {\n",
              "          const element = document.querySelector('#df-14c7a802-9b32-45c8-9532-903f9a2ed458');\n",
              "          const dataTable =\n",
              "            await google.colab.kernel.invokeFunction('convertToInteractive',\n",
              "                                                     [key], {});\n",
              "          if (!dataTable) return;\n",
              "\n",
              "          const docLinkHtml = 'Like what you see? Visit the ' +\n",
              "            '<a target=\"_blank\" href=https://colab.research.google.com/notebooks/data_table.ipynb>data table notebook</a>'\n",
              "            + ' to learn more about interactive tables.';\n",
              "          element.innerHTML = '';\n",
              "          dataTable['output_type'] = 'display_data';\n",
              "          await google.colab.output.renderOutput(dataTable, element);\n",
              "          const docLink = document.createElement('div');\n",
              "          docLink.innerHTML = docLinkHtml;\n",
              "          element.appendChild(docLink);\n",
              "        }\n",
              "      </script>\n",
              "    </div>\n",
              "  </div>\n",
              "  "
            ],
            "text/plain": [
              "                  Feature  Correlation\n",
              "5                   ap_hi     1.172169\n",
              "22   blood_pressure_under     0.860277\n",
              "12          cholesterol_3     0.666824\n",
              "0                     age     0.504136\n",
              "14                 gluc_2     0.187373\n",
              "13                 gluc_1     0.166827\n",
              "3                  weight     0.162920\n",
              "6                   ap_lo     0.116508\n",
              "18           cat_bmi_over     0.065297\n",
              "19          cat_bmi_under     0.064616\n",
              "16        cat_bmi_healthy     0.043786\n",
              "4                     bmi     0.032251\n",
              "17          cat_bmi_obese     0.024506\n",
              "1                  gender    -0.016806\n",
              "2                  height    -0.037931\n",
              "11          cholesterol_2    -0.039151\n",
              "7                   smoke    -0.132164\n",
              "15                 gluc_3    -0.155995\n",
              "9                  active    -0.211587\n",
              "8                    alco    -0.218950\n",
              "21  blood_pressure_normal    -0.289211\n",
              "20  blood_pressure_higher    -0.372860\n",
              "10          cholesterol_1    -0.429468"
            ]
          },
          "metadata": {},
          "execution_count": 34
        }
      ]
    },
    {
      "cell_type": "markdown",
      "metadata": {
        "id": "lcdc85gWoVtC"
      },
      "source": [
        "Подбор параметров чтобы макимизировать f1-score. Ориентируясь на эту https://sci-hub.ru/10.1109/BigData47090.2019.9005488 статью, валидацию провожу на 10 частях, итоговую оценку делаю на тестовой выборке. Все переборы по сетке в дальнейшем максимизируют f1-score"
      ]
    },
    {
      "cell_type": "code",
      "metadata": {
        "colab": {
          "base_uri": "https://localhost:8080/"
        },
        "id": "csas0ThYvu9k",
        "outputId": "3363221d-d6b9-43fa-f94a-cb8cf62d3c55"
      },
      "source": [
        "clf = LogisticRegressionCV(cv=10,random_state=10,n_jobs=-1,verbose=1,Cs=[0.001, 0.01, 0.1, 1, 10, 100],scoring='f1')\n",
        "clf.fit(X_train, y_train)"
      ],
      "execution_count": null,
      "outputs": [
        {
          "output_type": "stream",
          "name": "stderr",
          "text": [
            "[Parallel(n_jobs=-1)]: Using backend LokyBackend with 2 concurrent workers.\n",
            "[Parallel(n_jobs=-1)]: Done  10 out of  10 | elapsed:   20.1s finished\n"
          ]
        },
        {
          "output_type": "execute_result",
          "data": {
            "text/plain": [
              "LogisticRegressionCV(Cs=[0.001, 0.01, 0.1, 1, 10, 100], cv=10, n_jobs=-1,\n",
              "                     random_state=10, scoring='f1', verbose=1)"
            ]
          },
          "metadata": {},
          "execution_count": 35
        }
      ]
    },
    {
      "cell_type": "markdown",
      "metadata": {
        "id": "LYVM3Andof2g"
      },
      "source": [
        "Точность та же"
      ]
    },
    {
      "cell_type": "code",
      "metadata": {
        "colab": {
          "base_uri": "https://localhost:8080/"
        },
        "id": "l18Hjcpyj9gf",
        "outputId": "c474b204-a61a-4a6c-e667-9f5cbaed5ec4"
      },
      "source": [
        "print(accuracy_score(y_test,clf.predict(X_test)),f1_score(y_test, clf.predict(X_test)))\n",
        "print(classification_report(y_test,clf.predict(X_test)))"
      ],
      "execution_count": null,
      "outputs": [
        {
          "output_type": "stream",
          "name": "stdout",
          "text": [
            "0.733822548365577 0.7116820553994381\n",
            "              precision    recall  f1-score   support\n",
            "\n",
            "          -1       0.72      0.79      0.75      6895\n",
            "           1       0.76      0.67      0.71      6596\n",
            "\n",
            "    accuracy                           0.73     13491\n",
            "   macro avg       0.74      0.73      0.73     13491\n",
            "weighted avg       0.74      0.73      0.73     13491\n",
            "\n"
          ]
        }
      ]
    },
    {
      "cell_type": "code",
      "metadata": {
        "id": "SkFUQA7GmBSX"
      },
      "source": [
        "from sklearn.metrics import confusion_matrix\n",
        "cf_matrix_logreg = confusion_matrix(y_test, logpred)\n",
        "cf_matrix_logregcv = confusion_matrix(y_test,clf.predict(X_test))"
      ],
      "execution_count": null,
      "outputs": []
    },
    {
      "cell_type": "markdown",
      "metadata": {
        "id": "mYc5ShEZooMb"
      },
      "source": [
        "Матрицы ошибок и roc-кривая для модели с подобранными гиперпараметрами"
      ]
    },
    {
      "cell_type": "code",
      "metadata": {
        "colab": {
          "base_uri": "https://localhost:8080/",
          "height": 391
        },
        "id": "ls65eScinSiA",
        "outputId": "40bda481-86c0-4be9-b474-2fb094844151"
      },
      "source": [
        "group_names = ['True Neg','False Pos','False Neg','True Pos']\n",
        "group_counts = [\"{0:0.0f}\".format(value) for value in\n",
        "                cf_matrix_logreg.flatten()]\n",
        "group_percentages = [\"{0:.2%}\".format(value) for value in\n",
        "                     cf_matrix_logreg.flatten()/np.sum(cf_matrix_logreg)]\n",
        "labels = [f\"{v1}\\n{v2}\\n{v3}\" for v1, v2, v3 in\n",
        "          zip(group_names,group_counts,group_percentages)]\n",
        "labels = np.asarray(labels).reshape(2,2)\n",
        "f, ax = plt.subplots(figsize=(7, 6))\n",
        "sns.heatmap(cf_matrix_logreg, annot=labels, fmt='')"
      ],
      "execution_count": null,
      "outputs": [
        {
          "output_type": "execute_result",
          "data": {
            "text/plain": [
              "<matplotlib.axes._subplots.AxesSubplot at 0x7fed1cdc7090>"
            ]
          },
          "metadata": {},
          "execution_count": 38
        },
        {
          "output_type": "display_data",
          "data": {
            "image/png": "[encoded data removed]",
            "text/plain": [
              "<Figure size 504x432 with 2 Axes>"
            ]
          },
          "metadata": {
            "needs_background": "light"
          }
        }
      ]
    },
    {
      "cell_type": "code",
      "metadata": {
        "colab": {
          "base_uri": "https://localhost:8080/",
          "height": 391
        },
        "id": "Dfg6m2unnbQ2",
        "outputId": "ed3a4f79-a3f2-4a0b-a72f-49aab6949405"
      },
      "source": [
        "group_counts = [\"{0:0.0f}\".format(value) for value in\n",
        "                cf_matrix_logregcv.flatten()]\n",
        "group_percentages = [\"{0:.2%}\".format(value) for value in\n",
        "                     cf_matrix_logregcv.flatten()/np.sum(cf_matrix_logregcv)]\n",
        "labels = [f\"{v1}\\n{v2}\\n{v3}\" for v1, v2, v3 in\n",
        "          zip(group_names,group_counts,group_percentages)]\n",
        "labels = np.asarray(labels).reshape(2,2)\n",
        "f, ax = plt.subplots(figsize=(7, 6))\n",
        "sns.heatmap(cf_matrix_logregcv, annot=labels, fmt='')"
      ],
      "execution_count": null,
      "outputs": [
        {
          "output_type": "execute_result",
          "data": {
            "text/plain": [
              "<matplotlib.axes._subplots.AxesSubplot at 0x7fe323fd73d0>"
            ]
          },
          "metadata": {},
          "execution_count": 40
        },
        {
          "output_type": "display_data",
          "data": {
            "image/png": "[encoded data removed]",
            "text/plain": [
              "<Figure size 504x432 with 2 Axes>"
            ]
          },
          "metadata": {
            "needs_background": "light"
          }
        }
      ]
    },
    {
      "cell_type": "code",
      "metadata": {
        "colab": {
          "base_uri": "https://localhost:8080/",
          "height": 297
        },
        "id": "lqDy5xL9IV1O",
        "outputId": "6ed20b68-71c5-4d4a-ce49-d3f993b90ae2"
      },
      "source": [
        "plot_roc_curve(clf, X_test, y_test)"
      ],
      "execution_count": null,
      "outputs": [
        {
          "output_type": "execute_result",
          "data": {
            "text/plain": [
              "<sklearn.metrics._plot.roc_curve.RocCurveDisplay at 0x7fe3248ba0d0>"
            ]
          },
          "metadata": {},
          "execution_count": 41
        },
        {
          "output_type": "display_data",
          "data": {
            "image/png": "[encoded data removed]",
            "text/plain": [
              "<Figure size 432x288 with 1 Axes>"
            ]
          },
          "metadata": {
            "needs_background": "light"
          }
        }
      ]
    },
    {
      "cell_type": "markdown",
      "metadata": {
        "id": "TTXGPnJKpbaa"
      },
      "source": [
        "## SVM"
      ]
    },
    {
      "cell_type": "markdown",
      "metadata": {
        "id": "2t5EGL_fp97Z"
      },
      "source": [
        "Линейный SVM со стохастическим градиентным спуском"
      ]
    },
    {
      "cell_type": "code",
      "metadata": {
        "id": "WGB591o8ph50"
      },
      "source": [
        "from sklearn.linear_model import SGDClassifier\n",
        "simple_svm = SGDClassifier(n_jobs=-1,random_state=10)\n",
        "simple_svm.fit(X_train,y_train)\n",
        "svm_pred = simple_svm.predict(X_test)"
      ],
      "execution_count": null,
      "outputs": []
    },
    {
      "cell_type": "code",
      "metadata": {
        "colab": {
          "base_uri": "https://localhost:8080/"
        },
        "id": "xc9LXAXFql7D",
        "outputId": "e2e9498a-2607-4271-e529-749a357876ac"
      },
      "source": [
        "print(accuracy_score(y_test,svm_pred),f1_score(y_test, svm_pred))"
      ],
      "execution_count": null,
      "outputs": [
        {
          "output_type": "stream",
          "name": "stdout",
          "text": [
            "0.723148765843896 0.6694982744889832\n"
          ]
        }
      ]
    },
    {
      "cell_type": "code",
      "metadata": {
        "colab": {
          "base_uri": "https://localhost:8080/"
        },
        "id": "GN2ZC4qfrL4u",
        "outputId": "39f73f32-9809-4a96-cba6-797048802a1e"
      },
      "source": [
        "print(classification_report(y_test,svm_pred))"
      ],
      "execution_count": null,
      "outputs": [
        {
          "output_type": "stream",
          "name": "stdout",
          "text": [
            "              precision    recall  f1-score   support\n",
            "\n",
            "          -1       0.68      0.87      0.76      6895\n",
            "           1       0.80      0.57      0.67      6596\n",
            "\n",
            "    accuracy                           0.72     13491\n",
            "   macro avg       0.74      0.72      0.72     13491\n",
            "weighted avg       0.74      0.72      0.72     13491\n",
            "\n"
          ]
        }
      ]
    },
    {
      "cell_type": "markdown",
      "metadata": {
        "id": "fWPGFcxqqJhM"
      },
      "source": [
        "SVM с rbf ядром на GPU"
      ]
    },
    {
      "cell_type": "code",
      "source": [
        "!wget https://developer.nvidia.com/compute/cuda/9.0/Prod/local_installers/cuda-repo-ubuntu1704-9-0-local_9.0.176-1_amd64-deb\n",
        "!ls\n",
        "!dpkg -i cuda-repo-ubuntu1704-9-0-local_9.0.176-1_amd64-deb\n",
        "!ls /var/cuda-repo-9-0-local | grep .pub\n",
        "!apt-key add /var/cuda-repo-9-0-local/7fa2af80.pub\n",
        "!apt-get update\n",
        "!sudo apt-get install cuda-9.0\n",
        "!pip install thundersvm"
      ],
      "metadata": {
        "id": "gj4aeK7aZdWh",
        "colab": {
          "base_uri": "https://localhost:8080/"
        },
        "outputId": "21c47117-f1be-443d-9ac7-166866a2f6f0"
      },
      "execution_count": null,
      "outputs": [
        {
          "output_type": "stream",
          "name": "stdout",
          "text": [
            "--2022-02-15 10:53:33--  https://developer.nvidia.com/compute/cuda/9.0/Prod/local_installers/cuda-repo-ubuntu1704-9-0-local_9.0.176-1_amd64-deb\n",
            "Resolving developer.nvidia.com (developer.nvidia.com)... 152.199.20.126\n",
            "Connecting to developer.nvidia.com (developer.nvidia.com)|152.199.20.126|:443... connected.\n",
            "HTTP request sent, awaiting response... 301 Moved Permanently\n",
            "Location: https://developer.nvidia.com/compute/cuda/9.0/prod/local_installers/cuda-repo-ubuntu1704-9-0-local_9.0.176-1_amd64-deb [following]\n",
            "--2022-02-15 10:53:33--  https://developer.nvidia.com/compute/cuda/9.0/prod/local_installers/cuda-repo-ubuntu1704-9-0-local_9.0.176-1_amd64-deb\n",
            "Reusing existing connection to developer.nvidia.com:443.\n",
            "HTTP request sent, awaiting response... 302 Found\n",
            "Location: https://developer.download.nvidia.com/compute/cuda/9.0/secure/Prod/local_installers/cuda-repo-ubuntu1704-9-0-local_9.0.176-1_amd64.deb?aKvixUtmm0THlPeeqXBUtAx-dB-UIbe00dlZ0y8I8MAlOsKVScvafroD6MumLXR4Jd7yg1k4ktnxPaL9k0MCN7fDJIrxJW3d2EkGTpZe_F4eCtb3uwM32AnEcv9KzfIccI7wzyZ_7fHvVYzKjInksWVaxuYtLbD2VZR6XVOe7yRXz4O9KGgxdA8AFUlbwfuoDODqqwZ3hTeKXXVr-opK [following]\n",
            "--2022-02-15 10:53:34--  https://developer.download.nvidia.com/compute/cuda/9.0/secure/Prod/local_installers/cuda-repo-ubuntu1704-9-0-local_9.0.176-1_amd64.deb?aKvixUtmm0THlPeeqXBUtAx-dB-UIbe00dlZ0y8I8MAlOsKVScvafroD6MumLXR4Jd7yg1k4ktnxPaL9k0MCN7fDJIrxJW3d2EkGTpZe_F4eCtb3uwM32AnEcv9KzfIccI7wzyZ_7fHvVYzKjInksWVaxuYtLbD2VZR6XVOe7yRXz4O9KGgxdA8AFUlbwfuoDODqqwZ3hTeKXXVr-opK\n",
            "Resolving developer.download.nvidia.com (developer.download.nvidia.com)... 152.199.20.126\n",
            "Connecting to developer.download.nvidia.com (developer.download.nvidia.com)|152.199.20.126|:443... connected.\n",
            "HTTP request sent, awaiting response... 200 OK\n",
            "Length: 1216133170 (1.1G) [application/x-deb]\n",
            "Saving to: ‘cuda-repo-ubuntu1704-9-0-local_9.0.176-1_amd64-deb.1’\n",
            "\n",
            "cuda-repo-ubuntu170 100%[===================>]   1.13G  54.2MB/s    in 18s     \n",
            "\n",
            "2022-02-15 10:53:52 (65.0 MB/s) - ‘cuda-repo-ubuntu1704-9-0-local_9.0.176-1_amd64-deb.1’ saved [1216133170/1216133170]\n",
            "\n",
            "cardio_train.csv\n",
            "cuda-repo-ubuntu1704-9-0-local_9.0.176-1_amd64-deb\n",
            "cuda-repo-ubuntu1704-9-0-local_9.0.176-1_amd64-deb.1\n",
            "sample_data\n",
            "(Reading database ... 164558 files and directories currently installed.)\n",
            "Preparing to unpack cuda-repo-ubuntu1704-9-0-local_9.0.176-1_amd64-deb ...\n",
            "Unpacking cuda-repo-ubuntu1704-9-0-local (9.0.176-1) over (9.0.176-1) ...\n",
            "Setting up cuda-repo-ubuntu1704-9-0-local (9.0.176-1) ...\n",
            "7fa2af80.pub\n",
            "OK\n",
            "Get:1 file:/var/cuda-repo-9-0-local  InRelease\n",
            "Ign:1 file:/var/cuda-repo-9-0-local  InRelease\n",
            "Get:2 file:/var/cuda-repo-9-0-local  Release [574 B]\n",
            "Get:2 file:/var/cuda-repo-9-0-local  Release [574 B]\n",
            "Hit:3 http://archive.ubuntu.com/ubuntu bionic InRelease\n",
            "Get:4 http://security.ubuntu.com/ubuntu bionic-security InRelease [88.7 kB]\n",
            "Hit:5 http://ppa.launchpad.net/c2d4u.team/c2d4u4.0+/ubuntu bionic InRelease\n",
            "Hit:6 http://ppa.launchpad.net/cran/libgit2/ubuntu bionic InRelease\n",
            "Get:7 http://archive.ubuntu.com/ubuntu bionic-updates InRelease [88.7 kB]\n",
            "Hit:8 https://cloud.r-project.org/bin/linux/ubuntu bionic-cran40/ InRelease\n",
            "Hit:9 http://ppa.launchpad.net/deadsnakes/ppa/ubuntu bionic InRelease\n",
            "Get:10 http://archive.ubuntu.com/ubuntu bionic-backports InRelease [74.6 kB]\n",
            "Hit:11 http://ppa.launchpad.net/graphics-drivers/ppa/ubuntu bionic InRelease\n",
            "Ign:12 https://developer.download.nvidia.com/compute/cuda/repos/ubuntu1804/x86_64  InRelease\n",
            "Ign:14 https://developer.download.nvidia.com/compute/machine-learning/repos/ubuntu1804/x86_64  InRelease\n",
            "Hit:15 https://developer.download.nvidia.com/compute/cuda/repos/ubuntu1804/x86_64  Release\n",
            "Hit:16 https://developer.download.nvidia.com/compute/machine-learning/repos/ubuntu1804/x86_64  Release\n",
            "Fetched 252 kB in 2s (114 kB/s)\n",
            "Reading package lists... Done\n",
            "Reading package lists... Done\n",
            "Building dependency tree       \n",
            "Reading state information... Done\n",
            "Note, selecting 'cuda-9-0' for regex 'cuda-9.0'\n",
            "Note, selecting 'libcuda-9.0-1' for regex 'cuda-9.0'\n",
            "cuda-9-0 is already the newest version (9.0.176-1).\n",
            "The following packages were automatically installed and are no longer required:\n",
            "  cuda-command-line-tools-10-0 cuda-command-line-tools-10-1\n",
            "  cuda-command-line-tools-11-0 cuda-compiler-10-0 cuda-compiler-10-1\n",
            "  cuda-compiler-11-0 cuda-cuobjdump-10-0 cuda-cuobjdump-10-1\n",
            "  cuda-cuobjdump-11-0 cuda-cupti-10-0 cuda-cupti-10-1 cuda-cupti-11-0\n",
            "  cuda-cupti-dev-11-0 cuda-documentation-10-0 cuda-documentation-10-1\n",
            "  cuda-documentation-11-0 cuda-documentation-11-1 cuda-gdb-10-0 cuda-gdb-10-1\n",
            "  cuda-gdb-11-0 cuda-gpu-library-advisor-10-0 cuda-gpu-library-advisor-10-1\n",
            "  cuda-libraries-10-0 cuda-libraries-10-1 cuda-libraries-11-0\n",
            "  cuda-memcheck-10-0 cuda-memcheck-10-1 cuda-memcheck-11-0 cuda-nsight-10-0\n",
            "  cuda-nsight-10-1 cuda-nsight-11-0 cuda-nsight-11-1 cuda-nsight-compute-10-0\n",
            "  cuda-nsight-compute-10-1 cuda-nsight-compute-11-0 cuda-nsight-compute-11-1\n",
            "  cuda-nsight-systems-10-1 cuda-nsight-systems-11-0 cuda-nsight-systems-11-1\n",
            "  cuda-nvcc-10-0 cuda-nvcc-10-1 cuda-nvcc-11-0 cuda-nvdisasm-10-0\n",
            "  cuda-nvdisasm-10-1 cuda-nvdisasm-11-0 cuda-nvml-dev-10-0 cuda-nvml-dev-10-1\n",
            "  cuda-nvml-dev-11-0 cuda-nvprof-10-0 cuda-nvprof-10-1 cuda-nvprof-11-0\n",
            "  cuda-nvprune-10-0 cuda-nvprune-10-1 cuda-nvprune-11-0 cuda-nvtx-10-0\n",
            "  cuda-nvtx-10-1 cuda-nvtx-11-0 cuda-nvvp-10-0 cuda-nvvp-10-1 cuda-nvvp-11-0\n",
            "  cuda-nvvp-11-1 cuda-samples-10-0 cuda-samples-10-1 cuda-samples-11-0\n",
            "  cuda-samples-11-1 cuda-sanitizer-11-0 cuda-sanitizer-api-10-1\n",
            "  cuda-toolkit-10-0 cuda-toolkit-10-1 cuda-toolkit-11-0 cuda-toolkit-11-1\n",
            "  cuda-tools-10-0 cuda-tools-10-1 cuda-tools-11-0 cuda-tools-11-1\n",
            "  cuda-visual-tools-10-0 cuda-visual-tools-10-1 cuda-visual-tools-11-0\n",
            "  cuda-visual-tools-11-1 libnvidia-common-460 nsight-compute-2020.2.1\n",
            "  nsight-compute-2022.1.0 nsight-systems-2020.3.2 nsight-systems-2020.3.4\n",
            "  nsight-systems-2021.5.2\n",
            "Use 'sudo apt autoremove' to remove them.\n",
            "0 upgraded, 0 newly installed, 0 to remove and 53 not upgraded.\n",
            "32 not fully installed or removed.\n",
            "After this operation, 0 B of additional disk space will be used.\n",
            "Setting up cuda-cufft-dev-9-0 (9.0.176-1) ...\n",
            "Setting up nvidia-dkms-510 (510.47.03-0ubuntu1) ...\n",
            "\n",
            "A modprobe blacklist file has been created at /etc/modprobe.d to prevent Nouveau\n",
            "from loading. This can be reverted by deleting the following file:\n",
            "/etc/modprobe.d/nvidia-graphics-drivers.conf\n",
            "\n",
            "A new initrd image has also been created. To revert, please regenerate your\n",
            "initrd by running the following command after deleting the modprobe.d file:\n",
            "`/usr/sbin/initramfs -u`\n",
            "\n",
            "*****************************************************************************\n",
            "*** Reboot your computer and verify that the NVIDIA graphics driver can   ***\n",
            "*** be loaded.                                                            ***\n",
            "*****************************************************************************\n",
            "\n",
            "debconf: unable to initialize frontend: Dialog\n",
            "debconf: (No usable dialog-like program is installed, so the dialog based frontend cannot be used. at /usr/share/perl5/Debconf/FrontEnd/Dialog.pm line 76.)\n",
            "debconf: falling back to frontend: Readline\n",
            "Removing old nvidia-510.47.03 DKMS files...\n",
            "\n",
            "-------- Uninstall Beginning --------\n",
            "Module:  nvidia\n",
            "Version: 510.47.03\n",
            "Kernel:  4.15.0-167-generic (x86_64)\n",
            "-------------------------------------\n",
            "\n",
            "Status: This module version was INACTIVE for this kernel.\n",
            "depmod...\n",
            "\n",
            "DKMS: uninstall completed.\n",
            "\n",
            "------------------------------\n",
            "Deleting module version: 510.47.03\n",
            "completely from the DKMS tree.\n",
            "------------------------------\n",
            "Done.\n",
            "Loading new nvidia-510.47.03 DKMS files...\n",
            "It is likely that 5.4.144+ belongs to a chroot's host\n",
            "Building for 4.15.0-167-generic\n",
            "Building for architecture x86_64\n",
            "Building initial module for 4.15.0-167-generic\n",
            "Done.\n",
            "\n",
            "nvidia:\n",
            "Running module version sanity check.\n",
            " - Original module\n",
            "   - No original module exists within this kernel\n",
            " - Installation\n",
            "   - Installing to /lib/modules/4.15.0-167-generic/updates/dkms/\n",
            "\n",
            "nvidia-modeset.ko:\n",
            "Running module version sanity check.\n",
            " - Original module\n",
            "   - No original module exists within this kernel\n",
            " - Installation\n",
            "   - Installing to /lib/modules/4.15.0-167-generic/updates/dkms/\n",
            "\n",
            "nvidia-drm.ko:\n",
            "Running module version sanity check.\n",
            " - Original module\n",
            "   - No original module exists within this kernel\n",
            " - Installation\n",
            "   - Installing to /lib/modules/4.15.0-167-generic/updates/dkms/\n",
            "\n",
            "nvidia-peermem.ko:\n",
            "Running module version sanity check.\n",
            " - Original module\n",
            "   - No original module exists within this kernel\n",
            " - Installation\n",
            "   - Installing to /lib/modules/4.15.0-167-generic/updates/dkms/\n",
            "\n",
            "nvidia-uvm.ko:\n",
            "Running module version sanity check.\n",
            " - Original module\n",
            "   - No original module exists within this kernel\n",
            " - Installation\n",
            "   - Installing to /lib/modules/4.15.0-167-generic/updates/dkms/\n",
            "\n",
            "depmod...\n",
            "\n",
            "DKMS: install completed.\n",
            "Setting up cuda-cusolver-9-0 (9.0.176-1) ...\n",
            "Setting up cuda-nvml-dev-9-0 (9.0.176-1) ...\n",
            "Setting up cuda-npp-9-0 (9.0.176-1) ...\n",
            "Setting up cuda-cusolver-dev-9-0 (9.0.176-1) ...\n",
            "Setting up cuda-misc-headers-9-0 (9.0.176-1) ...\n",
            "Setting up cuda-cublas-9-0 (9.0.176-1) ...\n",
            "Setting up cuda-nvrtc-dev-9-0 (9.0.176-1) ...\n",
            "Setting up cuda-driver-dev-9-0 (9.0.176-1) ...\n",
            "Setting up libnvidia-gl-510:amd64 (510.47.03-0ubuntu1) ...\n",
            "Setting up cuda-curand-9-0 (9.0.176-1) ...\n",
            "Setting up cuda-nvgraph-9-0 (9.0.176-1) ...\n",
            "Setting up nvidia-driver-510 (510.47.03-0ubuntu1) ...\n",
            "Setting up cuda-core-9-0 (9.0.176-1) ...\n",
            "Setting up cuda-libraries-9-0 (9.0.176-1) ...\n",
            "Setting up cuda-cudart-dev-9-0 (9.0.176-1) ...\n",
            "Setting up cuda-npp-dev-9-0 (9.0.176-1) ...\n",
            "Setting up cuda-curand-dev-9-0 (9.0.176-1) ...\n",
            "Setting up cuda-cublas-dev-9-0 (9.0.176-1) ...\n",
            "Setting up cuda-drivers-510 (510.47.03-1) ...\n",
            "Setting up cuda-drivers (510.47.03-1) ...\n",
            "Setting up cuda-nvgraph-dev-9-0 (9.0.176-1) ...\n",
            "Setting up cuda-command-line-tools-9-0 (9.0.176-1) ...\n",
            "Setting up cuda-visual-tools-9-0 (9.0.176-1) ...\n",
            "Setting up cuda-runtime-9-0 (9.0.176-1) ...\n",
            "Setting up cuda-samples-9-0 (9.0.176-1) ...\n",
            "Setting up cuda-libraries-dev-9-0 (9.0.176-1) ...\n",
            "Setting up cuda-demo-suite-9-0 (9.0.176-1) ...\n",
            "Setting up cuda-documentation-9-0 (9.0.176-1) ...\n",
            "Setting up cuda-toolkit-9-0 (9.0.176-1) ...\n",
            "Setting up cuda-9-0 (9.0.176-1) ...\n",
            "Processing triggers for libc-bin (2.27-3ubuntu1.3) ...\n",
            "/sbin/ldconfig.real: /usr/local/lib/python3.7/dist-packages/ideep4py/lib/libmkldnn.so.0 is not a symbolic link\n",
            "\n",
            "Processing triggers for man-db (2.8.3-2ubuntu0.1) ...\n",
            "Processing triggers for dbus (1.12.2-1ubuntu1.2) ...\n",
            "Processing triggers for mime-support (3.60ubuntu1) ...\n",
            "W: APT had planned for dpkg to do more than it reported back (93 vs 97).\n",
            "   Affected packages: nvidia-dkms-510:amd64\n",
            "Collecting thundersvm\n",
            "  Downloading thundersvm-0.3.12-py3-none-any.whl (507 kB)\n",
            "\u001b[K     |████████████████████████████████| 507 kB 13.2 MB/s \n",
            "\u001b[?25hRequirement already satisfied: scipy in /usr/local/lib/python3.7/dist-packages (from thundersvm) (1.4.1)\n",
            "Requirement already satisfied: numpy in /usr/local/lib/python3.7/dist-packages (from thundersvm) (1.19.5)\n",
            "Requirement already satisfied: scikit-learn in /usr/local/lib/python3.7/dist-packages (from thundersvm) (1.0.2)\n",
            "Requirement already satisfied: joblib>=0.11 in /usr/local/lib/python3.7/dist-packages (from scikit-learn->thundersvm) (1.1.0)\n",
            "Requirement already satisfied: threadpoolctl>=2.0.0 in /usr/local/lib/python3.7/dist-packages (from scikit-learn->thundersvm) (3.1.0)\n",
            "Installing collected packages: thundersvm\n",
            "Successfully installed thundersvm-0.3.12\n"
          ]
        }
      ]
    },
    {
      "cell_type": "code",
      "source": [
        "X_train_cat['blood_pressure'][X_train_cat['blood_pressure'] == 'normal'] = 0\n",
        "X_train_cat['blood_pressure'][X_train_cat['blood_pressure'] == 'under'] =  1\n",
        "X_train_cat['blood_pressure'][X_train_cat['blood_pressure'] == 'higher'] = 2\n",
        "X_train_cat['cat_bmi'][X_train_cat['cat_bmi'] == 'healthy'] = 0\n",
        "X_train_cat['cat_bmi'][X_train_cat['cat_bmi'] == 'under'] = 1\n",
        "X_train_cat['cat_bmi'][X_train_cat['cat_bmi'] == 'over'] = 2\n",
        "X_train_cat['cat_bmi'][X_train_cat['cat_bmi'] == 'obese'] = 3\n",
        "X_test_cat['blood_pressure'][X_test_cat['blood_pressure'] == 'normal'] = 0\n",
        "X_test_cat['blood_pressure'][X_test_cat['blood_pressure'] == 'under'] =  1\n",
        "X_test_cat['blood_pressure'][X_test_cat['blood_pressure'] == 'higher'] = 2\n",
        "X_test_cat['cat_bmi'][X_test_cat['cat_bmi'] == 'healthy'] = 0\n",
        "X_test_cat['cat_bmi'][X_test_cat['cat_bmi'] == 'under'] = 1\n",
        "X_test_cat['cat_bmi'][X_test_cat['cat_bmi'] == 'over'] = 2\n",
        "X_test_cat['cat_bmi'][X_test_cat['cat_bmi'] == 'obese'] = 3"
      ],
      "metadata": {
        "id": "czkR-Z5R0OQW"
      },
      "execution_count": null,
      "outputs": []
    },
    {
      "cell_type": "code",
      "metadata": {
        "id": "Q4_K4Sx819Gv"
      },
      "source": [
        "from thundersvm import SVC\n",
        "scale = 1/(X_train.shape[1] * X_train.values.var())#дефолтное значение гаммы в sklearn реализации\n",
        "svm = SVC(random_state=10,gamma=scale,kernel='rbf')\n",
        "svm.fit(X_train_cat,y_train_cat)\n",
        "print(accuracy_score(y_test_cat,svm.predict(X_test_cat)),f1_score(y_test_cat, svm.predict(X_test_cat)))\n",
        "print(classification_report(y_test_cat,svm.predict(X_test_cat)))"
      ],
      "execution_count": null,
      "outputs": []
    },
    {
      "cell_type": "markdown",
      "metadata": {
        "id": "lCVlyiw5qXUt"
      },
      "source": [
        "Подбор гиперпараметров"
      ]
    },
    {
      "cell_type": "code",
      "metadata": {
        "id": "cgTEvDxKzFTo",
        "colab": {
          "base_uri": "https://localhost:8080/"
        },
        "outputId": "066d2fd2-849a-4c56-d23b-b149347df02a"
      },
      "source": [
        "from sklearn.model_selection import GridSearchCV\n",
        "param_grid = {'C': [1, 10, 100],\n",
        "              'gamma': [scale,0.01],\n",
        "              'kernel': ['rbf']}\n",
        "svm_cv = GridSearchCV(svm, param_grid, verbose= 10, scoring='f1',cv=5)\n",
        "svm_cv.fit(X_train_cat,y_train_cat)"
      ],
      "execution_count": null,
      "outputs": [
        {
          "output_type": "stream",
          "name": "stdout",
          "text": [
            "Fitting 5 folds for each of 6 candidates, totalling 30 fits\n",
            "[CV 1/5; 1/6] START C=1, gamma=0.11350844203808028, kernel=rbf..................\n",
            "[CV 1/5; 1/6] END C=1, gamma=0.11350844203808028, kernel=rbf;, score=0.696 total time=   3.4s\n",
            "[CV 2/5; 1/6] START C=1, gamma=0.11350844203808028, kernel=rbf..................\n",
            "[CV 2/5; 1/6] END C=1, gamma=0.11350844203808028, kernel=rbf;, score=0.694 total time=   3.2s\n",
            "[CV 3/5; 1/6] START C=1, gamma=0.11350844203808028, kernel=rbf..................\n",
            "[CV 3/5; 1/6] END C=1, gamma=0.11350844203808028, kernel=rbf;, score=0.698 total time=   3.4s\n",
            "[CV 4/5; 1/6] START C=1, gamma=0.11350844203808028, kernel=rbf..................\n",
            "[CV 4/5; 1/6] END C=1, gamma=0.11350844203808028, kernel=rbf;, score=0.696 total time=   3.1s\n",
            "[CV 5/5; 1/6] START C=1, gamma=0.11350844203808028, kernel=rbf..................\n",
            "[CV 5/5; 1/6] END C=1, gamma=0.11350844203808028, kernel=rbf;, score=0.693 total time=   3.1s\n",
            "[CV 1/5; 2/6] START C=1, gamma=0.01, kernel=rbf.................................\n",
            "[CV 1/5; 2/6] END ..C=1, gamma=0.01, kernel=rbf;, score=0.697 total time=   1.2s\n",
            "[CV 2/5; 2/6] START C=1, gamma=0.01, kernel=rbf.................................\n",
            "[CV 2/5; 2/6] END ..C=1, gamma=0.01, kernel=rbf;, score=0.699 total time=   1.3s\n",
            "[CV 3/5; 2/6] START C=1, gamma=0.01, kernel=rbf.................................\n",
            "[CV 3/5; 2/6] END ..C=1, gamma=0.01, kernel=rbf;, score=0.704 total time=   1.3s\n",
            "[CV 4/5; 2/6] START C=1, gamma=0.01, kernel=rbf.................................\n",
            "[CV 4/5; 2/6] END ..C=1, gamma=0.01, kernel=rbf;, score=0.700 total time=   1.2s\n",
            "[CV 5/5; 2/6] START C=1, gamma=0.01, kernel=rbf.................................\n",
            "[CV 5/5; 2/6] END ..C=1, gamma=0.01, kernel=rbf;, score=0.698 total time=   1.3s\n",
            "[CV 1/5; 3/6] START C=10, gamma=0.11350844203808028, kernel=rbf.................\n",
            "[CV 1/5; 3/6] END C=10, gamma=0.11350844203808028, kernel=rbf;, score=0.699 total time=  19.9s\n",
            "[CV 2/5; 3/6] START C=10, gamma=0.11350844203808028, kernel=rbf.................\n",
            "[CV 2/5; 3/6] END C=10, gamma=0.11350844203808028, kernel=rbf;, score=0.699 total time=  22.3s\n",
            "[CV 3/5; 3/6] START C=10, gamma=0.11350844203808028, kernel=rbf.................\n",
            "[CV 3/5; 3/6] END C=10, gamma=0.11350844203808028, kernel=rbf;, score=0.701 total time=  20.2s\n",
            "[CV 4/5; 3/6] START C=10, gamma=0.11350844203808028, kernel=rbf.................\n",
            "[CV 4/5; 3/6] END C=10, gamma=0.11350844203808028, kernel=rbf;, score=0.699 total time=  18.7s\n",
            "[CV 5/5; 3/6] START C=10, gamma=0.11350844203808028, kernel=rbf.................\n",
            "[CV 5/5; 3/6] END C=10, gamma=0.11350844203808028, kernel=rbf;, score=0.695 total time=  19.6s\n",
            "[CV 1/5; 4/6] START C=10, gamma=0.01, kernel=rbf................................\n",
            "[CV 1/5; 4/6] END .C=10, gamma=0.01, kernel=rbf;, score=0.688 total time=   2.6s\n",
            "[CV 2/5; 4/6] START C=10, gamma=0.01, kernel=rbf................................\n",
            "[CV 2/5; 4/6] END .C=10, gamma=0.01, kernel=rbf;, score=0.689 total time=   2.6s\n",
            "[CV 3/5; 4/6] START C=10, gamma=0.01, kernel=rbf................................\n",
            "[CV 3/5; 4/6] END .C=10, gamma=0.01, kernel=rbf;, score=0.695 total time=   2.4s\n",
            "[CV 4/5; 4/6] START C=10, gamma=0.01, kernel=rbf................................\n",
            "[CV 4/5; 4/6] END .C=10, gamma=0.01, kernel=rbf;, score=0.692 total time=   2.5s\n",
            "[CV 5/5; 4/6] START C=10, gamma=0.01, kernel=rbf................................\n",
            "[CV 5/5; 4/6] END .C=10, gamma=0.01, kernel=rbf;, score=0.690 total time=   2.5s\n",
            "[CV 1/5; 5/6] START C=100, gamma=0.11350844203808028, kernel=rbf................\n",
            "[CV 1/5; 5/6] END C=100, gamma=0.11350844203808028, kernel=rbf;, score=0.700 total time= 2.2min\n",
            "[CV 2/5; 5/6] START C=100, gamma=0.11350844203808028, kernel=rbf................\n",
            "[CV 2/5; 5/6] END C=100, gamma=0.11350844203808028, kernel=rbf;, score=0.696 total time= 2.3min\n",
            "[CV 3/5; 5/6] START C=100, gamma=0.11350844203808028, kernel=rbf................\n",
            "[CV 3/5; 5/6] END C=100, gamma=0.11350844203808028, kernel=rbf;, score=0.697 total time= 2.2min\n",
            "[CV 4/5; 5/6] START C=100, gamma=0.11350844203808028, kernel=rbf................\n",
            "[CV 4/5; 5/6] END C=100, gamma=0.11350844203808028, kernel=rbf;, score=0.696 total time= 2.4min\n",
            "[CV 5/5; 5/6] START C=100, gamma=0.11350844203808028, kernel=rbf................\n",
            "[CV 5/5; 5/6] END C=100, gamma=0.11350844203808028, kernel=rbf;, score=0.691 total time= 2.2min\n",
            "[CV 1/5; 6/6] START C=100, gamma=0.01, kernel=rbf...............................\n",
            "[CV 1/5; 6/6] END C=100, gamma=0.01, kernel=rbf;, score=0.681 total time=  16.2s\n",
            "[CV 2/5; 6/6] START C=100, gamma=0.01, kernel=rbf...............................\n",
            "[CV 2/5; 6/6] END C=100, gamma=0.01, kernel=rbf;, score=0.682 total time=  14.9s\n",
            "[CV 3/5; 6/6] START C=100, gamma=0.01, kernel=rbf...............................\n",
            "[CV 3/5; 6/6] END C=100, gamma=0.01, kernel=rbf;, score=0.686 total time=  14.9s\n",
            "[CV 4/5; 6/6] START C=100, gamma=0.01, kernel=rbf...............................\n",
            "[CV 4/5; 6/6] END C=100, gamma=0.01, kernel=rbf;, score=0.682 total time=  15.9s\n",
            "[CV 5/5; 6/6] START C=100, gamma=0.01, kernel=rbf...............................\n",
            "[CV 5/5; 6/6] END C=100, gamma=0.01, kernel=rbf;, score=0.679 total time=  15.4s\n"
          ]
        },
        {
          "output_type": "execute_result",
          "data": {
            "text/plain": [
              "GridSearchCV(cv=5,\n",
              "             estimator=SVC(class_weight={}, gamma=0.11350844203808028,\n",
              "                           random_state=10),\n",
              "             param_grid={'C': [1, 10, 100],\n",
              "                         'gamma': [0.11350844203808028, 0.01],\n",
              "                         'kernel': ['rbf']},\n",
              "             scoring='f1', verbose=10)"
            ]
          },
          "metadata": {},
          "execution_count": 62
        }
      ]
    },
    {
      "cell_type": "code",
      "metadata": {
        "id": "5GQsoJGP6Aw0",
        "colab": {
          "base_uri": "https://localhost:8080/"
        },
        "outputId": "1cdf91f9-f329-47fa-f871-445177787d76"
      },
      "source": [
        "svm_cv_pred = svm_cv.best_estimator_.predict(X_test_cat)\n",
        "svm_cv.best_params_, svm_cv.best_score_"
      ],
      "execution_count": null,
      "outputs": [
        {
          "output_type": "execute_result",
          "data": {
            "text/plain": [
              "({'C': 1, 'gamma': 0.01, 'kernel': 'rbf'}, 0.699434134652788)"
            ]
          },
          "metadata": {},
          "execution_count": 63
        }
      ]
    },
    {
      "cell_type": "code",
      "metadata": {
        "id": "M76DWvoT6qSA",
        "colab": {
          "base_uri": "https://localhost:8080/"
        },
        "outputId": "b78262fc-adc1-42ef-a1a6-b3769c7bb6c7"
      },
      "source": [
        "print(accuracy_score(y_test_cat,svm_cv_pred),f1_score(y_test_cat, svm_cv_pred))\n",
        "print(classification_report(y_test_cat,svm_cv_pred))"
      ],
      "execution_count": null,
      "outputs": [
        {
          "output_type": "stream",
          "name": "stdout",
          "text": [
            "0.7343414127937143 0.7065662354674963\n",
            "              precision    recall  f1-score   support\n",
            "\n",
            "          -1       0.71      0.81      0.76      6895\n",
            "           1       0.77      0.65      0.71      6596\n",
            "\n",
            "    accuracy                           0.73     13491\n",
            "   macro avg       0.74      0.73      0.73     13491\n",
            "weighted avg       0.74      0.73      0.73     13491\n",
            "\n"
          ]
        }
      ]
    },
    {
      "cell_type": "code",
      "source": [
        "from thundersvm import SVC\n",
        "scale = 1/(X_train.shape[1] * X_train.values.var())\n",
        "svm_cv_ = SVC(random_state=10,gamma=0.01,kernel='rbf')\n",
        "svm_cv_.fit(X_train_cat,y_train_cat)\n",
        "svm_cv_pred_ = svm_cv_.predict(X_test_cat)\n",
        "print(accuracy_score(y_test_cat,svm_cv_pred_),f1_score(y_test_cat, svm_cv_pred_))\n",
        "print(classification_report(y_test_cat,svm_cv_pred_))"
      ],
      "metadata": {
        "id": "as6MRIIoSLsw",
        "colab": {
          "base_uri": "https://localhost:8080/"
        },
        "outputId": "aa57e1d6-19c7-4139-c0bb-763428e22ebd"
      },
      "execution_count": null,
      "outputs": [
        {
          "output_type": "stream",
          "name": "stdout",
          "text": [
            "0.7343414127937143 0.7065662354674963\n",
            "              precision    recall  f1-score   support\n",
            "\n",
            "          -1       0.71      0.81      0.76      6895\n",
            "           1       0.77      0.65      0.71      6596\n",
            "\n",
            "    accuracy                           0.73     13491\n",
            "   macro avg       0.74      0.73      0.73     13491\n",
            "weighted avg       0.74      0.73      0.73     13491\n",
            "\n"
          ]
        }
      ]
    },
    {
      "cell_type": "markdown",
      "metadata": {
        "id": "MHN3fsqEYund"
      },
      "source": [
        "## K-nearest neighbors"
      ]
    },
    {
      "cell_type": "markdown",
      "metadata": {
        "id": "C9d57fmSqspo"
      },
      "source": [
        "KNN без подобранных гиперпараметров"
      ]
    },
    {
      "cell_type": "code",
      "source": [
        "from sklearn.neighbors import KNeighborsClassifier\n",
        "knn = KNeighborsClassifier(n_jobs=-1)"
      ],
      "metadata": {
        "id": "ZYj0RQ3jcq3r"
      },
      "execution_count": null,
      "outputs": []
    },
    {
      "cell_type": "code",
      "metadata": {
        "colab": {
          "base_uri": "https://localhost:8080/"
        },
        "id": "1IHNHYxFZFOi",
        "outputId": "8a012fcd-1c5a-4101-da39-4f40e408855c"
      },
      "source": [
        "knn.fit(X_train,y_train)\n",
        "print(accuracy_score(y_test,knn.predict(X_test)), f1_score(y_test, knn.predict(X_test)))\n",
        "print(classification_report(y_test,knn.predict(X_test)))"
      ],
      "execution_count": null,
      "outputs": [
        {
          "output_type": "stream",
          "name": "stdout",
          "text": [
            "0.6943147283374101 0.6834024259173961\n",
            "              precision    recall  f1-score   support\n",
            "\n",
            "          -1       0.70      0.71      0.70      6895\n",
            "           1       0.69      0.67      0.68      6596\n",
            "\n",
            "    accuracy                           0.69     13491\n",
            "   macro avg       0.69      0.69      0.69     13491\n",
            "weighted avg       0.69      0.69      0.69     13491\n",
            "\n"
          ]
        }
      ]
    },
    {
      "cell_type": "code",
      "metadata": {
        "id": "JVrHHLHqZpG8",
        "colab": {
          "base_uri": "https://localhost:8080/"
        },
        "outputId": "bf68d815-14c3-46fd-f62f-81a664b68699"
      },
      "source": [
        "from sklearn.model_selection import GridSearchCV\n",
        "param_grid = {'weights':['uniform', 'distance'],\n",
        "              'p': [1, 2],\n",
        "              'n_neighbors': [int(x) for x in np.arange(100,201,50)]}\n",
        "knn_cv = GridSearchCV(knn, param_grid, scoring='f1',verbose=5,cv=5)\n",
        "knn_cv.fit(X_train,y_train)"
      ],
      "execution_count": null,
      "outputs": [
        {
          "output_type": "stream",
          "name": "stdout",
          "text": [
            "Fitting 5 folds for each of 12 candidates, totalling 60 fits\n",
            "[CV 1/5] END n_neighbors=100, p=1, weights=uniform;, score=0.697 total time=  21.0s\n",
            "[CV 2/5] END n_neighbors=100, p=1, weights=uniform;, score=0.691 total time=  21.2s\n",
            "[CV 3/5] END n_neighbors=100, p=1, weights=uniform;, score=0.697 total time=  30.7s\n",
            "[CV 4/5] END n_neighbors=100, p=1, weights=uniform;, score=0.692 total time=  28.4s\n",
            "[CV 5/5] END n_neighbors=100, p=1, weights=uniform;, score=0.693 total time=  27.3s\n",
            "[CV 1/5] END n_neighbors=100, p=1, weights=distance;, score=0.694 total time=  21.0s\n",
            "[CV 2/5] END n_neighbors=100, p=1, weights=distance;, score=0.690 total time=  20.9s\n",
            "[CV 3/5] END n_neighbors=100, p=1, weights=distance;, score=0.699 total time=  21.2s\n",
            "[CV 4/5] END n_neighbors=100, p=1, weights=distance;, score=0.696 total time=  21.4s\n",
            "[CV 5/5] END n_neighbors=100, p=1, weights=distance;, score=0.691 total time=  21.6s\n",
            "[CV 1/5] END n_neighbors=100, p=2, weights=uniform;, score=0.698 total time=  17.8s\n",
            "[CV 2/5] END n_neighbors=100, p=2, weights=uniform;, score=0.695 total time=  17.7s\n",
            "[CV 3/5] END n_neighbors=100, p=2, weights=uniform;, score=0.697 total time=  18.2s\n",
            "[CV 4/5] END n_neighbors=100, p=2, weights=uniform;, score=0.695 total time=  18.4s\n",
            "[CV 5/5] END n_neighbors=100, p=2, weights=uniform;, score=0.690 total time=  20.2s\n",
            "[CV 1/5] END n_neighbors=100, p=2, weights=distance;, score=0.696 total time=  23.6s\n",
            "[CV 2/5] END n_neighbors=100, p=2, weights=distance;, score=0.692 total time=  21.6s\n",
            "[CV 3/5] END n_neighbors=100, p=2, weights=distance;, score=0.699 total time=  18.1s\n",
            "[CV 4/5] END n_neighbors=100, p=2, weights=distance;, score=0.698 total time=  19.2s\n",
            "[CV 5/5] END n_neighbors=100, p=2, weights=distance;, score=0.694 total time=  27.5s\n",
            "[CV 1/5] END n_neighbors=150, p=1, weights=uniform;, score=0.693 total time=  26.3s\n",
            "[CV 2/5] END n_neighbors=150, p=1, weights=uniform;, score=0.688 total time=  29.6s\n",
            "[CV 3/5] END n_neighbors=150, p=1, weights=uniform;, score=0.692 total time=  21.9s\n",
            "[CV 4/5] END n_neighbors=150, p=1, weights=uniform;, score=0.691 total time=  20.8s\n",
            "[CV 5/5] END n_neighbors=150, p=1, weights=uniform;, score=0.687 total time=  21.6s\n",
            "[CV 1/5] END n_neighbors=150, p=1, weights=distance;, score=0.694 total time=  20.7s\n",
            "[CV 2/5] END n_neighbors=150, p=1, weights=distance;, score=0.687 total time=  20.2s\n",
            "[CV 3/5] END n_neighbors=150, p=1, weights=distance;, score=0.696 total time=  21.0s\n",
            "[CV 4/5] END n_neighbors=150, p=1, weights=distance;, score=0.695 total time=  20.3s\n",
            "[CV 5/5] END n_neighbors=150, p=1, weights=distance;, score=0.689 total time=  21.0s\n",
            "[CV 1/5] END n_neighbors=150, p=2, weights=uniform;, score=0.698 total time=  17.0s\n",
            "[CV 2/5] END n_neighbors=150, p=2, weights=uniform;, score=0.692 total time=  19.1s\n",
            "[CV 3/5] END n_neighbors=150, p=2, weights=uniform;, score=0.695 total time=  22.0s\n",
            "[CV 4/5] END n_neighbors=150, p=2, weights=uniform;, score=0.695 total time=  17.1s\n",
            "[CV 5/5] END n_neighbors=150, p=2, weights=uniform;, score=0.687 total time=  17.7s\n",
            "[CV 1/5] END n_neighbors=150, p=2, weights=distance;, score=0.695 total time=  16.7s\n",
            "[CV 2/5] END n_neighbors=150, p=2, weights=distance;, score=0.689 total time=  16.7s\n",
            "[CV 3/5] END n_neighbors=150, p=2, weights=distance;, score=0.696 total time=  17.7s\n",
            "[CV 4/5] END n_neighbors=150, p=2, weights=distance;, score=0.696 total time=  16.7s\n",
            "[CV 5/5] END n_neighbors=150, p=2, weights=distance;, score=0.691 total time=  21.5s\n",
            "[CV 1/5] END n_neighbors=200, p=1, weights=uniform;, score=0.690 total time=  24.1s\n",
            "[CV 2/5] END n_neighbors=200, p=1, weights=uniform;, score=0.685 total time=  22.2s\n",
            "[CV 3/5] END n_neighbors=200, p=1, weights=uniform;, score=0.690 total time=  19.8s\n",
            "[CV 4/5] END n_neighbors=200, p=1, weights=uniform;, score=0.687 total time=  19.9s\n",
            "[CV 5/5] END n_neighbors=200, p=1, weights=uniform;, score=0.683 total time=  20.0s\n",
            "[CV 1/5] END n_neighbors=200, p=1, weights=distance;, score=0.690 total time=  19.0s\n",
            "[CV 2/5] END n_neighbors=200, p=1, weights=distance;, score=0.686 total time=  18.8s\n",
            "[CV 3/5] END n_neighbors=200, p=1, weights=distance;, score=0.693 total time=  19.3s\n",
            "[CV 4/5] END n_neighbors=200, p=1, weights=distance;, score=0.692 total time=  20.7s\n",
            "[CV 5/5] END n_neighbors=200, p=1, weights=distance;, score=0.686 total time=  30.8s\n",
            "[CV 1/5] END n_neighbors=200, p=2, weights=uniform;, score=0.696 total time=  21.5s\n",
            "[CV 2/5] END n_neighbors=200, p=2, weights=uniform;, score=0.689 total time=  16.4s\n",
            "[CV 3/5] END n_neighbors=200, p=2, weights=uniform;, score=0.692 total time=  16.3s\n",
            "[CV 4/5] END n_neighbors=200, p=2, weights=uniform;, score=0.690 total time=  16.3s\n",
            "[CV 5/5] END n_neighbors=200, p=2, weights=uniform;, score=0.684 total time=  16.9s\n",
            "[CV 1/5] END n_neighbors=200, p=2, weights=distance;, score=0.693 total time=  16.6s\n",
            "[CV 2/5] END n_neighbors=200, p=2, weights=distance;, score=0.687 total time=  16.0s\n",
            "[CV 3/5] END n_neighbors=200, p=2, weights=distance;, score=0.694 total time=  16.4s\n",
            "[CV 4/5] END n_neighbors=200, p=2, weights=distance;, score=0.694 total time=  18.4s\n",
            "[CV 5/5] END n_neighbors=200, p=2, weights=distance;, score=0.688 total time=  17.6s\n"
          ]
        },
        {
          "output_type": "execute_result",
          "data": {
            "text/plain": [
              "GridSearchCV(cv=5, estimator=KNeighborsClassifier(n_jobs=-1),\n",
              "             param_grid={'n_neighbors': [100, 150, 200], 'p': [1, 2],\n",
              "                         'weights': ['uniform', 'distance']},\n",
              "             scoring='f1', verbose=5)"
            ]
          },
          "metadata": {},
          "execution_count": 52
        }
      ]
    },
    {
      "cell_type": "code",
      "metadata": {
        "id": "93hHMMdlcLtb",
        "colab": {
          "base_uri": "https://localhost:8080/"
        },
        "outputId": "fb9cdc13-122f-496d-ac6e-8b021d947bae"
      },
      "source": [
        "knn_cv_pred = knn_cv.best_estimator_.predict(X_test)\n",
        "knn_cv.best_params_"
      ],
      "execution_count": null,
      "outputs": [
        {
          "output_type": "execute_result",
          "data": {
            "text/plain": [
              "{'n_neighbors': 100, 'p': 2, 'weights': 'distance'}"
            ]
          },
          "metadata": {},
          "execution_count": 53
        }
      ]
    },
    {
      "cell_type": "markdown",
      "metadata": {
        "id": "Zd5hIAebq04C"
      },
      "source": [
        "KNN с подобранными гиперпараметрами."
      ]
    },
    {
      "cell_type": "code",
      "source": [
        "print(accuracy_score(y_test,knn_cv_pred), f1_score(y_test, knn_cv_pred))\n",
        "print(classification_report(y_test,knn_cv_pred))"
      ],
      "metadata": {
        "id": "FRryfQj1MtU7",
        "colab": {
          "base_uri": "https://localhost:8080/"
        },
        "outputId": "e57ab263-4fe7-44ba-97e7-6068d7653c7b"
      },
      "execution_count": null,
      "outputs": [
        {
          "output_type": "stream",
          "name": "stdout",
          "text": [
            "0.7238900007412349 0.7047166072136346\n",
            "              precision    recall  f1-score   support\n",
            "\n",
            "          -1       0.71      0.77      0.74      6895\n",
            "           1       0.74      0.67      0.70      6596\n",
            "\n",
            "    accuracy                           0.72     13491\n",
            "   macro avg       0.73      0.72      0.72     13491\n",
            "weighted avg       0.73      0.72      0.72     13491\n",
            "\n"
          ]
        }
      ]
    },
    {
      "cell_type": "code",
      "metadata": {
        "id": "0qMstUf9D8wW"
      },
      "source": [
        "from sklearn.neighbors import KNeighborsClassifier\n",
        "knn_cv = KNeighborsClassifier(n_neighbors= 100, p = 2, weights = 'distance')\n",
        "knn_cv.fit(X_train,y_train)\n",
        "knn_cv_pred = knn_cv.predict(X_test)"
      ],
      "execution_count": null,
      "outputs": []
    },
    {
      "cell_type": "markdown",
      "metadata": {
        "id": "cnhlMDAFdcij"
      },
      "source": [
        "## Random forest"
      ]
    },
    {
      "cell_type": "markdown",
      "metadata": {
        "id": "qr2RS3sLrX2c"
      },
      "source": [
        "В случайном лесе я сразу подбирал гиперпараметры перебором по сетке"
      ]
    },
    {
      "cell_type": "code",
      "metadata": {
        "colab": {
          "base_uri": "https://localhost:8080/"
        },
        "id": "vDFDKk-7diDY",
        "outputId": "88e09d4c-1cb6-464c-eb47-e34325321c95"
      },
      "source": [
        "from sklearn.ensemble import RandomForestClassifier\n",
        "\n",
        "params = {'bootstrap': [True],\n",
        "          'max_depth': [8, None],\n",
        "          'max_features': ['sqrt',0.5],\n",
        "          'min_samples_split': [10,50,100],\n",
        "          'max_samples': [0.7, 0.5],\n",
        "          'n_estimators': [300]}\n",
        "\n",
        "random_forest = RandomForestClassifier(random_state=10)\n",
        "random_forest_cv = GridSearchCV(random_forest, params,cv = 5, scoring = 'f1',verbose=10)\n",
        "random_forest_cv.fit(X_train_cat,y_train_cat)"
      ],
      "execution_count": null,
      "outputs": [
        {
          "output_type": "stream",
          "name": "stdout",
          "text": [
            "Fitting 5 folds for each of 24 candidates, totalling 120 fits\n",
            "[CV 1/5; 1/24] START bootstrap=True, max_depth=8, max_features=sqrt, max_samples=0.7, min_samples_split=10, n_estimators=300\n",
            "[CV 1/5; 1/24] END bootstrap=True, max_depth=8, max_features=sqrt, max_samples=0.7, min_samples_split=10, n_estimators=300;, score=0.703 total time=   5.6s\n",
            "[CV 2/5; 1/24] START bootstrap=True, max_depth=8, max_features=sqrt, max_samples=0.7, min_samples_split=10, n_estimators=300\n",
            "[CV 2/5; 1/24] END bootstrap=True, max_depth=8, max_features=sqrt, max_samples=0.7, min_samples_split=10, n_estimators=300;, score=0.700 total time=   5.4s\n",
            "[CV 3/5; 1/24] START bootstrap=True, max_depth=8, max_features=sqrt, max_samples=0.7, min_samples_split=10, n_estimators=300\n",
            "[CV 3/5; 1/24] END bootstrap=True, max_depth=8, max_features=sqrt, max_samples=0.7, min_samples_split=10, n_estimators=300;, score=0.704 total time=   5.3s\n",
            "[CV 4/5; 1/24] START bootstrap=True, max_depth=8, max_features=sqrt, max_samples=0.7, min_samples_split=10, n_estimators=300\n",
            "[CV 4/5; 1/24] END bootstrap=True, max_depth=8, max_features=sqrt, max_samples=0.7, min_samples_split=10, n_estimators=300;, score=0.705 total time=   5.4s\n",
            "[CV 5/5; 1/24] START bootstrap=True, max_depth=8, max_features=sqrt, max_samples=0.7, min_samples_split=10, n_estimators=300\n",
            "[CV 5/5; 1/24] END bootstrap=True, max_depth=8, max_features=sqrt, max_samples=0.7, min_samples_split=10, n_estimators=300;, score=0.699 total time=   5.4s\n",
            "[CV 1/5; 2/24] START bootstrap=True, max_depth=8, max_features=sqrt, max_samples=0.7, min_samples_split=50, n_estimators=300\n",
            "[CV 1/5; 2/24] END bootstrap=True, max_depth=8, max_features=sqrt, max_samples=0.7, min_samples_split=50, n_estimators=300;, score=0.705 total time=   5.4s\n",
            "[CV 2/5; 2/24] START bootstrap=True, max_depth=8, max_features=sqrt, max_samples=0.7, min_samples_split=50, n_estimators=300\n",
            "[CV 2/5; 2/24] END bootstrap=True, max_depth=8, max_features=sqrt, max_samples=0.7, min_samples_split=50, n_estimators=300;, score=0.701 total time=   5.4s\n",
            "[CV 3/5; 2/24] START bootstrap=True, max_depth=8, max_features=sqrt, max_samples=0.7, min_samples_split=50, n_estimators=300\n",
            "[CV 3/5; 2/24] END bootstrap=True, max_depth=8, max_features=sqrt, max_samples=0.7, min_samples_split=50, n_estimators=300;, score=0.705 total time=   5.4s\n",
            "[CV 4/5; 2/24] START bootstrap=True, max_depth=8, max_features=sqrt, max_samples=0.7, min_samples_split=50, n_estimators=300\n",
            "[CV 4/5; 2/24] END bootstrap=True, max_depth=8, max_features=sqrt, max_samples=0.7, min_samples_split=50, n_estimators=300;, score=0.704 total time=   5.3s\n",
            "[CV 5/5; 2/24] START bootstrap=True, max_depth=8, max_features=sqrt, max_samples=0.7, min_samples_split=50, n_estimators=300\n",
            "[CV 5/5; 2/24] END bootstrap=True, max_depth=8, max_features=sqrt, max_samples=0.7, min_samples_split=50, n_estimators=300;, score=0.701 total time=   5.3s\n",
            "[CV 1/5; 3/24] START bootstrap=True, max_depth=8, max_features=sqrt, max_samples=0.7, min_samples_split=100, n_estimators=300\n",
            "[CV 1/5; 3/24] END bootstrap=True, max_depth=8, max_features=sqrt, max_samples=0.7, min_samples_split=100, n_estimators=300;, score=0.701 total time=   5.2s\n",
            "[CV 2/5; 3/24] START bootstrap=True, max_depth=8, max_features=sqrt, max_samples=0.7, min_samples_split=100, n_estimators=300\n",
            "[CV 2/5; 3/24] END bootstrap=True, max_depth=8, max_features=sqrt, max_samples=0.7, min_samples_split=100, n_estimators=300;, score=0.700 total time=   5.3s\n",
            "[CV 3/5; 3/24] START bootstrap=True, max_depth=8, max_features=sqrt, max_samples=0.7, min_samples_split=100, n_estimators=300\n",
            "[CV 3/5; 3/24] END bootstrap=True, max_depth=8, max_features=sqrt, max_samples=0.7, min_samples_split=100, n_estimators=300;, score=0.705 total time=   5.3s\n",
            "[CV 4/5; 3/24] START bootstrap=True, max_depth=8, max_features=sqrt, max_samples=0.7, min_samples_split=100, n_estimators=300\n",
            "[CV 4/5; 3/24] END bootstrap=True, max_depth=8, max_features=sqrt, max_samples=0.7, min_samples_split=100, n_estimators=300;, score=0.707 total time=   5.3s\n",
            "[CV 5/5; 3/24] START bootstrap=True, max_depth=8, max_features=sqrt, max_samples=0.7, min_samples_split=100, n_estimators=300\n",
            "[CV 5/5; 3/24] END bootstrap=True, max_depth=8, max_features=sqrt, max_samples=0.7, min_samples_split=100, n_estimators=300;, score=0.702 total time=   5.8s\n",
            "[CV 1/5; 4/24] START bootstrap=True, max_depth=8, max_features=sqrt, max_samples=0.5, min_samples_split=10, n_estimators=300\n",
            "[CV 1/5; 4/24] END bootstrap=True, max_depth=8, max_features=sqrt, max_samples=0.5, min_samples_split=10, n_estimators=300;, score=0.702 total time=   4.6s\n",
            "[CV 2/5; 4/24] START bootstrap=True, max_depth=8, max_features=sqrt, max_samples=0.5, min_samples_split=10, n_estimators=300\n",
            "[CV 2/5; 4/24] END bootstrap=True, max_depth=8, max_features=sqrt, max_samples=0.5, min_samples_split=10, n_estimators=300;, score=0.700 total time=   4.5s\n",
            "[CV 3/5; 4/24] START bootstrap=True, max_depth=8, max_features=sqrt, max_samples=0.5, min_samples_split=10, n_estimators=300\n",
            "[CV 3/5; 4/24] END bootstrap=True, max_depth=8, max_features=sqrt, max_samples=0.5, min_samples_split=10, n_estimators=300;, score=0.704 total time=   4.6s\n",
            "[CV 4/5; 4/24] START bootstrap=True, max_depth=8, max_features=sqrt, max_samples=0.5, min_samples_split=10, n_estimators=300\n",
            "[CV 4/5; 4/24] END bootstrap=True, max_depth=8, max_features=sqrt, max_samples=0.5, min_samples_split=10, n_estimators=300;, score=0.705 total time=   4.5s\n",
            "[CV 5/5; 4/24] START bootstrap=True, max_depth=8, max_features=sqrt, max_samples=0.5, min_samples_split=10, n_estimators=300\n",
            "[CV 5/5; 4/24] END bootstrap=True, max_depth=8, max_features=sqrt, max_samples=0.5, min_samples_split=10, n_estimators=300;, score=0.700 total time=   4.5s\n",
            "[CV 1/5; 5/24] START bootstrap=True, max_depth=8, max_features=sqrt, max_samples=0.5, min_samples_split=50, n_estimators=300\n",
            "[CV 1/5; 5/24] END bootstrap=True, max_depth=8, max_features=sqrt, max_samples=0.5, min_samples_split=50, n_estimators=300;, score=0.704 total time=   4.5s\n",
            "[CV 2/5; 5/24] START bootstrap=True, max_depth=8, max_features=sqrt, max_samples=0.5, min_samples_split=50, n_estimators=300\n",
            "[CV 2/5; 5/24] END bootstrap=True, max_depth=8, max_features=sqrt, max_samples=0.5, min_samples_split=50, n_estimators=300;, score=0.700 total time=   4.5s\n",
            "[CV 3/5; 5/24] START bootstrap=True, max_depth=8, max_features=sqrt, max_samples=0.5, min_samples_split=50, n_estimators=300\n",
            "[CV 3/5; 5/24] END bootstrap=True, max_depth=8, max_features=sqrt, max_samples=0.5, min_samples_split=50, n_estimators=300;, score=0.704 total time=   4.5s\n",
            "[CV 4/5; 5/24] START bootstrap=True, max_depth=8, max_features=sqrt, max_samples=0.5, min_samples_split=50, n_estimators=300\n",
            "[CV 4/5; 5/24] END bootstrap=True, max_depth=8, max_features=sqrt, max_samples=0.5, min_samples_split=50, n_estimators=300;, score=0.705 total time=   4.5s\n",
            "[CV 5/5; 5/24] START bootstrap=True, max_depth=8, max_features=sqrt, max_samples=0.5, min_samples_split=50, n_estimators=300\n",
            "[CV 5/5; 5/24] END bootstrap=True, max_depth=8, max_features=sqrt, max_samples=0.5, min_samples_split=50, n_estimators=300;, score=0.702 total time=   4.5s\n",
            "[CV 1/5; 6/24] START bootstrap=True, max_depth=8, max_features=sqrt, max_samples=0.5, min_samples_split=100, n_estimators=300\n",
            "[CV 1/5; 6/24] END bootstrap=True, max_depth=8, max_features=sqrt, max_samples=0.5, min_samples_split=100, n_estimators=300;, score=0.703 total time=   4.5s\n",
            "[CV 2/5; 6/24] START bootstrap=True, max_depth=8, max_features=sqrt, max_samples=0.5, min_samples_split=100, n_estimators=300\n",
            "[CV 2/5; 6/24] END bootstrap=True, max_depth=8, max_features=sqrt, max_samples=0.5, min_samples_split=100, n_estimators=300;, score=0.700 total time=   4.6s\n",
            "[CV 3/5; 6/24] START bootstrap=True, max_depth=8, max_features=sqrt, max_samples=0.5, min_samples_split=100, n_estimators=300\n",
            "[CV 3/5; 6/24] END bootstrap=True, max_depth=8, max_features=sqrt, max_samples=0.5, min_samples_split=100, n_estimators=300;, score=0.704 total time=   4.5s\n",
            "[CV 4/5; 6/24] START bootstrap=True, max_depth=8, max_features=sqrt, max_samples=0.5, min_samples_split=100, n_estimators=300\n",
            "[CV 4/5; 6/24] END bootstrap=True, max_depth=8, max_features=sqrt, max_samples=0.5, min_samples_split=100, n_estimators=300;, score=0.707 total time=   4.5s\n",
            "[CV 5/5; 6/24] START bootstrap=True, max_depth=8, max_features=sqrt, max_samples=0.5, min_samples_split=100, n_estimators=300\n",
            "[CV 5/5; 6/24] END bootstrap=True, max_depth=8, max_features=sqrt, max_samples=0.5, min_samples_split=100, n_estimators=300;, score=0.703 total time=   4.4s\n",
            "[CV 1/5; 7/24] START bootstrap=True, max_depth=8, max_features=0.5, max_samples=0.7, min_samples_split=10, n_estimators=300\n",
            "[CV 1/5; 7/24] END bootstrap=True, max_depth=8, max_features=0.5, max_samples=0.7, min_samples_split=10, n_estimators=300;, score=0.710 total time=   9.4s\n",
            "[CV 2/5; 7/24] START bootstrap=True, max_depth=8, max_features=0.5, max_samples=0.7, min_samples_split=10, n_estimators=300\n",
            "[CV 2/5; 7/24] END bootstrap=True, max_depth=8, max_features=0.5, max_samples=0.7, min_samples_split=10, n_estimators=300;, score=0.713 total time=   9.5s\n",
            "[CV 3/5; 7/24] START bootstrap=True, max_depth=8, max_features=0.5, max_samples=0.7, min_samples_split=10, n_estimators=300\n",
            "[CV 3/5; 7/24] END bootstrap=True, max_depth=8, max_features=0.5, max_samples=0.7, min_samples_split=10, n_estimators=300;, score=0.712 total time=   9.4s\n",
            "[CV 4/5; 7/24] START bootstrap=True, max_depth=8, max_features=0.5, max_samples=0.7, min_samples_split=10, n_estimators=300\n",
            "[CV 4/5; 7/24] END bootstrap=True, max_depth=8, max_features=0.5, max_samples=0.7, min_samples_split=10, n_estimators=300;, score=0.715 total time=   9.4s\n",
            "[CV 5/5; 7/24] START bootstrap=True, max_depth=8, max_features=0.5, max_samples=0.7, min_samples_split=10, n_estimators=300\n",
            "[CV 5/5; 7/24] END bootstrap=True, max_depth=8, max_features=0.5, max_samples=0.7, min_samples_split=10, n_estimators=300;, score=0.712 total time=   9.3s\n",
            "[CV 1/5; 8/24] START bootstrap=True, max_depth=8, max_features=0.5, max_samples=0.7, min_samples_split=50, n_estimators=300\n",
            "[CV 1/5; 8/24] END bootstrap=True, max_depth=8, max_features=0.5, max_samples=0.7, min_samples_split=50, n_estimators=300;, score=0.711 total time=   9.4s\n",
            "[CV 2/5; 8/24] START bootstrap=True, max_depth=8, max_features=0.5, max_samples=0.7, min_samples_split=50, n_estimators=300\n",
            "[CV 2/5; 8/24] END bootstrap=True, max_depth=8, max_features=0.5, max_samples=0.7, min_samples_split=50, n_estimators=300;, score=0.713 total time=   9.4s\n",
            "[CV 3/5; 8/24] START bootstrap=True, max_depth=8, max_features=0.5, max_samples=0.7, min_samples_split=50, n_estimators=300\n",
            "[CV 3/5; 8/24] END bootstrap=True, max_depth=8, max_features=0.5, max_samples=0.7, min_samples_split=50, n_estimators=300;, score=0.714 total time=   9.3s\n",
            "[CV 4/5; 8/24] START bootstrap=True, max_depth=8, max_features=0.5, max_samples=0.7, min_samples_split=50, n_estimators=300\n",
            "[CV 4/5; 8/24] END bootstrap=True, max_depth=8, max_features=0.5, max_samples=0.7, min_samples_split=50, n_estimators=300;, score=0.714 total time=   9.4s\n",
            "[CV 5/5; 8/24] START bootstrap=True, max_depth=8, max_features=0.5, max_samples=0.7, min_samples_split=50, n_estimators=300\n",
            "[CV 5/5; 8/24] END bootstrap=True, max_depth=8, max_features=0.5, max_samples=0.7, min_samples_split=50, n_estimators=300;, score=0.712 total time=   9.4s\n",
            "[CV 1/5; 9/24] START bootstrap=True, max_depth=8, max_features=0.5, max_samples=0.7, min_samples_split=100, n_estimators=300\n",
            "[CV 1/5; 9/24] END bootstrap=True, max_depth=8, max_features=0.5, max_samples=0.7, min_samples_split=100, n_estimators=300;, score=0.713 total time=   9.3s\n",
            "[CV 2/5; 9/24] START bootstrap=True, max_depth=8, max_features=0.5, max_samples=0.7, min_samples_split=100, n_estimators=300\n",
            "[CV 2/5; 9/24] END bootstrap=True, max_depth=8, max_features=0.5, max_samples=0.7, min_samples_split=100, n_estimators=300;, score=0.713 total time=   9.3s\n",
            "[CV 3/5; 9/24] START bootstrap=True, max_depth=8, max_features=0.5, max_samples=0.7, min_samples_split=100, n_estimators=300\n",
            "[CV 3/5; 9/24] END bootstrap=True, max_depth=8, max_features=0.5, max_samples=0.7, min_samples_split=100, n_estimators=300;, score=0.714 total time=   9.4s\n",
            "[CV 4/5; 9/24] START bootstrap=True, max_depth=8, max_features=0.5, max_samples=0.7, min_samples_split=100, n_estimators=300\n",
            "[CV 4/5; 9/24] END bootstrap=True, max_depth=8, max_features=0.5, max_samples=0.7, min_samples_split=100, n_estimators=300;, score=0.715 total time=   9.2s\n",
            "[CV 5/5; 9/24] START bootstrap=True, max_depth=8, max_features=0.5, max_samples=0.7, min_samples_split=100, n_estimators=300\n",
            "[CV 5/5; 9/24] END bootstrap=True, max_depth=8, max_features=0.5, max_samples=0.7, min_samples_split=100, n_estimators=300;, score=0.711 total time=   9.3s\n",
            "[CV 1/5; 10/24] START bootstrap=True, max_depth=8, max_features=0.5, max_samples=0.5, min_samples_split=10, n_estimators=300\n",
            "[CV 1/5; 10/24] END bootstrap=True, max_depth=8, max_features=0.5, max_samples=0.5, min_samples_split=10, n_estimators=300;, score=0.713 total time=   7.8s\n",
            "[CV 2/5; 10/24] START bootstrap=True, max_depth=8, max_features=0.5, max_samples=0.5, min_samples_split=10, n_estimators=300\n",
            "[CV 2/5; 10/24] END bootstrap=True, max_depth=8, max_features=0.5, max_samples=0.5, min_samples_split=10, n_estimators=300;, score=0.712 total time=   8.0s\n",
            "[CV 3/5; 10/24] START bootstrap=True, max_depth=8, max_features=0.5, max_samples=0.5, min_samples_split=10, n_estimators=300\n",
            "[CV 3/5; 10/24] END bootstrap=True, max_depth=8, max_features=0.5, max_samples=0.5, min_samples_split=10, n_estimators=300;, score=0.713 total time=   8.0s\n",
            "[CV 4/5; 10/24] START bootstrap=True, max_depth=8, max_features=0.5, max_samples=0.5, min_samples_split=10, n_estimators=300\n",
            "[CV 4/5; 10/24] END bootstrap=True, max_depth=8, max_features=0.5, max_samples=0.5, min_samples_split=10, n_estimators=300;, score=0.715 total time=   7.9s\n",
            "[CV 5/5; 10/24] START bootstrap=True, max_depth=8, max_features=0.5, max_samples=0.5, min_samples_split=10, n_estimators=300\n",
            "[CV 5/5; 10/24] END bootstrap=True, max_depth=8, max_features=0.5, max_samples=0.5, min_samples_split=10, n_estimators=300;, score=0.711 total time=   7.9s\n",
            "[CV 1/5; 11/24] START bootstrap=True, max_depth=8, max_features=0.5, max_samples=0.5, min_samples_split=50, n_estimators=300\n",
            "[CV 1/5; 11/24] END bootstrap=True, max_depth=8, max_features=0.5, max_samples=0.5, min_samples_split=50, n_estimators=300;, score=0.711 total time=   7.9s\n",
            "[CV 2/5; 11/24] START bootstrap=True, max_depth=8, max_features=0.5, max_samples=0.5, min_samples_split=50, n_estimators=300\n",
            "[CV 2/5; 11/24] END bootstrap=True, max_depth=8, max_features=0.5, max_samples=0.5, min_samples_split=50, n_estimators=300;, score=0.710 total time=  11.2s\n",
            "[CV 3/5; 11/24] START bootstrap=True, max_depth=8, max_features=0.5, max_samples=0.5, min_samples_split=50, n_estimators=300\n",
            "[CV 3/5; 11/24] END bootstrap=True, max_depth=8, max_features=0.5, max_samples=0.5, min_samples_split=50, n_estimators=300;, score=0.713 total time=  13.1s\n",
            "[CV 4/5; 11/24] START bootstrap=True, max_depth=8, max_features=0.5, max_samples=0.5, min_samples_split=50, n_estimators=300\n",
            "[CV 4/5; 11/24] END bootstrap=True, max_depth=8, max_features=0.5, max_samples=0.5, min_samples_split=50, n_estimators=300;, score=0.715 total time=  12.0s\n",
            "[CV 5/5; 11/24] START bootstrap=True, max_depth=8, max_features=0.5, max_samples=0.5, min_samples_split=50, n_estimators=300\n",
            "[CV 5/5; 11/24] END bootstrap=True, max_depth=8, max_features=0.5, max_samples=0.5, min_samples_split=50, n_estimators=300;, score=0.711 total time=  12.1s\n",
            "[CV 1/5; 12/24] START bootstrap=True, max_depth=8, max_features=0.5, max_samples=0.5, min_samples_split=100, n_estimators=300\n",
            "[CV 1/5; 12/24] END bootstrap=True, max_depth=8, max_features=0.5, max_samples=0.5, min_samples_split=100, n_estimators=300;, score=0.713 total time=  13.7s\n",
            "[CV 2/5; 12/24] START bootstrap=True, max_depth=8, max_features=0.5, max_samples=0.5, min_samples_split=100, n_estimators=300\n",
            "[CV 2/5; 12/24] END bootstrap=True, max_depth=8, max_features=0.5, max_samples=0.5, min_samples_split=100, n_estimators=300;, score=0.711 total time=  13.1s\n",
            "[CV 3/5; 12/24] START bootstrap=True, max_depth=8, max_features=0.5, max_samples=0.5, min_samples_split=100, n_estimators=300\n",
            "[CV 3/5; 12/24] END bootstrap=True, max_depth=8, max_features=0.5, max_samples=0.5, min_samples_split=100, n_estimators=300;, score=0.714 total time=   7.6s\n",
            "[CV 4/5; 12/24] START bootstrap=True, max_depth=8, max_features=0.5, max_samples=0.5, min_samples_split=100, n_estimators=300\n",
            "[CV 4/5; 12/24] END bootstrap=True, max_depth=8, max_features=0.5, max_samples=0.5, min_samples_split=100, n_estimators=300;, score=0.713 total time=   7.7s\n",
            "[CV 5/5; 12/24] START bootstrap=True, max_depth=8, max_features=0.5, max_samples=0.5, min_samples_split=100, n_estimators=300\n",
            "[CV 5/5; 12/24] END bootstrap=True, max_depth=8, max_features=0.5, max_samples=0.5, min_samples_split=100, n_estimators=300;, score=0.710 total time=   7.8s\n",
            "[CV 1/5; 13/24] START bootstrap=True, max_depth=None, max_features=sqrt, max_samples=0.7, min_samples_split=10, n_estimators=300\n",
            "[CV 1/5; 13/24] END bootstrap=True, max_depth=None, max_features=sqrt, max_samples=0.7, min_samples_split=10, n_estimators=300;, score=0.712 total time=  21.6s\n",
            "[CV 2/5; 13/24] START bootstrap=True, max_depth=None, max_features=sqrt, max_samples=0.7, min_samples_split=10, n_estimators=300\n",
            "[CV 2/5; 13/24] END bootstrap=True, max_depth=None, max_features=sqrt, max_samples=0.7, min_samples_split=10, n_estimators=300;, score=0.708 total time=  10.6s\n",
            "[CV 3/5; 13/24] START bootstrap=True, max_depth=None, max_features=sqrt, max_samples=0.7, min_samples_split=10, n_estimators=300\n",
            "[CV 3/5; 13/24] END bootstrap=True, max_depth=None, max_features=sqrt, max_samples=0.7, min_samples_split=10, n_estimators=300;, score=0.710 total time=  11.7s\n",
            "[CV 4/5; 13/24] START bootstrap=True, max_depth=None, max_features=sqrt, max_samples=0.7, min_samples_split=10, n_estimators=300\n",
            "[CV 4/5; 13/24] END bootstrap=True, max_depth=None, max_features=sqrt, max_samples=0.7, min_samples_split=10, n_estimators=300;, score=0.711 total time=  10.7s\n",
            "[CV 5/5; 13/24] START bootstrap=True, max_depth=None, max_features=sqrt, max_samples=0.7, min_samples_split=10, n_estimators=300\n",
            "[CV 5/5; 13/24] END bootstrap=True, max_depth=None, max_features=sqrt, max_samples=0.7, min_samples_split=10, n_estimators=300;, score=0.710 total time=  10.5s\n",
            "[CV 1/5; 14/24] START bootstrap=True, max_depth=None, max_features=sqrt, max_samples=0.7, min_samples_split=50, n_estimators=300\n",
            "[CV 1/5; 14/24] END bootstrap=True, max_depth=None, max_features=sqrt, max_samples=0.7, min_samples_split=50, n_estimators=300;, score=0.714 total time=   8.7s\n",
            "[CV 2/5; 14/24] START bootstrap=True, max_depth=None, max_features=sqrt, max_samples=0.7, min_samples_split=50, n_estimators=300\n",
            "[CV 2/5; 14/24] END bootstrap=True, max_depth=None, max_features=sqrt, max_samples=0.7, min_samples_split=50, n_estimators=300;, score=0.709 total time=   8.6s\n",
            "[CV 3/5; 14/24] START bootstrap=True, max_depth=None, max_features=sqrt, max_samples=0.7, min_samples_split=50, n_estimators=300\n",
            "[CV 3/5; 14/24] END bootstrap=True, max_depth=None, max_features=sqrt, max_samples=0.7, min_samples_split=50, n_estimators=300;, score=0.718 total time=   8.7s\n",
            "[CV 4/5; 14/24] START bootstrap=True, max_depth=None, max_features=sqrt, max_samples=0.7, min_samples_split=50, n_estimators=300\n",
            "[CV 4/5; 14/24] END bootstrap=True, max_depth=None, max_features=sqrt, max_samples=0.7, min_samples_split=50, n_estimators=300;, score=0.714 total time=   8.7s\n",
            "[CV 5/5; 14/24] START bootstrap=True, max_depth=None, max_features=sqrt, max_samples=0.7, min_samples_split=50, n_estimators=300\n",
            "[CV 5/5; 14/24] END bootstrap=True, max_depth=None, max_features=sqrt, max_samples=0.7, min_samples_split=50, n_estimators=300;, score=0.716 total time=   8.6s\n",
            "[CV 1/5; 15/24] START bootstrap=True, max_depth=None, max_features=sqrt, max_samples=0.7, min_samples_split=100, n_estimators=300\n",
            "[CV 1/5; 15/24] END bootstrap=True, max_depth=None, max_features=sqrt, max_samples=0.7, min_samples_split=100, n_estimators=300;, score=0.716 total time=   7.8s\n",
            "[CV 2/5; 15/24] START bootstrap=True, max_depth=None, max_features=sqrt, max_samples=0.7, min_samples_split=100, n_estimators=300\n",
            "[CV 2/5; 15/24] END bootstrap=True, max_depth=None, max_features=sqrt, max_samples=0.7, min_samples_split=100, n_estimators=300;, score=0.714 total time=   7.9s\n",
            "[CV 3/5; 15/24] START bootstrap=True, max_depth=None, max_features=sqrt, max_samples=0.7, min_samples_split=100, n_estimators=300\n",
            "[CV 3/5; 15/24] END bootstrap=True, max_depth=None, max_features=sqrt, max_samples=0.7, min_samples_split=100, n_estimators=300;, score=0.718 total time=   7.8s\n",
            "[CV 4/5; 15/24] START bootstrap=True, max_depth=None, max_features=sqrt, max_samples=0.7, min_samples_split=100, n_estimators=300\n",
            "[CV 4/5; 15/24] END bootstrap=True, max_depth=None, max_features=sqrt, max_samples=0.7, min_samples_split=100, n_estimators=300;, score=0.715 total time=   7.9s\n",
            "[CV 5/5; 15/24] START bootstrap=True, max_depth=None, max_features=sqrt, max_samples=0.7, min_samples_split=100, n_estimators=300\n",
            "[CV 5/5; 15/24] END bootstrap=True, max_depth=None, max_features=sqrt, max_samples=0.7, min_samples_split=100, n_estimators=300;, score=0.716 total time=   7.8s\n",
            "[CV 1/5; 16/24] START bootstrap=True, max_depth=None, max_features=sqrt, max_samples=0.5, min_samples_split=10, n_estimators=300\n",
            "[CV 1/5; 16/24] END bootstrap=True, max_depth=None, max_features=sqrt, max_samples=0.5, min_samples_split=10, n_estimators=300;, score=0.713 total time=   9.5s\n",
            "[CV 2/5; 16/24] START bootstrap=True, max_depth=None, max_features=sqrt, max_samples=0.5, min_samples_split=10, n_estimators=300\n",
            "[CV 2/5; 16/24] END bootstrap=True, max_depth=None, max_features=sqrt, max_samples=0.5, min_samples_split=10, n_estimators=300;, score=0.708 total time=   8.5s\n",
            "[CV 3/5; 16/24] START bootstrap=True, max_depth=None, max_features=sqrt, max_samples=0.5, min_samples_split=10, n_estimators=300\n",
            "[CV 3/5; 16/24] END bootstrap=True, max_depth=None, max_features=sqrt, max_samples=0.5, min_samples_split=10, n_estimators=300;, score=0.712 total time=   8.7s\n",
            "[CV 4/5; 16/24] START bootstrap=True, max_depth=None, max_features=sqrt, max_samples=0.5, min_samples_split=10, n_estimators=300\n",
            "[CV 4/5; 16/24] END bootstrap=True, max_depth=None, max_features=sqrt, max_samples=0.5, min_samples_split=10, n_estimators=300;, score=0.712 total time=   8.8s\n",
            "[CV 5/5; 16/24] START bootstrap=True, max_depth=None, max_features=sqrt, max_samples=0.5, min_samples_split=10, n_estimators=300\n",
            "[CV 5/5; 16/24] END bootstrap=True, max_depth=None, max_features=sqrt, max_samples=0.5, min_samples_split=10, n_estimators=300;, score=0.714 total time=   8.7s\n",
            "[CV 1/5; 17/24] START bootstrap=True, max_depth=None, max_features=sqrt, max_samples=0.5, min_samples_split=50, n_estimators=300\n",
            "[CV 1/5; 17/24] END bootstrap=True, max_depth=None, max_features=sqrt, max_samples=0.5, min_samples_split=50, n_estimators=300;, score=0.714 total time=   7.0s\n",
            "[CV 2/5; 17/24] START bootstrap=True, max_depth=None, max_features=sqrt, max_samples=0.5, min_samples_split=50, n_estimators=300\n",
            "[CV 2/5; 17/24] END bootstrap=True, max_depth=None, max_features=sqrt, max_samples=0.5, min_samples_split=50, n_estimators=300;, score=0.712 total time=   6.9s\n",
            "[CV 3/5; 17/24] START bootstrap=True, max_depth=None, max_features=sqrt, max_samples=0.5, min_samples_split=50, n_estimators=300\n",
            "[CV 3/5; 17/24] END bootstrap=True, max_depth=None, max_features=sqrt, max_samples=0.5, min_samples_split=50, n_estimators=300;, score=0.715 total time=   7.1s\n",
            "[CV 4/5; 17/24] START bootstrap=True, max_depth=None, max_features=sqrt, max_samples=0.5, min_samples_split=50, n_estimators=300\n",
            "[CV 4/5; 17/24] END bootstrap=True, max_depth=None, max_features=sqrt, max_samples=0.5, min_samples_split=50, n_estimators=300;, score=0.714 total time=   7.0s\n",
            "[CV 5/5; 17/24] START bootstrap=True, max_depth=None, max_features=sqrt, max_samples=0.5, min_samples_split=50, n_estimators=300\n",
            "[CV 5/5; 17/24] END bootstrap=True, max_depth=None, max_features=sqrt, max_samples=0.5, min_samples_split=50, n_estimators=300;, score=0.718 total time=   7.0s\n",
            "[CV 1/5; 18/24] START bootstrap=True, max_depth=None, max_features=sqrt, max_samples=0.5, min_samples_split=100, n_estimators=300\n",
            "[CV 1/5; 18/24] END bootstrap=True, max_depth=None, max_features=sqrt, max_samples=0.5, min_samples_split=100, n_estimators=300;, score=0.716 total time=   6.4s\n",
            "[CV 2/5; 18/24] START bootstrap=True, max_depth=None, max_features=sqrt, max_samples=0.5, min_samples_split=100, n_estimators=300\n",
            "[CV 2/5; 18/24] END bootstrap=True, max_depth=None, max_features=sqrt, max_samples=0.5, min_samples_split=100, n_estimators=300;, score=0.714 total time=   6.4s\n",
            "[CV 3/5; 18/24] START bootstrap=True, max_depth=None, max_features=sqrt, max_samples=0.5, min_samples_split=100, n_estimators=300\n",
            "[CV 3/5; 18/24] END bootstrap=True, max_depth=None, max_features=sqrt, max_samples=0.5, min_samples_split=100, n_estimators=300;, score=0.716 total time=   6.3s\n",
            "[CV 4/5; 18/24] START bootstrap=True, max_depth=None, max_features=sqrt, max_samples=0.5, min_samples_split=100, n_estimators=300\n",
            "[CV 4/5; 18/24] END bootstrap=True, max_depth=None, max_features=sqrt, max_samples=0.5, min_samples_split=100, n_estimators=300;, score=0.717 total time=   6.4s\n",
            "[CV 5/5; 18/24] START bootstrap=True, max_depth=None, max_features=sqrt, max_samples=0.5, min_samples_split=100, n_estimators=300\n",
            "[CV 5/5; 18/24] END bootstrap=True, max_depth=None, max_features=sqrt, max_samples=0.5, min_samples_split=100, n_estimators=300;, score=0.715 total time=   6.4s\n",
            "[CV 1/5; 19/24] START bootstrap=True, max_depth=None, max_features=0.5, max_samples=0.7, min_samples_split=10, n_estimators=300\n",
            "[CV 1/5; 19/24] END bootstrap=True, max_depth=None, max_features=0.5, max_samples=0.7, min_samples_split=10, n_estimators=300;, score=0.708 total time=  20.5s\n",
            "[CV 2/5; 19/24] START bootstrap=True, max_depth=None, max_features=0.5, max_samples=0.7, min_samples_split=10, n_estimators=300\n",
            "[CV 2/5; 19/24] END bootstrap=True, max_depth=None, max_features=0.5, max_samples=0.7, min_samples_split=10, n_estimators=300;, score=0.707 total time=  19.3s\n",
            "[CV 3/5; 19/24] START bootstrap=True, max_depth=None, max_features=0.5, max_samples=0.7, min_samples_split=10, n_estimators=300\n",
            "[CV 3/5; 19/24] END bootstrap=True, max_depth=None, max_features=0.5, max_samples=0.7, min_samples_split=10, n_estimators=300;, score=0.707 total time=  19.5s\n",
            "[CV 4/5; 19/24] START bootstrap=True, max_depth=None, max_features=0.5, max_samples=0.7, min_samples_split=10, n_estimators=300\n",
            "[CV 4/5; 19/24] END bootstrap=True, max_depth=None, max_features=0.5, max_samples=0.7, min_samples_split=10, n_estimators=300;, score=0.707 total time=  19.4s\n",
            "[CV 5/5; 19/24] START bootstrap=True, max_depth=None, max_features=0.5, max_samples=0.7, min_samples_split=10, n_estimators=300\n",
            "[CV 5/5; 19/24] END bootstrap=True, max_depth=None, max_features=0.5, max_samples=0.7, min_samples_split=10, n_estimators=300;, score=0.706 total time=  19.6s\n",
            "[CV 1/5; 20/24] START bootstrap=True, max_depth=None, max_features=0.5, max_samples=0.7, min_samples_split=50, n_estimators=300\n",
            "[CV 1/5; 20/24] END bootstrap=True, max_depth=None, max_features=0.5, max_samples=0.7, min_samples_split=50, n_estimators=300;, score=0.713 total time=  16.6s\n",
            "[CV 2/5; 20/24] START bootstrap=True, max_depth=None, max_features=0.5, max_samples=0.7, min_samples_split=50, n_estimators=300\n",
            "[CV 2/5; 20/24] END bootstrap=True, max_depth=None, max_features=0.5, max_samples=0.7, min_samples_split=50, n_estimators=300;, score=0.711 total time=  16.2s\n",
            "[CV 3/5; 20/24] START bootstrap=True, max_depth=None, max_features=0.5, max_samples=0.7, min_samples_split=50, n_estimators=300\n",
            "[CV 3/5; 20/24] END bootstrap=True, max_depth=None, max_features=0.5, max_samples=0.7, min_samples_split=50, n_estimators=300;, score=0.716 total time=  16.3s\n",
            "[CV 4/5; 20/24] START bootstrap=True, max_depth=None, max_features=0.5, max_samples=0.7, min_samples_split=50, n_estimators=300\n",
            "[CV 4/5; 20/24] END bootstrap=True, max_depth=None, max_features=0.5, max_samples=0.7, min_samples_split=50, n_estimators=300;, score=0.712 total time=  16.6s\n",
            "[CV 5/5; 20/24] START bootstrap=True, max_depth=None, max_features=0.5, max_samples=0.7, min_samples_split=50, n_estimators=300\n",
            "[CV 5/5; 20/24] END bootstrap=True, max_depth=None, max_features=0.5, max_samples=0.7, min_samples_split=50, n_estimators=300;, score=0.715 total time=  16.4s\n",
            "[CV 1/5; 21/24] START bootstrap=True, max_depth=None, max_features=0.5, max_samples=0.7, min_samples_split=100, n_estimators=300\n",
            "[CV 1/5; 21/24] END bootstrap=True, max_depth=None, max_features=0.5, max_samples=0.7, min_samples_split=100, n_estimators=300;, score=0.713 total time=  15.0s\n",
            "[CV 2/5; 21/24] START bootstrap=True, max_depth=None, max_features=0.5, max_samples=0.7, min_samples_split=100, n_estimators=300\n",
            "[CV 2/5; 21/24] END bootstrap=True, max_depth=None, max_features=0.5, max_samples=0.7, min_samples_split=100, n_estimators=300;, score=0.713 total time=  14.7s\n",
            "[CV 3/5; 21/24] START bootstrap=True, max_depth=None, max_features=0.5, max_samples=0.7, min_samples_split=100, n_estimators=300\n",
            "[CV 3/5; 21/24] END bootstrap=True, max_depth=None, max_features=0.5, max_samples=0.7, min_samples_split=100, n_estimators=300;, score=0.719 total time=  14.9s\n",
            "[CV 4/5; 21/24] START bootstrap=True, max_depth=None, max_features=0.5, max_samples=0.7, min_samples_split=100, n_estimators=300\n",
            "[CV 4/5; 21/24] END bootstrap=True, max_depth=None, max_features=0.5, max_samples=0.7, min_samples_split=100, n_estimators=300;, score=0.714 total time=  15.1s\n",
            "[CV 5/5; 21/24] START bootstrap=True, max_depth=None, max_features=0.5, max_samples=0.7, min_samples_split=100, n_estimators=300\n",
            "[CV 5/5; 21/24] END bootstrap=True, max_depth=None, max_features=0.5, max_samples=0.7, min_samples_split=100, n_estimators=300;, score=0.715 total time=  14.6s\n",
            "[CV 1/5; 22/24] START bootstrap=True, max_depth=None, max_features=0.5, max_samples=0.5, min_samples_split=10, n_estimators=300\n",
            "[CV 1/5; 22/24] END bootstrap=True, max_depth=None, max_features=0.5, max_samples=0.5, min_samples_split=10, n_estimators=300;, score=0.712 total time=  16.8s\n",
            "[CV 2/5; 22/24] START bootstrap=True, max_depth=None, max_features=0.5, max_samples=0.5, min_samples_split=10, n_estimators=300\n",
            "[CV 2/5; 22/24] END bootstrap=True, max_depth=None, max_features=0.5, max_samples=0.5, min_samples_split=10, n_estimators=300;, score=0.710 total time=  15.0s\n",
            "[CV 3/5; 22/24] START bootstrap=True, max_depth=None, max_features=0.5, max_samples=0.5, min_samples_split=10, n_estimators=300\n",
            "[CV 3/5; 22/24] END bootstrap=True, max_depth=None, max_features=0.5, max_samples=0.5, min_samples_split=10, n_estimators=300;, score=0.710 total time=  15.4s\n",
            "[CV 4/5; 22/24] START bootstrap=True, max_depth=None, max_features=0.5, max_samples=0.5, min_samples_split=10, n_estimators=300\n",
            "[CV 4/5; 22/24] END bootstrap=True, max_depth=None, max_features=0.5, max_samples=0.5, min_samples_split=10, n_estimators=300;, score=0.707 total time=  15.5s\n",
            "[CV 5/5; 22/24] START bootstrap=True, max_depth=None, max_features=0.5, max_samples=0.5, min_samples_split=10, n_estimators=300\n",
            "[CV 5/5; 22/24] END bootstrap=True, max_depth=None, max_features=0.5, max_samples=0.5, min_samples_split=10, n_estimators=300;, score=0.709 total time=  15.4s\n",
            "[CV 1/5; 23/24] START bootstrap=True, max_depth=None, max_features=0.5, max_samples=0.5, min_samples_split=50, n_estimators=300\n",
            "[CV 1/5; 23/24] END bootstrap=True, max_depth=None, max_features=0.5, max_samples=0.5, min_samples_split=50, n_estimators=300;, score=0.714 total time=  15.4s\n",
            "[CV 2/5; 23/24] START bootstrap=True, max_depth=None, max_features=0.5, max_samples=0.5, min_samples_split=50, n_estimators=300\n",
            "[CV 2/5; 23/24] END bootstrap=True, max_depth=None, max_features=0.5, max_samples=0.5, min_samples_split=50, n_estimators=300;, score=0.712 total time=  17.2s\n",
            "[CV 3/5; 23/24] START bootstrap=True, max_depth=None, max_features=0.5, max_samples=0.5, min_samples_split=50, n_estimators=300\n",
            "[CV 3/5; 23/24] END bootstrap=True, max_depth=None, max_features=0.5, max_samples=0.5, min_samples_split=50, n_estimators=300;, score=0.717 total time=  12.9s\n",
            "[CV 4/5; 23/24] START bootstrap=True, max_depth=None, max_features=0.5, max_samples=0.5, min_samples_split=50, n_estimators=300\n",
            "[CV 4/5; 23/24] END bootstrap=True, max_depth=None, max_features=0.5, max_samples=0.5, min_samples_split=50, n_estimators=300;, score=0.714 total time=  13.0s\n",
            "[CV 5/5; 23/24] START bootstrap=True, max_depth=None, max_features=0.5, max_samples=0.5, min_samples_split=50, n_estimators=300\n",
            "[CV 5/5; 23/24] END bootstrap=True, max_depth=None, max_features=0.5, max_samples=0.5, min_samples_split=50, n_estimators=300;, score=0.715 total time=  13.0s\n",
            "[CV 1/5; 24/24] START bootstrap=True, max_depth=None, max_features=0.5, max_samples=0.5, min_samples_split=100, n_estimators=300\n",
            "[CV 1/5; 24/24] END bootstrap=True, max_depth=None, max_features=0.5, max_samples=0.5, min_samples_split=100, n_estimators=300;, score=0.713 total time=  11.7s\n",
            "[CV 2/5; 24/24] START bootstrap=True, max_depth=None, max_features=0.5, max_samples=0.5, min_samples_split=100, n_estimators=300\n",
            "[CV 2/5; 24/24] END bootstrap=True, max_depth=None, max_features=0.5, max_samples=0.5, min_samples_split=100, n_estimators=300;, score=0.713 total time=  11.6s\n",
            "[CV 3/5; 24/24] START bootstrap=True, max_depth=None, max_features=0.5, max_samples=0.5, min_samples_split=100, n_estimators=300\n",
            "[CV 3/5; 24/24] END bootstrap=True, max_depth=None, max_features=0.5, max_samples=0.5, min_samples_split=100, n_estimators=300;, score=0.717 total time=  11.8s\n",
            "[CV 4/5; 24/24] START bootstrap=True, max_depth=None, max_features=0.5, max_samples=0.5, min_samples_split=100, n_estimators=300\n",
            "[CV 4/5; 24/24] END bootstrap=True, max_depth=None, max_features=0.5, max_samples=0.5, min_samples_split=100, n_estimators=300;, score=0.714 total time=  11.7s\n",
            "[CV 5/5; 24/24] START bootstrap=True, max_depth=None, max_features=0.5, max_samples=0.5, min_samples_split=100, n_estimators=300\n",
            "[CV 5/5; 24/24] END bootstrap=True, max_depth=None, max_features=0.5, max_samples=0.5, min_samples_split=100, n_estimators=300;, score=0.715 total time=  12.3s\n"
          ]
        },
        {
          "output_type": "execute_result",
          "data": {
            "text/plain": [
              "GridSearchCV(cv=5, estimator=RandomForestClassifier(random_state=10),\n",
              "             param_grid={'bootstrap': [True], 'max_depth': [8, None],\n",
              "                         'max_features': ['sqrt', 0.5],\n",
              "                         'max_samples': [0.7, 0.5],\n",
              "                         'min_samples_split': [10, 50, 100],\n",
              "                         'n_estimators': [300]},\n",
              "             scoring='f1', verbose=10)"
            ]
          },
          "metadata": {},
          "execution_count": 58
        }
      ]
    },
    {
      "cell_type": "code",
      "metadata": {
        "colab": {
          "base_uri": "https://localhost:8080/"
        },
        "id": "mPdhFR1chVdz",
        "outputId": "d115dc40-9796-4b81-9365-f61b4dcddb3d"
      },
      "source": [
        "random_forest_pred = random_forest_cv.predict(X_test_cat)\n",
        "random_forest_cv.best_params_, random_forest_cv.best_score_"
      ],
      "execution_count": null,
      "outputs": [
        {
          "output_type": "execute_result",
          "data": {
            "text/plain": [
              "({'bootstrap': True,\n",
              "  'max_depth': None,\n",
              "  'max_features': 'sqrt',\n",
              "  'max_samples': 0.7,\n",
              "  'min_samples_split': 100,\n",
              "  'n_estimators': 300},\n",
              " 0.7157281674556588)"
            ]
          },
          "metadata": {},
          "execution_count": 59
        }
      ]
    },
    {
      "cell_type": "code",
      "metadata": {
        "colab": {
          "base_uri": "https://localhost:8080/"
        },
        "id": "-7BBS64OCFSl",
        "outputId": "312846eb-e063-4254-bcb4-38c1646d0cd1"
      },
      "source": [
        "print(accuracy_score(y_test_cat,random_forest_pred), f1_score(y_test_cat, random_forest_cv.predict(X_test_cat)))\n",
        "print(classification_report(y_test_cat,random_forest_pred))"
      ],
      "execution_count": null,
      "outputs": [
        {
          "output_type": "stream",
          "name": "stdout",
          "text": [
            "0.7376028463420058 0.7206439393939393\n",
            "              precision    recall  f1-score   support\n",
            "\n",
            "          -1       0.73      0.78      0.75      6895\n",
            "           1       0.75      0.69      0.72      6596\n",
            "\n",
            "    accuracy                           0.74     13491\n",
            "   macro avg       0.74      0.74      0.74     13491\n",
            "weighted avg       0.74      0.74      0.74     13491\n",
            "\n"
          ]
        }
      ]
    },
    {
      "cell_type": "code",
      "metadata": {
        "colab": {
          "base_uri": "https://localhost:8080/",
          "height": 488
        },
        "id": "41L106gGySpA",
        "outputId": "f81aac6d-f9cc-46c4-9504-e91750cd71d0"
      },
      "source": [
        "imp_df = pd.DataFrame(X_train_cat.columns)\n",
        "imp_df.columns = ['Feature']\n",
        "imp_df[\"Importance\"] = pd.Series(random_forest_cv.best_estimator_.feature_importances_)\n",
        "\n",
        "imp_df.sort_values(by='Importance', ascending=False)"
      ],
      "execution_count": null,
      "outputs": [
        {
          "output_type": "execute_result",
          "data": {
            "text/html": [
              "\n",
              "  <div id=\"df-4d650368-5760-45f9-8358-5a0655ad4fe6\">\n",
              "    <div class=\"colab-df-container\">\n",
              "      <div>\n",
              "<style scoped>\n",
              "    .dataframe tbody tr th:only-of-type {\n",
              "        vertical-align: middle;\n",
              "    }\n",
              "\n",
              "    .dataframe tbody tr th {\n",
              "        vertical-align: top;\n",
              "    }\n",
              "\n",
              "    .dataframe thead th {\n",
              "        text-align: right;\n",
              "    }\n",
              "</style>\n",
              "<table border=\"1\" class=\"dataframe\">\n",
              "  <thead>\n",
              "    <tr style=\"text-align: right;\">\n",
              "      <th></th>\n",
              "      <th>Feature</th>\n",
              "      <th>Importance</th>\n",
              "    </tr>\n",
              "  </thead>\n",
              "  <tbody>\n",
              "    <tr>\n",
              "      <th>5</th>\n",
              "      <td>ap_hi</td>\n",
              "      <td>0.342217</td>\n",
              "    </tr>\n",
              "    <tr>\n",
              "      <th>6</th>\n",
              "      <td>ap_lo</td>\n",
              "      <td>0.154195</td>\n",
              "    </tr>\n",
              "    <tr>\n",
              "      <th>0</th>\n",
              "      <td>age</td>\n",
              "      <td>0.124755</td>\n",
              "    </tr>\n",
              "    <tr>\n",
              "      <th>13</th>\n",
              "      <td>blood_pressure</td>\n",
              "      <td>0.094262</td>\n",
              "    </tr>\n",
              "    <tr>\n",
              "      <th>7</th>\n",
              "      <td>cholesterol</td>\n",
              "      <td>0.080977</td>\n",
              "    </tr>\n",
              "    <tr>\n",
              "      <th>4</th>\n",
              "      <td>bmi</td>\n",
              "      <td>0.069466</td>\n",
              "    </tr>\n",
              "    <tr>\n",
              "      <th>3</th>\n",
              "      <td>weight</td>\n",
              "      <td>0.048824</td>\n",
              "    </tr>\n",
              "    <tr>\n",
              "      <th>2</th>\n",
              "      <td>height</td>\n",
              "      <td>0.036661</td>\n",
              "    </tr>\n",
              "    <tr>\n",
              "      <th>12</th>\n",
              "      <td>cat_bmi</td>\n",
              "      <td>0.013267</td>\n",
              "    </tr>\n",
              "    <tr>\n",
              "      <th>8</th>\n",
              "      <td>gluc</td>\n",
              "      <td>0.012647</td>\n",
              "    </tr>\n",
              "    <tr>\n",
              "      <th>11</th>\n",
              "      <td>active</td>\n",
              "      <td>0.007817</td>\n",
              "    </tr>\n",
              "    <tr>\n",
              "      <th>9</th>\n",
              "      <td>smoke</td>\n",
              "      <td>0.005176</td>\n",
              "    </tr>\n",
              "    <tr>\n",
              "      <th>1</th>\n",
              "      <td>gender</td>\n",
              "      <td>0.005033</td>\n",
              "    </tr>\n",
              "    <tr>\n",
              "      <th>10</th>\n",
              "      <td>alco</td>\n",
              "      <td>0.004703</td>\n",
              "    </tr>\n",
              "  </tbody>\n",
              "</table>\n",
              "</div>\n",
              "      <button class=\"colab-df-convert\" onclick=\"convertToInteractive('df-4d650368-5760-45f9-8358-5a0655ad4fe6')\"\n",
              "              title=\"Convert this dataframe to an interactive table.\"\n",
              "              style=\"display:none;\">\n",
              "        \n",
              "  <svg xmlns=\"http://www.w3.org/2000/svg\" height=\"24px\"viewBox=\"0 0 24 24\"\n",
              "       width=\"24px\">\n",
              "    <path d=\"M0 0h24v24H0V0z\" fill=\"none\"/>\n",
              "    <path d=\"M18.56 5.44l.94 2.06.94-2.06 2.06-.94-2.06-.94-.94-2.06-.94 2.06-2.06.94zm-11 1L8.5 8.5l.94-2.06 2.06-.94-2.06-.94L8.5 2.5l-.94 2.06-2.06.94zm10 10l.94 2.06.94-2.06 2.06-.94-2.06-.94-.94-2.06-.94 2.06-2.06.94z\"/><path d=\"M17.41 7.96l-1.37-1.37c-.4-.4-.92-.59-1.43-.59-.52 0-1.04.2-1.43.59L10.3 9.45l-7.72 7.72c-.78.78-.78 2.05 0 2.83L4 21.41c.39.39.9.59 1.41.59.51 0 1.02-.2 1.41-.59l7.78-7.78 2.81-2.81c.8-.78.8-2.07 0-2.86zM5.41 20L4 18.59l7.72-7.72 1.47 1.35L5.41 20z\"/>\n",
              "  </svg>\n",
              "      </button>\n",
              "      \n",
              "  <style>\n",
              "    .colab-df-container {\n",
              "      display:flex;\n",
              "      flex-wrap:wrap;\n",
              "      gap: 12px;\n",
              "    }\n",
              "\n",
              "    .colab-df-convert {\n",
              "      background-color: #E8F0FE;\n",
              "      border: none;\n",
              "      border-radius: 50%;\n",
              "      cursor: pointer;\n",
              "      display: none;\n",
              "      fill: #1967D2;\n",
              "      height: 32px;\n",
              "      padding: 0 0 0 0;\n",
              "      width: 32px;\n",
              "    }\n",
              "\n",
              "    .colab-df-convert:hover {\n",
              "      background-color: #E2EBFA;\n",
              "      box-shadow: 0px 1px 2px rgba(60, 64, 67, 0.3), 0px 1px 3px 1px rgba(60, 64, 67, 0.15);\n",
              "      fill: #174EA6;\n",
              "    }\n",
              "\n",
              "    [theme=dark] .colab-df-convert {\n",
              "      background-color: #3B4455;\n",
              "      fill: #D2E3FC;\n",
              "    }\n",
              "\n",
              "    [theme=dark] .colab-df-convert:hover {\n",
              "      background-color: #434B5C;\n",
              "      box-shadow: 0px 1px 3px 1px rgba(0, 0, 0, 0.15);\n",
              "      filter: drop-shadow(0px 1px 2px rgba(0, 0, 0, 0.3));\n",
              "      fill: #FFFFFF;\n",
              "    }\n",
              "  </style>\n",
              "\n",
              "      <script>\n",
              "        const buttonEl =\n",
              "          document.querySelector('#df-4d650368-5760-45f9-8358-5a0655ad4fe6 button.colab-df-convert');\n",
              "        buttonEl.style.display =\n",
              "          google.colab.kernel.accessAllowed ? 'block' : 'none';\n",
              "\n",
              "        async function convertToInteractive(key) {\n",
              "          const element = document.querySelector('#df-4d650368-5760-45f9-8358-5a0655ad4fe6');\n",
              "          const dataTable =\n",
              "            await google.colab.kernel.invokeFunction('convertToInteractive',\n",
              "                                                     [key], {});\n",
              "          if (!dataTable) return;\n",
              "\n",
              "          const docLinkHtml = 'Like what you see? Visit the ' +\n",
              "            '<a target=\"_blank\" href=https://colab.research.google.com/notebooks/data_table.ipynb>data table notebook</a>'\n",
              "            + ' to learn more about interactive tables.';\n",
              "          element.innerHTML = '';\n",
              "          dataTable['output_type'] = 'display_data';\n",
              "          await google.colab.output.renderOutput(dataTable, element);\n",
              "          const docLink = document.createElement('div');\n",
              "          docLink.innerHTML = docLinkHtml;\n",
              "          element.appendChild(docLink);\n",
              "        }\n",
              "      </script>\n",
              "    </div>\n",
              "  </div>\n",
              "  "
            ],
            "text/plain": [
              "           Feature  Importance\n",
              "5            ap_hi    0.342217\n",
              "6            ap_lo    0.154195\n",
              "0              age    0.124755\n",
              "13  blood_pressure    0.094262\n",
              "7      cholesterol    0.080977\n",
              "4              bmi    0.069466\n",
              "3           weight    0.048824\n",
              "2           height    0.036661\n",
              "12         cat_bmi    0.013267\n",
              "8             gluc    0.012647\n",
              "11          active    0.007817\n",
              "9            smoke    0.005176\n",
              "1           gender    0.005033\n",
              "10            alco    0.004703"
            ]
          },
          "metadata": {},
          "execution_count": 61
        }
      ]
    },
    {
      "cell_type": "markdown",
      "metadata": {
        "id": "-dmqvcOGsg-k"
      },
      "source": [
        "Здесь я просто сохранил модель чтобы потом заново не перебирать при перезапуске среды"
      ]
    },
    {
      "cell_type": "code",
      "metadata": {
        "id": "CkKzZXBU5QFE"
      },
      "source": [
        "from sklearn.ensemble import RandomForestClassifier\n",
        "random_forest = RandomForestClassifier(bootstrap = True,\n",
        "  max_depth = None,\n",
        "  max_features = 'sqrt',\n",
        "  max_samples = 0.7,\n",
        "  min_samples_split = 100,\n",
        "  n_estimators = 300,\n",
        "  random_state=10)\n",
        "random_forest.fit(X_train_cat,y_train_cat)\n",
        "print(accuracy_score(y_test_cat,random_forest.predict(X_test_cat)), f1_score(y_test_cat, random_forest.predict(X_test_cat)))"
      ],
      "execution_count": null,
      "outputs": []
    },
    {
      "cell_type": "markdown",
      "metadata": {
        "id": "Abpp7qjWCF9P"
      },
      "source": [
        "## Градиентный бустинг"
      ]
    },
    {
      "cell_type": "markdown",
      "metadata": {
        "id": "p3wA7B0Ssr2r"
      },
      "source": [
        "Для градиентного бустинга параметры тоже подбираю сразу, использую CatBoost."
      ]
    },
    {
      "cell_type": "markdown",
      "source": [
        "CatBoost сам кодирует категориальные переменные, поэтому использую данные до one-hot кодирования, их же далее использую в PCA."
      ],
      "metadata": {
        "id": "La5cLh2m_wd-"
      }
    },
    {
      "cell_type": "code",
      "metadata": {
        "id": "Ms-6IAq3CMCb"
      },
      "source": [
        "!pip install catboost\n",
        "import catboost\n",
        "from catboost import CatBoostClassifier\n",
        "cat_features = [col for col in X_train_cat.columns if 10 >= len(X_train_cat[col].unique())]"
      ],
      "execution_count": null,
      "outputs": []
    },
    {
      "cell_type": "markdown",
      "metadata": {
        "id": "1nTDmOqjs12z"
      },
      "source": [
        "Список категориальных переменных"
      ]
    },
    {
      "cell_type": "code",
      "metadata": {
        "id": "CfRFxIgi1xWo"
      },
      "source": [
        "cat_features = [col for col in X_train_cat.columns if 10 >= len(X_train_cat[col].unique())]\n",
        "cat_features"
      ],
      "execution_count": null,
      "outputs": []
    },
    {
      "cell_type": "code",
      "metadata": {
        "id": "Otkvz7Ah0gi0"
      },
      "source": [
        "np.random.seed(10)\n",
        "c_boost = CatBoostClassifier(eval_metric='F1',\n",
        "                             verbose=False,\n",
        "                             early_stopping_rounds=100,\n",
        "                             cat_features=cat_features,\n",
        "                             task_type=\"GPU\",\n",
        "                             iterations = 500,\n",
        "                             random_seed=10)\n",
        "\n",
        "parameters = {'depth': [4,6,8,10],\n",
        "              'learning_rate': [0.1,0.2,0.3],\n",
        "              'l2_leaf_reg': [0,3,6,1]}\n",
        "\n",
        "grid_res = c_boost.grid_search(parameters,\n",
        "                               X_train_cat,\n",
        "                               y_train_cat,\n",
        "                               cv=5,\n",
        "                               partition_random_seed=10,\n",
        "                               verbose=True)"
      ],
      "execution_count": null,
      "outputs": []
    },
    {
      "cell_type": "markdown",
      "metadata": {
        "id": "86V2mchHs8_C"
      },
      "source": [
        "Лучшие параметры после перебора по сетке"
      ]
    },
    {
      "cell_type": "code",
      "metadata": {
        "id": "WWmQPw6ON5jY"
      },
      "source": [
        "grid_res['params']"
      ],
      "execution_count": null,
      "outputs": []
    },
    {
      "cell_type": "code",
      "metadata": {
        "id": "i5QFq2JeOafT"
      },
      "source": [
        "print(accuracy_score(y_test_cat,c_boost.predict(X_test_cat)), f1_score(y_test_cat, c_boost.predict(X_test_cat)))"
      ],
      "execution_count": null,
      "outputs": []
    },
    {
      "cell_type": "markdown",
      "source": [
        "Бустинг без подбора гиперпараметров"
      ],
      "metadata": {
        "id": "-nVOZon5NSFP"
      }
    },
    {
      "cell_type": "code",
      "source": [
        "np.random.seed(10)\n",
        "boost = CatBoostClassifier(eval_metric='F1',\n",
        "                             verbose=False,\n",
        "                             early_stopping_rounds=100,\n",
        "                             cat_features=cat_features,\n",
        "                             task_type=\"GPU\",\n",
        "                             iterations = 1000,\n",
        "                             random_seed=10)\n",
        "boost.fit(X_train_cat,y_train_cat)\n",
        "print(accuracy_score(y_test_cat,boost.predict(X_test_cat)), f1_score(y_test_cat, boost.predict(X_test_cat)))"
      ],
      "metadata": {
        "id": "Df0fIfFnJd-j"
      },
      "execution_count": null,
      "outputs": []
    },
    {
      "cell_type": "markdown",
      "metadata": {
        "id": "F9CBm_NbKRjl"
      },
      "source": [
        "Пока самая высокая точность и F-мера"
      ]
    },
    {
      "cell_type": "markdown",
      "metadata": {
        "id": "4lX_QuAMtPBA"
      },
      "source": [
        "Важность признаков, ROC-кривая и матрица ошибок"
      ]
    },
    {
      "cell_type": "code",
      "metadata": {
        "id": "sShn0BN91_ZZ"
      },
      "source": [
        "imp_df = pd.DataFrame(X_train_cat.columns)\n",
        "imp_df.columns = ['Feature']\n",
        "imp_df[\"Importance\"] = pd.Series(c_boost.get_feature_importance())\n",
        "\n",
        "imp_df.sort_values(by='Importance', ascending=False)"
      ],
      "execution_count": null,
      "outputs": []
    },
    {
      "cell_type": "code",
      "metadata": {
        "id": "k8yOd95R9lP7"
      },
      "source": [
        "plot_roc_curve(c_boost, X_test_cat, y_test_cat)"
      ],
      "execution_count": null,
      "outputs": []
    },
    {
      "cell_type": "code",
      "metadata": {
        "id": "QaxOPOnO-Gvg"
      },
      "source": [
        "cf_matrix_cb = confusion_matrix(y_test_cat,c_boost.predict(X_test_cat))\n",
        "group_counts = [\"{0:0.0f}\".format(value) for value in\n",
        "                cf_matrix_cb.flatten()]\n",
        "group_percentages = [\"{0:.2%}\".format(value) for value in\n",
        "                     cf_matrix_cb.flatten()/np.sum(cf_matrix_cb)]\n",
        "labels = [f\"{v1}\\n{v2}\\n{v3}\" for v1, v2, v3 in\n",
        "          zip(group_names,group_counts,group_percentages)]\n",
        "labels = np.asarray(labels).reshape(2,2)\n",
        "f, ax = plt.subplots(figsize=(7, 6))\n",
        "sns.heatmap(cf_matrix_cb, annot=labels, fmt='')"
      ],
      "execution_count": null,
      "outputs": []
    },
    {
      "cell_type": "markdown",
      "metadata": {
        "id": "5bjTAOyzvYeW"
      },
      "source": [
        "## CHI - PCA"
      ]
    },
    {
      "cell_type": "markdown",
      "source": [
        "Проверяем категориальные переменные на независимость критерием согласия хи-квадрат"
      ],
      "metadata": {
        "id": "GogBd2M3VoAB"
      }
    },
    {
      "cell_type": "code",
      "source": [
        "from scipy.stats import chi2_contingency\n",
        "\n",
        "alpha = 0.01\n",
        "columns = ['gender',\n",
        " 'cholesterol',\n",
        " 'gluc',\n",
        " 'smoke',\n",
        " 'alco',\n",
        " 'active',\n",
        " 'cardio']\n",
        "column_pairs = []\n",
        "ps = []\n",
        "verdict = []\n",
        "for column_1 in range(len(columns)):\n",
        "  for column_2 in range(column_1+1,len(columns)):\n",
        "    table = pd.crosstab(df_cat[columns[column_1]],df_cat[columns[column_2]])#попарные кросс-таблицы\n",
        "    stat, p, dof, expected = chi2_contingency(table)\n",
        "    column_pairs.append(columns[column_1] + ' and ' + columns[column_2])\n",
        "    ps.append(p)\n",
        "    if p <= alpha:\n",
        "\t    verdict.append('Dependent (reject H0)') # нулевая гипотеза - независимость\n",
        "    else:\n",
        "\t    verdict.append('Independent (fail to reject H0)')"
      ],
      "metadata": {
        "id": "Rf-v53WFKk0l"
      },
      "execution_count": null,
      "outputs": []
    },
    {
      "cell_type": "code",
      "source": [
        "results=pd.DataFrame(columns=['Columns','p-value','Verdict'])\n",
        "results['Columns'] = column_pairs\n",
        "results['p-value'] = ps\n",
        "results['Verdict'] = verdict\n",
        "results.sort_values(by='p-value',ascending=False)"
      ],
      "metadata": {
        "id": "oHCIyGVoKk0n",
        "colab": {
          "base_uri": "https://localhost:8080/",
          "height": 708
        },
        "outputId": "105e42e3-12fc-4420-b957-b6499603b982"
      },
      "execution_count": null,
      "outputs": [
        {
          "output_type": "execute_result",
          "data": {
            "text/plain": [
              "                   Columns        p-value                          Verdict\n",
              "4        gender and active   1.947045e-01  Independent (fail to reject H0)\n",
              "5        gender and cardio   8.441783e-02  Independent (fail to reject H0)\n",
              "19         alco and cardio   1.138139e-02  Independent (fail to reject H0)\n",
              "13         gluc and active   1.068105e-02  Independent (fail to reject H0)\n",
              "9   cholesterol and active   1.099308e-03            Dependent (reject H0)\n",
              "17        smoke and cardio   8.238025e-06            Dependent (reject H0)\n",
              "1          gender and gluc   5.778089e-07            Dependent (reject H0)\n",
              "11          gluc and smoke   5.504154e-07            Dependent (reject H0)\n",
              "7    cholesterol and smoke   3.150642e-09            Dependent (reject H0)\n",
              "16        smoke and active   2.159756e-10            Dependent (reject H0)\n",
              "18         alco and active   5.507333e-11            Dependent (reject H0)\n",
              "12           gluc and alco   8.429406e-14            Dependent (reject H0)\n",
              "0   gender and cholesterol   1.658364e-20            Dependent (reject H0)\n",
              "20       active and cardio   9.397647e-23            Dependent (reject H0)\n",
              "8     cholesterol and alco   7.256417e-29            Dependent (reject H0)\n",
              "14         gluc and cardio  1.834559e-120            Dependent (reject H0)\n",
              "15          smoke and alco   0.000000e+00            Dependent (reject H0)\n",
              "6     cholesterol and gluc   0.000000e+00            Dependent (reject H0)\n",
              "3          gender and alco   0.000000e+00            Dependent (reject H0)\n",
              "2         gender and smoke   0.000000e+00            Dependent (reject H0)\n",
              "10  cholesterol and cardio   0.000000e+00            Dependent (reject H0)"
            ],
            "text/html": [
              "\n",
              "  <div id=\"df-92d77ddc-d7d2-4b71-86d7-a339fb1b5373\">\n",
              "    <div class=\"colab-df-container\">\n",
              "      <div>\n",
              "<style scoped>\n",
              "    .dataframe tbody tr th:only-of-type {\n",
              "        vertical-align: middle;\n",
              "    }\n",
              "\n",
              "    .dataframe tbody tr th {\n",
              "        vertical-align: top;\n",
              "    }\n",
              "\n",
              "    .dataframe thead th {\n",
              "        text-align: right;\n",
              "    }\n",
              "</style>\n",
              "<table border=\"1\" class=\"dataframe\">\n",
              "  <thead>\n",
              "    <tr style=\"text-align: right;\">\n",
              "      <th></th>\n",
              "      <th>Columns</th>\n",
              "      <th>p-value</th>\n",
              "      <th>Verdict</th>\n",
              "    </tr>\n",
              "  </thead>\n",
              "  <tbody>\n",
              "    <tr>\n",
              "      <th>4</th>\n",
              "      <td>gender and active</td>\n",
              "      <td>1.947045e-01</td>\n",
              "      <td>Independent (fail to reject H0)</td>\n",
              "    </tr>\n",
              "    <tr>\n",
              "      <th>5</th>\n",
              "      <td>gender and cardio</td>\n",
              "      <td>8.441783e-02</td>\n",
              "      <td>Independent (fail to reject H0)</td>\n",
              "    </tr>\n",
              "    <tr>\n",
              "      <th>19</th>\n",
              "      <td>alco and cardio</td>\n",
              "      <td>1.138139e-02</td>\n",
              "      <td>Independent (fail to reject H0)</td>\n",
              "    </tr>\n",
              "    <tr>\n",
              "      <th>13</th>\n",
              "      <td>gluc and active</td>\n",
              "      <td>1.068105e-02</td>\n",
              "      <td>Independent (fail to reject H0)</td>\n",
              "    </tr>\n",
              "    <tr>\n",
              "      <th>9</th>\n",
              "      <td>cholesterol and active</td>\n",
              "      <td>1.099308e-03</td>\n",
              "      <td>Dependent (reject H0)</td>\n",
              "    </tr>\n",
              "    <tr>\n",
              "      <th>17</th>\n",
              "      <td>smoke and cardio</td>\n",
              "      <td>8.238025e-06</td>\n",
              "      <td>Dependent (reject H0)</td>\n",
              "    </tr>\n",
              "    <tr>\n",
              "      <th>1</th>\n",
              "      <td>gender and gluc</td>\n",
              "      <td>5.778089e-07</td>\n",
              "      <td>Dependent (reject H0)</td>\n",
              "    </tr>\n",
              "    <tr>\n",
              "      <th>11</th>\n",
              "      <td>gluc and smoke</td>\n",
              "      <td>5.504154e-07</td>\n",
              "      <td>Dependent (reject H0)</td>\n",
              "    </tr>\n",
              "    <tr>\n",
              "      <th>7</th>\n",
              "      <td>cholesterol and smoke</td>\n",
              "      <td>3.150642e-09</td>\n",
              "      <td>Dependent (reject H0)</td>\n",
              "    </tr>\n",
              "    <tr>\n",
              "      <th>16</th>\n",
              "      <td>smoke and active</td>\n",
              "      <td>2.159756e-10</td>\n",
              "      <td>Dependent (reject H0)</td>\n",
              "    </tr>\n",
              "    <tr>\n",
              "      <th>18</th>\n",
              "      <td>alco and active</td>\n",
              "      <td>5.507333e-11</td>\n",
              "      <td>Dependent (reject H0)</td>\n",
              "    </tr>\n",
              "    <tr>\n",
              "      <th>12</th>\n",
              "      <td>gluc and alco</td>\n",
              "      <td>8.429406e-14</td>\n",
              "      <td>Dependent (reject H0)</td>\n",
              "    </tr>\n",
              "    <tr>\n",
              "      <th>0</th>\n",
              "      <td>gender and cholesterol</td>\n",
              "      <td>1.658364e-20</td>\n",
              "      <td>Dependent (reject H0)</td>\n",
              "    </tr>\n",
              "    <tr>\n",
              "      <th>20</th>\n",
              "      <td>active and cardio</td>\n",
              "      <td>9.397647e-23</td>\n",
              "      <td>Dependent (reject H0)</td>\n",
              "    </tr>\n",
              "    <tr>\n",
              "      <th>8</th>\n",
              "      <td>cholesterol and alco</td>\n",
              "      <td>7.256417e-29</td>\n",
              "      <td>Dependent (reject H0)</td>\n",
              "    </tr>\n",
              "    <tr>\n",
              "      <th>14</th>\n",
              "      <td>gluc and cardio</td>\n",
              "      <td>1.834559e-120</td>\n",
              "      <td>Dependent (reject H0)</td>\n",
              "    </tr>\n",
              "    <tr>\n",
              "      <th>15</th>\n",
              "      <td>smoke and alco</td>\n",
              "      <td>0.000000e+00</td>\n",
              "      <td>Dependent (reject H0)</td>\n",
              "    </tr>\n",
              "    <tr>\n",
              "      <th>6</th>\n",
              "      <td>cholesterol and gluc</td>\n",
              "      <td>0.000000e+00</td>\n",
              "      <td>Dependent (reject H0)</td>\n",
              "    </tr>\n",
              "    <tr>\n",
              "      <th>3</th>\n",
              "      <td>gender and alco</td>\n",
              "      <td>0.000000e+00</td>\n",
              "      <td>Dependent (reject H0)</td>\n",
              "    </tr>\n",
              "    <tr>\n",
              "      <th>2</th>\n",
              "      <td>gender and smoke</td>\n",
              "      <td>0.000000e+00</td>\n",
              "      <td>Dependent (reject H0)</td>\n",
              "    </tr>\n",
              "    <tr>\n",
              "      <th>10</th>\n",
              "      <td>cholesterol and cardio</td>\n",
              "      <td>0.000000e+00</td>\n",
              "      <td>Dependent (reject H0)</td>\n",
              "    </tr>\n",
              "  </tbody>\n",
              "</table>\n",
              "</div>\n",
              "      <button class=\"colab-df-convert\" onclick=\"convertToInteractive('df-92d77ddc-d7d2-4b71-86d7-a339fb1b5373')\"\n",
              "              title=\"Convert this dataframe to an interactive table.\"\n",
              "              style=\"display:none;\">\n",
              "        \n",
              "  <svg xmlns=\"http://www.w3.org/2000/svg\" height=\"24px\"viewBox=\"0 0 24 24\"\n",
              "       width=\"24px\">\n",
              "    <path d=\"M0 0h24v24H0V0z\" fill=\"none\"/>\n",
              "    <path d=\"M18.56 5.44l.94 2.06.94-2.06 2.06-.94-2.06-.94-.94-2.06-.94 2.06-2.06.94zm-11 1L8.5 8.5l.94-2.06 2.06-.94-2.06-.94L8.5 2.5l-.94 2.06-2.06.94zm10 10l.94 2.06.94-2.06 2.06-.94-2.06-.94-.94-2.06-.94 2.06-2.06.94z\"/><path d=\"M17.41 7.96l-1.37-1.37c-.4-.4-.92-.59-1.43-.59-.52 0-1.04.2-1.43.59L10.3 9.45l-7.72 7.72c-.78.78-.78 2.05 0 2.83L4 21.41c.39.39.9.59 1.41.59.51 0 1.02-.2 1.41-.59l7.78-7.78 2.81-2.81c.8-.78.8-2.07 0-2.86zM5.41 20L4 18.59l7.72-7.72 1.47 1.35L5.41 20z\"/>\n",
              "  </svg>\n",
              "      </button>\n",
              "      \n",
              "  <style>\n",
              "    .colab-df-container {\n",
              "      display:flex;\n",
              "      flex-wrap:wrap;\n",
              "      gap: 12px;\n",
              "    }\n",
              "\n",
              "    .colab-df-convert {\n",
              "      background-color: #E8F0FE;\n",
              "      border: none;\n",
              "      border-radius: 50%;\n",
              "      cursor: pointer;\n",
              "      display: none;\n",
              "      fill: #1967D2;\n",
              "      height: 32px;\n",
              "      padding: 0 0 0 0;\n",
              "      width: 32px;\n",
              "    }\n",
              "\n",
              "    .colab-df-convert:hover {\n",
              "      background-color: #E2EBFA;\n",
              "      box-shadow: 0px 1px 2px rgba(60, 64, 67, 0.3), 0px 1px 3px 1px rgba(60, 64, 67, 0.15);\n",
              "      fill: #174EA6;\n",
              "    }\n",
              "\n",
              "    [theme=dark] .colab-df-convert {\n",
              "      background-color: #3B4455;\n",
              "      fill: #D2E3FC;\n",
              "    }\n",
              "\n",
              "    [theme=dark] .colab-df-convert:hover {\n",
              "      background-color: #434B5C;\n",
              "      box-shadow: 0px 1px 3px 1px rgba(0, 0, 0, 0.15);\n",
              "      filter: drop-shadow(0px 1px 2px rgba(0, 0, 0, 0.3));\n",
              "      fill: #FFFFFF;\n",
              "    }\n",
              "  </style>\n",
              "\n",
              "      <script>\n",
              "        const buttonEl =\n",
              "          document.querySelector('#df-92d77ddc-d7d2-4b71-86d7-a339fb1b5373 button.colab-df-convert');\n",
              "        buttonEl.style.display =\n",
              "          google.colab.kernel.accessAllowed ? 'block' : 'none';\n",
              "\n",
              "        async function convertToInteractive(key) {\n",
              "          const element = document.querySelector('#df-92d77ddc-d7d2-4b71-86d7-a339fb1b5373');\n",
              "          const dataTable =\n",
              "            await google.colab.kernel.invokeFunction('convertToInteractive',\n",
              "                                                     [key], {});\n",
              "          if (!dataTable) return;\n",
              "\n",
              "          const docLinkHtml = 'Like what you see? Visit the ' +\n",
              "            '<a target=\"_blank\" href=https://colab.research.google.com/notebooks/data_table.ipynb>data table notebook</a>'\n",
              "            + ' to learn more about interactive tables.';\n",
              "          element.innerHTML = '';\n",
              "          dataTable['output_type'] = 'display_data';\n",
              "          await google.colab.output.renderOutput(dataTable, element);\n",
              "          const docLink = document.createElement('div');\n",
              "          docLink.innerHTML = docLinkHtml;\n",
              "          element.appendChild(docLink);\n",
              "        }\n",
              "      </script>\n",
              "    </div>\n",
              "  </div>\n",
              "  "
            ]
          },
          "metadata": {},
          "execution_count": 33
        }
      ]
    },
    {
      "cell_type": "markdown",
      "source": [
        "Выкидываем пол и употребление алкоголя - признаки, независимые с целевой переменной."
      ],
      "metadata": {
        "id": "NvumBpSBKk0p"
      }
    },
    {
      "cell_type": "code",
      "source": [
        "X_train_cat_2 = X_train_cat.copy()\n",
        "X_test_cat_2 = X_test_cat.copy()"
      ],
      "metadata": {
        "id": "ryraNmioKk0r"
      },
      "execution_count": null,
      "outputs": []
    },
    {
      "cell_type": "code",
      "source": [
        "X_train_cat_2.drop(columns=['gender','alco'],inplace=True)\n",
        "X_test_cat_2.drop(columns=['gender','alco'],inplace=True)"
      ],
      "metadata": {
        "id": "7kGRvle4Kk0s"
      },
      "execution_count": null,
      "outputs": []
    },
    {
      "cell_type": "markdown",
      "source": [
        "Есть смысл выкинуть рост с весом  и оставить ИМТ"
      ],
      "metadata": {
        "id": "ykNBelC-Kk0t"
      }
    },
    {
      "cell_type": "code",
      "source": [
        "X_train_cat_2.drop(columns=['height','weight'],inplace=True)\n",
        "X_test_cat_2.drop(columns=['height','weight'],inplace=True)"
      ],
      "metadata": {
        "id": "-Cp8XgriKk0t"
      },
      "execution_count": null,
      "outputs": []
    },
    {
      "cell_type": "markdown",
      "source": [
        "Посмотрим сколько в процентах дисперсии данных объясняется различными признками"
      ],
      "metadata": {
        "id": "vw24xhEYKk0u"
      }
    },
    {
      "cell_type": "code",
      "metadata": {
        "id": "46v44o1rKk0u"
      },
      "source": [
        "from sklearn.decomposition import PCA\n",
        "pca = PCA()\n",
        "pca.fit(X_train_cat_2)\n",
        "v = pd.DataFrame(X_train_cat_2.columns)\n",
        "v.columns = ['Feature']\n",
        "v['Variance explained in %'] = pd.Series(pca.explained_variance_ratio_.round(decimals=6)*100)\n",
        "v.sort_values(by='Variance explained in %',ascending=False)"
      ],
      "execution_count": null,
      "outputs": []
    },
    {
      "cell_type": "markdown",
      "metadata": {
        "id": "X6CyS4FDKk0v"
      },
      "source": [
        "Посмотрим какая размерность сохраняет 95% от изначальной дисперсии"
      ]
    },
    {
      "cell_type": "code",
      "metadata": {
        "id": "srOR-foAKk0w"
      },
      "source": [
        "pca_95 = PCA(n_components=0.95)\n",
        "pca_95.fit(X_train_cat_2)\n",
        "pca_95.n_components_"
      ],
      "execution_count": null,
      "outputs": []
    },
    {
      "cell_type": "code",
      "metadata": {
        "id": "FNj2T822Kk00"
      },
      "source": [
        "pca_2 = PCA(n_components=2)\n",
        "X_train_pca_2 = pca_2.fit_transform(X_train_cat_2)\n",
        "X_test_pca_2 = pca_2.transform(X_test_cat_2)"
      ],
      "execution_count": null,
      "outputs": []
    },
    {
      "cell_type": "code",
      "metadata": {
        "id": "usf4gtqCKk01"
      },
      "source": [
        "X_train_pca = pca_95.fit_transform(X_train_cat_2)\n",
        "X_test_pca = pca_95.transform(X_test_cat_2)"
      ],
      "execution_count": null,
      "outputs": []
    },
    {
      "cell_type": "markdown",
      "metadata": {
        "id": "hCvcgHb2Kk02"
      },
      "source": [
        "Посмотрим что получилось после снижения размерности до 2."
      ]
    },
    {
      "cell_type": "code",
      "metadata": {
        "colab": {
          "base_uri": "https://localhost:8080/",
          "height": 501
        },
        "outputId": "f94be8e2-dad0-4e7d-c240-e39d08d0c86d",
        "id": "6RaGL0-CKk02"
      },
      "source": [
        "graph = np.append(X_train_pca_2,y_train_cat.values.reshape(-1,1),axis=1)\n",
        "f, ax = plt.subplots(figsize=(20, 8))\n",
        "sns.scatterplot(x=graph[:,0],y=graph[:,1],hue=graph[:,2])"
      ],
      "execution_count": null,
      "outputs": [
        {
          "output_type": "execute_result",
          "data": {
            "text/plain": [
              "<matplotlib.axes._subplots.AxesSubplot at 0x7f5e8dbc7d10>"
            ]
          },
          "metadata": {},
          "execution_count": 112
        },
        {
          "output_type": "display_data",
          "data": {
            "image/png": "[encoded data removed]",
            "text/plain": [
              "<Figure size 1440x576 with 1 Axes>"
            ]
          },
          "metadata": {
            "needs_background": "light"
          }
        }
      ]
    },
    {
      "cell_type": "markdown",
      "metadata": {
        "id": "MA-2PkTDKk03"
      },
      "source": [
        "Обучим обычные модели на 8-мерных данных, подбора гиперпараметров тут нет."
      ]
    },
    {
      "cell_type": "code",
      "metadata": {
        "id": "lP6O-x95Kk04"
      },
      "source": [
        "np.random.seed(10)\n",
        "logreg.fit(X_train_pca,y_train_cat)\n",
        "print('LogReg accuracy: {0:.2f} % , f1_score : {1:.3f} '.format(accuracy_score(y_test_cat,logreg.predict(X_test_pca)) * 100, f1_score(y_test_cat,logreg.predict(X_test_pca))))\n",
        "svm_pca = SVC(random_state=10)\n",
        "svm_pca.fit(X_train_pca,y_train_cat)\n",
        "print('SVM accuracy: {0:.2f} % , f1_score: {1:.3f} '.format(accuracy_score(y_test_cat,svm_pca.predict(X_test_pca)) * 100, f1_score(y_test_cat,svm_pca.predict(X_test_pca))))\n",
        "knn.fit(X_train_pca,y_train_cat)\n",
        "print('KNN accuracy: {0:.2f} % , f1_score: {1:.3f} '.format(accuracy_score(y_test_cat,knn.predict(X_test_pca)) * 100, f1_score(y_test_cat,knn.predict(X_test_pca))))\n",
        "random_forest_pca = RandomForestClassifier(random_state=10, n_estimators=300,min_samples_split=100,max_features=0.5,max_samples=0.7)\n",
        "random_forest_pca.fit(X_train_pca,y_train_cat)\n",
        "print('Random forest accuracy: {0:.2f} % , f1_score: {1:.3f} '.format(accuracy_score(y_test_cat,random_forest_pca.predict(X_test_pca)) * 100, f1_score(y_test_cat,random_forest_pca.predict(X_test_pca))))\n",
        "c_boost_95 = CatBoostClassifier(verbose=False,eval_metric='F1',task_type=\"GPU\",iterations = 1000,random_seed=10)\n",
        "c_boost_95.fit(X_train_pca, y_train_cat, verbose=False)\n",
        "print('Gradient boosting accuracy: {0:.2f} % , f1_score: {1:.3f} '.format(accuracy_score(y_test_cat,c_boost_95.predict(X_test_pca)) * 100, f1_score(y_test_cat,c_boost_95.predict(X_test_pca))))"
      ],
      "execution_count": null,
      "outputs": []
    },
    {
      "cell_type": "code",
      "source": [
        "c_boost_95 = CatBoostClassifier(verbose=False,eval_metric='F1',task_type=\"GPU\",iterations = 1000,random_seed=10)\n",
        "c_boost_95.fit(X_train_pca, y_train_cat, verbose=False)"
      ],
      "metadata": {
        "colab": {
          "base_uri": "https://localhost:8080/"
        },
        "id": "vHT7BqcETxdI",
        "outputId": "8e320c0f-338e-4d76-82bf-cf48d203eebe"
      },
      "execution_count": null,
      "outputs": [
        {
          "output_type": "execute_result",
          "data": {
            "text/plain": [
              "<catboost.core.CatBoostClassifier at 0x7f0434947510>"
            ]
          },
          "metadata": {},
          "execution_count": 49
        }
      ]
    },
    {
      "cell_type": "markdown",
      "source": [
        "Попробуем обучить svm, random forest и бустинг, выкинув признаки gender, alco, height, weight, cat_bmi, blood_pressure, но не применяя PCA"
      ],
      "metadata": {
        "id": "on9g8gYgUc-k"
      }
    },
    {
      "cell_type": "code",
      "source": [
        "X_train_cat_2.drop(columns=['cat_bmi','blood_pressure'],inplace=True)\n",
        "X_test_cat_2.drop(columns=['cat_bmi','blood_pressure'],inplace=True)"
      ],
      "metadata": {
        "id": "LkQ8INPNU5HD"
      },
      "execution_count": null,
      "outputs": []
    },
    {
      "cell_type": "code",
      "source": [
        "np.random.seed(10)\n",
        "cat_features = [col for col in X_train_cat_2.columns if 10 >= len(X_train_cat_2[col].unique())]\n",
        "c_boost_dropped = CatBoostClassifier(verbose=False,eval_metric='F1',task_type=\"GPU\",iterations = 1000,random_seed=10,cat_features=cat_features)\n",
        "c_boost_dropped.fit(X_train_cat_2, y_train_cat, verbose=False)"
      ],
      "metadata": {
        "colab": {
          "base_uri": "https://localhost:8080/"
        },
        "id": "DoTW3xCsTs8c",
        "outputId": "ed80b196-01e2-4752-9e0c-0313476b3b71"
      },
      "execution_count": null,
      "outputs": [
        {
          "output_type": "execute_result",
          "data": {
            "text/plain": [
              "<catboost.core.CatBoostClassifier at 0x7f04349cdd90>"
            ]
          },
          "metadata": {},
          "execution_count": 51
        }
      ]
    },
    {
      "cell_type": "code",
      "source": [
        "np.random.seed(10)\n",
        "cat_features = [col for col in X_train_cat_2.columns if 10 >= len(X_train_cat_2[col].unique())]\n",
        "c_boost_dropped = CatBoostClassifier(verbose=False,eval_metric='F1',task_type=\"GPU\",iterations = 1000,random_seed=10,cat_features=cat_features)\n",
        "c_boost_dropped.fit(X_train_cat_2, y_train_cat, verbose=False)\n",
        "print('Gradient boosting accuracy: {0:.2f} % , f1_score: {1:.3f} '.format(accuracy_score(y_test_cat,c_boost_dropped.predict(X_test_cat_2)) * 100, f1_score(y_test_cat,c_boost_dropped.predict(X_test_cat_2))))\n",
        "random_forest_dropped = RandomForestClassifier(random_state=10, n_estimators=300,min_samples_split=100,max_features=0.5,max_samples=0.7)\n",
        "random_forest_dropped.fit(X_train_cat_2,y_train_cat)\n",
        "print('Random forest accuracy: {0:.2f} % , f1_score: {1:.3f} '.format(accuracy_score(y_test_cat,random_forest_dropped.predict(X_test_cat_2)) * 100, f1_score(y_test_cat,random_forest_dropped.predict(X_test_cat_2))))\n",
        "svm_dropped = SVC(random_state=10)\n",
        "svm_dropped.fit(X_train_cat_2,y_train_cat)\n",
        "print('SVM accuracy: {0:.2f} % , f1_score: {1:.3f} '.format(accuracy_score(y_test_cat,svm_dropped.predict(X_test_cat_2)) * 100, f1_score(y_test_cat,svm_dropped.predict(X_test_cat_2))))"
      ],
      "metadata": {
        "colab": {
          "base_uri": "https://localhost:8080/"
        },
        "id": "n0_-n3f5VNrt",
        "outputId": "928f9e24-686a-4749-a238-1eafe2c60609"
      },
      "execution_count": null,
      "outputs": [
        {
          "output_type": "stream",
          "name": "stdout",
          "text": [
            "Gradient boosting accuracy: 74.09 % , f1_score: 0.724 \n",
            "Random forest accuracy: 73.72 % , f1_score: 0.718 \n",
            "SVM accuracy: 73.57 % , f1_score: 0.710 \n"
          ]
        }
      ]
    },
    {
      "cell_type": "markdown",
      "metadata": {
        "id": "pNHAAyK2Kk0-"
      },
      "source": [
        "Попробуем подобрать гиперпараметры для модели с лучшей оценкой - градиентного бустинга."
      ]
    },
    {
      "cell_type": "code",
      "metadata": {
        "colab": {
          "base_uri": "https://localhost:8080/"
        },
        "outputId": "875a70bf-bfcb-44c6-febd-9ad2ec4fc6c9",
        "id": "vKcROiXPKk0-"
      },
      "source": [
        "np.random.seed(10)\n",
        "parameters = {'depth': [4,6,8,10],\n",
        "          'learning_rate': [0.1,0.2,0.3],\n",
        "          'l2_leaf_reg': [0, 3, 6,1]}\n",
        "\n",
        "c_boost_tuned = CatBoostClassifier(eval_metric='F1',\n",
        "                             verbose=False,\n",
        "                             early_stopping_rounds=100,\n",
        "                             task_type=\"GPU\",\n",
        "                             iterations = 500,\n",
        "                             random_seed=10)\n",
        "\n",
        "grid_res_95 = c_boost_tuned.grid_search(parameters,\n",
        "                               X_train_pca,\n",
        "                               y_train_cat,\n",
        "                               cv=5,\n",
        "                               partition_random_seed = 10,\n",
        "                               verbose=True)"
      ],
      "execution_count": null,
      "outputs": [
        {
          "output_type": "stream",
          "name": "stdout",
          "text": [
            "bestTest = 0.7203960396\n",
            "bestIteration = 268\n",
            "0:\tloss: 0.7203960\tbest: 0.7203960 (0)\ttotal: 8.1s\tremaining: 6m 20s\n",
            "bestTest = 0.7203247203\n",
            "bestIteration = 153\n",
            "1:\tloss: 0.7203247\tbest: 0.7203960 (0)\ttotal: 14s\tremaining: 5m 20s\n",
            "bestTest = 0.7226493199\n",
            "bestIteration = 104\n",
            "2:\tloss: 0.7226493\tbest: 0.7226493 (2)\ttotal: 18.8s\tremaining: 4m 42s\n",
            "bestTest = 0.7220295313\n",
            "bestIteration = 277\n",
            "3:\tloss: 0.7220295\tbest: 0.7226493 (2)\ttotal: 27.4s\tremaining: 5m 1s\n",
            "bestTest = 0.7208865143\n",
            "bestIteration = 83\n",
            "4:\tloss: 0.7208865\tbest: 0.7226493 (2)\ttotal: 31.8s\tremaining: 4m 33s\n",
            "bestTest = 0.7205042348\n",
            "bestIteration = 146\n",
            "5:\tloss: 0.7205042\tbest: 0.7226493 (2)\ttotal: 37.6s\tremaining: 4m 23s\n",
            "bestTest = 0.720119225\n",
            "bestIteration = 162\n",
            "6:\tloss: 0.7201192\tbest: 0.7226493 (2)\ttotal: 43.6s\tremaining: 4m 15s\n",
            "bestTest = 0.719857454\n",
            "bestIteration = 53\n",
            "7:\tloss: 0.7198575\tbest: 0.7226493 (2)\ttotal: 47.3s\tremaining: 3m 56s\n",
            "bestTest = 0.7207029322\n",
            "bestIteration = 70\n",
            "8:\tloss: 0.7207029\tbest: 0.7226493 (2)\ttotal: 51.3s\tremaining: 3m 42s\n",
            "bestTest = 0.7228104899\n",
            "bestIteration = 274\n",
            "9:\tloss: 0.7228105\tbest: 0.7228105 (9)\ttotal: 59.8s\tremaining: 3m 47s\n",
            "bestTest = 0.720467373\n",
            "bestIteration = 65\n",
            "10:\tloss: 0.7204674\tbest: 0.7228105 (9)\ttotal: 1m 3s\tremaining: 3m 34s\n",
            "bestTest = 0.7204821658\n",
            "bestIteration = 48\n",
            "11:\tloss: 0.7204822\tbest: 0.7228105 (9)\ttotal: 1m 7s\tremaining: 3m 22s\n",
            "bestTest = 0.7206085754\n",
            "bestIteration = 41\n",
            "12:\tloss: 0.7206086\tbest: 0.7228105 (9)\ttotal: 1m 12s\tremaining: 3m 14s\n",
            "bestTest = 0.7213698901\n",
            "bestIteration = 166\n",
            "13:\tloss: 0.7213699\tbest: 0.7228105 (9)\ttotal: 1m 20s\tremaining: 3m 15s\n",
            "bestTest = 0.7202292717\n",
            "bestIteration = 42\n",
            "14:\tloss: 0.7202293\tbest: 0.7228105 (9)\ttotal: 1m 25s\tremaining: 3m 8s\n",
            "bestTest = 0.7218208808\n",
            "bestIteration = 53\n",
            "15:\tloss: 0.7218209\tbest: 0.7228105 (9)\ttotal: 1m 31s\tremaining: 3m 2s\n",
            "bestTest = 0.719112256\n",
            "bestIteration = 29\n",
            "16:\tloss: 0.7191123\tbest: 0.7228105 (9)\ttotal: 1m 35s\tremaining: 2m 54s\n",
            "bestTest = 0.7200078927\n",
            "bestIteration = 91\n",
            "17:\tloss: 0.7200079\tbest: 0.7228105 (9)\ttotal: 1m 41s\tremaining: 2m 49s\n",
            "bestTest = 0.721858249\n",
            "bestIteration = 51\n",
            "18:\tloss: 0.7218582\tbest: 0.7228105 (9)\ttotal: 1m 47s\tremaining: 2m 44s\n",
            "bestTest = 0.7212822796\n",
            "bestIteration = 132\n",
            "19:\tloss: 0.7212823\tbest: 0.7228105 (9)\ttotal: 1m 55s\tremaining: 2m 41s\n",
            "bestTest = 0.7212952907\n",
            "bestIteration = 17\n",
            "20:\tloss: 0.7212953\tbest: 0.7228105 (9)\ttotal: 1m 59s\tremaining: 2m 33s\n",
            "bestTest = 0.722579369\n",
            "bestIteration = 116\n",
            "21:\tloss: 0.7225794\tbest: 0.7228105 (9)\ttotal: 2m 6s\tremaining: 2m 29s\n",
            "bestTest = 0.7217107217\n",
            "bestIteration = 210\n",
            "22:\tloss: 0.7217107\tbest: 0.7228105 (9)\ttotal: 2m 16s\tremaining: 2m 27s\n",
            "bestTest = 0.7206889802\n",
            "bestIteration = 9\n",
            "23:\tloss: 0.7206890\tbest: 0.7228105 (9)\ttotal: 2m 19s\tremaining: 2m 19s\n",
            "bestTest = 0.7206726014\n",
            "bestIteration = 83\n",
            "24:\tloss: 0.7206726\tbest: 0.7228105 (9)\ttotal: 2m 30s\tremaining: 2m 18s\n",
            "bestTest = 0.7226840855\n",
            "bestIteration = 51\n",
            "25:\tloss: 0.7226841\tbest: 0.7228105 (9)\ttotal: 2m 40s\tremaining: 2m 15s\n",
            "bestTest = 0.72\n",
            "bestIteration = 36\n",
            "26:\tloss: 0.7200000\tbest: 0.7228105 (9)\ttotal: 2m 48s\tremaining: 2m 11s\n",
            "bestTest = 0.7232319241\n",
            "bestIteration = 82\n",
            "27:\tloss: 0.7232319\tbest: 0.7232319 (27)\ttotal: 3m 1s\tremaining: 2m 9s\n",
            "bestTest = 0.721798554\n",
            "bestIteration = 30\n",
            "28:\tloss: 0.7217986\tbest: 0.7232319 (27)\ttotal: 3m 10s\tremaining: 2m 4s\n",
            "bestTest = 0.7209808187\n",
            "bestIteration = 32\n",
            "29:\tloss: 0.7209808\tbest: 0.7232319 (27)\ttotal: 3m 19s\tremaining: 1m 59s\n",
            "bestTest = 0.7224913495\n",
            "bestIteration = 68\n",
            "30:\tloss: 0.7224913\tbest: 0.7232319 (27)\ttotal: 3m 32s\tremaining: 1m 56s\n",
            "bestTest = 0.7217761919\n",
            "bestIteration = 75\n",
            "31:\tloss: 0.7217762\tbest: 0.7232319 (27)\ttotal: 3m 45s\tremaining: 1m 52s\n",
            "bestTest = 0.7211100099\n",
            "bestIteration = 107\n",
            "32:\tloss: 0.7211100\tbest: 0.7232319 (27)\ttotal: 3m 59s\tremaining: 1m 48s\n",
            "bestTest = 0.7211005542\n",
            "bestIteration = 69\n",
            "33:\tloss: 0.7211006\tbest: 0.7232319 (27)\ttotal: 4m 10s\tremaining: 1m 43s\n",
            "bestTest = 0.7216352325\n",
            "bestIteration = 107\n",
            "34:\tloss: 0.7216352\tbest: 0.7232319 (27)\ttotal: 4m 22s\tremaining: 1m 37s\n",
            "bestTest = 0.7216739045\n",
            "bestIteration = 55\n",
            "35:\tloss: 0.7216739\tbest: 0.7232319 (27)\ttotal: 4m 30s\tremaining: 1m 30s\n",
            "bestTest = 0.7222222222\n",
            "bestIteration = 65\n",
            "36:\tloss: 0.7222222\tbest: 0.7232319 (27)\ttotal: 4m 54s\tremaining: 1m 27s\n",
            "bestTest = 0.7202139249\n",
            "bestIteration = 26\n",
            "37:\tloss: 0.7202139\tbest: 0.7232319 (27)\ttotal: 5m 12s\tremaining: 1m 22s\n",
            "bestTest = 0.7169401067\n",
            "bestIteration = 50\n",
            "38:\tloss: 0.7169401\tbest: 0.7232319 (27)\ttotal: 5m 34s\tremaining: 1m 17s\n",
            "bestTest = 0.7223703704\n",
            "bestIteration = 47\n",
            "39:\tloss: 0.7223704\tbest: 0.7232319 (27)\ttotal: 6m 4s\tremaining: 1m 12s\n",
            "bestTest = 0.7207491375\n",
            "bestIteration = 13\n",
            "40:\tloss: 0.7207491\tbest: 0.7232319 (27)\ttotal: 6m 27s\tremaining: 1m 6s\n",
            "bestTest = 0.7206421564\n",
            "bestIteration = 23\n",
            "41:\tloss: 0.7206422\tbest: 0.7232319 (27)\ttotal: 6m 48s\tremaining: 58.3s\n",
            "bestTest = 0.7219966327\n",
            "bestIteration = 28\n",
            "42:\tloss: 0.7219966\tbest: 0.7232319 (27)\ttotal: 7m 15s\tremaining: 50.6s\n",
            "bestTest = 0.7198096371\n",
            "bestIteration = 32\n",
            "43:\tloss: 0.7198096\tbest: 0.7232319 (27)\ttotal: 7m 41s\tremaining: 42s\n",
            "bestTest = 0.7212498764\n",
            "bestIteration = 28\n",
            "44:\tloss: 0.7212499\tbest: 0.7232319 (27)\ttotal: 8m 9s\tremaining: 32.6s\n",
            "bestTest = 0.721859545\n",
            "bestIteration = 44\n",
            "45:\tloss: 0.7218595\tbest: 0.7232319 (27)\ttotal: 8m 33s\tremaining: 22.3s\n",
            "bestTest = 0.7216678194\n",
            "bestIteration = 67\n",
            "46:\tloss: 0.7216678\tbest: 0.7232319 (27)\ttotal: 8m 59s\tremaining: 11.5s\n",
            "bestTest = 0.7178928607\n",
            "bestIteration = 21\n",
            "47:\tloss: 0.7178929\tbest: 0.7232319 (27)\ttotal: 9m 19s\tremaining: 0us\n",
            "Estimating final quality...\n",
            "Training on fold [0/5]\n",
            "bestTest = 0.7150606569\n",
            "bestIteration = 22\n",
            "Training on fold [1/5]\n",
            "bestTest = 0.7110411956\n",
            "bestIteration = 145\n",
            "Training on fold [2/5]\n",
            "bestTest = 0.7119078105\n",
            "bestIteration = 104\n",
            "Training on fold [3/5]\n",
            "bestTest = 0.7080990431\n",
            "bestIteration = 175\n",
            "Training on fold [4/5]\n",
            "bestTest = 0.721914557\n",
            "bestIteration = 63\n"
          ]
        }
      ]
    },
    {
      "cell_type": "code",
      "source": [
        "grid_res_95['params']"
      ],
      "metadata": {
        "colab": {
          "base_uri": "https://localhost:8080/"
        },
        "outputId": "f49dedc3-f491-438c-b109-d2173be4f032",
        "id": "WDG0Oc33Kk0_"
      },
      "execution_count": null,
      "outputs": [
        {
          "output_type": "execute_result",
          "data": {
            "text/plain": [
              "{'depth': 8, 'l2_leaf_reg': 3, 'learning_rate': 0.1}"
            ]
          },
          "metadata": {},
          "execution_count": 53
        }
      ]
    },
    {
      "cell_type": "code",
      "metadata": {
        "id": "mrjKHNTLKk1A",
        "colab": {
          "base_uri": "https://localhost:8080/"
        },
        "outputId": "24479f77-c18c-4d8a-e003-c82b60e284af"
      },
      "source": [
        "print('Tuned Gradient boosting accuracy: {0:.2f} % , f1_score: {1:.3f} '.format(accuracy_score(y_test_cat,c_boost_tuned.predict(X_test_pca)) * 100, f1_score(y_test_cat,c_boost_tuned.predict(X_test_pca))))"
      ],
      "execution_count": null,
      "outputs": [
        {
          "output_type": "stream",
          "name": "stdout",
          "text": [
            "Tuned Gradient boosting accuracy: 73.10 % , f1_score: 0.714 \n"
          ]
        }
      ]
    },
    {
      "cell_type": "markdown",
      "metadata": {
        "id": "HMi3CBZ8Kk1B"
      },
      "source": [
        "# Итоги"
      ]
    },
    {
      "cell_type": "markdown",
      "metadata": {
        "id": "i24luhurKk1C"
      },
      "source": [
        "Сравним метрики различных моделей на тестовой выборке"
      ]
    },
    {
      "cell_type": "code",
      "metadata": {
        "id": "2tHjg7zVKk1C"
      },
      "source": [
        "from sklearn.metrics import f1_score, precision_score, recall_score\n",
        "\n",
        "classifiers = {\n",
        "    'Logistic Regression' : clf.predict_proba(X_test)[:,1],\n",
        "    'SVM' : svm.predict(X_test_cat),\n",
        "    'K-nearest Neighbors' : knn_cv.predict(X_test),\n",
        "    'Random Forest' : random_forest.predict_proba(X_test_cat)[:,1],\n",
        "    'CatBoost' : boost.predict_proba(X_test_cat)[:,1],\n",
        "    'PCA Logistic Regression': logreg.predict_proba(X_test_pca)[:,1],\n",
        "    'PCA SVM': svm_pca.predict(X_test_pca),\n",
        "    'PCA K-nearest Neighbors': knn.predict(X_test_pca),\n",
        "    'PCA Random Forest': random_forest_pca.predict_proba(X_test_pca)[:,1],\n",
        "    'PCA CatBoost': c_boost_95.predict_proba(X_test_pca)[:,1],\n",
        "    'Tuned PCA CatBoost': c_boost_tuned.predict_proba(X_test_pca)[:,1],\n",
        "    'Dropped CatBoost' : c_boost_dropped.predict_proba(X_test_cat_2)[:,1],\n",
        "    'Dropped Random Forest' : random_forest_dropped.predict_proba(X_test_cat_2)[:,1],\n",
        "    'Dropped SVM' : svm_dropped.predict(X_test_cat_2)\n",
        "}\n",
        "results=pd.DataFrame(columns=['Accuracy in %','ROC-AUC','F1-score','Precision','Recall'])"
      ],
      "execution_count": null,
      "outputs": []
    },
    {
      "cell_type": "code",
      "metadata": {
        "colab": {
          "base_uri": "https://localhost:8080/",
          "height": 488
        },
        "outputId": "511e2486-96b5-4a6b-bcfc-53592960ed1a",
        "id": "w6Gqp62yKk1D"
      },
      "source": [
        "for method,pred in classifiers.items():\n",
        "    pred_ = pred.round() # для метрик коорые не принимают вероятность принадлежности к классу приводим результат к бинарным значениям\n",
        "    pred_[pred_==0] = -1\n",
        "    results.loc[method]= [100*np.round(accuracy_score(y_test,pred_),decimals=4),\n",
        "                         round(roc_auc_score(y_test,pred),3),\n",
        "                          round(f1_score(y_test,pred_),3),\n",
        "                          round(precision_score(y_test,pred_),3),\n",
        "                          round(recall_score(y_test,pred_),3)]\n",
        "results.sort_values(by=['F1-score','Accuracy in %'],ascending=False).style.highlight_max()"
      ],
      "execution_count": null,
      "outputs": [
        {
          "output_type": "execute_result",
          "data": {
            "text/html": [
              "<style type=\"text/css\">\n",
              "#T_445cf_row0_col0, #T_445cf_row0_col1, #T_445cf_row0_col2, #T_445cf_row1_col1, #T_445cf_row1_col2, #T_445cf_row1_col4, #T_445cf_row11_col3 {\n",
              "  background-color: yellow;\n",
              "}\n",
              "</style>\n",
              "<table id=\"T_445cf_\" class=\"dataframe\">\n",
              "  <thead>\n",
              "    <tr>\n",
              "      <th class=\"blank level0\" >&nbsp;</th>\n",
              "      <th class=\"col_heading level0 col0\" >Accuracy in %</th>\n",
              "      <th class=\"col_heading level0 col1\" >ROC-AUC</th>\n",
              "      <th class=\"col_heading level0 col2\" >F1-score</th>\n",
              "      <th class=\"col_heading level0 col3\" >Precision</th>\n",
              "      <th class=\"col_heading level0 col4\" >Recall</th>\n",
              "    </tr>\n",
              "  </thead>\n",
              "  <tbody>\n",
              "    <tr>\n",
              "      <th id=\"T_445cf_level0_row0\" class=\"row_heading level0 row0\" >Dropped CatBoost</th>\n",
              "      <td id=\"T_445cf_row0_col0\" class=\"data row0 col0\" >74.090000</td>\n",
              "      <td id=\"T_445cf_row0_col1\" class=\"data row0 col1\" >0.806000</td>\n",
              "      <td id=\"T_445cf_row0_col2\" class=\"data row0 col2\" >0.724000</td>\n",
              "      <td id=\"T_445cf_row0_col3\" class=\"data row0 col3\" >0.755000</td>\n",
              "      <td id=\"T_445cf_row0_col4\" class=\"data row0 col4\" >0.696000</td>\n",
              "    </tr>\n",
              "    <tr>\n",
              "      <th id=\"T_445cf_level0_row1\" class=\"row_heading level0 row1\" >CatBoost</th>\n",
              "      <td id=\"T_445cf_row1_col0\" class=\"data row1 col0\" >74.020000</td>\n",
              "      <td id=\"T_445cf_row1_col1\" class=\"data row1 col1\" >0.806000</td>\n",
              "      <td id=\"T_445cf_row1_col2\" class=\"data row1 col2\" >0.724000</td>\n",
              "      <td id=\"T_445cf_row1_col3\" class=\"data row1 col3\" >0.752000</td>\n",
              "      <td id=\"T_445cf_row1_col4\" class=\"data row1 col4\" >0.698000</td>\n",
              "    </tr>\n",
              "    <tr>\n",
              "      <th id=\"T_445cf_level0_row2\" class=\"row_heading level0 row2\" >PCA CatBoost</th>\n",
              "      <td id=\"T_445cf_row2_col0\" class=\"data row2 col0\" >73.810000</td>\n",
              "      <td id=\"T_445cf_row2_col1\" class=\"data row2 col1\" >0.802000</td>\n",
              "      <td id=\"T_445cf_row2_col2\" class=\"data row2 col2\" >0.722000</td>\n",
              "      <td id=\"T_445cf_row2_col3\" class=\"data row2 col3\" >0.751000</td>\n",
              "      <td id=\"T_445cf_row2_col4\" class=\"data row2 col4\" >0.695000</td>\n",
              "    </tr>\n",
              "    <tr>\n",
              "      <th id=\"T_445cf_level0_row3\" class=\"row_heading level0 row3\" >Random Forest</th>\n",
              "      <td id=\"T_445cf_row3_col0\" class=\"data row3 col0\" >73.760000</td>\n",
              "      <td id=\"T_445cf_row3_col1\" class=\"data row3 col1\" >0.805000</td>\n",
              "      <td id=\"T_445cf_row3_col2\" class=\"data row3 col2\" >0.721000</td>\n",
              "      <td id=\"T_445cf_row3_col3\" class=\"data row3 col3\" >0.751000</td>\n",
              "      <td id=\"T_445cf_row3_col4\" class=\"data row3 col4\" >0.692000</td>\n",
              "    </tr>\n",
              "    <tr>\n",
              "      <th id=\"T_445cf_level0_row4\" class=\"row_heading level0 row4\" >PCA Random Forest</th>\n",
              "      <td id=\"T_445cf_row4_col0\" class=\"data row4 col0\" >73.440000</td>\n",
              "      <td id=\"T_445cf_row4_col1\" class=\"data row4 col1\" >0.800000</td>\n",
              "      <td id=\"T_445cf_row4_col2\" class=\"data row4 col2\" >0.719000</td>\n",
              "      <td id=\"T_445cf_row4_col3\" class=\"data row4 col3\" >0.744000</td>\n",
              "      <td id=\"T_445cf_row4_col4\" class=\"data row4 col4\" >0.696000</td>\n",
              "    </tr>\n",
              "    <tr>\n",
              "      <th id=\"T_445cf_level0_row5\" class=\"row_heading level0 row5\" >Dropped Random Forest</th>\n",
              "      <td id=\"T_445cf_row5_col0\" class=\"data row5 col0\" >73.720000</td>\n",
              "      <td id=\"T_445cf_row5_col1\" class=\"data row5 col1\" >0.804000</td>\n",
              "      <td id=\"T_445cf_row5_col2\" class=\"data row5 col2\" >0.718000</td>\n",
              "      <td id=\"T_445cf_row5_col3\" class=\"data row5 col3\" >0.755000</td>\n",
              "      <td id=\"T_445cf_row5_col4\" class=\"data row5 col4\" >0.685000</td>\n",
              "    </tr>\n",
              "    <tr>\n",
              "      <th id=\"T_445cf_level0_row6\" class=\"row_heading level0 row6\" >Tuned PCA CatBoost</th>\n",
              "      <td id=\"T_445cf_row6_col0\" class=\"data row6 col0\" >73.100000</td>\n",
              "      <td id=\"T_445cf_row6_col1\" class=\"data row6 col1\" >0.796000</td>\n",
              "      <td id=\"T_445cf_row6_col2\" class=\"data row6 col2\" >0.714000</td>\n",
              "      <td id=\"T_445cf_row6_col3\" class=\"data row6 col3\" >0.744000</td>\n",
              "      <td id=\"T_445cf_row6_col4\" class=\"data row6 col4\" >0.685000</td>\n",
              "    </tr>\n",
              "    <tr>\n",
              "      <th id=\"T_445cf_level0_row7\" class=\"row_heading level0 row7\" >Logistic Regression</th>\n",
              "      <td id=\"T_445cf_row7_col0\" class=\"data row7 col0\" >73.380000</td>\n",
              "      <td id=\"T_445cf_row7_col1\" class=\"data row7 col1\" >0.796000</td>\n",
              "      <td id=\"T_445cf_row7_col2\" class=\"data row7 col2\" >0.712000</td>\n",
              "      <td id=\"T_445cf_row7_col3\" class=\"data row7 col3\" >0.756000</td>\n",
              "      <td id=\"T_445cf_row7_col4\" class=\"data row7 col4\" >0.672000</td>\n",
              "    </tr>\n",
              "    <tr>\n",
              "      <th id=\"T_445cf_level0_row8\" class=\"row_heading level0 row8\" >Dropped SVM</th>\n",
              "      <td id=\"T_445cf_row8_col0\" class=\"data row8 col0\" >73.570000</td>\n",
              "      <td id=\"T_445cf_row8_col1\" class=\"data row8 col1\" >0.734000</td>\n",
              "      <td id=\"T_445cf_row8_col2\" class=\"data row8 col2\" >0.710000</td>\n",
              "      <td id=\"T_445cf_row8_col3\" class=\"data row8 col3\" >0.766000</td>\n",
              "      <td id=\"T_445cf_row8_col4\" class=\"data row8 col4\" >0.662000</td>\n",
              "    </tr>\n",
              "    <tr>\n",
              "      <th id=\"T_445cf_level0_row9\" class=\"row_heading level0 row9\" >PCA SVM</th>\n",
              "      <td id=\"T_445cf_row9_col0\" class=\"data row9 col0\" >73.530000</td>\n",
              "      <td id=\"T_445cf_row9_col1\" class=\"data row9 col1\" >0.734000</td>\n",
              "      <td id=\"T_445cf_row9_col2\" class=\"data row9 col2\" >0.709000</td>\n",
              "      <td id=\"T_445cf_row9_col3\" class=\"data row9 col3\" >0.766000</td>\n",
              "      <td id=\"T_445cf_row9_col4\" class=\"data row9 col4\" >0.660000</td>\n",
              "    </tr>\n",
              "    <tr>\n",
              "      <th id=\"T_445cf_level0_row10\" class=\"row_heading level0 row10\" >K-nearest Neighbors</th>\n",
              "      <td id=\"T_445cf_row10_col0\" class=\"data row10 col0\" >72.390000</td>\n",
              "      <td id=\"T_445cf_row10_col1\" class=\"data row10 col1\" >0.723000</td>\n",
              "      <td id=\"T_445cf_row10_col2\" class=\"data row10 col2\" >0.705000</td>\n",
              "      <td id=\"T_445cf_row10_col3\" class=\"data row10 col3\" >0.738000</td>\n",
              "      <td id=\"T_445cf_row10_col4\" class=\"data row10 col4\" >0.674000</td>\n",
              "    </tr>\n",
              "    <tr>\n",
              "      <th id=\"T_445cf_level0_row11\" class=\"row_heading level0 row11\" >SVM</th>\n",
              "      <td id=\"T_445cf_row11_col0\" class=\"data row11 col0\" >73.370000</td>\n",
              "      <td id=\"T_445cf_row11_col1\" class=\"data row11 col1\" >0.732000</td>\n",
              "      <td id=\"T_445cf_row11_col2\" class=\"data row11 col2\" >0.702000</td>\n",
              "      <td id=\"T_445cf_row11_col3\" class=\"data row11 col3\" >0.776000</td>\n",
              "      <td id=\"T_445cf_row11_col4\" class=\"data row11 col4\" >0.640000</td>\n",
              "    </tr>\n",
              "    <tr>\n",
              "      <th id=\"T_445cf_level0_row12\" class=\"row_heading level0 row12\" >PCA Logistic Regression</th>\n",
              "      <td id=\"T_445cf_row12_col0\" class=\"data row12 col0\" >72.660000</td>\n",
              "      <td id=\"T_445cf_row12_col1\" class=\"data row12 col1\" >0.792000</td>\n",
              "      <td id=\"T_445cf_row12_col2\" class=\"data row12 col2\" >0.701000</td>\n",
              "      <td id=\"T_445cf_row12_col3\" class=\"data row12 col3\" >0.753000</td>\n",
              "      <td id=\"T_445cf_row12_col4\" class=\"data row12 col4\" >0.655000</td>\n",
              "    </tr>\n",
              "    <tr>\n",
              "      <th id=\"T_445cf_level0_row13\" class=\"row_heading level0 row13\" >PCA K-nearest Neighbors</th>\n",
              "      <td id=\"T_445cf_row13_col0\" class=\"data row13 col0\" >69.850000</td>\n",
              "      <td id=\"T_445cf_row13_col1\" class=\"data row13 col1\" >0.698000</td>\n",
              "      <td id=\"T_445cf_row13_col2\" class=\"data row13 col2\" >0.689000</td>\n",
              "      <td id=\"T_445cf_row13_col3\" class=\"data row13 col3\" >0.694000</td>\n",
              "      <td id=\"T_445cf_row13_col4\" class=\"data row13 col4\" >0.684000</td>\n",
              "    </tr>\n",
              "  </tbody>\n",
              "</table>\n"
            ],
            "text/plain": [
              "<pandas.io.formats.style.Styler at 0x7f6433a3d0d0>"
            ]
          },
          "metadata": {},
          "execution_count": 242
        }
      ]
    },
    {
      "cell_type": "markdown",
      "metadata": {
        "id": "pYyj4CsWKk1E"
      },
      "source": [
        "Лучший результат в целом дает бустинг с выкидыванием признаков. Ниже приведена важность признаков для двух интерпритируемых моделей из топ 3 - бустинга с удалением признаков и без."
      ]
    },
    {
      "cell_type": "code",
      "metadata": {
        "colab": {
          "base_uri": "https://localhost:8080/",
          "height": 300
        },
        "outputId": "e78f5947-1d2e-4679-8482-4419ad16a3d5",
        "id": "3bhQFMP4Kk1F"
      },
      "source": [
        "imp_dcb = pd.DataFrame(X_train_cat_2.columns)\n",
        "imp_dcb.columns = ['Feature']\n",
        "imp_dcb[\"Importance\"] = pd.Series(c_boost_dropped.get_feature_importance())\n",
        "\n",
        "imp_cb = pd.DataFrame(X_train_cat.columns)\n",
        "imp_cb.columns = ['Feature']\n",
        "imp_cb[\"Importance\"] = pd.Series(boost.get_feature_importance())\n",
        "\n",
        "imp_dcb.sort_values(by='Importance', ascending=False)"
      ],
      "execution_count": null,
      "outputs": [
        {
          "output_type": "execute_result",
          "data": {
            "text/html": [
              "\n",
              "  <div id=\"df-08081258-66fa-4600-afa6-5d2535c9abce\">\n",
              "    <div class=\"colab-df-container\">\n",
              "      <div>\n",
              "<style scoped>\n",
              "    .dataframe tbody tr th:only-of-type {\n",
              "        vertical-align: middle;\n",
              "    }\n",
              "\n",
              "    .dataframe tbody tr th {\n",
              "        vertical-align: top;\n",
              "    }\n",
              "\n",
              "    .dataframe thead th {\n",
              "        text-align: right;\n",
              "    }\n",
              "</style>\n",
              "<table border=\"1\" class=\"dataframe\">\n",
              "  <thead>\n",
              "    <tr style=\"text-align: right;\">\n",
              "      <th></th>\n",
              "      <th>Feature</th>\n",
              "      <th>Importance</th>\n",
              "    </tr>\n",
              "  </thead>\n",
              "  <tbody>\n",
              "    <tr>\n",
              "      <th>2</th>\n",
              "      <td>ap_hi</td>\n",
              "      <td>34.668040</td>\n",
              "    </tr>\n",
              "    <tr>\n",
              "      <th>0</th>\n",
              "      <td>age</td>\n",
              "      <td>20.964033</td>\n",
              "    </tr>\n",
              "    <tr>\n",
              "      <th>4</th>\n",
              "      <td>cholesterol</td>\n",
              "      <td>14.123693</td>\n",
              "    </tr>\n",
              "    <tr>\n",
              "      <th>1</th>\n",
              "      <td>bmi</td>\n",
              "      <td>12.415590</td>\n",
              "    </tr>\n",
              "    <tr>\n",
              "      <th>3</th>\n",
              "      <td>ap_lo</td>\n",
              "      <td>6.959925</td>\n",
              "    </tr>\n",
              "    <tr>\n",
              "      <th>5</th>\n",
              "      <td>gluc</td>\n",
              "      <td>4.838314</td>\n",
              "    </tr>\n",
              "    <tr>\n",
              "      <th>7</th>\n",
              "      <td>active</td>\n",
              "      <td>3.405416</td>\n",
              "    </tr>\n",
              "    <tr>\n",
              "      <th>6</th>\n",
              "      <td>smoke</td>\n",
              "      <td>2.624990</td>\n",
              "    </tr>\n",
              "  </tbody>\n",
              "</table>\n",
              "</div>\n",
              "      <button class=\"colab-df-convert\" onclick=\"convertToInteractive('df-08081258-66fa-4600-afa6-5d2535c9abce')\"\n",
              "              title=\"Convert this dataframe to an interactive table.\"\n",
              "              style=\"display:none;\">\n",
              "        \n",
              "  <svg xmlns=\"http://www.w3.org/2000/svg\" height=\"24px\"viewBox=\"0 0 24 24\"\n",
              "       width=\"24px\">\n",
              "    <path d=\"M0 0h24v24H0V0z\" fill=\"none\"/>\n",
              "    <path d=\"M18.56 5.44l.94 2.06.94-2.06 2.06-.94-2.06-.94-.94-2.06-.94 2.06-2.06.94zm-11 1L8.5 8.5l.94-2.06 2.06-.94-2.06-.94L8.5 2.5l-.94 2.06-2.06.94zm10 10l.94 2.06.94-2.06 2.06-.94-2.06-.94-.94-2.06-.94 2.06-2.06.94z\"/><path d=\"M17.41 7.96l-1.37-1.37c-.4-.4-.92-.59-1.43-.59-.52 0-1.04.2-1.43.59L10.3 9.45l-7.72 7.72c-.78.78-.78 2.05 0 2.83L4 21.41c.39.39.9.59 1.41.59.51 0 1.02-.2 1.41-.59l7.78-7.78 2.81-2.81c.8-.78.8-2.07 0-2.86zM5.41 20L4 18.59l7.72-7.72 1.47 1.35L5.41 20z\"/>\n",
              "  </svg>\n",
              "      </button>\n",
              "      \n",
              "  <style>\n",
              "    .colab-df-container {\n",
              "      display:flex;\n",
              "      flex-wrap:wrap;\n",
              "      gap: 12px;\n",
              "    }\n",
              "\n",
              "    .colab-df-convert {\n",
              "      background-color: #E8F0FE;\n",
              "      border: none;\n",
              "      border-radius: 50%;\n",
              "      cursor: pointer;\n",
              "      display: none;\n",
              "      fill: #1967D2;\n",
              "      height: 32px;\n",
              "      padding: 0 0 0 0;\n",
              "      width: 32px;\n",
              "    }\n",
              "\n",
              "    .colab-df-convert:hover {\n",
              "      background-color: #E2EBFA;\n",
              "      box-shadow: 0px 1px 2px rgba(60, 64, 67, 0.3), 0px 1px 3px 1px rgba(60, 64, 67, 0.15);\n",
              "      fill: #174EA6;\n",
              "    }\n",
              "\n",
              "    [theme=dark] .colab-df-convert {\n",
              "      background-color: #3B4455;\n",
              "      fill: #D2E3FC;\n",
              "    }\n",
              "\n",
              "    [theme=dark] .colab-df-convert:hover {\n",
              "      background-color: #434B5C;\n",
              "      box-shadow: 0px 1px 3px 1px rgba(0, 0, 0, 0.15);\n",
              "      filter: drop-shadow(0px 1px 2px rgba(0, 0, 0, 0.3));\n",
              "      fill: #FFFFFF;\n",
              "    }\n",
              "  </style>\n",
              "\n",
              "      <script>\n",
              "        const buttonEl =\n",
              "          document.querySelector('#df-08081258-66fa-4600-afa6-5d2535c9abce button.colab-df-convert');\n",
              "        buttonEl.style.display =\n",
              "          google.colab.kernel.accessAllowed ? 'block' : 'none';\n",
              "\n",
              "        async function convertToInteractive(key) {\n",
              "          const element = document.querySelector('#df-08081258-66fa-4600-afa6-5d2535c9abce');\n",
              "          const dataTable =\n",
              "            await google.colab.kernel.invokeFunction('convertToInteractive',\n",
              "                                                     [key], {});\n",
              "          if (!dataTable) return;\n",
              "\n",
              "          const docLinkHtml = 'Like what you see? Visit the ' +\n",
              "            '<a target=\"_blank\" href=https://colab.research.google.com/notebooks/data_table.ipynb>data table notebook</a>'\n",
              "            + ' to learn more about interactive tables.';\n",
              "          element.innerHTML = '';\n",
              "          dataTable['output_type'] = 'display_data';\n",
              "          await google.colab.output.renderOutput(dataTable, element);\n",
              "          const docLink = document.createElement('div');\n",
              "          docLink.innerHTML = docLinkHtml;\n",
              "          element.appendChild(docLink);\n",
              "        }\n",
              "      </script>\n",
              "    </div>\n",
              "  </div>\n",
              "  "
            ],
            "text/plain": [
              "       Feature  Importance\n",
              "2        ap_hi   34.668040\n",
              "0          age   20.964033\n",
              "4  cholesterol   14.123693\n",
              "1          bmi   12.415590\n",
              "3        ap_lo    6.959925\n",
              "5         gluc    4.838314\n",
              "7       active    3.405416\n",
              "6        smoke    2.624990"
            ]
          },
          "metadata": {},
          "execution_count": 167
        }
      ]
    },
    {
      "cell_type": "code",
      "metadata": {
        "colab": {
          "base_uri": "https://localhost:8080/",
          "height": 488
        },
        "outputId": "e79e8566-adbd-4957-9373-1fbdfdefe0f7",
        "id": "rEvqaAlsKk1G"
      },
      "source": [
        "imp_cb.sort_values(by='Importance', ascending=False)"
      ],
      "execution_count": null,
      "outputs": [
        {
          "output_type": "execute_result",
          "data": {
            "text/html": [
              "\n",
              "  <div id=\"df-a29aa4ca-3dfc-463b-9e79-78b95810d86b\">\n",
              "    <div class=\"colab-df-container\">\n",
              "      <div>\n",
              "<style scoped>\n",
              "    .dataframe tbody tr th:only-of-type {\n",
              "        vertical-align: middle;\n",
              "    }\n",
              "\n",
              "    .dataframe tbody tr th {\n",
              "        vertical-align: top;\n",
              "    }\n",
              "\n",
              "    .dataframe thead th {\n",
              "        text-align: right;\n",
              "    }\n",
              "</style>\n",
              "<table border=\"1\" class=\"dataframe\">\n",
              "  <thead>\n",
              "    <tr style=\"text-align: right;\">\n",
              "      <th></th>\n",
              "      <th>Feature</th>\n",
              "      <th>Importance</th>\n",
              "    </tr>\n",
              "  </thead>\n",
              "  <tbody>\n",
              "    <tr>\n",
              "      <th>5</th>\n",
              "      <td>ap_hi</td>\n",
              "      <td>29.628430</td>\n",
              "    </tr>\n",
              "    <tr>\n",
              "      <th>0</th>\n",
              "      <td>age</td>\n",
              "      <td>19.677593</td>\n",
              "    </tr>\n",
              "    <tr>\n",
              "      <th>7</th>\n",
              "      <td>cholesterol</td>\n",
              "      <td>12.331577</td>\n",
              "    </tr>\n",
              "    <tr>\n",
              "      <th>4</th>\n",
              "      <td>bmi</td>\n",
              "      <td>7.765726</td>\n",
              "    </tr>\n",
              "    <tr>\n",
              "      <th>3</th>\n",
              "      <td>weight</td>\n",
              "      <td>6.068187</td>\n",
              "    </tr>\n",
              "    <tr>\n",
              "      <th>6</th>\n",
              "      <td>ap_lo</td>\n",
              "      <td>5.562351</td>\n",
              "    </tr>\n",
              "    <tr>\n",
              "      <th>2</th>\n",
              "      <td>height</td>\n",
              "      <td>5.546132</td>\n",
              "    </tr>\n",
              "    <tr>\n",
              "      <th>8</th>\n",
              "      <td>gluc</td>\n",
              "      <td>3.902129</td>\n",
              "    </tr>\n",
              "    <tr>\n",
              "      <th>11</th>\n",
              "      <td>active</td>\n",
              "      <td>2.564724</td>\n",
              "    </tr>\n",
              "    <tr>\n",
              "      <th>13</th>\n",
              "      <td>blood_pressure</td>\n",
              "      <td>1.591649</td>\n",
              "    </tr>\n",
              "    <tr>\n",
              "      <th>1</th>\n",
              "      <td>gender</td>\n",
              "      <td>1.591479</td>\n",
              "    </tr>\n",
              "    <tr>\n",
              "      <th>10</th>\n",
              "      <td>alco</td>\n",
              "      <td>1.575782</td>\n",
              "    </tr>\n",
              "    <tr>\n",
              "      <th>9</th>\n",
              "      <td>smoke</td>\n",
              "      <td>1.440357</td>\n",
              "    </tr>\n",
              "    <tr>\n",
              "      <th>12</th>\n",
              "      <td>cat_bmi</td>\n",
              "      <td>0.753883</td>\n",
              "    </tr>\n",
              "  </tbody>\n",
              "</table>\n",
              "</div>\n",
              "      <button class=\"colab-df-convert\" onclick=\"convertToInteractive('df-a29aa4ca-3dfc-463b-9e79-78b95810d86b')\"\n",
              "              title=\"Convert this dataframe to an interactive table.\"\n",
              "              style=\"display:none;\">\n",
              "        \n",
              "  <svg xmlns=\"http://www.w3.org/2000/svg\" height=\"24px\"viewBox=\"0 0 24 24\"\n",
              "       width=\"24px\">\n",
              "    <path d=\"M0 0h24v24H0V0z\" fill=\"none\"/>\n",
              "    <path d=\"M18.56 5.44l.94 2.06.94-2.06 2.06-.94-2.06-.94-.94-2.06-.94 2.06-2.06.94zm-11 1L8.5 8.5l.94-2.06 2.06-.94-2.06-.94L8.5 2.5l-.94 2.06-2.06.94zm10 10l.94 2.06.94-2.06 2.06-.94-2.06-.94-.94-2.06-.94 2.06-2.06.94z\"/><path d=\"M17.41 7.96l-1.37-1.37c-.4-.4-.92-.59-1.43-.59-.52 0-1.04.2-1.43.59L10.3 9.45l-7.72 7.72c-.78.78-.78 2.05 0 2.83L4 21.41c.39.39.9.59 1.41.59.51 0 1.02-.2 1.41-.59l7.78-7.78 2.81-2.81c.8-.78.8-2.07 0-2.86zM5.41 20L4 18.59l7.72-7.72 1.47 1.35L5.41 20z\"/>\n",
              "  </svg>\n",
              "      </button>\n",
              "      \n",
              "  <style>\n",
              "    .colab-df-container {\n",
              "      display:flex;\n",
              "      flex-wrap:wrap;\n",
              "      gap: 12px;\n",
              "    }\n",
              "\n",
              "    .colab-df-convert {\n",
              "      background-color: #E8F0FE;\n",
              "      border: none;\n",
              "      border-radius: 50%;\n",
              "      cursor: pointer;\n",
              "      display: none;\n",
              "      fill: #1967D2;\n",
              "      height: 32px;\n",
              "      padding: 0 0 0 0;\n",
              "      width: 32px;\n",
              "    }\n",
              "\n",
              "    .colab-df-convert:hover {\n",
              "      background-color: #E2EBFA;\n",
              "      box-shadow: 0px 1px 2px rgba(60, 64, 67, 0.3), 0px 1px 3px 1px rgba(60, 64, 67, 0.15);\n",
              "      fill: #174EA6;\n",
              "    }\n",
              "\n",
              "    [theme=dark] .colab-df-convert {\n",
              "      background-color: #3B4455;\n",
              "      fill: #D2E3FC;\n",
              "    }\n",
              "\n",
              "    [theme=dark] .colab-df-convert:hover {\n",
              "      background-color: #434B5C;\n",
              "      box-shadow: 0px 1px 3px 1px rgba(0, 0, 0, 0.15);\n",
              "      filter: drop-shadow(0px 1px 2px rgba(0, 0, 0, 0.3));\n",
              "      fill: #FFFFFF;\n",
              "    }\n",
              "  </style>\n",
              "\n",
              "      <script>\n",
              "        const buttonEl =\n",
              "          document.querySelector('#df-a29aa4ca-3dfc-463b-9e79-78b95810d86b button.colab-df-convert');\n",
              "        buttonEl.style.display =\n",
              "          google.colab.kernel.accessAllowed ? 'block' : 'none';\n",
              "\n",
              "        async function convertToInteractive(key) {\n",
              "          const element = document.querySelector('#df-a29aa4ca-3dfc-463b-9e79-78b95810d86b');\n",
              "          const dataTable =\n",
              "            await google.colab.kernel.invokeFunction('convertToInteractive',\n",
              "                                                     [key], {});\n",
              "          if (!dataTable) return;\n",
              "\n",
              "          const docLinkHtml = 'Like what you see? Visit the ' +\n",
              "            '<a target=\"_blank\" href=https://colab.research.google.com/notebooks/data_table.ipynb>data table notebook</a>'\n",
              "            + ' to learn more about interactive tables.';\n",
              "          element.innerHTML = '';\n",
              "          dataTable['output_type'] = 'display_data';\n",
              "          await google.colab.output.renderOutput(dataTable, element);\n",
              "          const docLink = document.createElement('div');\n",
              "          docLink.innerHTML = docLinkHtml;\n",
              "          element.appendChild(docLink);\n",
              "        }\n",
              "      </script>\n",
              "    </div>\n",
              "  </div>\n",
              "  "
            ],
            "text/plain": [
              "           Feature  Importance\n",
              "5            ap_hi   29.628430\n",
              "0              age   19.677593\n",
              "7      cholesterol   12.331577\n",
              "4              bmi    7.765726\n",
              "3           weight    6.068187\n",
              "6            ap_lo    5.562351\n",
              "2           height    5.546132\n",
              "8             gluc    3.902129\n",
              "11          active    2.564724\n",
              "13  blood_pressure    1.591649\n",
              "1           gender    1.591479\n",
              "10            alco    1.575782\n",
              "9            smoke    1.440357\n",
              "12         cat_bmi    0.753883"
            ]
          },
          "metadata": {},
          "execution_count": 168
        }
      ]
    },
    {
      "cell_type": "markdown",
      "source": [
        "# Ансамбль"
      ],
      "metadata": {
        "id": "vJPP77ypX7M7"
      }
    },
    {
      "cell_type": "code",
      "source": [
        "class VotingClassifier():\n",
        "  def __init__(self, classifiers, weights=None,voting = 'hard'):\n",
        "\n",
        "        self.classifiers = classifiers\n",
        "        self.voting = voting\n",
        "        self.weights = weights\n",
        "\n",
        "  def fit(self, x, y): #если надо переучивать\n",
        "      \n",
        "        self.x_train = x\n",
        "        self.y_train = y\n",
        "        for i in range(len(self.classifiers)):\n",
        "          self.classifiers[i].fit(x[i],y[i])\n",
        "        return self\n",
        "        \n",
        "  def predict(self, x):\n",
        "        \n",
        "        if self.voting == 'soft':\n",
        "          pred_proba = np.asarray([classifier.predict_proba(X)[:,1] for classifier, X in zip(self.classifiers, x)])\n",
        "          pred = np.sign(np.average(pred_proba, axis=0, weights = self.weights))\n",
        "        elif self.voting == 'hard':\n",
        "          pred_ = np.asarray([classifier.predict(X) for classifier, X in zip(self.classifiers, x)])\n",
        "          pred = np.sign(np.average(pred_, axis=0, weights = self.weights))\n",
        "        return pred"
      ],
      "metadata": {
        "id": "w5HGY2CPalZN"
      },
      "execution_count": null,
      "outputs": []
    },
    {
      "cell_type": "markdown",
      "source": [
        "Возьмем топ 3"
      ],
      "metadata": {
        "id": "Hzx_4aQgsRQg"
      }
    },
    {
      "cell_type": "code",
      "source": [
        "top_classifiers = [c_boost_dropped,boost,c_boost_95]\n",
        "test_sets = [X_test_cat_2,X_test_cat,X_test_pca]"
      ],
      "metadata": {
        "id": "2-rCAOS8kNuS"
      },
      "execution_count": null,
      "outputs": []
    },
    {
      "cell_type": "code",
      "source": [
        "hard_vc = VotingClassifier(top_classifiers)\n",
        "hard_pred = hard_vc.predict(test_sets)\n",
        "print('Hard vote ensemble accuracy: {0:.2f} % , f1_score: {1:.3f} '.format(accuracy_score(y_test,hard_pred) * 100, f1_score(y_test,hard_pred)))"
      ],
      "metadata": {
        "colab": {
          "base_uri": "https://localhost:8080/"
        },
        "id": "qdjqq7XElu0D",
        "outputId": "a7040ef6-1599-4570-924a-c1b32d0b7af9"
      },
      "execution_count": null,
      "outputs": [
        {
          "output_type": "stream",
          "name": "stdout",
          "text": [
            "Hard vote ensemble accuracy: 74.15 % , f1_score: 0.725 \n"
          ]
        }
      ]
    },
    {
      "cell_type": "code",
      "source": [
        "soft_vc = VotingClassifier(top_classifiers,voting='soft')\n",
        "soft_pred = hard_vc.predict(test_sets)\n",
        "print('Soft vote ensemble accuracy: {0:.2f} % , f1_score: {1:.3f} '.format(accuracy_score(y_test,soft_pred) * 100, f1_score(y_test,soft_pred)))"
      ],
      "metadata": {
        "colab": {
          "base_uri": "https://localhost:8080/"
        },
        "id": "9NeXNeNAqjD3",
        "outputId": "86355317-4e2e-4a30-9285-b6d0ceeeef36"
      },
      "execution_count": null,
      "outputs": [
        {
          "output_type": "stream",
          "name": "stdout",
          "text": [
            "Soft vote ensemble accuracy: 74.15 % , f1_score: 0.725 \n"
          ]
        }
      ]
    },
    {
      "cell_type": "code",
      "source": [
        "classifiers['Hard vote ensemble'] = hard_pred\n",
        "for method,pred in classifiers.items():\n",
        "    pred_ = pred.round() # для метрик коорые не принимают вероятность принадлежности к классу приводим результат к бинарным значениям\n",
        "    pred_[pred_==0] = -1\n",
        "    results.loc[method]= [100*np.round(accuracy_score(y_test,pred_),decimals=4),\n",
        "                         round(roc_auc_score(y_test,pred),3),\n",
        "                          round(f1_score(y_test,pred_),3),\n",
        "                          round(precision_score(y_test,pred_),3),\n",
        "                          round(recall_score(y_test,pred_),3)]\n",
        "results.sort_values(by=['F1-score','Accuracy in %'],ascending=False).style.highlight_max()"
      ],
      "metadata": {
        "colab": {
          "base_uri": "https://localhost:8080/",
          "height": 520
        },
        "id": "IDlNU_H2ripm",
        "outputId": "5dca0fc3-5503-4484-c82a-fcf238ecab09"
      },
      "execution_count": null,
      "outputs": [
        {
          "output_type": "execute_result",
          "data": {
            "text/html": [
              "<style type=\"text/css\">\n",
              "#T_065df_row0_col0, #T_065df_row0_col2, #T_065df_row1_col1, #T_065df_row2_col1, #T_065df_row2_col4, #T_065df_row12_col3 {\n",
              "  background-color: yellow;\n",
              "}\n",
              "</style>\n",
              "<table id=\"T_065df_\" class=\"dataframe\">\n",
              "  <thead>\n",
              "    <tr>\n",
              "      <th class=\"blank level0\" >&nbsp;</th>\n",
              "      <th class=\"col_heading level0 col0\" >Accuracy in %</th>\n",
              "      <th class=\"col_heading level0 col1\" >ROC-AUC</th>\n",
              "      <th class=\"col_heading level0 col2\" >F1-score</th>\n",
              "      <th class=\"col_heading level0 col3\" >Precision</th>\n",
              "      <th class=\"col_heading level0 col4\" >Recall</th>\n",
              "    </tr>\n",
              "  </thead>\n",
              "  <tbody>\n",
              "    <tr>\n",
              "      <th id=\"T_065df_level0_row0\" class=\"row_heading level0 row0\" >Hard vote ensemble</th>\n",
              "      <td id=\"T_065df_row0_col0\" class=\"data row0 col0\" >74.150000</td>\n",
              "      <td id=\"T_065df_row0_col1\" class=\"data row0 col1\" >0.741000</td>\n",
              "      <td id=\"T_065df_row0_col2\" class=\"data row0 col2\" >0.725000</td>\n",
              "      <td id=\"T_065df_row0_col3\" class=\"data row0 col3\" >0.755000</td>\n",
              "      <td id=\"T_065df_row0_col4\" class=\"data row0 col4\" >0.697000</td>\n",
              "    </tr>\n",
              "    <tr>\n",
              "      <th id=\"T_065df_level0_row1\" class=\"row_heading level0 row1\" >Dropped CatBoost</th>\n",
              "      <td id=\"T_065df_row1_col0\" class=\"data row1 col0\" >74.090000</td>\n",
              "      <td id=\"T_065df_row1_col1\" class=\"data row1 col1\" >0.806000</td>\n",
              "      <td id=\"T_065df_row1_col2\" class=\"data row1 col2\" >0.724000</td>\n",
              "      <td id=\"T_065df_row1_col3\" class=\"data row1 col3\" >0.755000</td>\n",
              "      <td id=\"T_065df_row1_col4\" class=\"data row1 col4\" >0.696000</td>\n",
              "    </tr>\n",
              "    <tr>\n",
              "      <th id=\"T_065df_level0_row2\" class=\"row_heading level0 row2\" >CatBoost</th>\n",
              "      <td id=\"T_065df_row2_col0\" class=\"data row2 col0\" >74.020000</td>\n",
              "      <td id=\"T_065df_row2_col1\" class=\"data row2 col1\" >0.806000</td>\n",
              "      <td id=\"T_065df_row2_col2\" class=\"data row2 col2\" >0.724000</td>\n",
              "      <td id=\"T_065df_row2_col3\" class=\"data row2 col3\" >0.752000</td>\n",
              "      <td id=\"T_065df_row2_col4\" class=\"data row2 col4\" >0.698000</td>\n",
              "    </tr>\n",
              "    <tr>\n",
              "      <th id=\"T_065df_level0_row3\" class=\"row_heading level0 row3\" >PCA CatBoost</th>\n",
              "      <td id=\"T_065df_row3_col0\" class=\"data row3 col0\" >73.810000</td>\n",
              "      <td id=\"T_065df_row3_col1\" class=\"data row3 col1\" >0.802000</td>\n",
              "      <td id=\"T_065df_row3_col2\" class=\"data row3 col2\" >0.722000</td>\n",
              "      <td id=\"T_065df_row3_col3\" class=\"data row3 col3\" >0.751000</td>\n",
              "      <td id=\"T_065df_row3_col4\" class=\"data row3 col4\" >0.695000</td>\n",
              "    </tr>\n",
              "    <tr>\n",
              "      <th id=\"T_065df_level0_row4\" class=\"row_heading level0 row4\" >Random Forest</th>\n",
              "      <td id=\"T_065df_row4_col0\" class=\"data row4 col0\" >73.760000</td>\n",
              "      <td id=\"T_065df_row4_col1\" class=\"data row4 col1\" >0.805000</td>\n",
              "      <td id=\"T_065df_row4_col2\" class=\"data row4 col2\" >0.721000</td>\n",
              "      <td id=\"T_065df_row4_col3\" class=\"data row4 col3\" >0.751000</td>\n",
              "      <td id=\"T_065df_row4_col4\" class=\"data row4 col4\" >0.692000</td>\n",
              "    </tr>\n",
              "    <tr>\n",
              "      <th id=\"T_065df_level0_row5\" class=\"row_heading level0 row5\" >PCA Random Forest</th>\n",
              "      <td id=\"T_065df_row5_col0\" class=\"data row5 col0\" >73.440000</td>\n",
              "      <td id=\"T_065df_row5_col1\" class=\"data row5 col1\" >0.800000</td>\n",
              "      <td id=\"T_065df_row5_col2\" class=\"data row5 col2\" >0.719000</td>\n",
              "      <td id=\"T_065df_row5_col3\" class=\"data row5 col3\" >0.744000</td>\n",
              "      <td id=\"T_065df_row5_col4\" class=\"data row5 col4\" >0.696000</td>\n",
              "    </tr>\n",
              "    <tr>\n",
              "      <th id=\"T_065df_level0_row6\" class=\"row_heading level0 row6\" >Dropped Random Forest</th>\n",
              "      <td id=\"T_065df_row6_col0\" class=\"data row6 col0\" >73.720000</td>\n",
              "      <td id=\"T_065df_row6_col1\" class=\"data row6 col1\" >0.804000</td>\n",
              "      <td id=\"T_065df_row6_col2\" class=\"data row6 col2\" >0.718000</td>\n",
              "      <td id=\"T_065df_row6_col3\" class=\"data row6 col3\" >0.755000</td>\n",
              "      <td id=\"T_065df_row6_col4\" class=\"data row6 col4\" >0.685000</td>\n",
              "    </tr>\n",
              "    <tr>\n",
              "      <th id=\"T_065df_level0_row7\" class=\"row_heading level0 row7\" >Tuned PCA CatBoost</th>\n",
              "      <td id=\"T_065df_row7_col0\" class=\"data row7 col0\" >73.100000</td>\n",
              "      <td id=\"T_065df_row7_col1\" class=\"data row7 col1\" >0.796000</td>\n",
              "      <td id=\"T_065df_row7_col2\" class=\"data row7 col2\" >0.714000</td>\n",
              "      <td id=\"T_065df_row7_col3\" class=\"data row7 col3\" >0.744000</td>\n",
              "      <td id=\"T_065df_row7_col4\" class=\"data row7 col4\" >0.685000</td>\n",
              "    </tr>\n",
              "    <tr>\n",
              "      <th id=\"T_065df_level0_row8\" class=\"row_heading level0 row8\" >Logistic Regression</th>\n",
              "      <td id=\"T_065df_row8_col0\" class=\"data row8 col0\" >73.380000</td>\n",
              "      <td id=\"T_065df_row8_col1\" class=\"data row8 col1\" >0.796000</td>\n",
              "      <td id=\"T_065df_row8_col2\" class=\"data row8 col2\" >0.712000</td>\n",
              "      <td id=\"T_065df_row8_col3\" class=\"data row8 col3\" >0.756000</td>\n",
              "      <td id=\"T_065df_row8_col4\" class=\"data row8 col4\" >0.672000</td>\n",
              "    </tr>\n",
              "    <tr>\n",
              "      <th id=\"T_065df_level0_row9\" class=\"row_heading level0 row9\" >Dropped SVM</th>\n",
              "      <td id=\"T_065df_row9_col0\" class=\"data row9 col0\" >73.570000</td>\n",
              "      <td id=\"T_065df_row9_col1\" class=\"data row9 col1\" >0.734000</td>\n",
              "      <td id=\"T_065df_row9_col2\" class=\"data row9 col2\" >0.710000</td>\n",
              "      <td id=\"T_065df_row9_col3\" class=\"data row9 col3\" >0.766000</td>\n",
              "      <td id=\"T_065df_row9_col4\" class=\"data row9 col4\" >0.662000</td>\n",
              "    </tr>\n",
              "    <tr>\n",
              "      <th id=\"T_065df_level0_row10\" class=\"row_heading level0 row10\" >PCA SVM</th>\n",
              "      <td id=\"T_065df_row10_col0\" class=\"data row10 col0\" >73.530000</td>\n",
              "      <td id=\"T_065df_row10_col1\" class=\"data row10 col1\" >0.734000</td>\n",
              "      <td id=\"T_065df_row10_col2\" class=\"data row10 col2\" >0.709000</td>\n",
              "      <td id=\"T_065df_row10_col3\" class=\"data row10 col3\" >0.766000</td>\n",
              "      <td id=\"T_065df_row10_col4\" class=\"data row10 col4\" >0.660000</td>\n",
              "    </tr>\n",
              "    <tr>\n",
              "      <th id=\"T_065df_level0_row11\" class=\"row_heading level0 row11\" >K-nearest Neighbors</th>\n",
              "      <td id=\"T_065df_row11_col0\" class=\"data row11 col0\" >72.390000</td>\n",
              "      <td id=\"T_065df_row11_col1\" class=\"data row11 col1\" >0.723000</td>\n",
              "      <td id=\"T_065df_row11_col2\" class=\"data row11 col2\" >0.705000</td>\n",
              "      <td id=\"T_065df_row11_col3\" class=\"data row11 col3\" >0.738000</td>\n",
              "      <td id=\"T_065df_row11_col4\" class=\"data row11 col4\" >0.674000</td>\n",
              "    </tr>\n",
              "    <tr>\n",
              "      <th id=\"T_065df_level0_row12\" class=\"row_heading level0 row12\" >SVM</th>\n",
              "      <td id=\"T_065df_row12_col0\" class=\"data row12 col0\" >73.370000</td>\n",
              "      <td id=\"T_065df_row12_col1\" class=\"data row12 col1\" >0.732000</td>\n",
              "      <td id=\"T_065df_row12_col2\" class=\"data row12 col2\" >0.702000</td>\n",
              "      <td id=\"T_065df_row12_col3\" class=\"data row12 col3\" >0.776000</td>\n",
              "      <td id=\"T_065df_row12_col4\" class=\"data row12 col4\" >0.640000</td>\n",
              "    </tr>\n",
              "    <tr>\n",
              "      <th id=\"T_065df_level0_row13\" class=\"row_heading level0 row13\" >PCA Logistic Regression</th>\n",
              "      <td id=\"T_065df_row13_col0\" class=\"data row13 col0\" >72.660000</td>\n",
              "      <td id=\"T_065df_row13_col1\" class=\"data row13 col1\" >0.792000</td>\n",
              "      <td id=\"T_065df_row13_col2\" class=\"data row13 col2\" >0.701000</td>\n",
              "      <td id=\"T_065df_row13_col3\" class=\"data row13 col3\" >0.753000</td>\n",
              "      <td id=\"T_065df_row13_col4\" class=\"data row13 col4\" >0.655000</td>\n",
              "    </tr>\n",
              "    <tr>\n",
              "      <th id=\"T_065df_level0_row14\" class=\"row_heading level0 row14\" >PCA K-nearest Neighbors</th>\n",
              "      <td id=\"T_065df_row14_col0\" class=\"data row14 col0\" >69.850000</td>\n",
              "      <td id=\"T_065df_row14_col1\" class=\"data row14 col1\" >0.698000</td>\n",
              "      <td id=\"T_065df_row14_col2\" class=\"data row14 col2\" >0.689000</td>\n",
              "      <td id=\"T_065df_row14_col3\" class=\"data row14 col3\" >0.694000</td>\n",
              "      <td id=\"T_065df_row14_col4\" class=\"data row14 col4\" >0.684000</td>\n",
              "    </tr>\n",
              "  </tbody>\n",
              "</table>\n"
            ],
            "text/plain": [
              "<pandas.io.formats.style.Styler at 0x7f6433a5a850>"
            ]
          },
          "metadata": {},
          "execution_count": 260
        }
      ]
    },
    {
      "cell_type": "markdown",
      "source": [
        "# Тест Уилкоксона для сравнения моделей"
      ],
      "metadata": {
        "id": "s_h5MA_ssqek"
      }
    },
    {
      "cell_type": "markdown",
      "source": [
        "Обучим топ 5 моделей (из оценки на отложенной выборке) на 10 фолдах из всей выборки и сравним точность и f-меры моделей с ансамблем."
      ],
      "metadata": {
        "id": "-PFGE6TqMw2z"
      }
    },
    {
      "cell_type": "code",
      "source": [
        "y = y_train.append(y_test)\n",
        "X_cat = X_train_cat.append(X_test_cat)\n",
        "X_cat_2 = X_train_cat_2.append(X_test_cat_2)\n",
        "X_pca = np.append(X_train_pca,X_test_pca,axis=0)"
      ],
      "metadata": {
        "id": "wlJ2hF4Xsv30"
      },
      "execution_count": null,
      "outputs": []
    },
    {
      "cell_type": "code",
      "source": [
        "from sklearn.model_selection import KFold\n",
        "accuracies = []\n",
        "f1_scores = []\n",
        "cv = KFold(n_splits=10)"
      ],
      "metadata": {
        "id": "XjUfXRVAzAih"
      },
      "execution_count": null,
      "outputs": []
    },
    {
      "cell_type": "code",
      "source": [
        "for train_index, test_index in cv.split(X_cat):\n",
        "  X_train_kfolds_cat, X_test_kfolds_cat = X_cat.iloc[train_index], X_cat.iloc[test_index]\n",
        "  y_train_kfolds, y_test_kfolds = y.iloc[train_index], y.iloc[test_index]\n",
        "  boost.fit(X_train_kfolds_cat,y_train_kfolds)#обычный бустинг\n",
        "  pred = boost.predict(X_test_kfolds_cat)\n",
        "  accuracies.append(accuracy_score(y_test_kfolds,pred))\n",
        "  f1_scores.append(f1_score(y_test_kfolds,pred))\n",
        "  X_train_kfolds_dropped, X_test_kfolds_dropped = X_cat_2.iloc[train_index], X_cat_2.iloc[test_index]\n",
        "  c_boost_dropped.fit(X_train_kfolds_dropped,y_train_kfolds)#бустинг после исключения признаков\n",
        "  pred = c_boost_dropped.predict(X_test_kfolds_dropped)\n",
        "  accuracies.append(accuracy_score(y_test_kfolds,pred))\n",
        "  f1_scores.append(f1_score(y_test_kfolds,pred))\n",
        "  X_train_kfolds_pca, X_test_kfolds_pca = X_pca[train_index], X_pca[test_index]\n",
        "  c_boost_95.fit(X_train_kfolds_pca,y_train_kfolds)#бустинг после PCA\n",
        "  pred = c_boost_95.predict(X_test_kfolds_pca)\n",
        "  accuracies.append(accuracy_score(y_test_kfolds,pred))\n",
        "  f1_scores.append(f1_score(y_test_kfolds,pred))\n",
        "  random_forest.fit(X_train_kfolds_cat,y_train_kfolds)#обычный RandomForest\n",
        "  pred = random_forest.predict(X_test_kfolds_cat)\n",
        "  accuracies.append(accuracy_score(y_test_kfolds,pred))\n",
        "  f1_scores.append(f1_score(y_test_kfolds,pred))\n",
        "  test_sets_kfolds = [X_test_kfolds_dropped,X_test_kfolds_cat,X_test_kfolds_pca]\n",
        "  top_classifiers = [c_boost_dropped,boost,c_boost_95]\n",
        "  hard_vc = VotingClassifier(top_classifiers)#ансамбль\n",
        "  pred = hard_vc.predict(test_sets_kfolds)\n",
        "  accuracies.append(accuracy_score(y_test_kfolds,pred))\n",
        "  f1_scores.append(f1_score(y_test_kfolds,pred))"
      ],
      "metadata": {
        "colab": {
          "base_uri": "https://localhost:8080/"
        },
        "id": "Nf6-Yh7azuhy",
        "outputId": "cbd40900-aafa-435f-f351-9a104c627f93"
      },
      "execution_count": null,
      "outputs": [
        {
          "output_type": "stream",
          "name": "stderr",
          "text": [
            "Custom logger is already specified. Specify more than one logger at same time is not thread safe."
          ]
        }
      ]
    },
    {
      "cell_type": "code",
      "source": [
        "accuracies = np.asarray(accuracies)\n",
        "f1_scores = np.asarray(f1_scores)"
      ],
      "metadata": {
        "id": "uzWdV1mAB0Q5"
      },
      "execution_count": null,
      "outputs": []
    },
    {
      "cell_type": "code",
      "source": [
        "accuracies = accuracies.reshape(10,5)\n",
        "f1_scores = f1_scores.reshape(10,5)"
      ],
      "metadata": {
        "id": "3ggT29uuB7WG"
      },
      "execution_count": null,
      "outputs": []
    },
    {
      "cell_type": "markdown",
      "source": [
        "Тест для точности"
      ],
      "metadata": {
        "id": "2MNPjNXiGB7V"
      }
    },
    {
      "cell_type": "code",
      "source": [
        "from scipy.stats import wilcoxon\n",
        "\n",
        "alpha = 0.05\n",
        "names = ['Catboost','Dropped Catboost','PCA Catboost', 'RandomForest','Ensemble']\n",
        "pairs = []\n",
        "ps = []\n",
        "verdict = []\n",
        "for column in range(len(names)-1):\n",
        "  stat, p = wilcoxon(accuracies[:,column],accuracies[:,4])\n",
        "  pairs.append(names[column])\n",
        "  ps.append(p)\n",
        "  if p <= alpha:\n",
        "\t  verdict.append('Different distribution (reject H0)') # нулевая гипотеза - модели не отличаются\n",
        "  else:\n",
        "\t  verdict.append('Same distribution (fail to reject H0)')\n",
        "     \n",
        "results=pd.DataFrame(columns=['Models','p-value','Verdict (accuracy)'])\n",
        "results['Models'] = pairs\n",
        "results['p-value'] = ps\n",
        "results['Verdict (accuracy)'] = verdict\n",
        "results.sort_values(by='p-value',ascending=True)"
      ],
      "metadata": {
        "colab": {
          "base_uri": "https://localhost:8080/",
          "height": 175
        },
        "id": "wFgP6i5uEWAx",
        "outputId": "d9009925-bbec-4615-fe1c-8a7632a922f4"
      },
      "execution_count": null,
      "outputs": [
        {
          "output_type": "execute_result",
          "data": {
            "text/html": [
              "\n",
              "  <div id=\"df-9d2a5279-e328-4112-a095-2906abd36bb7\">\n",
              "    <div class=\"colab-df-container\">\n",
              "      <div>\n",
              "<style scoped>\n",
              "    .dataframe tbody tr th:only-of-type {\n",
              "        vertical-align: middle;\n",
              "    }\n",
              "\n",
              "    .dataframe tbody tr th {\n",
              "        vertical-align: top;\n",
              "    }\n",
              "\n",
              "    .dataframe thead th {\n",
              "        text-align: right;\n",
              "    }\n",
              "</style>\n",
              "<table border=\"1\" class=\"dataframe\">\n",
              "  <thead>\n",
              "    <tr style=\"text-align: right;\">\n",
              "      <th></th>\n",
              "      <th>Models</th>\n",
              "      <th>p-value</th>\n",
              "      <th>Verdict (accuracy)</th>\n",
              "    </tr>\n",
              "  </thead>\n",
              "  <tbody>\n",
              "    <tr>\n",
              "      <th>2</th>\n",
              "      <td>PCA Catboost</td>\n",
              "      <td>0.006910</td>\n",
              "      <td>Different distribution (reject H0)</td>\n",
              "    </tr>\n",
              "    <tr>\n",
              "      <th>3</th>\n",
              "      <td>RandomForest</td>\n",
              "      <td>0.015156</td>\n",
              "      <td>Different distribution (reject H0)</td>\n",
              "    </tr>\n",
              "    <tr>\n",
              "      <th>1</th>\n",
              "      <td>Dropped Catboost</td>\n",
              "      <td>0.212720</td>\n",
              "      <td>Same distribution (fail to reject H0)</td>\n",
              "    </tr>\n",
              "    <tr>\n",
              "      <th>0</th>\n",
              "      <td>Catboost</td>\n",
              "      <td>0.918707</td>\n",
              "      <td>Same distribution (fail to reject H0)</td>\n",
              "    </tr>\n",
              "  </tbody>\n",
              "</table>\n",
              "</div>\n",
              "      <button class=\"colab-df-convert\" onclick=\"convertToInteractive('df-9d2a5279-e328-4112-a095-2906abd36bb7')\"\n",
              "              title=\"Convert this dataframe to an interactive table.\"\n",
              "              style=\"display:none;\">\n",
              "        \n",
              "  <svg xmlns=\"http://www.w3.org/2000/svg\" height=\"24px\"viewBox=\"0 0 24 24\"\n",
              "       width=\"24px\">\n",
              "    <path d=\"M0 0h24v24H0V0z\" fill=\"none\"/>\n",
              "    <path d=\"M18.56 5.44l.94 2.06.94-2.06 2.06-.94-2.06-.94-.94-2.06-.94 2.06-2.06.94zm-11 1L8.5 8.5l.94-2.06 2.06-.94-2.06-.94L8.5 2.5l-.94 2.06-2.06.94zm10 10l.94 2.06.94-2.06 2.06-.94-2.06-.94-.94-2.06-.94 2.06-2.06.94z\"/><path d=\"M17.41 7.96l-1.37-1.37c-.4-.4-.92-.59-1.43-.59-.52 0-1.04.2-1.43.59L10.3 9.45l-7.72 7.72c-.78.78-.78 2.05 0 2.83L4 21.41c.39.39.9.59 1.41.59.51 0 1.02-.2 1.41-.59l7.78-7.78 2.81-2.81c.8-.78.8-2.07 0-2.86zM5.41 20L4 18.59l7.72-7.72 1.47 1.35L5.41 20z\"/>\n",
              "  </svg>\n",
              "      </button>\n",
              "      \n",
              "  <style>\n",
              "    .colab-df-container {\n",
              "      display:flex;\n",
              "      flex-wrap:wrap;\n",
              "      gap: 12px;\n",
              "    }\n",
              "\n",
              "    .colab-df-convert {\n",
              "      background-color: #E8F0FE;\n",
              "      border: none;\n",
              "      border-radius: 50%;\n",
              "      cursor: pointer;\n",
              "      display: none;\n",
              "      fill: #1967D2;\n",
              "      height: 32px;\n",
              "      padding: 0 0 0 0;\n",
              "      width: 32px;\n",
              "    }\n",
              "\n",
              "    .colab-df-convert:hover {\n",
              "      background-color: #E2EBFA;\n",
              "      box-shadow: 0px 1px 2px rgba(60, 64, 67, 0.3), 0px 1px 3px 1px rgba(60, 64, 67, 0.15);\n",
              "      fill: #174EA6;\n",
              "    }\n",
              "\n",
              "    [theme=dark] .colab-df-convert {\n",
              "      background-color: #3B4455;\n",
              "      fill: #D2E3FC;\n",
              "    }\n",
              "\n",
              "    [theme=dark] .colab-df-convert:hover {\n",
              "      background-color: #434B5C;\n",
              "      box-shadow: 0px 1px 3px 1px rgba(0, 0, 0, 0.15);\n",
              "      filter: drop-shadow(0px 1px 2px rgba(0, 0, 0, 0.3));\n",
              "      fill: #FFFFFF;\n",
              "    }\n",
              "  </style>\n",
              "\n",
              "      <script>\n",
              "        const buttonEl =\n",
              "          document.querySelector('#df-9d2a5279-e328-4112-a095-2906abd36bb7 button.colab-df-convert');\n",
              "        buttonEl.style.display =\n",
              "          google.colab.kernel.accessAllowed ? 'block' : 'none';\n",
              "\n",
              "        async function convertToInteractive(key) {\n",
              "          const element = document.querySelector('#df-9d2a5279-e328-4112-a095-2906abd36bb7');\n",
              "          const dataTable =\n",
              "            await google.colab.kernel.invokeFunction('convertToInteractive',\n",
              "                                                     [key], {});\n",
              "          if (!dataTable) return;\n",
              "\n",
              "          const docLinkHtml = 'Like what you see? Visit the ' +\n",
              "            '<a target=\"_blank\" href=https://colab.research.google.com/notebooks/data_table.ipynb>data table notebook</a>'\n",
              "            + ' to learn more about interactive tables.';\n",
              "          element.innerHTML = '';\n",
              "          dataTable['output_type'] = 'display_data';\n",
              "          await google.colab.output.renderOutput(dataTable, element);\n",
              "          const docLink = document.createElement('div');\n",
              "          docLink.innerHTML = docLinkHtml;\n",
              "          element.appendChild(docLink);\n",
              "        }\n",
              "      </script>\n",
              "    </div>\n",
              "  </div>\n",
              "  "
            ],
            "text/plain": [
              "             Models   p-value                     Verdict (accuracy)\n",
              "2      PCA Catboost  0.006910     Different distribution (reject H0)\n",
              "3      RandomForest  0.015156     Different distribution (reject H0)\n",
              "1  Dropped Catboost  0.212720  Same distribution (fail to reject H0)\n",
              "0          Catboost  0.918707  Same distribution (fail to reject H0)"
            ]
          },
          "metadata": {},
          "execution_count": 432
        }
      ]
    },
    {
      "cell_type": "markdown",
      "source": [
        "Тест для F-меры"
      ],
      "metadata": {
        "id": "YP_vb8n8GFLR"
      }
    },
    {
      "cell_type": "code",
      "source": [
        "alpha = 0.05\n",
        "names = ['Catboost','Dropped Catboost','PCA Catboost', 'RandomForest','Ensemble']\n",
        "pairs = []\n",
        "ps = []\n",
        "verdict = []\n",
        "for column in range(len(names)-1):\n",
        "  stat, p = wilcoxon(f1_scores[:,column],f1_scores[:,4])\n",
        "  pairs.append(names[column])\n",
        "  ps.append(p)\n",
        "  if p <= alpha:\n",
        "\t  verdict.append('Different distribution (reject H0)') # нулевая гипотеза - модели не отличаются\n",
        "  else:\n",
        "\t  verdict.append('Same distribution (fail to reject H0)')\n",
        "     \n",
        "results=pd.DataFrame(columns=['Models','p-value','Verdict (f1_score)'])\n",
        "results['Models'] = pairs\n",
        "results['p-value'] = ps\n",
        "results['Verdict (f1_score)'] = verdict\n",
        "results.sort_values(by='p-value',ascending=True)"
      ],
      "metadata": {
        "colab": {
          "base_uri": "https://localhost:8080/",
          "height": 175
        },
        "id": "OKJl4v1BFuAZ",
        "outputId": "5be1558e-1d26-43c8-8e5d-432fb47d8dc1"
      },
      "execution_count": null,
      "outputs": [
        {
          "output_type": "execute_result",
          "data": {
            "text/html": [
              "\n",
              "  <div id=\"df-9675f176-767f-460d-b899-9159c49c775e\">\n",
              "    <div class=\"colab-df-container\">\n",
              "      <div>\n",
              "<style scoped>\n",
              "    .dataframe tbody tr th:only-of-type {\n",
              "        vertical-align: middle;\n",
              "    }\n",
              "\n",
              "    .dataframe tbody tr th {\n",
              "        vertical-align: top;\n",
              "    }\n",
              "\n",
              "    .dataframe thead th {\n",
              "        text-align: right;\n",
              "    }\n",
              "</style>\n",
              "<table border=\"1\" class=\"dataframe\">\n",
              "  <thead>\n",
              "    <tr style=\"text-align: right;\">\n",
              "      <th></th>\n",
              "      <th>Models</th>\n",
              "      <th>p-value</th>\n",
              "      <th>Verdict (f1_score)</th>\n",
              "    </tr>\n",
              "  </thead>\n",
              "  <tbody>\n",
              "    <tr>\n",
              "      <th>2</th>\n",
              "      <td>PCA Catboost</td>\n",
              "      <td>0.006910</td>\n",
              "      <td>Different distribution (reject H0)</td>\n",
              "    </tr>\n",
              "    <tr>\n",
              "      <th>1</th>\n",
              "      <td>Dropped Catboost</td>\n",
              "      <td>0.021824</td>\n",
              "      <td>Different distribution (reject H0)</td>\n",
              "    </tr>\n",
              "    <tr>\n",
              "      <th>3</th>\n",
              "      <td>RandomForest</td>\n",
              "      <td>0.028402</td>\n",
              "      <td>Different distribution (reject H0)</td>\n",
              "    </tr>\n",
              "    <tr>\n",
              "      <th>0</th>\n",
              "      <td>Catboost</td>\n",
              "      <td>0.507624</td>\n",
              "      <td>Same distribution (fail to reject H0)</td>\n",
              "    </tr>\n",
              "  </tbody>\n",
              "</table>\n",
              "</div>\n",
              "      <button class=\"colab-df-convert\" onclick=\"convertToInteractive('df-9675f176-767f-460d-b899-9159c49c775e')\"\n",
              "              title=\"Convert this dataframe to an interactive table.\"\n",
              "              style=\"display:none;\">\n",
              "        \n",
              "  <svg xmlns=\"http://www.w3.org/2000/svg\" height=\"24px\"viewBox=\"0 0 24 24\"\n",
              "       width=\"24px\">\n",
              "    <path d=\"M0 0h24v24H0V0z\" fill=\"none\"/>\n",
              "    <path d=\"M18.56 5.44l.94 2.06.94-2.06 2.06-.94-2.06-.94-.94-2.06-.94 2.06-2.06.94zm-11 1L8.5 8.5l.94-2.06 2.06-.94-2.06-.94L8.5 2.5l-.94 2.06-2.06.94zm10 10l.94 2.06.94-2.06 2.06-.94-2.06-.94-.94-2.06-.94 2.06-2.06.94z\"/><path d=\"M17.41 7.96l-1.37-1.37c-.4-.4-.92-.59-1.43-.59-.52 0-1.04.2-1.43.59L10.3 9.45l-7.72 7.72c-.78.78-.78 2.05 0 2.83L4 21.41c.39.39.9.59 1.41.59.51 0 1.02-.2 1.41-.59l7.78-7.78 2.81-2.81c.8-.78.8-2.07 0-2.86zM5.41 20L4 18.59l7.72-7.72 1.47 1.35L5.41 20z\"/>\n",
              "  </svg>\n",
              "      </button>\n",
              "      \n",
              "  <style>\n",
              "    .colab-df-container {\n",
              "      display:flex;\n",
              "      flex-wrap:wrap;\n",
              "      gap: 12px;\n",
              "    }\n",
              "\n",
              "    .colab-df-convert {\n",
              "      background-color: #E8F0FE;\n",
              "      border: none;\n",
              "      border-radius: 50%;\n",
              "      cursor: pointer;\n",
              "      display: none;\n",
              "      fill: #1967D2;\n",
              "      height: 32px;\n",
              "      padding: 0 0 0 0;\n",
              "      width: 32px;\n",
              "    }\n",
              "\n",
              "    .colab-df-convert:hover {\n",
              "      background-color: #E2EBFA;\n",
              "      box-shadow: 0px 1px 2px rgba(60, 64, 67, 0.3), 0px 1px 3px 1px rgba(60, 64, 67, 0.15);\n",
              "      fill: #174EA6;\n",
              "    }\n",
              "\n",
              "    [theme=dark] .colab-df-convert {\n",
              "      background-color: #3B4455;\n",
              "      fill: #D2E3FC;\n",
              "    }\n",
              "\n",
              "    [theme=dark] .colab-df-convert:hover {\n",
              "      background-color: #434B5C;\n",
              "      box-shadow: 0px 1px 3px 1px rgba(0, 0, 0, 0.15);\n",
              "      filter: drop-shadow(0px 1px 2px rgba(0, 0, 0, 0.3));\n",
              "      fill: #FFFFFF;\n",
              "    }\n",
              "  </style>\n",
              "\n",
              "      <script>\n",
              "        const buttonEl =\n",
              "          document.querySelector('#df-9675f176-767f-460d-b899-9159c49c775e button.colab-df-convert');\n",
              "        buttonEl.style.display =\n",
              "          google.colab.kernel.accessAllowed ? 'block' : 'none';\n",
              "\n",
              "        async function convertToInteractive(key) {\n",
              "          const element = document.querySelector('#df-9675f176-767f-460d-b899-9159c49c775e');\n",
              "          const dataTable =\n",
              "            await google.colab.kernel.invokeFunction('convertToInteractive',\n",
              "                                                     [key], {});\n",
              "          if (!dataTable) return;\n",
              "\n",
              "          const docLinkHtml = 'Like what you see? Visit the ' +\n",
              "            '<a target=\"_blank\" href=https://colab.research.google.com/notebooks/data_table.ipynb>data table notebook</a>'\n",
              "            + ' to learn more about interactive tables.';\n",
              "          element.innerHTML = '';\n",
              "          dataTable['output_type'] = 'display_data';\n",
              "          await google.colab.output.renderOutput(dataTable, element);\n",
              "          const docLink = document.createElement('div');\n",
              "          docLink.innerHTML = docLinkHtml;\n",
              "          element.appendChild(docLink);\n",
              "        }\n",
              "      </script>\n",
              "    </div>\n",
              "  </div>\n",
              "  "
            ],
            "text/plain": [
              "             Models   p-value                     Verdict (f1_score)\n",
              "2      PCA Catboost  0.006910     Different distribution (reject H0)\n",
              "1  Dropped Catboost  0.021824     Different distribution (reject H0)\n",
              "3      RandomForest  0.028402     Different distribution (reject H0)\n",
              "0          Catboost  0.507624  Same distribution (fail to reject H0)"
            ]
          },
          "metadata": {},
          "execution_count": 447
        }
      ]
    },
    {
      "cell_type": "markdown",
      "source": [
        "Точность"
      ],
      "metadata": {
        "id": "ltDFpE6HNexq"
      }
    },
    {
      "cell_type": "code",
      "source": [
        "results=pd.DataFrame(index=names,columns=['Mean Accuracy +- std'])\n",
        "results.loc['Catboost'] = str(round(accuracies[:,0].mean()*100,2)) + ' +- ' + str(round(accuracies[:,0].std()*100,2))\n",
        "results.loc['Dropped Catboost'] = str(round(accuracies[:,1].mean()*100,2)) + ' +- ' + str(round(accuracies[:,0].std()*100,2))\n",
        "results.loc['PCA Catboost'] = str(round(accuracies[:,2].mean()*100,2)) + ' +- ' + str(round(accuracies[:,0].std()*100,2))\n",
        "results.loc['RandomForest'] = str(round(accuracies[:,3].mean()*100,2)) + ' +- ' + str(round(accuracies[:,0].std()*100,2))\n",
        "results.loc['Ensemble'] = str(round(accuracies[:,4].mean()*100,2)) + ' +- ' + str(round(accuracies[:,0].std()*100,2))\n",
        "results"
      ],
      "metadata": {
        "colab": {
          "base_uri": "https://localhost:8080/",
          "height": 206
        },
        "id": "orysRKCfIcYa",
        "outputId": "ae820424-8ad8-453e-dcaf-e730d6452fb2"
      },
      "execution_count": null,
      "outputs": [
        {
          "output_type": "execute_result",
          "data": {
            "text/html": [
              "\n",
              "  <div id=\"df-2b49c888-526d-4e08-90d4-580d7250735e\">\n",
              "    <div class=\"colab-df-container\">\n",
              "      <div>\n",
              "<style scoped>\n",
              "    .dataframe tbody tr th:only-of-type {\n",
              "        vertical-align: middle;\n",
              "    }\n",
              "\n",
              "    .dataframe tbody tr th {\n",
              "        vertical-align: top;\n",
              "    }\n",
              "\n",
              "    .dataframe thead th {\n",
              "        text-align: right;\n",
              "    }\n",
              "</style>\n",
              "<table border=\"1\" class=\"dataframe\">\n",
              "  <thead>\n",
              "    <tr style=\"text-align: right;\">\n",
              "      <th></th>\n",
              "      <th>Mean Accuracy +- std</th>\n",
              "    </tr>\n",
              "  </thead>\n",
              "  <tbody>\n",
              "    <tr>\n",
              "      <th>Catboost</th>\n",
              "      <td>73.46 +- 0.49</td>\n",
              "    </tr>\n",
              "    <tr>\n",
              "      <th>Dropped Catboost</th>\n",
              "      <td>73.45 +- 0.49</td>\n",
              "    </tr>\n",
              "    <tr>\n",
              "      <th>PCA Catboost</th>\n",
              "      <td>73.19 +- 0.49</td>\n",
              "    </tr>\n",
              "    <tr>\n",
              "      <th>RandomForest</th>\n",
              "      <td>73.31 +- 0.49</td>\n",
              "    </tr>\n",
              "    <tr>\n",
              "      <th>Ensemble</th>\n",
              "      <td>73.48 +- 0.49</td>\n",
              "    </tr>\n",
              "  </tbody>\n",
              "</table>\n",
              "</div>\n",
              "      <button class=\"colab-df-convert\" onclick=\"convertToInteractive('df-2b49c888-526d-4e08-90d4-580d7250735e')\"\n",
              "              title=\"Convert this dataframe to an interactive table.\"\n",
              "              style=\"display:none;\">\n",
              "        \n",
              "  <svg xmlns=\"http://www.w3.org/2000/svg\" height=\"24px\"viewBox=\"0 0 24 24\"\n",
              "       width=\"24px\">\n",
              "    <path d=\"M0 0h24v24H0V0z\" fill=\"none\"/>\n",
              "    <path d=\"M18.56 5.44l.94 2.06.94-2.06 2.06-.94-2.06-.94-.94-2.06-.94 2.06-2.06.94zm-11 1L8.5 8.5l.94-2.06 2.06-.94-2.06-.94L8.5 2.5l-.94 2.06-2.06.94zm10 10l.94 2.06.94-2.06 2.06-.94-2.06-.94-.94-2.06-.94 2.06-2.06.94z\"/><path d=\"M17.41 7.96l-1.37-1.37c-.4-.4-.92-.59-1.43-.59-.52 0-1.04.2-1.43.59L10.3 9.45l-7.72 7.72c-.78.78-.78 2.05 0 2.83L4 21.41c.39.39.9.59 1.41.59.51 0 1.02-.2 1.41-.59l7.78-7.78 2.81-2.81c.8-.78.8-2.07 0-2.86zM5.41 20L4 18.59l7.72-7.72 1.47 1.35L5.41 20z\"/>\n",
              "  </svg>\n",
              "      </button>\n",
              "      \n",
              "  <style>\n",
              "    .colab-df-container {\n",
              "      display:flex;\n",
              "      flex-wrap:wrap;\n",
              "      gap: 12px;\n",
              "    }\n",
              "\n",
              "    .colab-df-convert {\n",
              "      background-color: #E8F0FE;\n",
              "      border: none;\n",
              "      border-radius: 50%;\n",
              "      cursor: pointer;\n",
              "      display: none;\n",
              "      fill: #1967D2;\n",
              "      height: 32px;\n",
              "      padding: 0 0 0 0;\n",
              "      width: 32px;\n",
              "    }\n",
              "\n",
              "    .colab-df-convert:hover {\n",
              "      background-color: #E2EBFA;\n",
              "      box-shadow: 0px 1px 2px rgba(60, 64, 67, 0.3), 0px 1px 3px 1px rgba(60, 64, 67, 0.15);\n",
              "      fill: #174EA6;\n",
              "    }\n",
              "\n",
              "    [theme=dark] .colab-df-convert {\n",
              "      background-color: #3B4455;\n",
              "      fill: #D2E3FC;\n",
              "    }\n",
              "\n",
              "    [theme=dark] .colab-df-convert:hover {\n",
              "      background-color: #434B5C;\n",
              "      box-shadow: 0px 1px 3px 1px rgba(0, 0, 0, 0.15);\n",
              "      filter: drop-shadow(0px 1px 2px rgba(0, 0, 0, 0.3));\n",
              "      fill: #FFFFFF;\n",
              "    }\n",
              "  </style>\n",
              "\n",
              "      <script>\n",
              "        const buttonEl =\n",
              "          document.querySelector('#df-2b49c888-526d-4e08-90d4-580d7250735e button.colab-df-convert');\n",
              "        buttonEl.style.display =\n",
              "          google.colab.kernel.accessAllowed ? 'block' : 'none';\n",
              "\n",
              "        async function convertToInteractive(key) {\n",
              "          const element = document.querySelector('#df-2b49c888-526d-4e08-90d4-580d7250735e');\n",
              "          const dataTable =\n",
              "            await google.colab.kernel.invokeFunction('convertToInteractive',\n",
              "                                                     [key], {});\n",
              "          if (!dataTable) return;\n",
              "\n",
              "          const docLinkHtml = 'Like what you see? Visit the ' +\n",
              "            '<a target=\"_blank\" href=https://colab.research.google.com/notebooks/data_table.ipynb>data table notebook</a>'\n",
              "            + ' to learn more about interactive tables.';\n",
              "          element.innerHTML = '';\n",
              "          dataTable['output_type'] = 'display_data';\n",
              "          await google.colab.output.renderOutput(dataTable, element);\n",
              "          const docLink = document.createElement('div');\n",
              "          docLink.innerHTML = docLinkHtml;\n",
              "          element.appendChild(docLink);\n",
              "        }\n",
              "      </script>\n",
              "    </div>\n",
              "  </div>\n",
              "  "
            ],
            "text/plain": [
              "                 Mean Accuracy +- std\n",
              "Catboost                73.46 +- 0.49\n",
              "Dropped Catboost        73.45 +- 0.49\n",
              "PCA Catboost            73.19 +- 0.49\n",
              "RandomForest            73.31 +- 0.49\n",
              "Ensemble                73.48 +- 0.49"
            ]
          },
          "metadata": {},
          "execution_count": 440
        }
      ]
    },
    {
      "cell_type": "markdown",
      "source": [
        "F-мера"
      ],
      "metadata": {
        "id": "GYEN-xwgNhRO"
      }
    },
    {
      "cell_type": "code",
      "source": [
        "results=pd.DataFrame(index=names,columns=['Mean f1_score +- std'])\n",
        "results.loc['Catboost'] = str(round(f1_scores[:,0].mean(),3)) + ' +- ' + str(round(f1_scores[:,0].std(),3))\n",
        "results.loc['Dropped Catboost'] = str(round(f1_scores[:,1].mean(),3)) + ' +- ' + str(round(f1_scores[:,0].std(),3))\n",
        "results.loc['PCA Catboost'] = str(round(f1_scores[:,2].mean(),3)) + ' +- ' + str(round(f1_scores[:,0].std(),3))\n",
        "results.loc['RandomForest'] = str(round(f1_scores[:,3].mean(),3)) + ' +- ' + str(round(f1_scores[:,0].std(),3))\n",
        "results.loc['Ensemble'] = str(round(f1_scores[:,4].mean(),3)) + ' +- ' + str(round(f1_scores[:,0].std(),3))\n",
        "results"
      ],
      "metadata": {
        "colab": {
          "base_uri": "https://localhost:8080/",
          "height": 206
        },
        "id": "ZNFb6o26L-W4",
        "outputId": "7bdbfebf-e07b-497d-912c-c012518174a5"
      },
      "execution_count": null,
      "outputs": [
        {
          "output_type": "execute_result",
          "data": {
            "text/html": [
              "\n",
              "  <div id=\"df-3a0b73d4-94eb-4028-8d73-17dab07e082b\">\n",
              "    <div class=\"colab-df-container\">\n",
              "      <div>\n",
              "<style scoped>\n",
              "    .dataframe tbody tr th:only-of-type {\n",
              "        vertical-align: middle;\n",
              "    }\n",
              "\n",
              "    .dataframe tbody tr th {\n",
              "        vertical-align: top;\n",
              "    }\n",
              "\n",
              "    .dataframe thead th {\n",
              "        text-align: right;\n",
              "    }\n",
              "</style>\n",
              "<table border=\"1\" class=\"dataframe\">\n",
              "  <thead>\n",
              "    <tr style=\"text-align: right;\">\n",
              "      <th></th>\n",
              "      <th>Mean f1_score +- std</th>\n",
              "    </tr>\n",
              "  </thead>\n",
              "  <tbody>\n",
              "    <tr>\n",
              "      <th>Catboost</th>\n",
              "      <td>0.718 +- 0.006</td>\n",
              "    </tr>\n",
              "    <tr>\n",
              "      <th>Dropped Catboost</th>\n",
              "      <td>0.717 +- 0.006</td>\n",
              "    </tr>\n",
              "    <tr>\n",
              "      <th>PCA Catboost</th>\n",
              "      <td>0.715 +- 0.006</td>\n",
              "    </tr>\n",
              "    <tr>\n",
              "      <th>RandomForest</th>\n",
              "      <td>0.716 +- 0.006</td>\n",
              "    </tr>\n",
              "    <tr>\n",
              "      <th>Ensemble</th>\n",
              "      <td>0.718 +- 0.006</td>\n",
              "    </tr>\n",
              "  </tbody>\n",
              "</table>\n",
              "</div>\n",
              "      <button class=\"colab-df-convert\" onclick=\"convertToInteractive('df-3a0b73d4-94eb-4028-8d73-17dab07e082b')\"\n",
              "              title=\"Convert this dataframe to an interactive table.\"\n",
              "              style=\"display:none;\">\n",
              "        \n",
              "  <svg xmlns=\"http://www.w3.org/2000/svg\" height=\"24px\"viewBox=\"0 0 24 24\"\n",
              "       width=\"24px\">\n",
              "    <path d=\"M0 0h24v24H0V0z\" fill=\"none\"/>\n",
              "    <path d=\"M18.56 5.44l.94 2.06.94-2.06 2.06-.94-2.06-.94-.94-2.06-.94 2.06-2.06.94zm-11 1L8.5 8.5l.94-2.06 2.06-.94-2.06-.94L8.5 2.5l-.94 2.06-2.06.94zm10 10l.94 2.06.94-2.06 2.06-.94-2.06-.94-.94-2.06-.94 2.06-2.06.94z\"/><path d=\"M17.41 7.96l-1.37-1.37c-.4-.4-.92-.59-1.43-.59-.52 0-1.04.2-1.43.59L10.3 9.45l-7.72 7.72c-.78.78-.78 2.05 0 2.83L4 21.41c.39.39.9.59 1.41.59.51 0 1.02-.2 1.41-.59l7.78-7.78 2.81-2.81c.8-.78.8-2.07 0-2.86zM5.41 20L4 18.59l7.72-7.72 1.47 1.35L5.41 20z\"/>\n",
              "  </svg>\n",
              "      </button>\n",
              "      \n",
              "  <style>\n",
              "    .colab-df-container {\n",
              "      display:flex;\n",
              "      flex-wrap:wrap;\n",
              "      gap: 12px;\n",
              "    }\n",
              "\n",
              "    .colab-df-convert {\n",
              "      background-color: #E8F0FE;\n",
              "      border: none;\n",
              "      border-radius: 50%;\n",
              "      cursor: pointer;\n",
              "      display: none;\n",
              "      fill: #1967D2;\n",
              "      height: 32px;\n",
              "      padding: 0 0 0 0;\n",
              "      width: 32px;\n",
              "    }\n",
              "\n",
              "    .colab-df-convert:hover {\n",
              "      background-color: #E2EBFA;\n",
              "      box-shadow: 0px 1px 2px rgba(60, 64, 67, 0.3), 0px 1px 3px 1px rgba(60, 64, 67, 0.15);\n",
              "      fill: #174EA6;\n",
              "    }\n",
              "\n",
              "    [theme=dark] .colab-df-convert {\n",
              "      background-color: #3B4455;\n",
              "      fill: #D2E3FC;\n",
              "    }\n",
              "\n",
              "    [theme=dark] .colab-df-convert:hover {\n",
              "      background-color: #434B5C;\n",
              "      box-shadow: 0px 1px 3px 1px rgba(0, 0, 0, 0.15);\n",
              "      filter: drop-shadow(0px 1px 2px rgba(0, 0, 0, 0.3));\n",
              "      fill: #FFFFFF;\n",
              "    }\n",
              "  </style>\n",
              "\n",
              "      <script>\n",
              "        const buttonEl =\n",
              "          document.querySelector('#df-3a0b73d4-94eb-4028-8d73-17dab07e082b button.colab-df-convert');\n",
              "        buttonEl.style.display =\n",
              "          google.colab.kernel.accessAllowed ? 'block' : 'none';\n",
              "\n",
              "        async function convertToInteractive(key) {\n",
              "          const element = document.querySelector('#df-3a0b73d4-94eb-4028-8d73-17dab07e082b');\n",
              "          const dataTable =\n",
              "            await google.colab.kernel.invokeFunction('convertToInteractive',\n",
              "                                                     [key], {});\n",
              "          if (!dataTable) return;\n",
              "\n",
              "          const docLinkHtml = 'Like what you see? Visit the ' +\n",
              "            '<a target=\"_blank\" href=https://colab.research.google.com/notebooks/data_table.ipynb>data table notebook</a>'\n",
              "            + ' to learn more about interactive tables.';\n",
              "          element.innerHTML = '';\n",
              "          dataTable['output_type'] = 'display_data';\n",
              "          await google.colab.output.renderOutput(dataTable, element);\n",
              "          const docLink = document.createElement('div');\n",
              "          docLink.innerHTML = docLinkHtml;\n",
              "          element.appendChild(docLink);\n",
              "        }\n",
              "      </script>\n",
              "    </div>\n",
              "  </div>\n",
              "  "
            ],
            "text/plain": [
              "                 Mean f1_score +- std\n",
              "Catboost               0.718 +- 0.006\n",
              "Dropped Catboost       0.717 +- 0.006\n",
              "PCA Catboost           0.715 +- 0.006\n",
              "RandomForest           0.716 +- 0.006\n",
              "Ensemble               0.718 +- 0.006"
            ]
          },
          "metadata": {},
          "execution_count": 446
        }
      ]
    },
    {
      "cell_type": "markdown",
      "source": [
        "Тест AdaBoost"
      ],
      "metadata": {
        "id": "0-5KQFOMQtX1"
      }
    },
    {
      "cell_type": "code",
      "source": [
        "from sklearn.ensemble import AdaBoostClassifier\n",
        "from sklearn.tree import DecisionTreeClassifier\n",
        "ada = AdaBoostClassifier(random_state=10,n_estimators=500,base_estimator=DecisionTreeClassifier(max_depth=1,random_state=10),learning_rate=0.1)\n",
        "ada.fit(X_train,y_train)\n",
        "adapred = ada.predict(X_test)\n",
        "print('Adaboost accuracy: {0:.2f} % , f1_score: {1:.3f} '.format(accuracy_score(y_test,adapred) * 100, f1_score(y_test,adapred)))"
      ],
      "metadata": {
        "colab": {
          "base_uri": "https://localhost:8080/"
        },
        "id": "zQqtxzNuNyVd",
        "outputId": "3833b086-a72f-4a85-aadb-08fe0c4e2711"
      },
      "execution_count": null,
      "outputs": [
        {
          "output_type": "stream",
          "name": "stdout",
          "text": [
            "Adaboost accuracy: 73.40 % , f1_score: 0.706 \n"
          ]
        }
      ]
    },
    {
      "cell_type": "code",
      "source": [
        "ada.fit(X_train_cat,y_train)\n",
        "adapred = ada.predict(X_test_cat)\n",
        "print('Adaboost accuracy: {0:.2f} % , f1_score: {1:.3f} '.format(accuracy_score(y_test,adapred) * 100, f1_score(y_test,adapred)))"
      ],
      "metadata": {
        "colab": {
          "base_uri": "https://localhost:8080/"
        },
        "id": "WWDBFQNSPT85",
        "outputId": "09d299a1-2ceb-4d22-9e01-35ecc25864d0"
      },
      "execution_count": null,
      "outputs": [
        {
          "output_type": "stream",
          "name": "stdout",
          "text": [
            "Adaboost accuracy: 73.40 % , f1_score: 0.706 \n"
          ]
        }
      ]
    },
    {
      "cell_type": "code",
      "source": [
        "ada.fit(X_train_cat_2,y_train)\n",
        "adapred = ada.predict(X_test_cat_2)\n",
        "print('Adaboost accuracy: {0:.2f} % , f1_score: {1:.3f} '.format(accuracy_score(y_test,adapred) * 100, f1_score(y_test,adapred)))"
      ],
      "metadata": {
        "colab": {
          "base_uri": "https://localhost:8080/"
        },
        "id": "FwUcTWeqPb6E",
        "outputId": "f2013700-c339-4c7a-b13a-f54d9a3e49b8"
      },
      "execution_count": null,
      "outputs": [
        {
          "output_type": "stream",
          "name": "stdout",
          "text": [
            "Adaboost accuracy: 73.32 % , f1_score: 0.705 \n"
          ]
        }
      ]
    }
  ]
}